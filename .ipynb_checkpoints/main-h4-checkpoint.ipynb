{
 "cells": [
  {
   "cell_type": "code",
   "execution_count": 54,
   "metadata": {
    "collapsed": false
   },
   "outputs": [],
   "source": [
    "import numpy as np\n",
    "try:\n",
    "    from IPython.core.display import clear_output\n",
    "    have_ipython = True\n",
    "except ImportError:\n",
    "    have_ipython = False\n",
    "import sys\n",
    "import datetime\n",
    "%matplotlib inline\n",
    "import matplotlib.pyplot as plt\n",
    "\n",
    "def plotCurve(train_mean, train_std,test_mean,test_std,sizes):\n",
    "    plt.plot(sizes, train_mean, \n",
    "            color='blue', marker='o', \n",
    "            markersize=5, \n",
    "            label='training accuracy')\n",
    "    plt.fill_between(sizes, \n",
    "                  train_mean + train_std,\n",
    "                   train_mean - train_std, alpha=0.15, color='blue')\n",
    "\n",
    "    plt.plot(sizes, test_mean, \n",
    "              color='green', linestyle='--', \n",
    "              marker='s', markersize=5, \n",
    "             label='validation accuracy')\n",
    "    plt.fill_between(sizes, \n",
    "                      test_mean + test_std,\n",
    "                     test_mean - test_std, \n",
    "                    alpha=0.15, color='green')\n",
    "    plt.xlabel('x_range')\n",
    "    plt.ylabel('Accuracy')\n",
    "    plt.show()\n",
    "def likehoodScore(proba,y):\n",
    "    return np.sum(proba * y)/proba.shape[0]\n",
    "\n",
    "def firstNScore(n, pred, y):\n",
    "    for r in range(pred.shape[0]):\n",
    "        row = pred[r]\n",
    "        s = np.sort(row)\n",
    "        for c in range(pred.shape[1]):\n",
    "            temp = pred[r][c]\n",
    "            pred[r][c] = False\n",
    "            for j in range(1,n+1):\n",
    "                if temp == s[-j]:\n",
    "                    pred[r][c] = True\n",
    "                    break\n",
    "    res = np.sum(np.logical_and(pred,y))/pred.shape[0]\n",
    "    return res               \n",
    "\n",
    "def oneHotDecode(self, X_sample):\n",
    "    result=None\n",
    "    fiPos = 0\n",
    "    colIndex = 0\n",
    "    while colIndex < X_sample.shape[1]:\n",
    "        if fiPos < len(self.ohe.categorical_features) and colIndex == self.ohe.feature_indices_[fiPos]:                \n",
    "            start = self.ohe.feature_indices_[fiPos]\n",
    "            end_ = start+ self.ohe.n_values_[fiPos]\n",
    "            classes = np.argmax(X_sample[:,start:end_],axis=1).reshape(X_sample.shape[0],1)\n",
    "            if result is None:\n",
    "                result = classes\n",
    "            else:\n",
    "                result=np.hstack([result,classes])\n",
    "            colIndex = end_\n",
    "            fiPos = fiPos +1\n",
    "        else:\n",
    "            if result is None:\n",
    "                result = X_sample[:,colIndex:colIndex+1]\n",
    "            else:\n",
    "                result=np.hstack([result, X_sample[:,colIndex:colIndex+1]])\n",
    "            colIndex = colIndex +1\n",
    "        \n",
    "    return result \n",
    "def convertToDate(dayStamps):\n",
    "    res = [] \n",
    "    for v in dayStamps:\n",
    "        res.append(datetime.datetime.fromtimestamp(v*24*60*60))\n",
    "    return res"
   ]
  },
  {
   "cell_type": "code",
   "execution_count": 25,
   "metadata": {
    "collapsed": false
   },
   "outputs": [],
   "source": [
    "import numpy as np\n",
    "from sklearn.cross_validation import train_test_split\n",
    "from sklearn.preprocessing import StandardScaler\n",
    "from sklearn.preprocessing import OneHotEncoder\n",
    "import pandas as pd\n",
    "class FootballDataHelper:\n",
    "    def __init__ (self, recentNum=5):\n",
    "        self.win_mapping = {'H':0, 'D':1,'A':2}\n",
    "        self.recentNum = recentNum\n",
    "        self.df = None\n",
    "        #self.hiddensCount = 2\n",
    "       \n",
    "        \n",
    "    def readFootBallData(self,filename): \n",
    "        df = pd.read_csv(filename)\n",
    "        df = df.drop(df.columns[range(23,df.shape[1])], axis=1)\n",
    "        df = df.drop(\"Div\",axis=1)\n",
    "        df['Date'] = pd.to_datetime(df['Date'],dayfirst=True)\n",
    "        df['HTR'] = df['HTR'].map(self.win_mapping)\n",
    "        df['FTR'] = df['FTR'].map(self.win_mapping)\n",
    "        df= df.drop('Referee', 1)\n",
    "        print(df.shape)\n",
    "          #self.team = df['HomeTeam'].drop_duplicates()\n",
    "        if self.df is None:\n",
    "            self.df = df\n",
    "        else:\n",
    "            self.df = pd.concat([self.df,df])\n",
    "            \n",
    "        teams = self.df['HomeTeam'].drop_duplicates()\n",
    "        teamMap = {}\n",
    "        for index , v in enumerate(teams):\n",
    "            teamMap[v] = index\n",
    "        self.teamsMap = teamMap\n",
    " \n",
    "    def getTeam(self,dataFrame, teamName):       \n",
    "        return dataFrame[(dataFrame[\"HomeTeam\"] == teamName) | (dataFrame[\"AwayTeam\"] == teamName)]\n",
    " \n",
    "        \n",
    "    def previousRecords(self,team, date , recentNum):\n",
    "        prev = team[( team[\"Date\"] < date)]\n",
    "        \n",
    "        if prev.shape[0] < recentNum :\n",
    "            #print(\"less than min Num\")\n",
    "            return None\n",
    "        else:\n",
    "            return prev.iloc[-recentNum:]\n",
    "    def readPredict (self, filename):\n",
    "        df = pd.read_csv(filename)\n",
    "        df['Date'] = pd.to_datetime(df['Date'],dayfirst=True)\n",
    "        df['FTR'] = df['FTR'].map(self.win_mapping)\n",
    "        return df\n",
    "    \n",
    "    \n",
    "  \n",
    "    def inverseTeamMapping (self, col):\n",
    "        inverseMap ={}\n",
    "        for name in self.teamsMap.keys():        \n",
    "            inverseMap[self.teamsMap[name]] = name\n",
    "        res =[]\n",
    "        for idex, v in enumerate(col):\n",
    "            res.append(inverseMap[v])\n",
    "        return res\n",
    "\n",
    "    def getH1(self):\n",
    "        #recent matches (only win/loss/draw)\n",
    "       \n",
    "        \n",
    "       # print (self.df)      \n",
    "        X  = self.df.sort_values(by=\"Date\")\n",
    "        y = []\n",
    "        for v in X['FTR']:\n",
    "            y.append(range(3)==v)\n",
    "       # print(y)\n",
    "        resy=[]\n",
    "        resx=[]\n",
    "        print(\"h1:start format\")\n",
    "        for i in range(X.shape[0]):\n",
    "            \n",
    "            sys.stdout.write(\"\\r progress {}\".format(i))\n",
    "            sys.stdout.flush()\n",
    "            x = X.iloc[i]\n",
    "            homeName = x['HomeTeam']\n",
    "            awayName = x['AwayTeam']\n",
    "            homeTeam = self.getTeam(X,homeName)\n",
    "            awayTeam = self.getTeam(X,awayName)\n",
    "            prevHome = self.previousRecords(homeTeam,x['Date'])\n",
    "            prevAway = self.previousRecords(awayTeam,x['Date'])\n",
    "            if prevHome is None or prevAway is None:\n",
    "               # print(\"{} skip\".format(i))\n",
    "                continue\n",
    "            prevHomeWin = []\n",
    "            prevAwayWin = []\n",
    "            for v in prevHome['FTR']:\n",
    "                prevHomeWin.append(range(3) == v)\n",
    "            #print(prevHomeWin)\n",
    "            for v in prevAway['FTR']:\n",
    "                prevAwayWin.append(range(3) == v)\n",
    "            pHHT=(prevHome['HomeTeam']==homeName).values\n",
    "            pAHT=(prevAway['HomeTeam']==awayName).values\n",
    "            tempX=[]\n",
    "            for j in range(pHHT.shape[0]):\n",
    "                tempX.append(np.append(prevHomeWin[j],pHHT[j]))\n",
    "                \n",
    "            for j in range(pAHT.shape[0]):\n",
    "                tempX.append(np.append(prevAwayWin[j],pAHT[j]))\n",
    "            resx.append(np.ravel(tempX))\n",
    "            \n",
    "            resy.append(y[i])\n",
    "        print(\"finish\")\n",
    "        sys.stdout.flush()\n",
    "        return np.array(resx), np.array(resy)\n",
    "    def getH2(self):         \n",
    "       #team based      \n",
    "        X  = self.df.sort_values(by=\"Date\")\n",
    "        y = []\n",
    "        for v in X['FTR']:\n",
    "            y.append(range(3)==v)\n",
    "       # print(y)\n",
    "        resy=[]\n",
    "        resx=[]\n",
    "        print(\"h1:start format\")\n",
    "        X['HomeTeam'] = X['HomeTeam'].map(self.teamsMap)\n",
    "        X['AwayTeam'] = X['AwayTeam'].map(self.teamsMap)\n",
    "        nativeX = X[['HomeTeam','AwayTeam']].values\n",
    "        #print(X)\n",
    "        ohe = OneHotEncoder(categorical_features=[0,1])\n",
    "        res = ohe.fit_transform(nativeX).toarray()\n",
    "        #print(res)\n",
    "        return res, np.array(y)\n",
    "    def _getH3RecentMatches(self,x, X,teamName,recentNum):\n",
    "        team = self.getTeam(X,teamName)\n",
    "        prev = self.previousRecords(team,x['Date'],recentNum)\n",
    "        if prev is None:\n",
    "               return None\n",
    "        prevHt=  prev['HomeTeam'].values\n",
    "        prevAt=  prev['AwayTeam'].values   \n",
    "        prevIsHome = []\n",
    "        prevOther = []\n",
    "        for i in range(recentNum):\n",
    "            if prevHt[i] == teamName:\n",
    "                prevIsHome.append(1)\n",
    "                prevOther.append(prevAt[i])\n",
    "            else:\n",
    "                prevIsHome.append(0)\n",
    "                prevOther.append(prevHt[i])\n",
    "        wins = prev['FTR'].values       \n",
    "        temp = np.array([prevIsHome,prevOther,wins]).T\n",
    "\n",
    "        return np.ravel(temp)\n",
    "        \n",
    "    def getH3(self, recentNum):\n",
    "        X  = self.df.sort_values(by=\"Date\")\n",
    "        X['HomeTeam'] = X['HomeTeam'].map(self.teamsMap)\n",
    "        X['AwayTeam'] = X['AwayTeam'].map(self.teamsMap)\n",
    "        y = []\n",
    "        for v in X['FTR']:\n",
    "            y.append(range(3)==v)\n",
    "       # print(y)\n",
    "        resy=[]\n",
    "        resx=[]\n",
    "        print(\"h3:start format\")\n",
    "        recents = []\n",
    "        for i in range(X.shape[0]):\n",
    "            \n",
    "            sys.stdout.write(\"\\r progress {}\".format(i))\n",
    "            sys.stdout.flush()\n",
    "            x = X.iloc[i]\n",
    "            homeName = x['HomeTeam']\n",
    "            awayName = x['AwayTeam']\n",
    "            homeRecent = self._getH3RecentMatches(x,X,homeName, recentNum)\n",
    "            awayRecent =self._getH3RecentMatches(x,X,awayName, recentNum)\n",
    "            if homeRecent is None or awayRecent is None:\n",
    "                   continue \n",
    "        #    print(homeName)\n",
    "         #   print(homeRecent)\n",
    "        #    print(awayName)\n",
    "         #   print(awayRecent)\n",
    "         #   return\n",
    "            recents.append(np.hstack([homeName,awayName, homeRecent,awayRecent]))        \n",
    "            resy.append(y[i])\n",
    "        cols =np.hstack([[0,1],list(range(3,len(recents[0]),3))])\n",
    "        print(cols)\n",
    "        ohe = OneHotEncoder(categorical_features=cols)\n",
    "        res = ohe.fit_transform(recents).toarray()\n",
    "        print(\"finish\")\n",
    "        sys.stdout.flush()\n",
    "        return res, np.array(resy)\n",
    "   \n",
    "\n",
    "    def getH4(self, recentNum, target=None):\n",
    "        \n",
    "        X  = self.df.sort_values(by=\"Date\")\n",
    "        isInput = False\n",
    "        if target is None:\n",
    "            target =X      \n",
    "        else:\n",
    "            if self.ohe is None:\n",
    "                raise Exception(\"Not yet get train data\")\n",
    "            isInput = True\n",
    "            target['HomeTeam']=target['HomeTeam'].map(self.teamsMap)\n",
    "            target['AwayTeam']=target['AwayTeam'].map(self.teamsMap)\n",
    "            pass\n",
    "            \n",
    "        X['HomeTeam'] = X['HomeTeam'].map(self.teamsMap)\n",
    "        X['AwayTeam'] = X['AwayTeam'].map(self.teamsMap)\n",
    "        target_date = (pd.to_numeric(target['Date'])/1e9/24/60/60).values\n",
    "        y = []\n",
    "        for v in target['FTR']:\n",
    "            y.append(range(3)==v)\n",
    "       # print(y)\n",
    "        resy=[]\n",
    "        resx=[]\n",
    "        print(\"h4:start format\")\n",
    "        recents = []\n",
    "        for i in range(target.shape[0]):\n",
    "            \n",
    "            sys.stdout.write(\"\\r progress {}\".format(i))\n",
    "            sys.stdout.flush()\n",
    "            x = target.iloc[i]\n",
    "            homeName = x['HomeTeam']\n",
    "            awayName = x['AwayTeam']\n",
    "            homeRecent = self._getH3RecentMatches(x,X,homeName, recentNum)\n",
    "            awayRecent =self._getH3RecentMatches(x,X,awayName, recentNum)\n",
    "            if homeRecent is None or awayRecent is None:\n",
    "                   continue \n",
    "           # print(homeName)\n",
    "           # print(homeRecent)\n",
    "          #  print(awayName)\n",
    "            #print(awayRecent)\n",
    "            if recentNum == 0:\n",
    "                recents.append(np.hstack([homeName,awayName,target_date[i]]))\n",
    "            else:\n",
    "                recents.append(np.hstack([homeName,awayName,target_date[i], homeRecent,awayRecent]))            \n",
    "            resy.append(y[i])\n",
    "#        print(recents)\n",
    "        if isInput==False:\n",
    "            cols = None\n",
    "            if recentNum == 0 :\n",
    "                cols = np.array([0,1])\n",
    "            else:\n",
    "                cols =np.hstack([[0,1],list(range(4,len(recents[0]),3))])\n",
    "            self.ohe = OneHotEncoder(categorical_features=cols)\n",
    "            self.ohe.fit(recents)\n",
    "        res = self.ohe.transform(recents).toarray()\n",
    "        print(\"finish\")\n",
    "        sys.stdout.flush()\n",
    "        return res, np.array(resy)"
   ]
  },
  {
   "cell_type": "code",
   "execution_count": 26,
   "metadata": {
    "collapsed": false
   },
   "outputs": [
    {
     "name": "stdout",
     "output_type": "stream",
     "text": [
      "(380, 21)\n",
      "(380, 21)\n",
      "(293, 21)\n",
      "{'Norwich': 2, 'Chelsea': 7, 'QPR': 21, 'Man City': 9, 'Swansea': 4, 'Crystal Palace': 8, 'Southampton': 15, 'Tottenham': 18, 'West Brom': 5, 'Bournemouth': 23, 'Newcastle': 14, 'Sunderland': 3, 'Arsenal': 0, 'Leicester': 20, 'Stoke': 16, 'Burnley': 22, 'Man United': 19, 'West Ham': 6, 'Liverpool': 1, 'Aston Villa': 10, 'Cardiff': 17, 'Watford': 24, 'Hull': 13, 'Everton': 11, 'Fulham': 12}\n"
     ]
    }
   ],
   "source": [
    "c = FootballDataHelper(recentNum=4)\n",
    "c.readFootBallData(\"E0_1314.csv\")\n",
    "c.readFootBallData(\"E0_1415.csv\")\n",
    "c.readFootBallData(\"E0 (1).csv\")\n",
    "print(c.teamsMap)"
   ]
  },
  {
   "cell_type": "code",
   "execution_count": 27,
   "metadata": {
    "collapsed": false,
    "scrolled": true
   },
   "outputs": [
    {
     "name": "stdout",
     "output_type": "stream",
     "text": [
      "h4:start format\n",
      " progress 1052finish\n"
     ]
    }
   ],
   "source": [
    "X,y = c.getH4(4)\n"
   ]
  },
  {
   "cell_type": "code",
   "execution_count": 51,
   "metadata": {
    "collapsed": false
   },
   "outputs": [],
   "source": [
    "%matplotlib qt\n",
    "def plotErrorDate(X_test, X_err, dateCol = 10):\n",
    "    X_test_date =np.sort(X_test[:,10])\n",
    "    X_date=[]\n",
    "    y_date=[]\n",
    "    for v in X_test_date:\n",
    "        date = datetime.datetime.fromtimestamp(v*24*60*60)\n",
    "        if len(X_date) ==0  or X_date[-1] != date:\n",
    "            X_date.append(date)\n",
    "            y_date.append(1)\n",
    "        else:\n",
    "            y_date[-1] = y_date[-1] +1\n",
    "    plt.plot_date(X_date,y_date,xdate=True)\n",
    "    X_err_d = np.sort(X_err[:,10])\n",
    "    X_err_date=[]\n",
    "    y_err_date = []\n",
    "    for v in X_err_d:\n",
    "        date = datetime.datetime.fromtimestamp(v*24*60*60)\n",
    "        if len(X_err_date) ==0  or X_err_date[-1] != date:\n",
    "            X_err_date.append(date)\n",
    "            y_err_date.append(1)\n",
    "        else:\n",
    "            y_err_date[-1] = y_err_date[-1] +1\n",
    "    plt.plot_date(X_err_date,y_err_date,xdate=True,color='red')\n",
    "    plt.show()\n",
    "\n"
   ]
  },
  {
   "cell_type": "code",
   "execution_count": null,
   "metadata": {
    "collapsed": false
   },
   "outputs": [],
   "source": []
  },
  {
   "cell_type": "code",
   "execution_count": null,
   "metadata": {
    "collapsed": false
   },
   "outputs": [],
   "source": [
    "inData = c.readPredict(\"predict.csv\")\n",
    "print(inData)\n",
    "X_in, y_in = c.getH4(4,target=inData)\n",
    "print(y_in)\n"
   ]
  },
  {
   "cell_type": "code",
   "execution_count": 9,
   "metadata": {
    "collapsed": false
   },
   "outputs": [
    {
     "name": "stdout",
     "output_type": "stream",
     "text": [
      "12\n"
     ]
    }
   ],
   "source": [
    "from sklearn.neural_network import MLPClassifier\n",
    "from sklearn.learning_curve import learning_curve\n",
    "from custom import SoftMaxMLPClassifier\n",
    "from sklearn.pipeline import Pipeline\n",
    "hiddenNodes = int(12)\n",
    "print(hiddenNodes)\n",
    "clf = SoftMaxMLPClassifier(hidden_layer_sizes=[hiddenNodes], activation='logistic', algorithm='l-bfgs', alpha=50, \n",
    "              learning_rate_init=0.01,learning_rate='adaptive' ,max_iter=1000,early_stopping = True,verbose = 3)\n",
    "mlp = Pipeline([('scl', StandardScaler()),('clf', clf)])"
   ]
  },
  {
   "cell_type": "code",
   "execution_count": 8,
   "metadata": {
    "collapsed": false
   },
   "outputs": [
    {
     "data": {
      "text/plain": [
       "Pipeline(steps=[('scl', StandardScaler(copy=True, with_mean=True, with_std=True)), ('clf', SoftMaxMLPClassifier(activation='logistic', algorithm='l-bfgs', alpha=50,\n",
       "           batch_size='auto', beta_1=0.9, beta_2=0.999,\n",
       "           early_stopping=True, epsilon=1e-08, hidden_layer_sizes=[12],\n",
       "           learn...e=None, shuffle=True, tol=0.0001,\n",
       "           validation_fraction=0.1, verbose=3, warm_start=False))])"
      ]
     },
     "execution_count": 8,
     "metadata": {},
     "output_type": "execute_result"
    }
   ],
   "source": [
    "mlp.fit(X,y)\n",
    "#res = mlp.predict(X_in)"
   ]
  },
  {
   "cell_type": "code",
   "execution_count": null,
   "metadata": {
    "collapsed": false
   },
   "outputs": [],
   "source": [
    "print(X.shape)\n",
    "print(X_in.shape)\n",
    "res = mlp.predict(X_in)\n",
    "print(res)\n",
    "proba= mlp.predict_proba(X_in)\n",
    "print(y_in)\n",
    "print(mlp.score(X_in,y_in))\n",
    "print(proba)\n",
    "print(firstNScore(2,proba,y_in))"
   ]
  },
  {
   "cell_type": "code",
   "execution_count": null,
   "metadata": {
    "collapsed": false
   },
   "outputs": [],
   "source": [
    "#future\n",
    "inData = c.readPredict(\"future.csv\")\n",
    "print(inData)\n",
    "X_in, y_in = c.getH4(4,target=inData)\n",
    "res = mlp.predict(X_in)\n",
    "proba= mlp.predict_proba(X_in)\n",
    "print (\"{}\\n{}\".format(res,proba))"
   ]
  },
  {
   "cell_type": "code",
   "execution_count": null,
   "metadata": {
    "collapsed": false
   },
   "outputs": [],
   "source": []
  },
  {
   "cell_type": "code",
   "execution_count": null,
   "metadata": {
    "collapsed": false
   },
   "outputs": [],
   "source": [
    "print (\"start learning\")\n",
    "sys.stdout.flush()\n",
    "train_sizes, train_scores, test_scores = learning_curve(estimator=mlp, \n",
    "                       X=X, \n",
    "                      y=y, \n",
    "                      train_sizes=np.linspace(0.1, 1.0, 4), \n",
    "                      cv=4,\n",
    "                     n_jobs=1,verbose=3)\n",
    "print(\"finishing\")   \n",
    "train_mean = np.mean(train_scores, axis=1)\n",
    "train_std = np.std(train_scores, axis=1)\n",
    "test_mean = np.mean(test_scores, axis=1)\n",
    "test_std = np.std(test_scores, axis=1)"
   ]
  },
  {
   "cell_type": "code",
   "execution_count": null,
   "metadata": {
    "collapsed": false,
    "scrolled": true
   },
   "outputs": [],
   "source": [
    "\n"
   ]
  },
  {
   "cell_type": "code",
   "execution_count": null,
   "metadata": {
    "collapsed": false
   },
   "outputs": [],
   "source": [
    "plotCurve(train_mean,train_std,test_mean,test_std,train_sizes)"
   ]
  },
  {
   "cell_type": "code",
   "execution_count": null,
   "metadata": {
    "collapsed": false
   },
   "outputs": [],
   "source": [
    "from sklearn.cross_validation import StratifiedKFold\n",
    "def crossValidate(mlp, X,y, fold = 10):\n",
    "    y_label = np.argmax(y,axis=1)\n",
    "\n",
    "    kfold = StratifiedKFold(y=y_label, \n",
    "                             n_folds=fold,\n",
    "                            random_state=1)\n",
    "\n",
    "    scores = []\n",
    "    train_scores=[]\n",
    "    firstNScores = []\n",
    "    for k, (train, test) in enumerate(kfold):\n",
    "\n",
    "        mlp.fit(X[train], y[train])\n",
    "        score = mlp.score(X[test], y[test])\n",
    "        firstNScores.append(firstNScore(2, mlp.predict_proba(X[test]), y[test]))\n",
    "        train_scores.append(mlp.score(X[train],y[train]))\n",
    "        scores.append(score)\n",
    "        print('Fold: %s, Class dist.: %s, Acc: %.3f' % (k+1, \n",
    "                    np.bincount(y_label[train]), score))    \n",
    "        \n",
    "        \n",
    "    return train_scores,scores, firstNScores\n",
    "\n"
   ]
  },
  {
   "cell_type": "code",
   "execution_count": null,
   "metadata": {
    "collapsed": false
   },
   "outputs": [],
   "source": [
    "\n",
    "def lamda_test(mlp, X, y, lamdas):\n",
    "    \n",
    "    train_scores=[]\n",
    "    test_scores=[]\n",
    "    for lamda in lamdas:\n",
    "        clf.set_params(alpha= lamda)\n",
    "        train_s, test_s, firstNScores = crossValidate(mlp,X,y,fold=5)\n",
    "        train_scores.append(train_s)\n",
    "        test_scores.append(test_s)\n",
    "        print(\"lamda: {}, train: {}, test: {}\".format(lamda, \n",
    "                    np.mean(train_s), np.mean(test_s)) )\n",
    "    train_mean = np.mean(train_scores, axis=1)\n",
    "    train_std = np.std(train_scores, axis=1)\n",
    "    test_mean = np.mean(test_scores, axis=1)\n",
    "    test_std = np.std(test_scores, axis=1)\n",
    "    plotCurve(train_mean,train_std,test_mean,test_std,lamdas)\n",
    "    return np.array(train_scores),np.array(test_scores)\n",
    "\n",
    "l_range = np.array(range(10,14,2))\n",
    "train_scores,test_scores = lamda_test(mlp,X,y,l_range)\n",
    "#50"
   ]
  },
  {
   "cell_type": "code",
   "execution_count": null,
   "metadata": {
    "collapsed": false
   },
   "outputs": [],
   "source": [
    "import matplotlib.pyplot as plt\n",
    "train_mean = np.mean(train_scores, axis=1)\n",
    "train_std = np.std(train_scores, axis=1)\n",
    "test_mean = np.mean(test_scores, axis=1)\n",
    "test_std = np.std(test_scores, axis=1)\n",
    "\n",
    "\n",
    "#plotCurve(train_mean,train_std,test_mean,test_std,l_range)\n",
    "plt.plot(l_range, train_mean, \n",
    "        color='blue', marker='o', \n",
    "        markersize=5, \n",
    "        label='training accuracy')\n",
    "plt.fill_between(l_range, \n",
    "              train_mean + train_std,\n",
    "               train_mean - train_std, alpha=0.15, color='blue')\n",
    "\n",
    "plt.plot(l_range, test_mean, \n",
    "          color='green', linestyle='--', \n",
    "          marker='s', markersize=5, \n",
    "         label='validation accuracy')\n",
    "plt.fill_between(l_range, \n",
    "                  test_mean + test_std,\n",
    "                 test_mean - test_std, \n",
    "                alpha=0.15, color='green')\n",
    "plt.xlabel('lamda')\n",
    "plt.ylabel('Accuracy')\n",
    "plt.show()\n"
   ]
  },
  {
   "cell_type": "code",
   "execution_count": 10,
   "metadata": {
    "collapsed": true
   },
   "outputs": [],
   "source": [
    "from sklearn.cross_validation import train_test_split\n",
    "X_train, X_test , y_train, y_test = train_test_split(X,y,test_size =0.3)\n",
    "\n"
   ]
  },
  {
   "cell_type": "code",
   "execution_count": 11,
   "metadata": {
    "collapsed": false
   },
   "outputs": [
    {
     "data": {
      "text/plain": [
       "Pipeline(steps=[('scl', StandardScaler(copy=True, with_mean=True, with_std=True)), ('clf', SoftMaxMLPClassifier(activation='logistic', algorithm='l-bfgs', alpha=50,\n",
       "           batch_size='auto', beta_1=0.9, beta_2=0.999,\n",
       "           early_stopping=True, epsilon=1e-08, hidden_layer_sizes=[12],\n",
       "           learn...e=None, shuffle=True, tol=0.0001,\n",
       "           validation_fraction=0.1, verbose=3, warm_start=False))])"
      ]
     },
     "execution_count": 11,
     "metadata": {},
     "output_type": "execute_result"
    }
   ],
   "source": [
    "clf.set_params(alpha=50)\n",
    "mlp.fit(X_train, y_train)"
   ]
  },
  {
   "cell_type": "code",
   "execution_count": 12,
   "metadata": {
    "collapsed": false
   },
   "outputs": [],
   "source": [
    "res = mlp.predict_proba(X_test)\n"
   ]
  },
  {
   "cell_type": "code",
   "execution_count": 104,
   "metadata": {
    "collapsed": false
   },
   "outputs": [
    {
     "name": "stdout",
     "output_type": "stream",
     "text": [
      "0.610738255034\n",
      "0.815436241611\n"
     ]
    },
    {
     "data": {
      "image/png": "[encoded data removed]",
      "text/plain": [
       "<matplotlib.figure.Figure at 0x7f4208d71400>"
      ]
     },
     "metadata": {},
     "output_type": "display_data"
    }
   ],
   "source": [
    "fig = plt.gcf()\n",
    "fig.set_size_inches(18.5, 10.5)\n",
    "predicted = mlp.predict(X_test)\n",
    "print(mlp.score(X_test, y_test))\n",
    "proba = mlp.predict_proba(X_test)\n",
    "print(firstNScore(2,proba,y_test))\n",
    "error = X_test[np.argmax(predicted,axis=1) != np.argmax(y_test,axis=1)]\n",
    "plotErrorDate(oneHotDecode(c,X_train),oneHotDecode(c,error))"
   ]
  },
  {
   "cell_type": "code",
   "execution_count": null,
   "metadata": {
    "collapsed": false
   },
   "outputs": [],
   "source": [
    "likehoodScore(res,y_test)"
   ]
  },
  {
   "cell_type": "code",
   "execution_count": null,
   "metadata": {
    "collapsed": false
   },
   "outputs": [],
   "source": [
    "home_teams_test = np.argmax(X_test[:,0:len(c.teamsMap)],axis=1)\n",
    "away_teams_test = np.argmax(X_test[:,len(c.teamsMap):len(c.teamsMap)*2],axis=1)\n",
    "inverseMap ={}\n",
    "for name in c.teamsMap.keys():        \n",
    "    inverseMap[c.teamsMap[name]] = name\n",
    "\n",
    "home_name =[]\n",
    "away_name =[]\n",
    "for i in range(home_teams_test.shape[0]):         \n",
    "    home_name.append(inverseMap[home_teams_test[i]])\n",
    "    away_name.append(inverseMap[away_teams_test[i]])\n",
    "pre_y = np.argmax(predicted,axis=1)\n",
    "real_y = np.argmax(y_test,axis=1)\n",
    "for i in range(predicted.shape[0]):\n",
    "    if pre_y[i] != real_y[i]:\n",
    "        print('-------------')\n",
    "        print(\"{} vs {}\".format(home_name[i],away_name[i]))\n",
    "        print(\"{} vs {}\".format(res[i],y_test[i]))\n",
    "    "
   ]
  },
  {
   "cell_type": "code",
   "execution_count": null,
   "metadata": {
    "collapsed": false
   },
   "outputs": [],
   "source": [
    "#c.df[(c.df['HomeTeam'] == 'West Brom') | (c.df['AwayTeam']=='West Brom')]"
   ]
  },
  {
   "cell_type": "code",
   "execution_count": null,
   "metadata": {
    "collapsed": false
   },
   "outputs": [],
   "source": [
    "from sklearn.neural_network import MLPClassifier\n",
    "from sklearn.learning_curve import learning_curve\n",
    "from custom import SoftMaxMLPClassifier\n",
    "from sklearn.pipeline import Pipeline\n",
    "%matplotlib inline\n",
    "import matplotlib.pyplot as plt\n",
    "def testNodeSize(start ,end):\n",
    "    node_range = range(start,end,25)\n",
    "    train_means = []\n",
    "    train_std = []\n",
    "    test_means =[]\n",
    "    test_std=[]\n",
    "    for node in node_range:   \n",
    "        print(\"start node:{}\".format(node))\n",
    "        clf = SoftMaxMLPClassifier(hidden_layer_sizes=[node], activation='logistic', algorithm='l-bfgs', alpha=30, \n",
    "                  learning_rate_init=0.01,learning_rate='adaptive' ,max_iter=500,early_stopping = True,verbose = 3)\n",
    "        mlp = Pipeline([('scl', StandardScaler()),('clf', clf)])\n",
    "        train_scores,test_scores = crossValidate(mlp,X,y,fold=5)\n",
    "        train_means.append(np.mean(train_scores))\n",
    "        train_std.append(np.std(train_scores))\n",
    "        test_means.append(np.mean(test_scores))\n",
    "        test_std.append(np.std(test_scores))\n",
    "        print(\"Node {}: train_mean {}  v.s. test_mean {}\".format(node,np.mean(train_scores),np.mean(test_scores)))\n",
    "    plotCurve(train_means,train_std,test_means,test_std,node_range)\n",
    "    return train_means,train_std,test_means,test_std"
   ]
  },
  {
   "cell_type": "code",
   "execution_count": null,
   "metadata": {
    "collapsed": false
   },
   "outputs": [],
   "source": [
    "train_means,train_std,test_means,test_std=testNodeSize(10 , X.shape[1])"
   ]
  },
  {
   "cell_type": "code",
   "execution_count": null,
   "metadata": {
    "collapsed": true
   },
   "outputs": [],
   "source": [
    "from sklearn.neural_network import MLPClassifier\n",
    "from sklearn.learning_curve import learning_curve\n",
    "from custom import SoftMaxMLPClassifier\n",
    "from sklearn.pipeline import Pipeline\n",
    "%matplotlib inline\n",
    "import matplotlib.pyplot as plt\n",
    "def testRecentNum(start, end):\n",
    "    recent_range = range(start,end)\n",
    "    train_means = []\n",
    "    train_std = []\n",
    "    test_means =[]\n",
    "    test_std=[]\n",
    "    first2_mean=[]\n",
    "    for recent in recent_range:\n",
    "        print(\"start recent:{}\".format(recent))\n",
    "        X,y = c.getH4(recent)\n",
    "        clf = SoftMaxMLPClassifier(hidden_layer_sizes=[12], activation='logistic', algorithm='l-bfgs', alpha=30, \n",
    "                  learning_rate_init=0.01,learning_rate='adaptive' ,max_iter=500,early_stopping = True,verbose = 3)\n",
    "        mlp = Pipeline([('scl', StandardScaler()),('clf', clf)])\n",
    "        train_scores,test_scores, first2 = crossValidate(mlp,X,y,fold=10)\n",
    "        train_means.append(np.mean(train_scores))\n",
    "        train_std.append(np.std(train_scores))\n",
    "        test_means.append(np.mean(test_scores))\n",
    "        test_std.append(np.std(test_scores))\n",
    "        first2_mean.append(np.mean(first2))\n",
    "        print(\"recent {}: train_mean {}  v.s. test_mean {} , first2_mean {}\".format(\n",
    "                recent,np.mean(train_scores),np.mean(test_scores),np.mean(first2)))\n",
    "    plotCurve(train_means,train_std,test_means,test_std,recent_range)\n",
    "    return train_means,train_std,test_means,test_std,first2_mean\n",
    "\n"
   ]
  },
  {
   "cell_type": "code",
   "execution_count": null,
   "metadata": {
    "collapsed": false
   },
   "outputs": [],
   "source": [
    "train_means,train_std,test_means,test_std,first2_mean=testRecentNum(0 ,10)"
   ]
  },
  {
   "cell_type": "code",
   "execution_count": 105,
   "metadata": {
    "collapsed": false
   },
   "outputs": [
    {
     "name": "stdout",
     "output_type": "stream",
     "text": [
      "week0\n",
      "numOftest 5 , score 0.8\n",
      "[['Norwich' 'Man City' '0.1813496188598995' '0.17910355518254364'\n",
      "  '0.6395468259575569' 'False' 'True' 'False']]\n",
      "first2 : {} 0.8\n",
      "week1\n",
      "numOftest 10 , score 0.5\n",
      "[['Chelsea' 'Stoke' '0.8188013592983958' '0.09707085168138402'\n",
      "  '0.08412778902022014' 'False' 'True' 'False']\n",
      " ['Everton' 'West Ham' '0.5984502354977616' '0.1894183129687371'\n",
      "  '0.2121314515335014' 'False' 'False' 'True']\n",
      " ['Southampton' 'Sunderland' '0.6988086836028544' '0.13471668073872464'\n",
      "  '0.16647463565842105' 'False' 'True' 'False']\n",
      " ['Tottenham' 'Arsenal' '0.4100207542405329' '0.24092803534560595'\n",
      "  '0.34905121041386117' 'False' 'True' 'False']\n",
      " ['Watford' 'Leicester' '0.5923561736669753' '0.17059662839770037'\n",
      "  '0.23704719793532422' 'False' 'False' 'True']]\n",
      "first2 : {} 0.8\n",
      "week2\n",
      "numOftest 18 , score 0.5\n",
      "[['Southampton' 'Chelsea' '0.4500628498005311' '0.2126042833160902'\n",
      "  '0.3373328668833789' 'False' 'False' 'True']\n",
      " ['Watford' 'Bournemouth' '0.7617144309579698' '0.13464973686209616'\n",
      "  '0.1036358321799341' 'False' 'True' 'False']\n",
      " ['Man United' 'Arsenal' '0.4009348378224459' '0.18648058246606544'\n",
      "  '0.4125845797114887' 'True' 'False' 'False']\n",
      " ['Tottenham' 'Swansea' '0.3811560530069009' '0.20079426737266837'\n",
      "  '0.41804967962043066' 'True' 'False' 'False']\n",
      " ['Aston Villa' 'Everton' '0.4405325854068202' '0.19770471368042092'\n",
      "  '0.36176270091275875' 'False' 'False' 'True']\n",
      " ['Bournemouth' 'Southampton' '0.27528675156124094' '0.23281010354119994'\n",
      "  '0.49190314489755915' 'True' 'False' 'False']\n",
      " ['Leicester' 'West Brom' '0.45743463729686185' '0.21617785200549036'\n",
      "  '0.32638751069764776' 'False' 'True' 'False']\n",
      " ['Sunderland' 'Crystal Palace' '0.2837244022119373' '0.2551340547113703'\n",
      "  '0.4611415430766925' 'False' 'True' 'False']\n",
      " ['Arsenal' 'Swansea' '0.7416612684600251' '0.1363860795267762'\n",
      "  '0.12195265201319871' 'False' 'False' 'True']]\n",
      "first2 : {} 0.833333333333\n",
      "week3\n",
      "numOftest 10 , score 0.5\n",
      "[['Swansea' 'Southampton' '0.5807989788580159' '0.20920344064006624'\n",
      "  '0.20999758050191797' 'False' 'False' 'True']\n",
      " ['Everton' 'West Brom' '0.761196057098111' '0.12721634056980632'\n",
      "  '0.11158760233208274' 'False' 'False' 'True']\n",
      " ['Norwich' 'West Ham' '0.4274340541224738' '0.25212034734114425'\n",
      "  '0.32044559853638205' 'False' 'True' 'False']\n",
      " ['Man City' 'Tottenham' '0.5004055524402096' '0.2343561662460511'\n",
      "  '0.2652382813137394' 'False' 'False' 'True']\n",
      " ['Aston Villa' 'Liverpool' '0.4303242193658472' '0.1540206513852972'\n",
      "  '0.41565512924885556' 'False' 'False' 'True']]\n",
      "first2 : {} 0.8\n",
      "week4\n",
      "numOftest 10 , score 0.4\n",
      "[['Swansea' 'Crystal Palace' '0.4088716054145535' '0.27833537667597247'\n",
      "  '0.312793017909474' 'False' 'True' 'False']\n",
      " ['Man City' 'Leicester' '0.8074436039290908' '0.11075446607705064'\n",
      "  '0.08180192999385874' 'False' 'False' 'True']\n",
      " ['Newcastle' 'West Brom' '0.38470967231674297' '0.20974039530545463'\n",
      "  '0.4055499323778023' 'True' 'False' 'False']\n",
      " ['Liverpool' 'Sunderland' '0.5308220398655524' '0.2489937262686397'\n",
      "  '0.22018423386580788' 'False' 'True' 'False']\n",
      " ['Bournemouth' 'Arsenal' '0.42565061836730667' '0.21146980680244434'\n",
      "  '0.3628795748302491' 'False' 'False' 'True']\n",
      " ['Chelsea' 'Man United' '0.5562334163554697' '0.22382649054236717'\n",
      "  '0.21994009310216303' 'False' 'True' 'False']]\n",
      "first2 : {} 0.8\n",
      "week5\n",
      "numOftest 10 , score 0.4\n",
      "[['Sunderland' 'Man City' '0.47642122653396507' '0.16572484269537452'\n",
      "  '0.35785393077066047' 'False' 'False' 'True']\n",
      " ['Arsenal' 'Southampton' '0.766752439656714' '0.12550791910014483'\n",
      "  '0.10773964124314114' 'False' 'True' 'False']\n",
      " ['Crystal Palace' 'Bournemouth' '0.5092239606783607' '0.17743058769496273'\n",
      "  '0.3133454516266766' 'False' 'False' 'True']\n",
      " ['Leicester' 'Liverpool' '0.34294522818714684' '0.29666273547917765'\n",
      "  '0.3603920363336755' 'True' 'False' 'False']\n",
      " ['West Brom' 'Swansea' '0.47738140937687273' '0.19285979461066483'\n",
      "  '0.32975879601246244' 'False' 'True' 'False']\n",
      " ['Watford' 'Chelsea' '0.4113783056852257' '0.19556339068353545'\n",
      "  '0.3930583036312389' 'False' 'True' 'False']]\n",
      "first2 : {} 0.8\n",
      "week6\n",
      "numOftest 10 , score 0.4\n",
      "[['West Brom' 'Aston Villa' '0.6812193447762606' '0.14135481065040884'\n",
      "  '0.17742584457333052' 'False' 'True' 'False']\n",
      " ['Sunderland' 'Bournemouth' '0.48873022254782567' '0.206604986779528'\n",
      "  '0.30466479067264624' 'False' 'True' 'False']\n",
      " ['West Ham' 'Man City' '0.27736625145692984' '0.18393912899668155'\n",
      "  '0.5386946195463885' 'False' 'True' 'False']\n",
      " ['Man United' 'Southampton' '0.7479819118447358' '0.1174527551777037'\n",
      "  '0.1345653329775605' 'False' 'False' 'True']\n",
      " ['Crystal Palace' 'Tottenham' '0.5978035773711277' '0.15714437329387085'\n",
      "  '0.24505204933500152' 'False' 'False' 'True']\n",
      " ['Arsenal' 'Chelsea' '0.49701345144610615' '0.23576438156481996'\n",
      "  '0.26722216698907386' 'False' 'False' 'True']]\n",
      "first2 : {} 0.7\n",
      "week7\n",
      "numOftest 10 , score 0.5\n",
      "[['Aston Villa' 'Leicester' '0.40047997067662056' '0.22475902104538356'\n",
      "  '0.3747610082779959' 'False' 'True' 'False']\n",
      " ['Chelsea' 'Everton' '0.6798107424147989' '0.16749619708043867'\n",
      "  '0.15269306050476253' 'False' 'True' 'False']\n",
      " ['Liverpool' 'Man United' '0.5118378522828796' '0.190457993010381'\n",
      "  '0.2977041547067394' 'False' 'False' 'True']\n",
      " ['Stoke' 'Arsenal' '0.611788719405614' '0.1552394492570329'\n",
      "  '0.23297183133735314' 'False' 'True' 'False']\n",
      " ['Swansea' 'Watford' '0.391425564032956' '0.1928842874052971'\n",
      "  '0.41569014856174685' 'True' 'False' 'False']]\n",
      "first2 : {} 0.8\n",
      "week8\n",
      "numOftest 10 , score 0.4\n",
      "[['Bournemouth' 'West Ham' '0.4899643545966156' '0.2285685260586517'\n",
      "  '0.2814671193447328' 'False' 'False' 'True']\n",
      " ['Newcastle' 'Man United' '0.30464200708836625' '0.20304426854688887'\n",
      "  '0.4923137243647448' 'False' 'True' 'False']\n",
      " ['Swansea' 'Sunderland' '0.674346541808188' '0.1606782842181947'\n",
      "  '0.1649751739736174' 'False' 'False' 'True']\n",
      " ['Liverpool' 'Arsenal' '0.444549953986371' '0.22590698075958945'\n",
      "  '0.3295430652540396' 'False' 'True' 'False']\n",
      " ['Chelsea' 'West Brom' '0.5437148878453759' '0.22299199586011315'\n",
      "  '0.23329311629451094' 'False' 'True' 'False']\n",
      " ['Man City' 'Everton' '0.5132626915505012' '0.2022458802163016'\n",
      "  '0.28449142823319723' 'False' 'True' 'False']]\n",
      "first2 : {} 0.6\n",
      "week9\n",
      "numOftest 10 , score 0.7\n",
      "[['Watford' 'Man City' '0.4777012415144999' '0.1757892396617923'\n",
      "  '0.3465095188237079' 'False' 'False' 'True']\n",
      " ['Leicester' 'Bournemouth' '0.7052927842830853' '0.14350569412870579'\n",
      "  '0.15120152158820896' 'False' 'True' 'False']\n",
      " ['Everton' 'Tottenham' '0.48667747754894874' '0.22509702512929175'\n",
      "  '0.28822549732175956' 'False' 'True' 'False']]\n",
      "first2 : {} 0.8\n"
     ]
    }
   ],
   "source": [
    "from datetime import date, timedelta\n",
    "def futureTest(mlp, X,y,numOfWeek = 10):\n",
    "    decoded = oneHotDecode(c, X)\n",
    "    dates = convertToDate(decoded[:,10])\n",
    "    dates = [d - timedelta(days=2) for d in dates]    \n",
    "    weeks  = [ v.isocalendar()[1] for v in dates]\n",
    "\n",
    "    thisWeek = weeks[-1]\n",
    "    start = -1\n",
    "    last = X.shape[0]\n",
    "    index = -1\n",
    "    w = 0\n",
    "    while w < numOfWeek:\n",
    "        if thisWeek != weeks[index]:\n",
    "            start = X.shape[0] +index+1\n",
    "            X_train = X[0:start, :]\n",
    "            X_test = X[start:last,:]\n",
    "            y_train = y[0:start,:]\n",
    "            y_test = y[start:last,:]\n",
    "            mlp.fit(X_train,y_train)\n",
    "            print(\"week{}\".format(w))\n",
    "            decoded = oneHotDecode(c,X_test)\n",
    "            home = np.array([c.inverseTeamMapping(decoded[:,0])]).reshape(X_test.shape[0],1)\n",
    "            away = np.array([c.inverseTeamMapping(decoded[:,1])]).reshape(X_test.shape[0],1)\n",
    "            stack = np.hstack([home,away])\n",
    "            print(\"numOftest {} , score {}\".format(X_test.shape[0],mlp.score(X_test,y_test)))\n",
    "            proba = mlp.predict_proba(X_test)\n",
    "            errorIndx = np.argmax(proba,axis=1) != np.argmax(y_test,axis=1)\n",
    "            print(np.hstack([stack[errorIndx],proba[errorIndx],y_test[errorIndx]]))\n",
    "    \n",
    "            print(\"first2 : {}\",firstNScore(2,proba,y_test))\n",
    "            last = start\n",
    "            thisWeek = weeks[index]\n",
    "            w = w+1\n",
    "        index = index -1\n",
    "\n",
    "clf.set_params(alpha=50)\n",
    "futureTest(mlp,X,y)      \n"
   ]
  },
  {
   "cell_type": "code",
   "execution_count": null,
   "metadata": {
    "collapsed": true
   },
   "outputs": [],
   "source": [
    "#TODO confusion matrix ,e.g. 100 - 90 % precision"
   ]
  }
 ],
 "metadata": {
  "kernelspec": {
   "display_name": "Python 3",
   "language": "python",
   "name": "python3"
  },
  "language_info": {
   "codemirror_mode": {
    "name": "ipython",
    "version": 3
   },
   "file_extension": ".py",
   "mimetype": "text/x-python",
   "name": "python",
   "nbconvert_exporter": "python",
   "pygments_lexer": "ipython3",
   "version": "3.5.1"
  }
 },
 "nbformat": 4,
 "nbformat_minor": 0
}
