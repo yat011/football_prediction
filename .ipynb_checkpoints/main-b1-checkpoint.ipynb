{
 "cells": [
  {
   "cell_type": "code",
   "execution_count": 1,
   "metadata": {
    "collapsed": false,
    "scrolled": false
   },
   "outputs": [],
   "source": [
    "import numpy as np\n",
    "try:\n",
    "    from IPython.core.display import clear_output\n",
    "    have_ipython = True\n",
    "except ImportError:\n",
    "    have_ipython = False\n",
    "import sys\n",
    "import datetime\n",
    "%matplotlib inline\n",
    "import matplotlib.pyplot as plt\n",
    "\n",
    "def plotCurve(train_mean, train_std,test_mean,test_std,sizes):\n",
    "    plt.plot(sizes, train_mean, \n",
    "            color='blue', marker='o', \n",
    "            markersize=5, \n",
    "            label='training accuracy')\n",
    "    plt.fill_between(sizes, \n",
    "                  train_mean + train_std,\n",
    "                   train_mean - train_std, alpha=0.15, color='blue')\n",
    "\n",
    "    plt.plot(sizes, test_mean, \n",
    "              color='green', linestyle='--', \n",
    "              marker='s', markersize=5, \n",
    "             label='validation accuracy')\n",
    "    plt.fill_between(sizes, \n",
    "                      test_mean + test_std,\n",
    "                     test_mean - test_std, \n",
    "                    alpha=0.15, color='green')\n",
    "    plt.xlabel('x_range')\n",
    "    plt.ylabel('Accuracy')\n",
    "    plt.show()\n",
    "def likehoodScore(proba,y):\n",
    "    return np.sum(proba * y)/proba.shape[0]\n",
    "\n",
    "def firstNScore(n, pred, y):\n",
    "    backup = np.array(pred, copy =True)\n",
    "    for r in range(pred.shape[0]):\n",
    "        row = backup[r]\n",
    "        s = np.sort(row)\n",
    "        for c in range(pred.shape[1]):\n",
    "            temp = backup[r][c]\n",
    "            backup[r][c] = False\n",
    "            for j in range(1,n+1):\n",
    "                if temp == s[-j]:\n",
    "                    backup[r][c] = True\n",
    "                    break\n",
    "    res = np.sum(np.logical_and(backup,y))/pred.shape[0]\n",
    "    return res               \n",
    "\n",
    "def oneHotDecode(self, X_sample):\n",
    "    result=None\n",
    "    fiPos = 0\n",
    "    colIndex = 0\n",
    "    while colIndex < X_sample.shape[1]:\n",
    "        if fiPos < len(self.ohe.n_values_) and colIndex == self.ohe.feature_indices_[fiPos]:                \n",
    "            start = self.ohe.feature_indices_[fiPos]\n",
    "            end_ = start+ self.ohe.n_values_[fiPos]\n",
    "            #print(\"start{} end{}\".format(start,end_))\n",
    "            classes = np.argmax(X_sample[:,start:end_],axis=1).reshape(X_sample.shape[0],1)\n",
    "            if result is None:\n",
    "                result = classes\n",
    "            else:\n",
    "                result=np.hstack([result,classes])\n",
    "            colIndex = end_\n",
    "            fiPos = fiPos +1\n",
    "        else:\n",
    "            if result is None:\n",
    "                result = X_sample[:,colIndex:colIndex+1]\n",
    "            else:\n",
    "                result=np.hstack([result, X_sample[:,colIndex:colIndex+1]])\n",
    "            colIndex = colIndex +1\n",
    "        \n",
    "    return result \n",
    "def convertToDate(dayStamps):\n",
    "    res = [] \n",
    "    for v in dayStamps:\n",
    "        res.append(datetime.datetime.fromtimestamp(float(v)*24*60*60))\n",
    "    return res\n",
    "\n",
    "\n",
    "    \n",
    "\n",
    "def precisionMatrix(proba, y):\n",
    "    def _precisionClassify(df,proba, wins, c =0 ):\n",
    "        for indx, v in enumerate(proba):\n",
    "            row = 0\n",
    "            col = 0\n",
    "            if wins[indx] == c:\n",
    "                col = 0\n",
    "            else:\n",
    "                col =1\n",
    "            if v <0.2:\n",
    "                row =6 \n",
    "            elif v < 0.3 and  v >=0.2:\n",
    "                row =5 \n",
    "            elif v < 0.4 and v >= 0.3:\n",
    "                row = 4 \n",
    "            elif v < 0.5 and v >= 0.4:\n",
    "                row = 3 \n",
    "            elif v < 0.6 and v >= 0.5:\n",
    "                row = 2 \n",
    "            elif v < 0.8 and v >= 0.6:\n",
    "                row = 1\n",
    "            df.iloc[row,col] = df.iloc[row,col]+1 \n",
    "        df[df.columns[2]] = df[df.columns[0]] /(df[df.columns[1]] + df[df.columns[0]])\n",
    "        return df\n",
    "    rowHeader = ['>80','60-80','50-60','40-50','30-40','20-30','<20']\n",
    "    df = pd.DataFrame(np.zeros(shape=(7,3)),index=rowHeader, columns=['h_Correct', 'h_Wrong','h_Precent'])\n",
    "    hproba = proba[:,0]\n",
    "    wins = np.argmax(y,axis=1)\n",
    "    df = _precisionClassify(df,hproba,wins)\n",
    "    temp = pd.DataFrame(np.zeros(shape=(7,3)),index=rowHeader, columns=['d_Correct', 'd_Wrong','d_Precent'])\n",
    "    dproba = proba[:,1]\n",
    "    df = df.join(_precisionClassify(temp,dproba,wins,c=1))\n",
    "    temp = pd.DataFrame(np.zeros(shape=(7,3)),index=rowHeader, columns=['a_Correct', 'a_Wrong','a_Precent'])\n",
    "    aproba = proba[:,2]\n",
    "    df = df.join(_precisionClassify(temp,aproba,wins,c=2))\n",
    "    \n",
    "    bound = pd.DataFrame(np.array([[0.8,1.0],[0.6,0.8],[0.5,0.6],[0.4,0.5],[0.3,0.4],[0.2,0.3],[0,0.2]] )\n",
    "                                ,index=rowHeader, columns=['[lower', 'upper)'])\n",
    "            \n",
    "    return bound.join(df)\n",
    "       \n",
    "from datetime import date, timedelta\n",
    "from sklearn.metrics import precision_score\n",
    "\n",
    "\n",
    "def futureTest(mlp, X,y,numOfWeek = 10,verbose=False):\n",
    "    decoded = oneHotDecode(c, X)\n",
    "    dates = convertToDate(X[:,c.dateColumn])\n",
    "    dates = [d - timedelta(days=2) for d in dates]    \n",
    "    weeks  = [ v.isocalendar()[1] for v in dates]\n",
    "    thisWeek = weeks[-1]\n",
    "    start = -1\n",
    "    last = X.shape[0]\n",
    "    index = -1\n",
    "    w = 0\n",
    "    sum_proba =None \n",
    "    sum_y =None\n",
    "    sum_train_proba=None\n",
    "    sum_train_y=None\n",
    "    while w < numOfWeek:\n",
    "        if thisWeek != weeks[index]:\n",
    "            start = X.shape[0] +index+1\n",
    "            X_train = X[0:start, :]\n",
    "            X_test = X[start:last,:]\n",
    "            y_train = y[0:start,:]\n",
    "            y_test = y[start:last,:]\n",
    "            mlp.fit(X_train,y_train)\n",
    "            decoded = oneHotDecode(c,X_test)\n",
    "            home = np.array([c.inverseTeamMapping(decoded[:,0])]).reshape(X_test.shape[0],1)\n",
    "            away = np.array([c.inverseTeamMapping(decoded[:,1])]).reshape(X_test.shape[0],1)\n",
    "            stack = np.hstack([home,away])\n",
    "            proba = mlp.predict_proba(X_test)\n",
    "            train_proba =mlp.predict_proba(X_train)\n",
    "            errorIndx = np.argmax(proba,axis=1) != np.argmax(y_test,axis=1)\n",
    "            if sum_proba is None:\n",
    "                sum_proba = proba\n",
    "                sum_y = y_test\n",
    "                sum_train_proba = train_proba\n",
    "                sum_train_y = y_train\n",
    "            else:\n",
    "                sum_proba = np.vstack([sum_proba,proba])\n",
    "                sum_y = np.vstack([sum_y,y_test])\n",
    "                sum_train_proba = np.vstack([sum_train_proba, train_proba])\n",
    "                sum_train_y= np.vstack([sum_train_y, y_train])\n",
    "            if verbose == True:\n",
    "                print(\"week{}\".format(w))\n",
    "                print(\"numOftest {} , score {}\".format(X_test.shape[0],mlp.score(X_test,y_test)))\n",
    "                print(np.hstack([stack[errorIndx],proba[errorIndx],y_test[errorIndx]]))\n",
    "                print(\"first2 : {}\",firstNScore(2,proba,y_test))\n",
    "            last = start\n",
    "            thisWeek = weeks[index]\n",
    "            w = w+1\n",
    "        index = index -1\n",
    "        \n",
    "    print(\"summary\")\n",
    "    print(\"score:\")\n",
    "    score = firstNScore(1,sum_proba,sum_y)\n",
    "    print(score)\n",
    "    print(\"2like\")\n",
    "    like2 = firstNScore(2,sum_proba,sum_y)\n",
    "    print(precisionMatrix(sum_proba,sum_y))\n",
    "    y_true= np.argmax(sum_y,axis=1)\n",
    "    y_pred = np.argmax(sum_proba,axis=1)\n",
    "    print(\"sum precision:{}\".format(precision_score(y_true,y_pred,average=None)))\n",
    "    return firstNScore(1,sum_train_proba,sum_train_y), score, like2\n"
   ]
  },
  {
   "cell_type": "code",
   "execution_count": 2,
   "metadata": {
    "collapsed": false,
    "scrolled": false
   },
   "outputs": [
    {
     "name": "stderr",
     "output_type": "stream",
     "text": [
      "/home/y/scikit-learn/sklearn/cross_validation.py:43: DeprecationWarning: This module has been deprecated in favor of the model_selection module into which all the refactored classes and functions are moved. Also note that the interface of the new CV iterators are different from that of this module. This module will be removed in 0.20.\n",
      "  \"This module will be removed in 0.20.\", DeprecationWarning)\n"
     ]
    }
   ],
   "source": [
    "import numpy as np\n",
    "from sklearn.cross_validation import train_test_split\n",
    "from sklearn.preprocessing import StandardScaler\n",
    "from sklearn.preprocessing import OneHotEncoder\n",
    "import pandas as pd\n",
    "class FootballDataHelper:\n",
    "    def __init__ (self, recentNum=5):\n",
    "        self.win_mapping = {'H':0, 'D':1,'A':2}\n",
    "        self.recentNum = recentNum\n",
    "        self.df = None\n",
    "        self.teamsData={}\n",
    "        self.session = 0\n",
    "        self.generalList =['HS','AS','HST','AST','H_poss' ,'A_poss' ,'H_atk_3rd', 'A_atk_3rd',\n",
    " 'H_atk_3rd_tot', 'A_atk_3rd_tot','H_red_goal' ,'A_red_goal' ,'H_red_on',\n",
    " 'A_red_on' ,'H_red_tot' ,'A_red_tot' ,'H_chance_goal' ,'A_chance_goal',\n",
    " 'H_chance_tot', 'A_chance_tot' ,'H_successful_tackle', 'A_successful_tackle',\n",
    " 'H_tackle_tot', 'A_tackle_tot', 'H_successful_clearance',\n",
    " 'A_successful_clearance', 'H_clearance_tot' ,'A_clearance_tot',\n",
    " 'H_interceptions' ,'A_interceptions', 'H_blocks', 'A_blocks']\n",
    "        self.percentList = ['atk_3rd','atk_3rd_tot','red_goal','red_tot','red_on','red_tot',\n",
    "                           'chance_goal','chance_tot','successful_tackle','tackle_tot',\n",
    "                            'successful_clearance','clearance_tot']\n",
    "       \n",
    "    def addColumns(self,df, addition):    \n",
    "        dates = df[\"Date\"].drop_duplicates().values\n",
    "        col_adds = []\n",
    "        for colAdd in addition.columns:\n",
    "             if colAdd not in df.columns:\n",
    "                    df[colAdd]=np.zeros(shape=(df.shape[0],))\n",
    "                    col_adds.append(colAdd)\n",
    "        for date in dates:\n",
    "            dateAddition= addition[addition['Date'] == date].sort(columns='HomeTeam')\n",
    "            dateDf  = df [df['Date']==date].sort(columns='HomeTeam')\n",
    "            for col in col_adds:\n",
    "                dateDf[col] = dateAddition[col].values\n",
    "            df.update(dateDf)\n",
    "        return df\n",
    "            \n",
    "    def saveDf(self,filename):\n",
    "        self.df.to_csv(filename,index=False)\n",
    "    def loadDf(self,filename):\n",
    "        df = pd.read_csv(filename)\n",
    "        df['Date'] = pd.to_datetime(df['Date'])    \n",
    "        self.df = df\n",
    "        teams = self.df['HomeTeam'].drop_duplicates()\n",
    "        teamMap = {}\n",
    "        for index , v in enumerate(teams):\n",
    "            teamMap[v] = index\n",
    "        self.teamsMap = teamMap\n",
    "        referees = self.df['Referee'].drop_duplicates()\n",
    "        refereesMap = {}\n",
    "        for index , v in enumerate(referees):\n",
    "            refereesMap[v] = index+1\n",
    "\n",
    "        self.refereesMap = refereesMap\n",
    "    def readFootBallData(self,year): \n",
    "        filename = \"dataSet/E{}.csv\".format(year)\n",
    "        df = pd.read_csv(filename)\n",
    "        #df = df.drop(df.columns[range(23,df.shape[1])], axis=1)\n",
    "        #df = df.drop(\"Div\",axis=1)\n",
    "        df['Date'] = pd.to_datetime(df['Date'])\n",
    "        df['session'] = pd.Series(np.ones(shape=(df.shape[0],))*self.session, index=df.index)\n",
    "        self.session = self.session +1\n",
    "        \n",
    "        matchDetail = pd.read_csv(\"dataSet/match{}.csv\".format(year))\n",
    "        matchDetail['Date'] =pd.to_datetime(matchDetail['Date'])\n",
    "        df = self.addColumns(df,matchDetail)\n",
    "        \n",
    "        df[\"Future\"] = np.zeros(shape=(df.shape[0],))\n",
    "        \n",
    "        if self.df is None:\n",
    "            self.df = df\n",
    "        else:\n",
    "            self.df = pd.concat([self.df,df])\n",
    "            \n",
    "        self.df = self.df.reset_index(drop=True)\n",
    "        teams = self.df['HomeTeam'].drop_duplicates()\n",
    "        teamMap = {}\n",
    "        for index , v in enumerate(teams):\n",
    "            teamMap[v] = index\n",
    "        self.teamsMap = teamMap\n",
    "        referees = self.df['Referee'].drop_duplicates()\n",
    "        refereesMap = {}\n",
    "        for index , v in enumerate(referees):\n",
    "            refereesMap[v] = index+1\n",
    "\n",
    "        self.refereesMap = refereesMap\n",
    "    def readFuture(self):\n",
    "        filename = \"dataSet/future.csv\"\n",
    "        df = pd.read_csv(filename)\n",
    "        #df = df.drop(df.columns[range(23,df.shape[1])], axis=1)\n",
    "        #df = df.drop(\"Div\",axis=1)\n",
    "        df['Date'] = pd.to_datetime(df['Date'])\n",
    "        df[\"Future\"] = np.ones(shape=(df.shape[0],))\n",
    "        if self.df is None:\n",
    "            self.df = df\n",
    "        else:\n",
    "            self.df = pd.concat([self.df,df])\n",
    "            \n",
    "        self.df['HTR']=self.df['HTR'].fillna('D')\n",
    "        self.df = self.df.fillna(0)\n",
    "        self.df = self.df.reset_index(drop=True)\n",
    "        teams = self.df['HomeTeam'].drop_duplicates()\n",
    "        teamMap = {}\n",
    "        for index , v in enumerate(teams):\n",
    "            teamMap[v] = index\n",
    "        self.teamsMap = teamMap\n",
    "        referees = self.df['Referee'].drop_duplicates()\n",
    "        refereesMap = {}\n",
    "        for index , v in enumerate(referees):\n",
    "            refereesMap[v] = index+1\n",
    "\n",
    "        self.refereesMap = refereesMap\n",
    "        \n",
    "    def getTeam(self,dataFrame, teamName):       \n",
    "        return dataFrame[(dataFrame[\"HomeTeam\"] == teamName) | (dataFrame[\"AwayTeam\"] == teamName)]\n",
    " \n",
    "        \n",
    "    def previousRecords(self,team, date , recentNum):\n",
    "        prev = team[( team[\"Date\"] < date)]\n",
    "        \n",
    "        if prev.shape[0] < recentNum :\n",
    "            #print(\"less than min Num\")\n",
    "            return None\n",
    "        else:\n",
    "            return prev.iloc[-recentNum:]\n",
    "    def readPredict (self, filename):\n",
    "        df = pd.read_csv(filename)\n",
    "        df['Date'] = pd.to_datetime(df['Date'],dayfirst=True)\n",
    "\n",
    "        return df\n",
    "    \n",
    "    \n",
    "  \n",
    "    def inverseTeamMapping (self, col):\n",
    "        inverseMap ={}\n",
    "        for name in self.teamsMap.keys():        \n",
    "            inverseMap[self.teamsMap[name]] = name\n",
    "        res =[]\n",
    "        for idex, v in enumerate(col):\n",
    "            res.append(inverseMap[v])\n",
    "        return res\n",
    "\n",
    "\n",
    "    def readTeamMatch(self, teamName):\n",
    "        df = pd.read_csv('teams/'+teamName+'.csv')\n",
    "        df['1'] = pd.to_datetime(df['1'],yearfirst=True)\n",
    "        #df['1']= (pd.to_numeric(df['1'])/1e9/24/60/60)\n",
    "        self.teamsData[teamName]=df.sort(['1'],ascending=[False])\n",
    "        self.teamsById[self.teamsMap[teamName]]=self.teamsData[teamName]\n",
    "    \n",
    "    def commonMapping(self, X):\n",
    "        X['HomeTeam'] = X['HomeTeam'].map(self.teamsMap)\n",
    "        X['AwayTeam'] = X['AwayTeam'].map(self.teamsMap)\n",
    "        X['Referee']=X['Referee'].map(self.refereesMap).fillna(0)\n",
    "        X['HTR'] = X['HTR'].map(self.win_mapping)\n",
    "        X['FTR'] = X['FTR'].map(self.win_mapping)\n",
    "        return X\n",
    "    def initData(self, X, target,encode):\n",
    "        X  = X.sort_values(by=\"Date\")\n",
    "        isInput = False\n",
    "        if target is None:\n",
    "            target =X      \n",
    "        else:\n",
    "            if self.ohe is None:\n",
    "                raise Exception(\"Not yet get train data\")\n",
    "            isInput = True\n",
    "            if encode == True:\n",
    "                target = self.commonMapping(target)\n",
    "        y=None\n",
    "        if encode == True:    \n",
    "            X =self.commonMapping(X)\n",
    "            y = []\n",
    "            for v in target['FTR']:\n",
    "                y.append(range(3)==v)\n",
    "        else:\n",
    "            y = target['FTR'].values\n",
    "        target_date = (pd.to_numeric(target['Date'])/1e9/24/60/60).values\n",
    "        return isInput, X,y, target, target_date\n",
    "   \n",
    "    def aggregate(self,recents,nonExpand,isInput,encode):\n",
    "        res =None\n",
    "        if encode == True:\n",
    "            if isInput==False:\n",
    "                self.ohe = OneHotEncoder(categorical_features='all')\n",
    "                self.ohe.fit(recents)\n",
    "            res = self.ohe.transform(recents).toarray()\n",
    "        else:\n",
    "            res = np.array(recents)\n",
    "        self.dateColumn = res.shape[1]\n",
    "        res = np.hstack([res,nonExpand])\n",
    "        return res\n",
    "  \n",
    "    def getH7(self,removeInsufficient=True, target=None,encode = True,future =0):\n",
    "        #Simple recent win,draw, lose \n",
    "        df = self.df\n",
    "        if removeInsufficient == True:\n",
    "            df= df[df['Sufficient'] == 1]\n",
    "        df=df[df['Future']==future]\n",
    "        \n",
    "        isInput, X, y,target, target_date = self.initData(df,target,encode)\n",
    "        resy=[]\n",
    "        resx=[]\n",
    "        print(\"start format\")\n",
    "        recents = X[['HomeTeam','AwayTeam','Referee']].values\n",
    "        haccp = X['HAccP'].values.reshape(X.shape[0],1)\n",
    "        aaccp = X['AAccP'].values.reshape(X.shape[0],1)\n",
    "        homeRecent = np.hstack([X[['HWin','HDraw','HLose']].values,\n",
    "                                (X['HScore'].values - X['HConcede'].values).reshape(X.shape[0],1)])\n",
    "        awayRecent = np.hstack([X[['AWin','ADraw','ALose']].values,\n",
    "                                (X['AScore'].values - X['AConcede'].values).reshape(X.shape[0],1)])\n",
    "        homeMoral = X['HMoral'].values.reshape(X.shape[0],1)\n",
    "        awayMoral = X['AMoral'].values.reshape(X.shape[0],1)\n",
    "        target_date = target_date.reshape(X.shape[0],1)\n",
    "        \n",
    "        \n",
    "        \n",
    "        \n",
    "        acc_headers = [e+'_Acc' for e in self.generalList]\n",
    "        self.acc_headers= acc_headers\n",
    "        general = X[['HRestDay','ARestDay']+acc_headers].values\n",
    "        \n",
    "        ha_headers =np.array(acc_headers).reshape(len(acc_headers)/2, 2).T\n",
    "        print(ha_headers)\n",
    "        h_over_a = (X[ha_headers[0,:]].values/X[ha_headers[1,:]].values)\n",
    "        self.ha_headers = [ ha_headers[0,i]+'/'+ha_headers[1,i] for i in range(ha_headers.shape[1])]\n",
    "        \n",
    "        percent_headers =[]\n",
    "        percent_headers += ['H_'+e+'_Acc' for e in self.percentList]\n",
    "        percent_headers += ['A_'+e+'_Acc' for e in self.percentList]\n",
    "        n_percent_headers = np.array(percent_headers).reshape(len(percent_headers)/2, 2).T\n",
    "        percent_values = (X[n_percent_headers[0,:]].values/X[n_percent_headers[1,:]].values)\n",
    "        self.percent_headers = [ n_percent_headers[0,i]+'/'+n_percent_headers[1,i] for i in range(n_percent_headers.shape[1])]\n",
    "        \n",
    "        nonExpand =np.hstack([target_date,haccp-aaccp,(haccp+1)/(aaccp+1),\n",
    "                            homeRecent,awayRecent, \n",
    "                              homeMoral - awayMoral + haccp - aaccp, X[['H_Enemy_Acc','A_Enemy_Acc']].values,\n",
    "                              general, percent_values\n",
    "                             ])\n",
    "        res = self.aggregate(recents,nonExpand,future,encode)\n",
    "        print(\"finish\")\n",
    "        sys.stdout.flush()\n",
    "        return res, np.array(y)\n",
    "    def _getRank(self,x, X,teamName,recentNum):\n",
    "        team = self.getTeam(X,teamName)\n",
    "        prev = team[team['Date'] < x['Date']].values      \n",
    "        for i in range(recentNum):\n",
    "            pass\n",
    "    def initRanking(self, n = 20):\n",
    "        defaultPt = 1\n",
    "        df = self.df.sort(columns=[\"Date\"],ascending=[False])\n",
    "        df[\"HPoints\"] = pd.Series(np.zeros(shape=(df.shape[0],)))\n",
    "        df[\"APoints\"] = pd.Series(np.zeros(shape=(df.shape[0],)))\n",
    "        df[\"HAccP\"] = pd.Series(np.zeros(shape=(df.shape[0],)))\n",
    "        df[\"AAccP\"] = pd.Series(np.zeros(shape=(df.shape[0],)))\n",
    "        hpoints= df[\"HPoints\"].values\n",
    "        apoints=df[\"APoints\"].values\n",
    "        ftr = df[\"FTR\"].values\n",
    "        for i in range(df.shape[0]):\n",
    "            sys.stdout.write(\"\\r progress {}\".format(i))\n",
    "            sys.stdout.flush()\n",
    "            if ftr[i] == 'H':\n",
    "                hpoints[i] = 3\n",
    "                apoints[i] = 0\n",
    "            elif ftr[i] == 'D':\n",
    "                hpoints[i] = 1\n",
    "                apoints[i] = 1\n",
    "            else :\n",
    "                hpoints[i] = 0\n",
    "                apoints[i] = 3\n",
    "        df[\"HPoints\"]=hpoints\n",
    "        df[\"APoints\"]=apoints\n",
    "        for teamName in self.teamsMap.keys():\n",
    "            team  = df[(df['HomeTeam']==teamName) | (df['AwayTeam'] == teamName)] \n",
    "            hometeam = team['HomeTeam'].values\n",
    "            hpoints = team['HPoints'].values\n",
    "            apoints = team['APoints'].values\n",
    "            psum = 0\n",
    "            haccp = team['HAccP'].values\n",
    "            aaccp = team['AAccP'].values\n",
    "        \n",
    "            for  i in range(0,n):\n",
    "                if i < hpoints.shape[0]:\n",
    "                    psum = psum + (hpoints[i] if hometeam[i] == teamName else apoints[i] ) \n",
    "                else:\n",
    "                    psum = psum + defaultPt        \n",
    "                    \n",
    "        \n",
    "            for j in range(team.shape[0]):\n",
    "\n",
    "                if j+n < hpoints.shape[0]:                     \n",
    "                    psum = psum + (hpoints[j+n] if hometeam[j+n]==teamName else apoints[j+n])\n",
    "                else:\n",
    "                    psum = psum + defaultPt \n",
    "                \n",
    "                psum = psum - (hpoints[j] if hometeam[j]==teamName else apoints[j])\n",
    "                    \n",
    "                if hometeam[j] == teamName:\n",
    "                    haccp[j]=psum\n",
    "                else:\n",
    "                    aaccp[j]=psum\n",
    "            team['HAccp']=haccp\n",
    "            team['AAccP']=aaccp\n",
    "            #print(team[['HomeTeam','AwayTeam','HAccP','AAccP']])\n",
    "            df.update(team)\n",
    "            \n",
    "            #print(df[['HomeTeam','AwayTeam','HAccP','AAccP']])\n",
    "        self.df =df\n",
    "        return df\n",
    "    def initRecentData(self, n =5):\n",
    "        df = self.df.sort(columns=[\"Date\"],ascending=[False])\n",
    "        df[\"HWin\"] = pd.Series(np.zeros(shape=(df.shape[0],)))\n",
    "        df[\"AWin\"] = pd.Series(np.zeros(shape=(df.shape[0],)))\n",
    "        df[\"HDraw\"] = pd.Series(np.zeros(shape=(df.shape[0],)))\n",
    "        df[\"ADraw\"] = pd.Series(np.zeros(shape=(df.shape[0],)))\n",
    "        df[\"HLose\"] = pd.Series(np.zeros(shape=(df.shape[0],)))\n",
    "        df[\"ALose\"] = pd.Series(np.zeros(shape=(df.shape[0],)))\n",
    "                \n",
    "        df[\"HScore\"] = pd.Series(np.zeros(shape=(df.shape[0],)))\n",
    "        df[\"AScore\"] = pd.Series(np.zeros(shape=(df.shape[0],)))\n",
    "        df[\"HConcede\"] = pd.Series(np.zeros(shape=(df.shape[0],)))\n",
    "        df[\"AConcede\"] = pd.Series(np.zeros(shape=(df.shape[0],)))\n",
    "        df[\"HMoral\"] = pd.Series(np.zeros(shape=(df.shape[0],)))\n",
    "        df[\"AMoral\"] = pd.Series(np.zeros(shape=(df.shape[0],)))\n",
    "        df[\"HRestDay\"]= pd.Series(np.zeros(shape=(df.shape[0],)))\n",
    "        df[\"ARestDay\"]= pd.Series(np.zeros(shape=(df.shape[0],)))\n",
    "        df[\"H_Enemy_Acc\"] = pd.Series(np.zeros(shape=(df.shape[0],)))\n",
    "        df[\"A_Enemy_Acc\"] = pd.Series(np.zeros(shape=(df.shape[0],)))\n",
    "        #general\n",
    "        generalList = self.generalList \n",
    "        generalOutput = []\n",
    "        for attr in generalList:\n",
    "            temp = attr+'_Acc'\n",
    "            df[temp]=pd.Series(np.zeros(shape=(df.shape[0],)))\n",
    "            generalOutput.append(temp)\n",
    "        #\n",
    "        df[\"Sufficient\"] = pd.Series(np.ones(shape=(df.shape[0],)))\n",
    "        \n",
    "      \n",
    "            \n",
    "        \n",
    "        hscore = df['FTHG'].values\n",
    "        ascore = df['FTAG'].values\n",
    "        hconcede = df ['FTAG'].values\n",
    "        aconcede = df['FTHG'].values\n",
    "               \n",
    "        hwin = df['HWin'].values\n",
    "        awin = df['AWin'].values\n",
    "        hlose = df['HLose'].values\n",
    "        alose = df['ALose'].values\n",
    "        hdraw = df['HDraw'].values\n",
    "        adraw = df['ADraw'].values\n",
    "        hmoral = df['HMoral'].values\n",
    "        amoral = df['AMoral'].values\n",
    "        \n",
    "        rankRatio = (df['HAccP'].values+1) / (df['AAccP'].values +1)\n",
    "        \n",
    "        \n",
    "        ftr = df[\"FTR\"].values\n",
    "        for i in range(df.shape[0]):\n",
    "            sys.stdout.write(\"\\r progress {}\".format(i))\n",
    "            sys.stdout.flush()\n",
    "            if ftr[i] == 'H':\n",
    "                hwin[i] = 1\n",
    "                hmoral[i] = 3 * 1/rankRatio[i]\n",
    "                alose[i]= 1\n",
    "                amoral[i] = -3 * 1/rankRatio[i]\n",
    "            elif ftr[i] == 'D':\n",
    "                hdraw[i] = 1\n",
    "                hmoral[i] = 1 * 1/rankRatio[i]\n",
    "                adraw[i] = 1\n",
    "                amoral[i] = 1 * rankRatio[i]\n",
    "            else :\n",
    "                hlose[i] = 1\n",
    "                hmoral[i] = -3*rankRatio[i]\n",
    "                awin [i] = 1\n",
    "                amoral[i] = 3*rankRatio[i]\n",
    "        \n",
    "        \n",
    "        df[\"HWin\"]=hwin\n",
    "        df[\"AWin\"]=awin\n",
    "        df[\"HDraw\"]=hdraw\n",
    "        df[\"ADraw\"]=adraw\n",
    "        df[\"HLose\"]=hlose\n",
    "        df[\"ALose\"]=alose\n",
    "        df[\"HScore\"]=hscore\n",
    "        df[\"AScore\"]=ascore\n",
    "        df[\"HConcede\"]=hconcede\n",
    "        df[\"AConcede\"]=aconcede\n",
    "        df[\"HMoral\"] = hmoral\n",
    "        df[\"AMoral\"] = amoral\n",
    "        \n",
    "        \n",
    "        \n",
    "        for teamName in self.teamsMap.keys():\n",
    "            print(teamName)\n",
    "            team  = df[(df['HomeTeam']==teamName) | (df['AwayTeam'] == teamName)] \n",
    "            hometeam = team['HomeTeam'].values\n",
    "            hwin = team[\"HWin\"].values\n",
    "            awin = team[\"AWin\"].values\n",
    "            hlose= team[\"HLose\"].values\n",
    "            alose = team[\"ALose\"].values\n",
    "            hdraw = team[\"HDraw\"].values\n",
    "            adraw = team[\"ADraw\"].values\n",
    "            hscore = team[\"HScore\"].values\n",
    "            ascore = team[\"AScore\"].values\n",
    "            hconcede = team[\"HConcede\"].values\n",
    "            aconcede = team[\"AConcede\"].values\n",
    "            hmoral = team[\"HMoral\"].values\n",
    "            amoral = team[\"AMoral\"].values\n",
    "            hrestday = team[\"HRestDay\"].values\n",
    "            arestday = team[\"ARestDay\"].values\n",
    "            \n",
    "            haccp = team[\"HAccP\"].values\n",
    "            aaccp = team[\"AAccP\"].values\n",
    "            h_enemy = team[\"H_Enemy_Acc\"].values\n",
    "            a_enemy = team[\"A_Enemy_Acc\"].values\n",
    "            enemy_sum = 0\n",
    "            \n",
    "            #general\n",
    "            original_list =[]\n",
    "            output_list=[]\n",
    "            for indx, o_attr in enumerate(generalList):\n",
    "                original_list.append(team[o_attr].values)\n",
    "                output_list.append(team[generalOutput[indx]].values)\n",
    "            \n",
    "            \n",
    "            matchDate =team['Date'].values\n",
    "            sufficient = team['Sufficient'].values\n",
    "            teamMatchesDate = self.teamsData[teamName].sort('1',ascending=False)['1'].values\n",
    "            \n",
    "            restday = 0\n",
    "            winsum =0 \n",
    "            losesum=0\n",
    "            drawsum=0\n",
    "            scoresum =0\n",
    "            concedesum=0\n",
    "            moralsum = 0\n",
    "            #print(team[['HomeTeam','AwayTeam','HWin']])\n",
    "            teamAttrSum_list=[0 for i in range(int(len(original_list)/2))]\n",
    "            for  i in range(0,n):\n",
    "                if i < team.shape[0]:\n",
    "                    scoresum = scoresum + (hscore[i] if hometeam[i] == teamName else ascore[i])\n",
    "                    winsum = winsum + (hwin[i] if hometeam[i] == teamName else awin[i])\n",
    "                    losesum= losesum + (hlose[i] if hometeam[i] == teamName else alose[i])\n",
    "                    drawsum= drawsum + (hdraw[i] if hometeam[i] == teamName else adraw[i])\n",
    "                    concedesum = concedesum+ (hconcede[i] if hometeam[i] == teamName else aconcede[i])\n",
    "                    moralsum= moralsum+ (hmoral[i] if hometeam[i] == teamName else amoral[i])\n",
    "                    enemy_sum += (aaccp[i] if hometeam[i] == teamName else haccp[i])\n",
    "                    for attrIndx in range(len(teamAttrSum_list)):\n",
    "                        teamAttrSum_list[attrIndx] +=(original_list[2*attrIndx][i] if hometeam[i] == teamName else original_list[2*attrIndx+1][i])\n",
    "                else:\n",
    "                    # + 0\n",
    "                    pass\n",
    "            dateIndx = 0\n",
    "            for j in range(team.shape[0]):\n",
    "                while True:\n",
    "                    if dateIndx >= teamMatchesDate.shape[0]:\n",
    "                        sufficient[j] = False\n",
    "                        break\n",
    "                    if teamMatchesDate[dateIndx] < matchDate[j] :\n",
    "                        restday = (matchDate[j] - teamMatchesDate[dateIndx])/np.timedelta64(1,'D')\n",
    "                        break\n",
    "                    else:\n",
    "                        dateIndx = dateIndx + 1\n",
    "                \n",
    "                if j+n < team.shape[0]:                     \n",
    "                    scoresum = scoresum + (hscore[j+n] if hometeam[j+n] == teamName else ascore[j+n])\n",
    "                    winsum = winsum + (hwin[j+n] if hometeam[j+n] == teamName else awin[j+n])\n",
    "                    losesum= losesum + (hlose[j+n] if hometeam[j+n] == teamName else alose[j+n])\n",
    "                    drawsum= drawsum + (hdraw[j+n] if hometeam[j+n] == teamName else adraw[j+n])\n",
    "                    concedesum = concedesum+ (hconcede[j+n] if hometeam[j+n] == teamName else aconcede[j+n])\n",
    "                    moralsum= moralsum+ (hmoral[j+n] if hometeam[j+n] == teamName else amoral[j+n])\n",
    "                    enemy_sum += (aaccp[j+n] if hometeam[j+n] == teamName else haccp[j+n])\n",
    "                    for attrIndx in range(len(teamAttrSum_list)):\n",
    "                        teamAttrSum_list[attrIndx] += (original_list[2*attrIndx][j+n] if hometeam[j+n] == teamName else original_list[2*attrIndx+1][j+n])\n",
    "                else:\n",
    "                    sufficient[j] = False\n",
    "                    \n",
    "                \n",
    "                scoresum = scoresum - (hscore[j] if hometeam[j] == teamName else ascore[j])\n",
    "                winsum = winsum - (hwin[j] if hometeam[j] == teamName else awin[j])\n",
    "                losesum= losesum - (hlose[j] if hometeam[j] == teamName else alose[j])\n",
    "                drawsum= drawsum - (hdraw[j] if hometeam[j] == teamName else adraw[j])\n",
    "                concedesum = concedesum - (hconcede[j] if hometeam[j] == teamName else aconcede[j])\n",
    "                moralsum= moralsum - (hmoral[j] if hometeam[j] == teamName else amoral[j])\n",
    "                enemy_sum -= (aaccp[j] if hometeam[j] == teamName else haccp[j])\n",
    "                for attrIndx in range(len(teamAttrSum_list)):\n",
    "                    teamAttrSum_list[attrIndx] -=  (original_list[2*attrIndx][j] if hometeam[j] == teamName else original_list[2*attrIndx+1][j])\n",
    "                    \n",
    "                if hometeam[j] == teamName:\n",
    "                    hscore[j] = scoresum\n",
    "                    hwin[j] = winsum\n",
    "                    hlose[j] = losesum\n",
    "                    hdraw[j] = drawsum\n",
    "                    hconcede[j] = concedesum\n",
    "                    hmoral[j] = moralsum\n",
    "                    hrestday[j] = restday\n",
    "                    h_enemy[j] = enemy_sum\n",
    "                    for attrIndx in range(len(teamAttrSum_list)):\n",
    "                        output_list[2*attrIndx][j] = teamAttrSum_list[attrIndx]\n",
    "                else:\n",
    "                    ascore[j] = scoresum\n",
    "                    awin[j] = winsum\n",
    "                    alose[j] = losesum\n",
    "                    adraw[j] = drawsum\n",
    "                    aconcede[j] = concedesum\n",
    "                    amoral[j] = moralsum\n",
    "                    arestday[j] = restday\n",
    "                    a_enemy[j] = enemy_sum\n",
    "                    for attrIndx in range(len(teamAttrSum_list)):\n",
    "                        output_list[2*attrIndx+1][j] = teamAttrSum_list[attrIndx]\n",
    "            team[\"HWin\"]=hwin\n",
    "            team[\"AWin\"]=awin\n",
    "            team[\"HDraw\"]=hdraw\n",
    "            team[\"ADraw\"]=adraw\n",
    "            team[\"HLose\"]=hlose\n",
    "            team[\"ALose\"]=alose\n",
    "            team[\"HScore\"]=hscore\n",
    "            team[\"AScore\"]=ascore\n",
    "            team[\"HConcede\"]=hconcede\n",
    "            team[\"AConcede\"]=aconcede\n",
    "            team[\"HMoral\"] = hmoral\n",
    "            team[\"AMoral\"] = amoral\n",
    "            team['Sufficient'] = sufficient\n",
    "            team[\"H_Enemy_Acc\"] = h_enemy\n",
    "            team[\"A_Enemy_Acc\"] = a_enemy\n",
    "            for indx in range(len(output_list)):\n",
    "                team[generalOutput[indx]]= output_list[indx]\n",
    "        \n",
    "            #print(team[['HomeTeam','AwayTeam','HWin']])\n",
    "            df.update(team)\n",
    "            #print(df[['HomeTeam','AwayTeam','HAccP','AAccP']])\n",
    "        self.df =df\n",
    "        return df\n",
    "    def initTeamData(self):\n",
    "        self.teamsData={}\n",
    "        self.teamsById={}\n",
    "        for name in self.teamsMap.keys():\n",
    "            self.readTeamMatch(name)\n",
    "            "
   ]
  },
  {
   "cell_type": "code",
   "execution_count": 3,
   "metadata": {
    "collapsed": true,
    "scrolled": false
   },
   "outputs": [],
   "source": [
    "\n",
    "c = FootballDataHelper()"
   ]
  },
  {
   "cell_type": "code",
   "execution_count": 24,
   "metadata": {
    "collapsed": false,
    "scrolled": false
   },
   "outputs": [
    {
     "name": "stderr",
     "output_type": "stream",
     "text": [
      "/home/y/anaconda3/lib/python3.5/site-packages/ipykernel/__main__.py:30: FutureWarning: sort(columns=....) is deprecated, use sort_values(by=.....)\n",
      "/home/y/anaconda3/lib/python3.5/site-packages/ipykernel/__main__.py:31: FutureWarning: sort(columns=....) is deprecated, use sort_values(by=.....)\n"
     ]
    }
   ],
   "source": [
    "#c.readFootBallData(\"E0_1112.csv\")\n",
    "c.readFootBallData(2012)\n",
    "c.readFootBallData(2013)\n",
    "c.readFootBallData(2014)\n",
    "c.readFootBallData(2015)"
   ]
  },
  {
   "cell_type": "code",
   "execution_count": 25,
   "metadata": {
    "collapsed": true,
    "scrolled": false
   },
   "outputs": [],
   "source": [
    "\n",
    "c.readFuture()"
   ]
  },
  {
   "cell_type": "code",
   "execution_count": 26,
   "metadata": {
    "collapsed": false,
    "scrolled": false
   },
   "outputs": [],
   "source": [
    "\n",
    "c.initTeamData()\n",
    "clear_output()"
   ]
  },
  {
   "cell_type": "code",
   "execution_count": 27,
   "metadata": {
    "collapsed": false,
    "scrolled": false
   },
   "outputs": [],
   "source": [
    "df = c.initRanking()\n",
    "clear_output()"
   ]
  },
  {
   "cell_type": "code",
   "execution_count": 28,
   "metadata": {
    "collapsed": false,
    "scrolled": false
   },
   "outputs": [],
   "source": [
    "df=c.initRecentData(n=5)\n",
    "clear_output()"
   ]
  },
  {
   "cell_type": "code",
   "execution_count": 29,
   "metadata": {
    "collapsed": false,
    "scrolled": false
   },
   "outputs": [],
   "source": [
    "c.saveDf('dataSet/df.csv')"
   ]
  },
  {
   "cell_type": "code",
   "execution_count": 4,
   "metadata": {
    "collapsed": true,
    "scrolled": false
   },
   "outputs": [],
   "source": [
    "c.loadDf('dataSet/df.csv')"
   ]
  },
  {
   "cell_type": "code",
   "execution_count": null,
   "metadata": {
    "collapsed": false,
    "scrolled": false
   },
   "outputs": [],
   "source": []
  },
  {
   "cell_type": "code",
   "execution_count": 5,
   "metadata": {
    "collapsed": false,
    "scrolled": false
   },
   "outputs": [
    {
     "name": "stdout",
     "output_type": "stream",
     "text": [
      "start format\n",
      "[['HS_Acc' 'HST_Acc' 'H_poss_Acc' 'H_atk_3rd_Acc' 'H_atk_3rd_tot_Acc'\n",
      "  'H_red_goal_Acc' 'H_red_on_Acc' 'H_red_tot_Acc' 'H_chance_goal_Acc'\n",
      "  'H_chance_tot_Acc' 'H_successful_tackle_Acc' 'H_tackle_tot_Acc'\n",
      "  'H_successful_clearance_Acc' 'H_clearance_tot_Acc' 'H_interceptions_Acc'\n",
      "  'H_blocks_Acc']\n",
      " ['AS_Acc' 'AST_Acc' 'A_poss_Acc' 'A_atk_3rd_Acc' 'A_atk_3rd_tot_Acc'\n",
      "  'A_red_goal_Acc' 'A_red_on_Acc' 'A_red_tot_Acc' 'A_chance_goal_Acc'\n",
      "  'A_chance_tot_Acc' 'A_successful_tackle_Acc' 'A_tackle_tot_Acc'\n",
      "  'A_successful_clearance_Acc' 'A_clearance_tot_Acc' 'A_interceptions_Acc'\n",
      "  'A_blocks_Acc']]\n",
      "finish\n"
     ]
    },
    {
     "name": "stderr",
     "output_type": "stream",
     "text": [
      "/home/y/anaconda3/lib/python3.5/site-packages/ipykernel/__main__.py:223: DeprecationWarning: using a non-integer number instead of an integer will result in an error in the future\n",
      "/home/y/anaconda3/lib/python3.5/site-packages/ipykernel/__main__.py:231: DeprecationWarning: using a non-integer number instead of an integer will result in an error in the future\n"
     ]
    }
   ],
   "source": [
    "X,y = c.getH7(removeInsufficient=True, encode=False)\n"
   ]
  },
  {
   "cell_type": "code",
   "execution_count": null,
   "metadata": {
    "collapsed": false,
    "scrolled": true
   },
   "outputs": [],
   "source": [
    "print(X.shape)\n",
    "df = pd.DataFrame(np.hstack([X,y.reshape(y.shape[0],1)]))\n",
    "\n",
    "df.columns = ['home','away','Referee','time',\n",
    "              'HAccP - AAccP','H/A','HWin','HDraw','HLose','H goal Diff',\n",
    "'AWin','ADraw','ALose','A goal diff','moraldiff + h-a','H_Enemy_Acc','A_Enemy_Acc','HRestDay','ARestDay']+c.acc_headers+\\\n",
    "            c.percent_headers+[\n",
    "              'y']"
   ]
  },
  {
   "cell_type": "code",
   "execution_count": 94,
   "metadata": {
    "collapsed": true,
    "scrolled": false
   },
   "outputs": [],
   "source": [
    "\n",
    "df.to_csv('dataSet/V10_2.csv',index=False)"
   ]
  },
  {
   "cell_type": "code",
   "execution_count": null,
   "metadata": {
    "collapsed": true,
    "scrolled": false
   },
   "outputs": [],
   "source": []
  },
  {
   "cell_type": "code",
   "execution_count": null,
   "metadata": {
    "collapsed": true,
    "scrolled": false
   },
   "outputs": [],
   "source": []
  },
  {
   "cell_type": "code",
   "execution_count": 5,
   "metadata": {
    "collapsed": false,
    "scrolled": false
   },
   "outputs": [
    {
     "name": "stdout",
     "output_type": "stream",
     "text": [
      "start format\n",
      "[['HS_Acc' 'HST_Acc' 'H_poss_Acc' 'H_atk_3rd_Acc' 'H_atk_3rd_tot_Acc'\n",
      "  'H_red_goal_Acc' 'H_red_on_Acc' 'H_red_tot_Acc' 'H_chance_goal_Acc'\n",
      "  'H_chance_tot_Acc' 'H_successful_tackle_Acc' 'H_tackle_tot_Acc'\n",
      "  'H_successful_clearance_Acc' 'H_clearance_tot_Acc' 'H_interceptions_Acc'\n",
      "  'H_blocks_Acc']\n",
      " ['AS_Acc' 'AST_Acc' 'A_poss_Acc' 'A_atk_3rd_Acc' 'A_atk_3rd_tot_Acc'\n",
      "  'A_red_goal_Acc' 'A_red_on_Acc' 'A_red_tot_Acc' 'A_chance_goal_Acc'\n",
      "  'A_chance_tot_Acc' 'A_successful_tackle_Acc' 'A_tackle_tot_Acc'\n",
      "  'A_successful_clearance_Acc' 'A_clearance_tot_Acc' 'A_interceptions_Acc'\n",
      "  'A_blocks_Acc']]\n",
      "finish\n"
     ]
    },
    {
     "name": "stderr",
     "output_type": "stream",
     "text": [
      "/home/y/anaconda3/lib/python3.5/site-packages/ipykernel/__main__.py:223: DeprecationWarning: using a non-integer number instead of an integer will result in an error in the future\n",
      "/home/y/anaconda3/lib/python3.5/site-packages/ipykernel/__main__.py:231: DeprecationWarning: using a non-integer number instead of an integer will result in an error in the future\n"
     ]
    }
   ],
   "source": [
    "X,y = c.getH7(removeInsufficient = True)"
   ]
  },
  {
   "cell_type": "code",
   "execution_count": 6,
   "metadata": {
    "collapsed": false,
    "scrolled": false
   },
   "outputs": [],
   "source": [
    "from sklearn.preprocessing import StandardScaler\n",
    "X_scaled = StandardScaler().fit_transform(X)"
   ]
  },
  {
   "cell_type": "code",
   "execution_count": 7,
   "metadata": {
    "collapsed": false,
    "scrolled": false
   },
   "outputs": [],
   "source": [
    "from sklearn.cross_validation import train_test_split\n",
    "def splitData(X,y, test_size =0.2):\n",
    "    X_train, X_test, y_train, y_test = train_test_split(X, y, test_size=test_size )\n",
    "    return X_train, X_test,y_train, y_test"
   ]
  },
  {
   "cell_type": "code",
   "execution_count": 8,
   "metadata": {
    "collapsed": false,
    "scrolled": false
   },
   "outputs": [
    {
     "name": "stderr",
     "output_type": "stream",
     "text": [
      "Using Theano backend.\n",
      "/home/y/anaconda3/lib/python3.5/site-packages/theano/tensor/signal/downsample.py:6: UserWarning: downsample module has been moved to the theano.tensor.signal.pool module.\n",
      "  \"downsample module has been moved to the theano.tensor.signal.pool module.\")\n"
     ]
    }
   ],
   "source": [
    "from keras.models import Sequential"
   ]
  },
  {
   "cell_type": "code",
   "execution_count": 11,
   "metadata": {
    "collapsed": false,
    "scrolled": false
   },
   "outputs": [],
   "source": [
    "g_best_size = 52\n",
    "g_best_dropout=0.4\n",
    "g_patience=10\n",
    "g_validation = 0.25\n",
    "g_epoch = 500\n",
    "g_input_dim = X_scaled.shape[1]"
   ]
  },
  {
   "cell_type": "code",
   "execution_count": 12,
   "metadata": {
    "collapsed": false,
    "scrolled": false
   },
   "outputs": [],
   "source": [
    "from keras.layers import Dense, Dropout, Activation, Flatten\n",
    "from keras.optimizers import SGD, Adadelta, Adagrad\n",
    "from keras.layers.normalization import BatchNormalization\n",
    "from keras.callbacks import EarlyStopping\n",
    "def createModel(hidSize,input_dim = g_input_dim, dropout =0.4):\n",
    "    activation ='sigmoid'\n",
    "    model = Sequential()\n",
    "    model.add(Dense(hidSize[0], input_dim=input_dim, init='uniform'))\n",
    "    model.add(Activation(activation))\n",
    "    model.add(Dropout(dropout))\n",
    "\n",
    "   # model.add(Dense(hidSize[1], init='uniform'))\n",
    "   # model.add(Activation(activation))\n",
    "   # model.add(Dropout(dropout))\n",
    " \n",
    "    model.add(Dense(3, init='uniform'))\n",
    "    model.add(Activation('softmax'))\n",
    "    sgd = SGD(lr=0.03, decay=1e-5, momentum=0.9, nesterov=True)\n",
    "    model.compile(loss='categorical_crossentropy', optimizer='adadelta')\n",
    "    return model"
   ]
  },
  {
   "cell_type": "code",
   "execution_count": 37,
   "metadata": {
    "collapsed": false,
    "scrolled": false
   },
   "outputs": [],
   "source": [
    "from sklearn.cross_validation import StratifiedKFold\n",
    "def crossValidate2(node_sizes, X,y,dropout=g_best_dropout, fold = 10, earlyStopping =True):\n",
    "    y_label = np.argmax(y,axis=1)\n",
    "\n",
    "    kfold = StratifiedKFold(y=y_label, \n",
    "                             n_folds=fold\n",
    "                           )\n",
    "\n",
    "    scores = []\n",
    "    train_scores=[]\n",
    "    proba_test = []\n",
    "    proba_y=[]\n",
    "    histories = []\n",
    "    for k, (train, test) in enumerate(kfold):\n",
    "        earlyCallback = EarlyStopping(patience=g_patience,verbose=1)\n",
    "        model = createModel(node_sizes,input_dim=X.shape[1], dropout=dropout)\n",
    "        if earlyStopping==True:\n",
    "            history = model.fit(X[train],y[train],verbose=0,nb_epoch=g_epoch, validation_split=g_validation,show_accuracy=True, callbacks=[earlyCallback])\n",
    "            histories.append(history)\n",
    "        else:\n",
    "            history = model.fit(X[train],y[train],verbose=0,nb_epoch=g_epoch, validation_split=g_validation,show_accuracy=True )\n",
    "            histories.append(history)\n",
    "      #  firstNScores.append(firstNScore(2, model.predict_proba(X[test]), y[test]))\n",
    "        score = model.evaluate(X[test],y[test])\n",
    "        proba_test.append(model.predict_proba(X[test]))\n",
    "        proba_y.append(y[test])\n",
    "        train_scores.append(model.evaluate(X[train],y[train]))\n",
    "        scores.append(score)\n",
    "        print('Fold: %s, Class dist.: %s, test_loss: %.3f' % (k+1, \n",
    "                    np.bincount(y_label[train]), score))    \n",
    "        \n",
    "        \n",
    "    return train_scores,scores, proba_test,proba_y,histories\n",
    "\n",
    "\n"
   ]
  },
  {
   "cell_type": "code",
   "execution_count": 72,
   "metadata": {
    "collapsed": false,
    "scrolled": false
   },
   "outputs": [
    {
     "name": "stdout",
     "output_type": "stream",
     "text": [
      "273/273 [==============================] - 0s     \n",
      "273/273 [==============================] - 0s     \n",
      "1085/1085 [==============================] - 0s     \n",
      "Fold: 1, Class dist.: [479 265 341], val_loss: 1.133\n",
      "273/273 [==============================] - 0s     \n",
      "273/273 [==============================] - 0s     \n",
      "1085/1085 [==============================] - 0s     \n",
      "Fold: 2, Class dist.: [479 265 341], val_loss: 1.031\n",
      "271/271 [==============================] - 0s     \n",
      "271/271 [==============================] - 0s     \n",
      "1087/1087 [==============================] - 0s     \n",
      "Fold: 3, Class dist.: [479 266 342], val_loss: 1.088\n",
      "271/271 [==============================] - 0s     \n",
      "271/271 [==============================] - 0s     \n",
      "1087/1087 [==============================] - 0s     \n",
      "Fold: 4, Class dist.: [479 266 342], val_loss: 1.109\n",
      "270/270 [==============================] - 0s     \n",
      "270/270 [==============================] - 0s     \n",
      "1088/1088 [==============================] - 0s     \n",
      "Fold: 5, Class dist.: [480 266 342], val_loss: 1.256\n"
     ]
    }
   ],
   "source": [
    "train_scores,scores,  proba_test,proba_y,histories= crossValidate2([20,20],X_scaled,y,fold=5,dropout=0,earlyStopping=False)"
   ]
  },
  {
   "cell_type": "code",
   "execution_count": 33,
   "metadata": {
    "collapsed": false,
    "scrolled": false
   },
   "outputs": [],
   "source": [
    "def temp():\n",
    "        model = createModel([g_best_size,g_best_size],dropout=float(g_best_dropout))\n",
    "        history = model.fit(X_scaled,y,verbose=0,nb_epoch=g_epoch, validation_split=g_validation,show_accuracy=True )\n",
    "        n_range = range(len(history.history['loss']))\n",
    "        losses = history.history['loss']\n",
    "        plt.plot(n_range,losses)\n",
    "        plt.plot(n_range,history.history['val_loss'])\n",
    "        plt.figure() "
   ]
  },
  {
   "cell_type": "code",
   "execution_count": 34,
   "metadata": {
    "collapsed": false,
    "scrolled": false
   },
   "outputs": [],
   "source": [
    "def dropoutTest() :\n",
    "    mins = []\n",
    "    for d in np.arange(0,0.8,0.1):\n",
    "        model = createModel([5,5],dropout=float(d))\n",
    "        history = model.fit(X_scaled,y,verbose=0,nb_epoch=g_epoch, validation_split=g_validation,show_accuracy=True )\n",
    "        mins.append(np.min(history.history['val_loss']))\n",
    "        n_range = range(len(history.history['loss']))\n",
    "        losses = history.history['loss']\n",
    "        plt.plot(n_range,losses)\n",
    "        plt.plot(n_range,history.history['val_loss'])\n",
    "        plt.figure()\n",
    "    return mins\n",
    "                    \n",
    "    \n"
   ]
  },
  {
   "cell_type": "code",
   "execution_count": 111,
   "metadata": {
    "collapsed": false,
    "scrolled": true
   },
   "outputs": [
    {
     "data": {
      "image/png": "[encoded data removed]",
      "text/plain": [
       "<matplotlib.figure.Figure at 0x7fefaeb4ffd0>"
      ]
     },
     "metadata": {},
     "output_type": "display_data"
    },
    {
     "data": {
      "image/png": "[encoded data removed]",
      "text/plain": [
       "<matplotlib.figure.Figure at 0x7fefaea6e630>"
      ]
     },
     "metadata": {},
     "output_type": "display_data"
    },
    {
     "data": {
      "image/png": "[encoded data removed]",
      "text/plain": [
       "<matplotlib.figure.Figure at 0x7fefd43bc128>"
      ]
     },
     "metadata": {},
     "output_type": "display_data"
    },
    {
     "data": {
      "image/png": "[encoded data removed]",
      "text/plain": [
       "<matplotlib.figure.Figure at 0x7fefb37f97f0>"
      ]
     },
     "metadata": {},
     "output_type": "display_data"
    },
    {
     "data": {
      "image/png": "[encoded data removed]",
      "text/plain": [
       "<matplotlib.figure.Figure at 0x7fefb1da6ba8>"
      ]
     },
     "metadata": {},
     "output_type": "display_data"
    },
    {
     "data": {
      "image/png": "[encoded data removed]",
      "text/plain": [
       "<matplotlib.figure.Figure at 0x7fefae08ddd8>"
      ]
     },
     "metadata": {},
     "output_type": "display_data"
    },
    {
     "data": {
      "image/png": "[encoded data removed]",
      "text/plain": [
       "<matplotlib.figure.Figure at 0x7fefad8a2860>"
      ]
     },
     "metadata": {},
     "output_type": "display_data"
    },
    {
     "data": {
      "image/png": "[encoded data removed]",
      "text/plain": [
       "<matplotlib.figure.Figure at 0x7fefad0b4a20>"
      ]
     },
     "metadata": {},
     "output_type": "display_data"
    },
    {
     "data": {
      "text/plain": [
       "<matplotlib.figure.Figure at 0x7fefac94cc50>"
      ]
     },
     "metadata": {},
     "output_type": "display_data"
    }
   ],
   "source": [
    "mins = dropoutTest()"
   ]
  },
  {
   "cell_type": "code",
   "execution_count": 112,
   "metadata": {
    "collapsed": false,
    "scrolled": false
   },
   "outputs": [
    {
     "data": {
      "text/plain": [
       "[1.05411275695352,\n",
       " 1.0468871453229118,\n",
       " 1.0489633924820845,\n",
       " 1.0472185050739962,\n",
       " 1.0466017582837273,\n",
       " 1.0525040907018326,\n",
       " 1.054951176923864,\n",
       " 1.055355478735531]"
      ]
     },
     "execution_count": 112,
     "metadata": {},
     "output_type": "execute_result"
    }
   ],
   "source": []
  },
  {
   "cell_type": "code",
   "execution_count": 14,
   "metadata": {
    "collapsed": false,
    "scrolled": false
   },
   "outputs": [],
   "source": [
    "def kfoldTesting (X,y,s=g_best_size,dropout=g_best_dropout,kfold=5):\n",
    "        s_val_loss=[]\n",
    "        s_train_loss=[]\n",
    "        for k in range(kfold):\n",
    "            earlyCallback = EarlyStopping(patience=g_patience,verbose=1)\n",
    "            model = createModel([s,s],dropout=dropout,input_dim=X.shape[1])\n",
    "            history = model.fit(X,y,verbose=0,nb_epoch=g_epoch, validation_split=g_validation,show_accuracy=True,callbacks=[earlyCallback] )\n",
    "            s_val_loss.append(history.history['val_loss'][-1])\n",
    "            s_train_loss.append(history.history['loss'][-1])\n",
    "        return s_train_loss,s_val_loss\n"
   ]
  },
  {
   "cell_type": "code",
   "execution_count": 15,
   "metadata": {
    "collapsed": false,
    "scrolled": false
   },
   "outputs": [],
   "source": [
    "def testNodeNum(X,y, sizes,dropout =0.4, kfold =5):\n",
    "    #train_loss=[] \n",
    "    val_loss=[]\n",
    "    train_loss=[]\n",
    "    for s in sizes:\n",
    "        s_train_loss,s_val_loss = kfoldTesting(X,y,s=s,dropout=dropout,kfold=kfold)\n",
    "        print(\"size:{} , train:{} val_loss:{}\".format(s,\n",
    "                                np.mean(s_train_loss), np.mean(s_val_loss)))\n",
    "        val_loss.append(s_val_loss)\n",
    "        train_loss.append(s_train_loss)\n",
    "    return train_loss,val_loss"
   ]
  },
  {
   "cell_type": "code",
   "execution_count": 181,
   "metadata": {
    "collapsed": false,
    "scrolled": true
   },
   "outputs": [
    {
     "name": "stdout",
     "output_type": "stream",
     "text": [
      "(1358, 138)\n",
      "(1358, 3)\n"
     ]
    },
    {
     "ename": "ValueError",
     "evalue": "Shape mismatch: x has 138 cols (and 128 rows) but y has 39 rows (and 45 cols)\nApply node that caused the error: Dot22(<TensorType(float32, matrix)>, <TensorType(float32, matrix)>)\nToposort index: 4\nInputs types: [TensorType(float32, matrix), TensorType(float32, matrix)]\nInputs shapes: [(128, 138), (39, 45)]\nInputs strides: [(552, 4), (180, 4)]\nInputs values: ['not shown', 'not shown']\nOutputs clients: [[Elemwise{Composite{scalar_sigmoid((i0 + i1))}}[(0, 0)](Dot22.0, InplaceDimShuffle{x,0}.0)]]\n\nHINT: Re-running with most Theano optimization disabled could give you a back-trace of when this node was created. This can be done with by setting the Theano flag 'optimizer=fast_compile'. If that does not work, Theano optimizations can be disabled with 'optimizer=None'.\nHINT: Use the Theano flag 'exception_verbosity=high' for a debugprint and storage map footprint of this apply node.",
     "output_type": "error",
     "traceback": [
      "\u001b[1;31m---------------------------------------------------------------------------\u001b[0m",
      "\u001b[1;31mValueError\u001b[0m                                Traceback (most recent call last)",
      "\u001b[1;32m/home/y/anaconda3/lib/python3.5/site-packages/theano/compile/function_module.py\u001b[0m in \u001b[0;36m__call__\u001b[1;34m(self, *args, **kwargs)\u001b[0m\n\u001b[0;32m    858\u001b[0m         \u001b[1;32mtry\u001b[0m\u001b[1;33m:\u001b[0m\u001b[1;33m\u001b[0m\u001b[0m\n\u001b[1;32m--> 859\u001b[1;33m             \u001b[0moutputs\u001b[0m \u001b[1;33m=\u001b[0m \u001b[0mself\u001b[0m\u001b[1;33m.\u001b[0m\u001b[0mfn\u001b[0m\u001b[1;33m(\u001b[0m\u001b[1;33m)\u001b[0m\u001b[1;33m\u001b[0m\u001b[0m\n\u001b[0m\u001b[0;32m    860\u001b[0m         \u001b[1;32mexcept\u001b[0m \u001b[0mException\u001b[0m\u001b[1;33m:\u001b[0m\u001b[1;33m\u001b[0m\u001b[0m\n",
      "\u001b[1;31mValueError\u001b[0m: Shape mismatch: x has 138 cols (and 128 rows) but y has 39 rows (and 45 cols)",
      "\nDuring handling of the above exception, another exception occurred:\n",
      "\u001b[1;31mValueError\u001b[0m                                Traceback (most recent call last)",
      "\u001b[1;32m<ipython-input-181-bba82c515ba0>\u001b[0m in \u001b[0;36m<module>\u001b[1;34m()\u001b[0m\n\u001b[0;32m      1\u001b[0m \u001b[0msizes\u001b[0m\u001b[1;33m=\u001b[0m \u001b[0mrange\u001b[0m\u001b[1;33m(\u001b[0m\u001b[1;36m45\u001b[0m\u001b[1;33m,\u001b[0m\u001b[1;36m55\u001b[0m\u001b[1;33m,\u001b[0m\u001b[1;36m1\u001b[0m\u001b[1;33m)\u001b[0m\u001b[1;33m\u001b[0m\u001b[0m\n\u001b[1;32m----> 2\u001b[1;33m \u001b[0mtrain_loss\u001b[0m\u001b[1;33m,\u001b[0m\u001b[0mval_loss\u001b[0m\u001b[1;33m=\u001b[0m \u001b[0mtestNodeNum\u001b[0m\u001b[1;33m(\u001b[0m\u001b[0mX_scaled\u001b[0m\u001b[1;33m,\u001b[0m\u001b[0my\u001b[0m\u001b[1;33m,\u001b[0m\u001b[0msizes\u001b[0m\u001b[1;33m,\u001b[0m\u001b[0mdropout\u001b[0m\u001b[1;33m=\u001b[0m\u001b[0mg_best_dropout\u001b[0m\u001b[1;33m)\u001b[0m\u001b[1;33m\u001b[0m\u001b[0m\n\u001b[0m",
      "\u001b[1;32m<ipython-input-180-cfeecfe7a005>\u001b[0m in \u001b[0;36mtestNodeNum\u001b[1;34m(X, y, sizes, dropout, kfold)\u001b[0m\n\u001b[0;32m      4\u001b[0m     \u001b[0mtrain_loss\u001b[0m\u001b[1;33m=\u001b[0m\u001b[1;33m[\u001b[0m\u001b[1;33m]\u001b[0m\u001b[1;33m\u001b[0m\u001b[0m\n\u001b[0;32m      5\u001b[0m     \u001b[1;32mfor\u001b[0m \u001b[0ms\u001b[0m \u001b[1;32min\u001b[0m \u001b[0msizes\u001b[0m\u001b[1;33m:\u001b[0m\u001b[1;33m\u001b[0m\u001b[0m\n\u001b[1;32m----> 6\u001b[1;33m         \u001b[0ms_train_loss\u001b[0m\u001b[1;33m,\u001b[0m\u001b[0ms_val_loss\u001b[0m \u001b[1;33m=\u001b[0m \u001b[0mkfoldTesting\u001b[0m\u001b[1;33m(\u001b[0m\u001b[0mX\u001b[0m\u001b[1;33m,\u001b[0m\u001b[0my\u001b[0m\u001b[1;33m,\u001b[0m\u001b[0ms\u001b[0m\u001b[1;33m=\u001b[0m\u001b[0ms\u001b[0m\u001b[1;33m,\u001b[0m\u001b[0mdropout\u001b[0m\u001b[1;33m=\u001b[0m\u001b[0mdropout\u001b[0m\u001b[1;33m,\u001b[0m\u001b[0mkfold\u001b[0m\u001b[1;33m=\u001b[0m\u001b[0mkfold\u001b[0m\u001b[1;33m)\u001b[0m\u001b[1;33m\u001b[0m\u001b[0m\n\u001b[0m\u001b[0;32m      7\u001b[0m         print(\"size:{} , train:{} val_loss:{}\".format(s,\n\u001b[0;32m      8\u001b[0m                                 np.mean(s_train_loss), np.mean(s_val_loss)))\n",
      "\u001b[1;32m<ipython-input-178-aa8441b3d97d>\u001b[0m in \u001b[0;36mkfoldTesting\u001b[1;34m(X, y, s, dropout, kfold)\u001b[0m\n\u001b[0;32m      7\u001b[0m             \u001b[0mearlyCallback\u001b[0m \u001b[1;33m=\u001b[0m \u001b[0mEarlyStopping\u001b[0m\u001b[1;33m(\u001b[0m\u001b[0mpatience\u001b[0m\u001b[1;33m=\u001b[0m\u001b[0mg_patience\u001b[0m\u001b[1;33m,\u001b[0m\u001b[0mverbose\u001b[0m\u001b[1;33m=\u001b[0m\u001b[1;36m1\u001b[0m\u001b[1;33m)\u001b[0m\u001b[1;33m\u001b[0m\u001b[0m\n\u001b[0;32m      8\u001b[0m             \u001b[0mmodel\u001b[0m \u001b[1;33m=\u001b[0m \u001b[0mcreateModel\u001b[0m\u001b[1;33m(\u001b[0m\u001b[1;33m[\u001b[0m\u001b[0ms\u001b[0m\u001b[1;33m,\u001b[0m\u001b[0ms\u001b[0m\u001b[1;33m]\u001b[0m\u001b[1;33m,\u001b[0m\u001b[0mdropout\u001b[0m\u001b[1;33m=\u001b[0m\u001b[0mdropout\u001b[0m\u001b[1;33m)\u001b[0m\u001b[1;33m\u001b[0m\u001b[0m\n\u001b[1;32m----> 9\u001b[1;33m             \u001b[0mhistory\u001b[0m \u001b[1;33m=\u001b[0m \u001b[0mmodel\u001b[0m\u001b[1;33m.\u001b[0m\u001b[0mfit\u001b[0m\u001b[1;33m(\u001b[0m\u001b[0mX\u001b[0m\u001b[1;33m,\u001b[0m\u001b[0my\u001b[0m\u001b[1;33m,\u001b[0m\u001b[0mverbose\u001b[0m\u001b[1;33m=\u001b[0m\u001b[1;36m0\u001b[0m\u001b[1;33m,\u001b[0m\u001b[0mnb_epoch\u001b[0m\u001b[1;33m=\u001b[0m\u001b[0mg_epoch\u001b[0m\u001b[1;33m,\u001b[0m \u001b[0mvalidation_split\u001b[0m\u001b[1;33m=\u001b[0m\u001b[0mg_validation\u001b[0m\u001b[1;33m,\u001b[0m\u001b[0mshow_accuracy\u001b[0m\u001b[1;33m=\u001b[0m\u001b[1;32mTrue\u001b[0m\u001b[1;33m,\u001b[0m\u001b[0mcallbacks\u001b[0m\u001b[1;33m=\u001b[0m\u001b[1;33m[\u001b[0m\u001b[0mearlyCallback\u001b[0m\u001b[1;33m]\u001b[0m \u001b[1;33m)\u001b[0m\u001b[1;33m\u001b[0m\u001b[0m\n\u001b[0m\u001b[0;32m     10\u001b[0m             \u001b[0ms_val_loss\u001b[0m\u001b[1;33m.\u001b[0m\u001b[0mappend\u001b[0m\u001b[1;33m(\u001b[0m\u001b[0mhistory\u001b[0m\u001b[1;33m.\u001b[0m\u001b[0mhistory\u001b[0m\u001b[1;33m[\u001b[0m\u001b[1;34m'val_loss'\u001b[0m\u001b[1;33m]\u001b[0m\u001b[1;33m[\u001b[0m\u001b[1;33m-\u001b[0m\u001b[1;36m1\u001b[0m\u001b[1;33m]\u001b[0m\u001b[1;33m)\u001b[0m\u001b[1;33m\u001b[0m\u001b[0m\n\u001b[0;32m     11\u001b[0m             \u001b[0ms_train_loss\u001b[0m\u001b[1;33m.\u001b[0m\u001b[0mappend\u001b[0m\u001b[1;33m(\u001b[0m\u001b[0mhistory\u001b[0m\u001b[1;33m.\u001b[0m\u001b[0mhistory\u001b[0m\u001b[1;33m[\u001b[0m\u001b[1;34m'loss'\u001b[0m\u001b[1;33m]\u001b[0m\u001b[1;33m[\u001b[0m\u001b[1;33m-\u001b[0m\u001b[1;36m1\u001b[0m\u001b[1;33m]\u001b[0m\u001b[1;33m)\u001b[0m\u001b[1;33m\u001b[0m\u001b[0m\n",
      "\u001b[1;32m/home/y/anaconda3/lib/python3.5/site-packages/keras/models.py\u001b[0m in \u001b[0;36mfit\u001b[1;34m(self, X, y, batch_size, nb_epoch, verbose, callbacks, validation_split, validation_data, shuffle, show_accuracy, class_weight, sample_weight)\u001b[0m\n\u001b[0;32m    644\u001b[0m                          \u001b[0mverbose\u001b[0m\u001b[1;33m=\u001b[0m\u001b[0mverbose\u001b[0m\u001b[1;33m,\u001b[0m \u001b[0mcallbacks\u001b[0m\u001b[1;33m=\u001b[0m\u001b[0mcallbacks\u001b[0m\u001b[1;33m,\u001b[0m\u001b[1;33m\u001b[0m\u001b[0m\n\u001b[0;32m    645\u001b[0m                          \u001b[0mval_f\u001b[0m\u001b[1;33m=\u001b[0m\u001b[0mval_f\u001b[0m\u001b[1;33m,\u001b[0m \u001b[0mval_ins\u001b[0m\u001b[1;33m=\u001b[0m\u001b[0mval_ins\u001b[0m\u001b[1;33m,\u001b[0m\u001b[1;33m\u001b[0m\u001b[0m\n\u001b[1;32m--> 646\u001b[1;33m                          shuffle=shuffle, metrics=metrics)\n\u001b[0m\u001b[0;32m    647\u001b[0m \u001b[1;33m\u001b[0m\u001b[0m\n\u001b[0;32m    648\u001b[0m     \u001b[1;32mdef\u001b[0m \u001b[0mpredict\u001b[0m\u001b[1;33m(\u001b[0m\u001b[0mself\u001b[0m\u001b[1;33m,\u001b[0m \u001b[0mX\u001b[0m\u001b[1;33m,\u001b[0m \u001b[0mbatch_size\u001b[0m\u001b[1;33m=\u001b[0m\u001b[1;36m128\u001b[0m\u001b[1;33m,\u001b[0m \u001b[0mverbose\u001b[0m\u001b[1;33m=\u001b[0m\u001b[1;36m0\u001b[0m\u001b[1;33m)\u001b[0m\u001b[1;33m:\u001b[0m\u001b[1;33m\u001b[0m\u001b[0m\n",
      "\u001b[1;32m/home/y/anaconda3/lib/python3.5/site-packages/keras/models.py\u001b[0m in \u001b[0;36m_fit\u001b[1;34m(self, f, ins, out_labels, batch_size, nb_epoch, verbose, callbacks, val_f, val_ins, shuffle, metrics)\u001b[0m\n\u001b[0;32m    278\u001b[0m                 \u001b[0mbatch_logs\u001b[0m\u001b[1;33m[\u001b[0m\u001b[1;34m'size'\u001b[0m\u001b[1;33m]\u001b[0m \u001b[1;33m=\u001b[0m \u001b[0mlen\u001b[0m\u001b[1;33m(\u001b[0m\u001b[0mbatch_ids\u001b[0m\u001b[1;33m)\u001b[0m\u001b[1;33m\u001b[0m\u001b[0m\n\u001b[0;32m    279\u001b[0m                 \u001b[0mcallbacks\u001b[0m\u001b[1;33m.\u001b[0m\u001b[0mon_batch_begin\u001b[0m\u001b[1;33m(\u001b[0m\u001b[0mbatch_index\u001b[0m\u001b[1;33m,\u001b[0m \u001b[0mbatch_logs\u001b[0m\u001b[1;33m)\u001b[0m\u001b[1;33m\u001b[0m\u001b[0m\n\u001b[1;32m--> 280\u001b[1;33m                 \u001b[0mouts\u001b[0m \u001b[1;33m=\u001b[0m \u001b[0mf\u001b[0m\u001b[1;33m(\u001b[0m\u001b[0mins_batch\u001b[0m\u001b[1;33m)\u001b[0m\u001b[1;33m\u001b[0m\u001b[0m\n\u001b[0m\u001b[0;32m    281\u001b[0m                 \u001b[1;32mif\u001b[0m \u001b[0mtype\u001b[0m\u001b[1;33m(\u001b[0m\u001b[0mouts\u001b[0m\u001b[1;33m)\u001b[0m \u001b[1;33m!=\u001b[0m \u001b[0mlist\u001b[0m\u001b[1;33m:\u001b[0m\u001b[1;33m\u001b[0m\u001b[0m\n\u001b[0;32m    282\u001b[0m                     \u001b[0mouts\u001b[0m \u001b[1;33m=\u001b[0m \u001b[1;33m[\u001b[0m\u001b[0mouts\u001b[0m\u001b[1;33m]\u001b[0m\u001b[1;33m\u001b[0m\u001b[0m\n",
      "\u001b[1;32m/home/y/anaconda3/lib/python3.5/site-packages/keras/backend/theano_backend.py\u001b[0m in \u001b[0;36m__call__\u001b[1;34m(self, inputs)\u001b[0m\n\u001b[0;32m    382\u001b[0m     \u001b[1;32mdef\u001b[0m \u001b[0m__call__\u001b[0m\u001b[1;33m(\u001b[0m\u001b[0mself\u001b[0m\u001b[1;33m,\u001b[0m \u001b[0minputs\u001b[0m\u001b[1;33m)\u001b[0m\u001b[1;33m:\u001b[0m\u001b[1;33m\u001b[0m\u001b[0m\n\u001b[0;32m    383\u001b[0m         \u001b[1;32massert\u001b[0m \u001b[0mtype\u001b[0m\u001b[1;33m(\u001b[0m\u001b[0minputs\u001b[0m\u001b[1;33m)\u001b[0m \u001b[1;32min\u001b[0m \u001b[1;33m{\u001b[0m\u001b[0mlist\u001b[0m\u001b[1;33m,\u001b[0m \u001b[0mtuple\u001b[0m\u001b[1;33m}\u001b[0m\u001b[1;33m\u001b[0m\u001b[0m\n\u001b[1;32m--> 384\u001b[1;33m         \u001b[1;32mreturn\u001b[0m \u001b[0mself\u001b[0m\u001b[1;33m.\u001b[0m\u001b[0mfunction\u001b[0m\u001b[1;33m(\u001b[0m\u001b[1;33m*\u001b[0m\u001b[0minputs\u001b[0m\u001b[1;33m)\u001b[0m\u001b[1;33m\u001b[0m\u001b[0m\n\u001b[0m\u001b[0;32m    385\u001b[0m \u001b[1;33m\u001b[0m\u001b[0m\n\u001b[0;32m    386\u001b[0m \u001b[1;33m\u001b[0m\u001b[0m\n",
      "\u001b[1;32m/home/y/anaconda3/lib/python3.5/site-packages/theano/compile/function_module.py\u001b[0m in \u001b[0;36m__call__\u001b[1;34m(self, *args, **kwargs)\u001b[0m\n\u001b[0;32m    869\u001b[0m                     \u001b[0mnode\u001b[0m\u001b[1;33m=\u001b[0m\u001b[0mself\u001b[0m\u001b[1;33m.\u001b[0m\u001b[0mfn\u001b[0m\u001b[1;33m.\u001b[0m\u001b[0mnodes\u001b[0m\u001b[1;33m[\u001b[0m\u001b[0mself\u001b[0m\u001b[1;33m.\u001b[0m\u001b[0mfn\u001b[0m\u001b[1;33m.\u001b[0m\u001b[0mposition_of_error\u001b[0m\u001b[1;33m]\u001b[0m\u001b[1;33m,\u001b[0m\u001b[1;33m\u001b[0m\u001b[0m\n\u001b[0;32m    870\u001b[0m                     \u001b[0mthunk\u001b[0m\u001b[1;33m=\u001b[0m\u001b[0mthunk\u001b[0m\u001b[1;33m,\u001b[0m\u001b[1;33m\u001b[0m\u001b[0m\n\u001b[1;32m--> 871\u001b[1;33m                     storage_map=getattr(self.fn, 'storage_map', None))\n\u001b[0m\u001b[0;32m    872\u001b[0m             \u001b[1;32melse\u001b[0m\u001b[1;33m:\u001b[0m\u001b[1;33m\u001b[0m\u001b[0m\n\u001b[0;32m    873\u001b[0m                 \u001b[1;31m# old-style linkers raise their own exceptions\u001b[0m\u001b[1;33m\u001b[0m\u001b[1;33m\u001b[0m\u001b[0m\n",
      "\u001b[1;32m/home/y/anaconda3/lib/python3.5/site-packages/theano/gof/link.py\u001b[0m in \u001b[0;36mraise_with_op\u001b[1;34m(node, thunk, exc_info, storage_map)\u001b[0m\n\u001b[0;32m    312\u001b[0m         \u001b[1;31m# extra long error message in that case.\u001b[0m\u001b[1;33m\u001b[0m\u001b[1;33m\u001b[0m\u001b[0m\n\u001b[0;32m    313\u001b[0m         \u001b[1;32mpass\u001b[0m\u001b[1;33m\u001b[0m\u001b[0m\n\u001b[1;32m--> 314\u001b[1;33m     \u001b[0mreraise\u001b[0m\u001b[1;33m(\u001b[0m\u001b[0mexc_type\u001b[0m\u001b[1;33m,\u001b[0m \u001b[0mexc_value\u001b[0m\u001b[1;33m,\u001b[0m \u001b[0mexc_trace\u001b[0m\u001b[1;33m)\u001b[0m\u001b[1;33m\u001b[0m\u001b[0m\n\u001b[0m\u001b[0;32m    315\u001b[0m \u001b[1;33m\u001b[0m\u001b[0m\n\u001b[0;32m    316\u001b[0m \u001b[1;33m\u001b[0m\u001b[0m\n",
      "\u001b[1;32m/home/y/anaconda3/lib/python3.5/site-packages/six.py\u001b[0m in \u001b[0;36mreraise\u001b[1;34m(tp, value, tb)\u001b[0m\n\u001b[0;32m    683\u001b[0m             \u001b[0mvalue\u001b[0m \u001b[1;33m=\u001b[0m \u001b[0mtp\u001b[0m\u001b[1;33m(\u001b[0m\u001b[1;33m)\u001b[0m\u001b[1;33m\u001b[0m\u001b[0m\n\u001b[0;32m    684\u001b[0m         \u001b[1;32mif\u001b[0m \u001b[0mvalue\u001b[0m\u001b[1;33m.\u001b[0m\u001b[0m__traceback__\u001b[0m \u001b[1;32mis\u001b[0m \u001b[1;32mnot\u001b[0m \u001b[0mtb\u001b[0m\u001b[1;33m:\u001b[0m\u001b[1;33m\u001b[0m\u001b[0m\n\u001b[1;32m--> 685\u001b[1;33m             \u001b[1;32mraise\u001b[0m \u001b[0mvalue\u001b[0m\u001b[1;33m.\u001b[0m\u001b[0mwith_traceback\u001b[0m\u001b[1;33m(\u001b[0m\u001b[0mtb\u001b[0m\u001b[1;33m)\u001b[0m\u001b[1;33m\u001b[0m\u001b[0m\n\u001b[0m\u001b[0;32m    686\u001b[0m         \u001b[1;32mraise\u001b[0m \u001b[0mvalue\u001b[0m\u001b[1;33m\u001b[0m\u001b[0m\n\u001b[0;32m    687\u001b[0m \u001b[1;33m\u001b[0m\u001b[0m\n",
      "\u001b[1;32m/home/y/anaconda3/lib/python3.5/site-packages/theano/compile/function_module.py\u001b[0m in \u001b[0;36m__call__\u001b[1;34m(self, *args, **kwargs)\u001b[0m\n\u001b[0;32m    857\u001b[0m         \u001b[0mt0_fn\u001b[0m \u001b[1;33m=\u001b[0m \u001b[0mtime\u001b[0m\u001b[1;33m.\u001b[0m\u001b[0mtime\u001b[0m\u001b[1;33m(\u001b[0m\u001b[1;33m)\u001b[0m\u001b[1;33m\u001b[0m\u001b[0m\n\u001b[0;32m    858\u001b[0m         \u001b[1;32mtry\u001b[0m\u001b[1;33m:\u001b[0m\u001b[1;33m\u001b[0m\u001b[0m\n\u001b[1;32m--> 859\u001b[1;33m             \u001b[0moutputs\u001b[0m \u001b[1;33m=\u001b[0m \u001b[0mself\u001b[0m\u001b[1;33m.\u001b[0m\u001b[0mfn\u001b[0m\u001b[1;33m(\u001b[0m\u001b[1;33m)\u001b[0m\u001b[1;33m\u001b[0m\u001b[0m\n\u001b[0m\u001b[0;32m    860\u001b[0m         \u001b[1;32mexcept\u001b[0m \u001b[0mException\u001b[0m\u001b[1;33m:\u001b[0m\u001b[1;33m\u001b[0m\u001b[0m\n\u001b[0;32m    861\u001b[0m             \u001b[1;32mif\u001b[0m \u001b[0mhasattr\u001b[0m\u001b[1;33m(\u001b[0m\u001b[0mself\u001b[0m\u001b[1;33m.\u001b[0m\u001b[0mfn\u001b[0m\u001b[1;33m,\u001b[0m \u001b[1;34m'position_of_error'\u001b[0m\u001b[1;33m)\u001b[0m\u001b[1;33m:\u001b[0m\u001b[1;33m\u001b[0m\u001b[0m\n",
      "\u001b[1;31mValueError\u001b[0m: Shape mismatch: x has 138 cols (and 128 rows) but y has 39 rows (and 45 cols)\nApply node that caused the error: Dot22(<TensorType(float32, matrix)>, <TensorType(float32, matrix)>)\nToposort index: 4\nInputs types: [TensorType(float32, matrix), TensorType(float32, matrix)]\nInputs shapes: [(128, 138), (39, 45)]\nInputs strides: [(552, 4), (180, 4)]\nInputs values: ['not shown', 'not shown']\nOutputs clients: [[Elemwise{Composite{scalar_sigmoid((i0 + i1))}}[(0, 0)](Dot22.0, InplaceDimShuffle{x,0}.0)]]\n\nHINT: Re-running with most Theano optimization disabled could give you a back-trace of when this node was created. This can be done with by setting the Theano flag 'optimizer=fast_compile'. If that does not work, Theano optimizations can be disabled with 'optimizer=None'.\nHINT: Use the Theano flag 'exception_verbosity=high' for a debugprint and storage map footprint of this apply node."
     ]
    }
   ],
   "source": [
    "sizes= range(45,55,1)\n",
    "train_loss,val_loss= testNodeNum(X_scaled,y,sizes,dropout=g_best_dropout)"
   ]
  },
  {
   "cell_type": "code",
   "execution_count": 19,
   "metadata": {
    "collapsed": false,
    "scrolled": false
   },
   "outputs": [
    {
     "name": "stdout",
     "output_type": "stream",
     "text": [
      "range(45, 55)\n"
     ]
    },
    {
     "data": {
      "text/plain": [
       "<matplotlib.figure.Figure at 0x7f9a97194320>"
      ]
     },
     "execution_count": 19,
     "metadata": {},
     "output_type": "execute_result"
    },
    {
     "data": {
      "image/png": "[encoded data removed]",
      "text/plain": [
       "<matplotlib.figure.Figure at 0x7f9a971949e8>"
      ]
     },
     "metadata": {},
     "output_type": "display_data"
    },
    {
     "data": {
      "text/plain": [
       "<matplotlib.figure.Figure at 0x7f9a97194320>"
      ]
     },
     "metadata": {},
     "output_type": "display_data"
    }
   ],
   "source": [
    "print(sizes)\n",
    "plt.plot(sizes,np.mean(val_loss,axis=1))\n",
    "plt.figure()"
   ]
  },
  {
   "cell_type": "code",
   "execution_count": null,
   "metadata": {
    "collapsed": true,
    "scrolled": false
   },
   "outputs": [],
   "source": [
    "def testDropoutRate(X,y, sizes,dropout):\n",
    "    train_scores,scores,  proba_test,proba_y= crossValidate2(sizes,X,y,fold=5,dropout=dropout,earlyStopping=True)\n",
    "    print(\"dropout:{} , val_loss_mean:{}\".format(dropout,np.mean(scores)))\n",
    "    return train_scores,scores"
   ]
  },
  {
   "cell_type": "code",
   "execution_count": null,
   "metadata": {
    "collapsed": false,
    "scrolled": false
   },
   "outputs": [],
   "source": [
    "g_dropout_range =np.arange(0.1,1, 0.1)\n",
    "g_train_loss=[]\n",
    "g_score_loss =[]\n",
    "for d in g_dropout_range:\n",
    "    train_loss, score_loss = testDropoutRate(X_scaled,y,[55,55],float(d))\n",
    "    g_train_loss.append(train_loss)\n",
    "    g_score_loss.append(score_loss)"
   ]
  },
  {
   "cell_type": "code",
   "execution_count": null,
   "metadata": {
    "collapsed": false,
    "scrolled": false
   },
   "outputs": [],
   "source": [
    "import matplotlib.pyplot as plt\n",
    "g_train_mean = np.mean(g_score_loss,axis=1)\n",
    "g_test_mean = np.mean(g_score_loss,axis=1)\n",
    "g_test_std = np.std(g_score_loss,axis = 1)\n",
    "plt.plot(g_dropout_range,g_test_mean)\n",
    "plt.plot(g_dropout_range,g_train_mean,color='red')\n",
    "plt.fill_between(g_dropout_range, g_test_mean - g_test_std, g_test_mean+g_test_std,alpha=0.3)\n",
    "plt.figure()\n"
   ]
  },
  {
   "cell_type": "code",
   "execution_count": 193,
   "metadata": {
    "collapsed": false,
    "scrolled": false
   },
   "outputs": [],
   "source": [
    "\n",
    "def futureTest2(node_sizes, X,y,ori_dates, numOfWeek = 10,verbose=False):\n",
    "    decoded = oneHotDecode(c, X)\n",
    "    dates = convertToDate(ori_dates)\n",
    "    dates = [d - timedelta(days=2) for d in dates]    \n",
    "    weeks  = [ v.isocalendar()[1] for v in dates]\n",
    "    thisWeek = weeks[-1]\n",
    "    start = -1\n",
    "    last = X.shape[0]\n",
    "    index = -1\n",
    "    w = 0\n",
    "    sum_proba =None \n",
    "    sum_y =None\n",
    "    sum_train_proba=None\n",
    "    sum_train_y=None\n",
    "    model = createModel(node_sizes,X.shape[1],dropout=g_best_dropout)\n",
    "    results = None\n",
    "    while w < numOfWeek:\n",
    "        if thisWeek != weeks[index]:\n",
    "            print(\"week{}\".format(w))\n",
    "            start = X.shape[0] +index+1\n",
    "            X_train = X[0:start, :]\n",
    "            X_test = X[start:last,:]\n",
    "            y_train = y[0:start,:]\n",
    "            y_test = y[start:last,:]\n",
    "            earlyCallback = EarlyStopping(patience=g_patience,verbose=1)\n",
    "            history = model.fit(X_train,y_train,verbose=0,nb_epoch=g_epoch, validation_split=g_validation, callbacks=[earlyCallback])\n",
    "            decoded = oneHotDecode(c,X_test)\n",
    "            home = np.array([c.inverseTeamMapping(decoded[:,0])]).reshape(X_test.shape[0],1)\n",
    "            away = np.array([c.inverseTeamMapping(decoded[:,1])]).reshape(X_test.shape[0],1)\n",
    "            stack = np.hstack([home,away])\n",
    "            proba = model.predict_proba(X_test)\n",
    "            train_proba =model.predict_proba(X_train)\n",
    "            errorIndx = np.argmax(proba,axis=1) != np.argmax(y_test,axis=1)\n",
    "            tresult = np.hstack([np.array([w for i in range(proba.shape[0])]).reshape(proba.shape[0],1),\n",
    "                                 ori_dates[start:last].reshape(proba.shape[0],1),stack,proba,y_test])\n",
    "            if sum_proba is None:\n",
    "                sum_proba = proba\n",
    "                sum_y = y_test\n",
    "                sum_train_proba = train_proba\n",
    "                sum_train_y = y_train\n",
    "                results =    tresult\n",
    "            else:\n",
    "                sum_proba = np.vstack([sum_proba,proba])\n",
    "                sum_y = np.vstack([sum_y,y_test])\n",
    "                sum_train_proba = np.vstack([sum_train_proba, train_proba])\n",
    "                sum_train_y= np.vstack([sum_train_y, y_train])\n",
    "                results =  np.vstack([results, tresult])\n",
    "            if verbose == True:\n",
    "                print(\"numOftest {} , loss {}\".format(X_test.shape[0],model.evaluate(X_test,y_test)))               \n",
    "                print (tresult)\n",
    "                print(\"first2 : {}\",firstNScore(2,proba,y_test))\n",
    "            last = start\n",
    "            thisWeek = weeks[index]\n",
    "            w = w+1\n",
    "        index = index -1\n",
    "    start = X.shape[0] +index+1\n",
    "    print(\"start compute precision_mat\")\n",
    "    print(X[0:start,:].shape)\n",
    "    print(y[0:start,:].shape)\n",
    "    _,_, proba_test,proba_y,_ = crossValidate2(node_sizes,X[0:start,:],y[0:start,:],fold=10,dropout=g_best_dropout)\n",
    "    p_matrix = precisionMatrix(np.vstack(proba_test),np.vstack(proba_y))\n",
    "    print(\"summary\")\n",
    "    print(\"score:\")\n",
    "    score = firstNScore(1,sum_proba,sum_y)\n",
    "    print(score)\n",
    "    print(\"2like\")\n",
    "    like2 = firstNScore(2,sum_proba,sum_y)\n",
    "    print(precisionMatrix(sum_proba,sum_y))\n",
    "    y_true= np.argmax(sum_y,axis=1)\n",
    "    y_pred = np.argmax(sum_proba,axis=1)\n",
    "    print(\"sum precision:{}\".format(precision_score(y_true,y_pred,average=None)))\n",
    "    resultdf= pd.DataFrame(results, columns=['week','DayStamp','HomeTeam','AwayTeam','H_prob','D_prob','A_prob','H','D','A'])\n",
    "    return sum_proba, sum_y,resultdf,p_matrix"
   ]
  },
  {
   "cell_type": "code",
   "execution_count": 194,
   "metadata": {
    "collapsed": false,
    "scrolled": true
   },
   "outputs": [
    {
     "name": "stdout",
     "output_type": "stream",
     "text": [
      "week0\n",
      "Epoch 00017: early stopping\n",
      "10/10 [==============================] - 0s\n",
      "1348/1348 [==============================] - 0s     \n",
      "week1\n",
      "Epoch 00017: early stopping\n",
      "5/5 [==============================] - 0s\n",
      "1343/1343 [==============================] - 0s     \n",
      "week2\n",
      "Epoch 00011: early stopping\n",
      "15/15 [==============================] - 0s\n",
      "1328/1328 [==============================] - 0s     \n",
      "week3\n",
      "Epoch 00015: early stopping\n",
      "13/13 [==============================] - 0s\n",
      "1315/1315 [==============================] - 0s     \n",
      "week4\n",
      "Epoch 00011: early stopping\n",
      "10/10 [==============================] - 0s\n",
      "1305/1305 [==============================] - 0s     \n",
      "week5\n",
      "Epoch 00012: early stopping\n",
      "12/12 [==============================] - 0s\n",
      "1293/1293 [==============================] - 0s     \n",
      "week6\n",
      "Epoch 00011: early stopping\n",
      "8/8 [==============================] - 0s\n",
      "1285/1285 [==============================] - 0s     \n",
      "week7\n",
      "Epoch 00011: early stopping\n",
      "10/10 [==============================] - 0s\n",
      "1275/1275 [==============================] - 0s     \n",
      "week8\n",
      "Epoch 00011: early stopping\n",
      "17/17 [==============================] - 0s\n",
      "1258/1258 [==============================] - 0s     \n",
      "week9\n",
      "Epoch 00013: early stopping\n",
      "3/3 [==============================] - 0s\n",
      "1255/1255 [==============================] - 0s     \n",
      "week10\n",
      "Epoch 00012: early stopping\n",
      "11/11 [==============================] - 0s\n",
      "1244/1244 [==============================] - 0s     \n",
      "week11\n",
      "Epoch 00011: early stopping\n",
      "19/19 [==============================] - 0s\n",
      "1225/1225 [==============================] - 0s     \n",
      "week12\n",
      "Epoch 00012: early stopping\n",
      "10/10 [==============================] - 0s\n",
      "1215/1215 [==============================] - 0s     \n",
      "week13\n",
      "Epoch 00011: early stopping\n",
      "10/10 [==============================] - 0s\n",
      "1205/1205 [==============================] - 0s     \n",
      "week14\n",
      "Epoch 00012: early stopping\n",
      "10/10 [==============================] - 0s\n",
      "1195/1195 [==============================] - 0s     \n",
      "week15\n",
      "Epoch 00012: early stopping\n",
      "10/10 [==============================] - 0s\n",
      "1185/1185 [==============================] - 0s     \n",
      "week16\n",
      "Epoch 00012: early stopping\n",
      "10/10 [==============================] - 0s\n",
      "1175/1175 [==============================] - 0s     \n",
      "week17\n",
      "Epoch 00012: early stopping\n",
      "10/10 [==============================] - 0s\n",
      "1165/1165 [==============================] - 0s     \n",
      "week18\n",
      "Epoch 00013: early stopping\n",
      "10/10 [==============================] - 0s\n",
      "1155/1155 [==============================] - 0s     \n",
      "week19\n",
      "Epoch 00012: early stopping\n",
      "10/10 [==============================] - 0s\n",
      "1145/1145 [==============================] - 0s     \n",
      "week20\n",
      "Epoch 00013: early stopping\n",
      "10/10 [==============================] - 0s\n",
      "1135/1135 [==============================] - 0s     \n",
      "week21\n",
      "Epoch 00013: early stopping\n",
      "10/10 [==============================] - 0s\n",
      "1125/1125 [==============================] - 0s     \n",
      "week22\n",
      "Epoch 00011: early stopping\n",
      "10/10 [==============================] - 0s\n",
      "1115/1115 [==============================] - 0s     \n",
      "week23\n",
      "Epoch 00012: early stopping\n",
      "10/10 [==============================] - 0s\n",
      "1105/1105 [==============================] - 0s     \n",
      "week24\n",
      "Epoch 00013: early stopping\n",
      "8/8 [==============================] - 0s\n",
      "1097/1097 [==============================] - 0s     \n",
      "start compute precision_mat\n",
      "(1096, 138)\n",
      "(1096, 3)\n",
      "Epoch 00024: early stopping\n",
      "111/111 [==============================] - 0s\n",
      "111/111 [==============================] - 0s\n",
      "985/985 [==============================] - 0s     \n",
      "Fold: 1, Class dist.: [440 237 308], val_loss: 1.011\n",
      "Epoch 00025: early stopping\n",
      "111/111 [==============================] - 0s\n",
      "111/111 [==============================] - 0s\n",
      "985/985 [==============================] - 0s     \n",
      "Fold: 2, Class dist.: [440 237 308], val_loss: 0.976\n",
      "Epoch 00034: early stopping\n",
      "111/111 [==============================] - 0s\n",
      "111/111 [==============================] - 0s\n",
      "985/985 [==============================] - 0s     \n",
      "Fold: 3, Class dist.: [440 237 308], val_loss: 0.928\n",
      "Epoch 00028: early stopping\n",
      "110/110 [==============================] - 0s\n",
      "110/110 [==============================] - 0s\n",
      "986/986 [==============================] - 0s     \n",
      "Fold: 4, Class dist.: [440 237 309], val_loss: 1.018\n",
      "Epoch 00027: early stopping\n",
      "109/109 [==============================] - 0s\n",
      "109/109 [==============================] - 0s\n",
      "987/987 [==============================] - 0s     \n",
      "Fold: 5, Class dist.: [440 238 309], val_loss: 0.920\n",
      "Epoch 00025: early stopping\n",
      "109/109 [==============================] - 0s\n",
      "109/109 [==============================] - 0s\n",
      "987/987 [==============================] - 0s     \n",
      "Fold: 6, Class dist.: [440 238 309], val_loss: 0.986\n",
      "Epoch 00024: early stopping\n",
      "109/109 [==============================] - 0s\n",
      "109/109 [==============================] - 0s\n",
      "987/987 [==============================] - 0s     \n",
      "Fold: 7, Class dist.: [440 238 309], val_loss: 0.948\n",
      "Epoch 00033: early stopping\n",
      "109/109 [==============================] - 0s\n",
      "109/109 [==============================] - 0s\n",
      "987/987 [==============================] - 0s     \n",
      "Fold: 8, Class dist.: [440 238 309], val_loss: 0.963\n",
      "Epoch 00027: early stopping\n",
      "109/109 [==============================] - 0s\n",
      "109/109 [==============================] - 0s\n",
      "987/987 [==============================] - 0s     \n",
      "Fold: 9, Class dist.: [440 238 309], val_loss: 0.999\n",
      "Epoch 00046: early stopping\n",
      "108/108 [==============================] - 0s\n",
      "108/108 [==============================] - 0s\n",
      "988/988 [==============================] - 0s     \n",
      "Fold: 10, Class dist.: [441 238 309], val_loss: 1.072\n",
      "summary\n",
      "score:\n",
      "0.444444444444\n",
      "2like\n",
      "       [lower  upper)  h_Correct  h_Wrong  h_Precent  d_Correct  d_Wrong  \\\n",
      ">80       0.8     1.0          8        2   0.800000          0        1   \n",
      "60-80     0.6     0.8         18       12   0.600000          2        2   \n",
      "50-60     0.5     0.6         15       12   0.555556          3        3   \n",
      "40-50     0.4     0.5         20       26   0.434783          5        9   \n",
      "30-40     0.3     0.4         18       31   0.367347         19       40   \n",
      "20-30     0.2     0.3         13       21   0.382353         20       78   \n",
      "<20       0.0     0.2         17       48   0.261538         19       60   \n",
      "\n",
      "       d_Precent  a_Correct  a_Wrong  a_Precent  \n",
      ">80     0.000000         12        6   0.666667  \n",
      "60-80   0.500000         15       18   0.454545  \n",
      "50-60   0.500000          5       10   0.333333  \n",
      "40-50   0.357143          6       20   0.230769  \n",
      "30-40   0.322034         18       27   0.400000  \n",
      "20-30   0.204082         15       44   0.254237  \n",
      "<20     0.240506         13       52   0.200000  \n",
      "sum precision:[ 0.512       0.28571429  0.41584158]\n"
     ]
    }
   ],
   "source": [
    "sum_proba, sum_y,resultdf,p_matrix= futureTest2([g_best_size,g_best_size],X_scaled,y,X[:,c.dateColumn],numOfWeek=25,verbose=False)"
   ]
  },
  {
   "cell_type": "code",
   "execution_count": 195,
   "metadata": {
    "collapsed": false,
    "scrolled": false
   },
   "outputs": [
    {
     "data": {
      "text/html": [
       "<div>\n",
       "<table border=\"1\" class=\"dataframe\">\n",
       "  <thead>\n",
       "    <tr style=\"text-align: right;\">\n",
       "      <th></th>\n",
       "      <th>[lower</th>\n",
       "      <th>upper)</th>\n",
       "      <th>h_Correct</th>\n",
       "      <th>h_Wrong</th>\n",
       "      <th>h_Precent</th>\n",
       "      <th>d_Correct</th>\n",
       "      <th>d_Wrong</th>\n",
       "      <th>d_Precent</th>\n",
       "      <th>a_Correct</th>\n",
       "      <th>a_Wrong</th>\n",
       "      <th>a_Precent</th>\n",
       "    </tr>\n",
       "  </thead>\n",
       "  <tbody>\n",
       "    <tr>\n",
       "      <th>&gt;80</th>\n",
       "      <td>0.8</td>\n",
       "      <td>1.0</td>\n",
       "      <td>7</td>\n",
       "      <td>5</td>\n",
       "      <td>0.583333</td>\n",
       "      <td>0</td>\n",
       "      <td>0</td>\n",
       "      <td>NaN</td>\n",
       "      <td>0</td>\n",
       "      <td>0</td>\n",
       "      <td>NaN</td>\n",
       "    </tr>\n",
       "    <tr>\n",
       "      <th>60-80</th>\n",
       "      <td>0.6</td>\n",
       "      <td>0.8</td>\n",
       "      <td>211</td>\n",
       "      <td>96</td>\n",
       "      <td>0.687296</td>\n",
       "      <td>0</td>\n",
       "      <td>0</td>\n",
       "      <td>NaN</td>\n",
       "      <td>45</td>\n",
       "      <td>17</td>\n",
       "      <td>0.725806</td>\n",
       "    </tr>\n",
       "    <tr>\n",
       "      <th>50-60</th>\n",
       "      <td>0.5</td>\n",
       "      <td>0.6</td>\n",
       "      <td>74</td>\n",
       "      <td>68</td>\n",
       "      <td>0.521127</td>\n",
       "      <td>0</td>\n",
       "      <td>0</td>\n",
       "      <td>NaN</td>\n",
       "      <td>69</td>\n",
       "      <td>56</td>\n",
       "      <td>0.552000</td>\n",
       "    </tr>\n",
       "    <tr>\n",
       "      <th>40-50</th>\n",
       "      <td>0.4</td>\n",
       "      <td>0.5</td>\n",
       "      <td>69</td>\n",
       "      <td>79</td>\n",
       "      <td>0.466216</td>\n",
       "      <td>0</td>\n",
       "      <td>0</td>\n",
       "      <td>NaN</td>\n",
       "      <td>65</td>\n",
       "      <td>88</td>\n",
       "      <td>0.424837</td>\n",
       "    </tr>\n",
       "    <tr>\n",
       "      <th>30-40</th>\n",
       "      <td>0.3</td>\n",
       "      <td>0.4</td>\n",
       "      <td>64</td>\n",
       "      <td>107</td>\n",
       "      <td>0.374269</td>\n",
       "      <td>55</td>\n",
       "      <td>104</td>\n",
       "      <td>0.345912</td>\n",
       "      <td>52</td>\n",
       "      <td>117</td>\n",
       "      <td>0.307692</td>\n",
       "    </tr>\n",
       "    <tr>\n",
       "      <th>20-30</th>\n",
       "      <td>0.2</td>\n",
       "      <td>0.3</td>\n",
       "      <td>37</td>\n",
       "      <td>134</td>\n",
       "      <td>0.216374</td>\n",
       "      <td>174</td>\n",
       "      <td>534</td>\n",
       "      <td>0.245763</td>\n",
       "      <td>53</td>\n",
       "      <td>149</td>\n",
       "      <td>0.262376</td>\n",
       "    </tr>\n",
       "    <tr>\n",
       "      <th>&lt;20</th>\n",
       "      <td>0.0</td>\n",
       "      <td>0.2</td>\n",
       "      <td>27</td>\n",
       "      <td>118</td>\n",
       "      <td>0.186207</td>\n",
       "      <td>35</td>\n",
       "      <td>194</td>\n",
       "      <td>0.152838</td>\n",
       "      <td>59</td>\n",
       "      <td>326</td>\n",
       "      <td>0.153247</td>\n",
       "    </tr>\n",
       "  </tbody>\n",
       "</table>\n",
       "</div>"
      ],
      "text/plain": [
       "       [lower  upper)  h_Correct  h_Wrong  h_Precent  d_Correct  d_Wrong  \\\n",
       ">80       0.8     1.0          7        5   0.583333          0        0   \n",
       "60-80     0.6     0.8        211       96   0.687296          0        0   \n",
       "50-60     0.5     0.6         74       68   0.521127          0        0   \n",
       "40-50     0.4     0.5         69       79   0.466216          0        0   \n",
       "30-40     0.3     0.4         64      107   0.374269         55      104   \n",
       "20-30     0.2     0.3         37      134   0.216374        174      534   \n",
       "<20       0.0     0.2         27      118   0.186207         35      194   \n",
       "\n",
       "       d_Precent  a_Correct  a_Wrong  a_Precent  \n",
       ">80          NaN          0        0        NaN  \n",
       "60-80        NaN         45       17   0.725806  \n",
       "50-60        NaN         69       56   0.552000  \n",
       "40-50        NaN         65       88   0.424837  \n",
       "30-40   0.345912         52      117   0.307692  \n",
       "20-30   0.245763         53      149   0.262376  \n",
       "<20     0.152838         59      326   0.153247  "
      ]
     },
     "execution_count": 195,
     "metadata": {},
     "output_type": "execute_result"
    }
   ],
   "source": [
    "p_matrix"
   ]
  },
  {
   "cell_type": "code",
   "execution_count": 85,
   "metadata": {
    "collapsed": true,
    "scrolled": false
   },
   "outputs": [],
   "source": [
    "def findRecordsByDf(self,df):\n",
    "    #print((df['DayStamp']).values)\n",
    "    #date = convertToDate((df['DayStamp']).values)\n",
    "    #df[\"Date\"] = date\n",
    "    \n",
    "    home = df['HomeTeam'].values\n",
    "    away = df['AwayTeam'].values\n",
    "    origin = self.df[[\"Date\",\"HomeTeam\",\"AwayTeam\",\"JocH\",\"JocD\",\"JocA\"]]\n",
    "    origin[\"DayStamp\"]=(pd.to_numeric(origin['Date'])/1e9/24/60/60).values\n",
    "    origin[\"DayStamp\"] = origin[\"DayStamp\"].apply(lambda x: \"%.f\"%(float(x)))\n",
    "    df['DayStamp']=df['DayStamp'].apply(lambda x: \"%.f\"%(float(x)))\n",
    "    return origin.merge(df,left_on=['DayStamp',\"HomeTeam\",\"AwayTeam\"],right_on=[\"DayStamp\",\"HomeTeam\",\"AwayTeam\"],how='inner')\n",
    "   \n",
    "def mergeXWithOdds_Proba(self,X, y_proba):\n",
    "    decoded = oneHotDecode(self, X)\n",
    "    dates = X[:,c.dateColumn] \n",
    "    homeTeam = self.inverseTeamMapping(decoded[:,0])\n",
    "    awayTeam =self.inverseTeamMapping(decoded[:,1])\n",
    "    temp = np.vstack([homeTeam,awayTeam,dates]).T\n",
    "    df = pd.DataFrame(np.hstack([temp,y_proba])\n",
    "                      ,columns=[\"HomeTeam\",\"AwayTeam\",\"DayStamp\",\"H_prob\",\"D_prob\",\"A_prob\"])\n",
    "    \n",
    "    origin = self.df[[\"Date\",\"HomeTeam\",\"AwayTeam\",\"JocH\",\"JocD\",\"JocA\"]]\n",
    "    origin[\"DayStamp\"]=(pd.to_numeric(origin['Date'])/1e9/24/60/60).values\n",
    "    origin[\"DayStamp\"] = origin[\"DayStamp\"].apply(lambda x: \"%.f\"%(float(x)))\n",
    "    df['DayStamp']=df['DayStamp'].apply(lambda x: \"%.f\"%(float(x)))\n",
    "    return origin.merge(df,left_on=['DayStamp',\"HomeTeam\",\"AwayTeam\"],right_on=[\"DayStamp\",\"HomeTeam\",\"AwayTeam\"],how='inner')  "
   ]
  },
  {
   "cell_type": "code",
   "execution_count": 197,
   "metadata": {
    "collapsed": false,
    "scrolled": false
   },
   "outputs": [
    {
     "name": "stderr",
     "output_type": "stream",
     "text": [
      "/home/y/anaconda3/lib/python3.5/site-packages/ipykernel/__main__.py:9: SettingWithCopyWarning: \n",
      "A value is trying to be set on a copy of a slice from a DataFrame.\n",
      "Try using .loc[row_indexer,col_indexer] = value instead\n",
      "\n",
      "See the caveats in the documentation: http://pandas.pydata.org/pandas-docs/stable/indexing.html#indexing-view-versus-copy\n",
      "/home/y/anaconda3/lib/python3.5/site-packages/ipykernel/__main__.py:10: SettingWithCopyWarning: \n",
      "A value is trying to be set on a copy of a slice from a DataFrame.\n",
      "Try using .loc[row_indexer,col_indexer] = value instead\n",
      "\n",
      "See the caveats in the documentation: http://pandas.pydata.org/pandas-docs/stable/indexing.html#indexing-view-versus-copy\n"
     ]
    }
   ],
   "source": [
    "withodds = findRecordsByDf(c,resultdf)"
   ]
  },
  {
   "cell_type": "code",
   "execution_count": 79,
   "metadata": {
    "collapsed": false,
    "scrolled": false
   },
   "outputs": [],
   "source": [
    "import math\n",
    "def formatMatrixs(oddDf , precisionDf):\n",
    "    proba_mat = oddDf[['H_prob','D_prob','A_prob']].values\n",
    "    def locatePrecision(proba_mat, precisionDf):\n",
    "        precisionMat = precisionDf.values\n",
    "        pre_cols=[4,7,10]\n",
    "        def convert(proba, pre_col = 4):\n",
    "            if proba < 0.2:\n",
    "                return proba\n",
    "            for i in range(precisionMat.shape[0]):\n",
    "                if precisionMat[i,0] <= proba and proba < precisionMat[i,1] :\n",
    "                    if math.isnan(precisionMat[i,pre_col]):\n",
    "                        return proba\n",
    "                    else:\n",
    "                        return precisionMat[i,pre_col]\n",
    "        h_fproba = np.array([ convert(float(proba)) for proba in proba_mat[:,0] ] )\n",
    "        d_fproba = np.array([ convert(float(proba),pre_col=7) for proba in proba_mat[:,1] ] )\n",
    "        a_fproba = np.array([ convert(float(proba),pre_col=10) for proba in proba_mat[:,2] ] )\n",
    "        return h_fproba, d_fproba,a_fproba\n",
    "    h_fproba, d_fproba,a_fproba =locatePrecision(proba_mat,precisionDf)\n",
    "    fproba_mat = np.hstack([h_fproba,d_fproba,a_fproba]).reshape(3,h_fproba.shape[0]).T\n",
    "    odd_mat = oddDf[['JocH','JocD','JocA']].values\n",
    "    win_mat = None\n",
    "    if 'H' in oddDf.columns:\n",
    "        win_mat = oddDf[['H','D','A']].values\n",
    "    return fproba_mat,odd_mat,win_mat"
   ]
  },
  {
   "cell_type": "code",
   "execution_count": 199,
   "metadata": {
    "collapsed": false,
    "scrolled": false
   },
   "outputs": [],
   "source": [
    "fproba_mat,odd_mat,win_mat= formatMatrixs(withodds,p_matrix)"
   ]
  },
  {
   "cell_type": "code",
   "execution_count": 51,
   "metadata": {
    "collapsed": false,
    "scrolled": false
   },
   "outputs": [],
   "source": [
    "def strategy1(fproba_mat,odd_mat,win_mat):\n",
    "    exp = odd_mat * fproba_mat\n",
    "    maxi = np.argmax(exp,axis=1)\n",
    "    y_true = np.argmax(win_mat,axis=1)\n",
    "    spent = 0\n",
    "    expectation = 0\n",
    "    income = 0\n",
    "    for i in range(maxi.shape[0]):\n",
    "        if exp[i,maxi[i]] > 1:\n",
    "            expectation = expectation+ exp[i,maxi[i]]\n",
    "            spent = spent+1\n",
    "            if maxi[i] == y_true[i]:\n",
    "                income = income + odd_mat[i,maxi[i]]\n",
    "            \n",
    "            \n",
    "        \n",
    "    print(\"Spent:{}, Income:{}, expectation:{}\".format(spent,income,expectation))"
   ]
  },
  {
   "cell_type": "code",
   "execution_count": null,
   "metadata": {
    "collapsed": false,
    "scrolled": true
   },
   "outputs": [],
   "source": [
    "strategy1(fproba_mat,odd_mat,win_mat)"
   ]
  },
  {
   "cell_type": "code",
   "execution_count": 99,
   "metadata": {
    "collapsed": true,
    "scrolled": false
   },
   "outputs": [],
   "source": [
    "from datetime import date\n",
    "def strategy4(fproba_mat,odd_mat,win_mat,info, z = 0.2 ,e =1.8 ):\n",
    "    exp = odd_mat * fproba_mat\n",
    "    y_true=None\n",
    "    if win_mat is None:\n",
    "        y_true = np.zeros(shape=(fproba_mat.shape[0],))\n",
    "    else:\n",
    "        y_true = np.argmax(win_mat,axis=1)\n",
    "    spent = 0\n",
    "    expectation = 0\n",
    "    income = 0\n",
    "    total = fproba_mat.shape[0]\n",
    "    withdraw = 0\n",
    "    buy = 0\n",
    "    homeTeam = info[\"HomeTeam\"].values\n",
    "    awayTeam = info[\"AwayTeam\"].values\n",
    "    dates = [date(2015,1,1) for _ in range(homeTeam.shape[0])] \n",
    "    if \"DayStamp\" in info:\n",
    "        dates = convertToDate(info[\"DayStamp\"].values)\n",
    "    receipt = []\n",
    "    def chooseFrom(match, chosable):\n",
    "        max_prob = -1\n",
    "        c = 0\n",
    "        for choice in chosable:\n",
    "            if fproba_mat[match,choice] > max_prob:\n",
    "                c = choice\n",
    "                max_prob = fproba_mat[match,choice]\n",
    "        return c\n",
    "    for match in range(exp.shape[0]):\n",
    "        chosable = []\n",
    "        for choose in range(3):\n",
    "            if exp[match,choose]> e and fproba_mat[match,choose] >= z:\n",
    "                chosable.append(choose)\n",
    "                \n",
    "        if len(chosable) == 0:\n",
    "            withdraw= withdraw+1\n",
    "            continue\n",
    "        choice = chooseFrom(match,chosable)\n",
    "        expectation = expectation+ exp[match,choice]\n",
    "        spent = spent+1\n",
    "        buy =buy +1 \n",
    "        receipt.append(np.hstack([dates[match],homeTeam[match],awayTeam[match], odd_mat[match,choice],choice,y_true[match],fproba_mat[match,:]]))\n",
    "        if choice == y_true[match]:\n",
    "            income = income + odd_mat[match,choice]\n",
    "    #print(buy)\n",
    "    #print(\"Spent:{}, Income:{}, expectation:{}, withdraw:{}(total:{})\".\n",
    "    #      format(spent,income,expectation,withdraw,total))\n",
    "    receiptDf = pd.DataFrame(receipt,columns=[\"Date\",\"home\",\"away\",\"odd of choice\",\"choice\",\"result\",\"Hp\",\"Dp\",\"Ap\"])\n",
    "    return spent,income,expectation,withdraw,total,receiptDf"
   ]
  },
  {
   "cell_type": "code",
   "execution_count": 203,
   "metadata": {
    "collapsed": false,
    "scrolled": false
   },
   "outputs": [],
   "source": [
    "spent,income,expectation,withdraw,total,receipt = strategy4(fproba_mat,odd_mat,win_mat,withodds,z=0.2,e=1.6)"
   ]
  },
  {
   "cell_type": "code",
   "execution_count": 204,
   "metadata": {
    "collapsed": true,
    "scrolled": false
   },
   "outputs": [],
   "source": [
    "g_z_range = np.arange(0,1,0.05)\n",
    "g_e_range = np.arange(1,2,0.05)\n",
    "g_incomes = []\n",
    "g_spents =[]\n",
    "g_withdraws=[]\n",
    "g_exps=[]\n",
    "g_total = 0\n",
    "for e in g_e_range:\n",
    "    for z in g_z_range:\n",
    "        spent,income,expectation,withdraw,total,receipt = strategy4(fproba_mat,odd_mat,win_mat,withodds,z=z,e=e)\n",
    "        g_spents.append(spent)\n",
    "        g_incomes.append(income)\n",
    "        g_withdraws.append(withdraw)\n",
    "        g_exps.append(expectation)\n",
    "        g_total= total\n"
   ]
  },
  {
   "cell_type": "code",
   "execution_count": 205,
   "metadata": {
    "collapsed": false,
    "scrolled": false
   },
   "outputs": [
    {
     "data": {
      "text/plain": [
       "<matplotlib.figure.Figure at 0x7fef993a67b8>"
      ]
     },
     "execution_count": 205,
     "metadata": {},
     "output_type": "execute_result"
    },
    {
     "data": {
      "image/png": "[encoded data removed]",
      "text/plain": [
       "<matplotlib.figure.Figure at 0x7fef901a5710>"
      ]
     },
     "metadata": {},
     "output_type": "display_data"
    },
    {
     "data": {
      "image/png": "[encoded data removed]",
      "text/plain": [
       "<matplotlib.figure.Figure at 0x7fef90208c50>"
      ]
     },
     "metadata": {},
     "output_type": "display_data"
    },
    {
     "data": {
      "image/png": "[encoded data removed]",
      "text/plain": [
       "<matplotlib.figure.Figure at 0x7fef9024e860>"
      ]
     },
     "metadata": {},
     "output_type": "display_data"
    },
    {
     "data": {
      "image/png": "[encoded data removed]",
      "text/plain": [
       "<matplotlib.figure.Figure at 0x7fef90a164e0>"
      ]
     },
     "metadata": {},
     "output_type": "display_data"
    },
    {
     "data": {
      "image/png": "[encoded data removed]",
      "text/plain": [
       "<matplotlib.figure.Figure at 0x7fef99302048>"
      ]
     },
     "metadata": {},
     "output_type": "display_data"
    },
    {
     "data": {
      "text/plain": [
       "<matplotlib.figure.Figure at 0x7fef993a67b8>"
      ]
     },
     "metadata": {},
     "output_type": "display_data"
    }
   ],
   "source": [
    "import matplotlib.pyplot as plt\n",
    "g_n_incomes = np.array(g_incomes).reshape(len(g_e_range),len(g_z_range))\n",
    "g_n_spent = np.array(g_spents).reshape(len(g_e_range),len(g_z_range))\n",
    "g_n_withdraws = np.array(g_withdraws).reshape(len(g_e_range),len(g_z_range))\n",
    "g_n_exps = np.array(g_exps).reshape(len(g_e_range),len(g_z_range))\n",
    "Z, E =np.meshgrid(g_z_range,g_e_range)\n",
    "CS = plt.contour = plt.contourf(Z,E,g_n_incomes)\n",
    "plt.title(\"Income\")\n",
    "cbar = plt.colorbar(CS)\n",
    "plt.figure()\n",
    "CS = plt.contour = plt.contourf(Z,E,g_n_incomes-g_n_spent)\n",
    "plt.title(\"Net Income\")\n",
    "cbar = plt.colorbar(CS)\n",
    "plt.figure()\n",
    "CS = plt.contour = plt.contourf(Z,E,g_n_withdraws)\n",
    "plt.title(\"Withdraws\")\n",
    "cbar = plt.colorbar(CS)\n",
    "plt.figure()\n",
    "CS = plt.contour = plt.contourf(Z,E,g_n_exps - g_n_incomes)\n",
    "plt.title(\"Exps - income\")\n",
    "cbar = plt.colorbar(CS)\n",
    "plt.figure()\n",
    "CS = plt.contour = plt.contourf(Z,E, (g_n_incomes-g_n_spent)/g_n_spent)\n",
    "plt.title(\"net_income/spents\")\n",
    "cbar = plt.colorbar(CS)\n",
    "plt.figure()"
   ]
  },
  {
   "cell_type": "code",
   "execution_count": 129,
   "metadata": {
    "collapsed": true,
    "scrolled": false
   },
   "outputs": [],
   "source": [
    "g_node_sizes=[g_best_size,g_best_size]\n",
    "X, y = c.getH7(removeInsufficient=True)\n",
    "X_scaled = StandardScaler().fit_transform(X)"
   ]
  },
  {
   "cell_type": "code",
   "execution_count": 39,
   "metadata": {
    "collapsed": true,
    "scrolled": false
   },
   "outputs": [],
   "source": [
    "def getPrecisionMaxtrix(X,y,node_sizes):\n",
    "    _,_, proba_test,proba_y,_ = crossValidate2(node_sizes,X,y,dropout=g_best_dropout,fold=10)\n",
    "    p_matrix = precisionMatrix(np.vstack(proba_test),np.vstack(proba_y)) \n",
    "    return p_matrix"
   ]
  },
  {
   "cell_type": "code",
   "execution_count": 191,
   "metadata": {
    "collapsed": false,
    "scrolled": false
   },
   "outputs": [
    {
     "name": "stderr",
     "output_type": "stream",
     "text": [
      "/home/y/anaconda3/lib/python3.5/site-packages/ipykernel/__main__.py:223: DeprecationWarning: using a non-integer number instead of an integer will result in an error in the future\n",
      "/home/y/anaconda3/lib/python3.5/site-packages/ipykernel/__main__.py:231: DeprecationWarning: using a non-integer number instead of an integer will result in an error in the future\n"
     ]
    },
    {
     "name": "stdout",
     "output_type": "stream",
     "text": [
      "start format\n",
      "[['HS_Acc' 'HST_Acc' 'H_poss_Acc' 'H_atk_3rd_Acc' 'H_atk_3rd_tot_Acc'\n",
      "  'H_red_goal_Acc' 'H_red_on_Acc' 'H_red_tot_Acc' 'H_chance_goal_Acc'\n",
      "  'H_chance_tot_Acc' 'H_successful_tackle_Acc' 'H_tackle_tot_Acc'\n",
      "  'H_successful_clearance_Acc' 'H_clearance_tot_Acc' 'H_interceptions_Acc'\n",
      "  'H_blocks_Acc']\n",
      " ['AS_Acc' 'AST_Acc' 'A_poss_Acc' 'A_atk_3rd_Acc' 'A_atk_3rd_tot_Acc'\n",
      "  'A_red_goal_Acc' 'A_red_on_Acc' 'A_red_tot_Acc' 'A_chance_goal_Acc'\n",
      "  'A_chance_tot_Acc' 'A_successful_tackle_Acc' 'A_tackle_tot_Acc'\n",
      "  'A_successful_clearance_Acc' 'A_clearance_tot_Acc' 'A_interceptions_Acc'\n",
      "  'A_blocks_Acc']]\n",
      "finish\n",
      "Epoch 00030: early stopping\n",
      "137/137 [==============================] - 0s     \n",
      "137/137 [==============================] - 0s     \n",
      "1221/1221 [==============================] - 0s     \n",
      "Fold: 1, Class dist.: [539 298 384], val_loss: 1.015\n",
      "Epoch 00031: early stopping\n",
      "137/137 [==============================] - 0s     \n",
      "137/137 [==============================] - 0s     \n",
      "1221/1221 [==============================] - 0s     \n",
      "Fold: 2, Class dist.: [539 298 384], val_loss: 0.990\n",
      "Epoch 00035: early stopping\n",
      "136/136 [==============================] - 0s     \n",
      "136/136 [==============================] - 0s     \n",
      "1222/1222 [==============================] - 0s     \n",
      "Fold: 3, Class dist.: [539 299 384], val_loss: 0.956\n",
      "Epoch 00055: early stopping\n",
      "136/136 [==============================] - 0s     \n",
      "136/136 [==============================] - 0s     \n",
      "1222/1222 [==============================] - 0s     \n",
      "Fold: 4, Class dist.: [539 299 384], val_loss: 0.954\n",
      "Epoch 00030: early stopping\n",
      "136/136 [==============================] - 0s     \n",
      "136/136 [==============================] - 0s     \n",
      "1222/1222 [==============================] - 0s     \n",
      "Fold: 5, Class dist.: [539 299 384], val_loss: 0.984\n",
      "Epoch 00027: early stopping\n",
      "136/136 [==============================] - 0s     \n",
      "136/136 [==============================] - 0s     \n",
      "1222/1222 [==============================] - 0s     \n",
      "Fold: 6, Class dist.: [539 299 384], val_loss: 0.989\n",
      "Epoch 00077: early stopping\n",
      "136/136 [==============================] - 0s     \n",
      "136/136 [==============================] - 0s     \n",
      "1222/1222 [==============================] - 0s     \n",
      "Fold: 7, Class dist.: [539 299 384], val_loss: 1.044\n",
      "Epoch 00030: early stopping\n",
      "135/135 [==============================] - 0s     \n",
      "135/135 [==============================] - 0s     \n",
      "1223/1223 [==============================] - 0s     \n",
      "Fold: 8, Class dist.: [539 299 385], val_loss: 1.058\n",
      "Epoch 00029: early stopping\n",
      "135/135 [==============================] - 0s     \n",
      "135/135 [==============================] - 0s     \n",
      "1223/1223 [==============================] - 0s     \n",
      "Fold: 9, Class dist.: [539 299 385], val_loss: 1.024\n",
      "Epoch 00031: early stopping\n",
      "134/134 [==============================] - 0s     \n",
      "134/134 [==============================] - 0s     \n",
      "1224/1224 [==============================] - 0s     \n",
      "Fold: 10, Class dist.: [540 299 385], val_loss: 1.049\n"
     ]
    }
   ],
   "source": [
    "g_p_matrix= getPrecisionMaxtrix(X, y,g_node_sizes)"
   ]
  },
  {
   "cell_type": "code",
   "execution_count": 192,
   "metadata": {
    "collapsed": false,
    "scrolled": false
   },
   "outputs": [
    {
     "data": {
      "text/html": [
       "<div>\n",
       "<table border=\"1\" class=\"dataframe\">\n",
       "  <thead>\n",
       "    <tr style=\"text-align: right;\">\n",
       "      <th></th>\n",
       "      <th>[lower</th>\n",
       "      <th>upper)</th>\n",
       "      <th>h_Correct</th>\n",
       "      <th>h_Wrong</th>\n",
       "      <th>h_Precent</th>\n",
       "      <th>d_Correct</th>\n",
       "      <th>d_Wrong</th>\n",
       "      <th>d_Precent</th>\n",
       "      <th>a_Correct</th>\n",
       "      <th>a_Wrong</th>\n",
       "      <th>a_Precent</th>\n",
       "    </tr>\n",
       "  </thead>\n",
       "  <tbody>\n",
       "    <tr>\n",
       "      <th>&gt;80</th>\n",
       "      <td>0.8</td>\n",
       "      <td>1.0</td>\n",
       "      <td>37</td>\n",
       "      <td>13</td>\n",
       "      <td>0.740000</td>\n",
       "      <td>0</td>\n",
       "      <td>0</td>\n",
       "      <td>NaN</td>\n",
       "      <td>1</td>\n",
       "      <td>0</td>\n",
       "      <td>1.000000</td>\n",
       "    </tr>\n",
       "    <tr>\n",
       "      <th>60-80</th>\n",
       "      <td>0.6</td>\n",
       "      <td>0.8</td>\n",
       "      <td>209</td>\n",
       "      <td>114</td>\n",
       "      <td>0.647059</td>\n",
       "      <td>0</td>\n",
       "      <td>0</td>\n",
       "      <td>NaN</td>\n",
       "      <td>52</td>\n",
       "      <td>28</td>\n",
       "      <td>0.650000</td>\n",
       "    </tr>\n",
       "    <tr>\n",
       "      <th>50-60</th>\n",
       "      <td>0.5</td>\n",
       "      <td>0.6</td>\n",
       "      <td>84</td>\n",
       "      <td>87</td>\n",
       "      <td>0.491228</td>\n",
       "      <td>0</td>\n",
       "      <td>1</td>\n",
       "      <td>0.000000</td>\n",
       "      <td>86</td>\n",
       "      <td>69</td>\n",
       "      <td>0.554839</td>\n",
       "    </tr>\n",
       "    <tr>\n",
       "      <th>40-50</th>\n",
       "      <td>0.4</td>\n",
       "      <td>0.5</td>\n",
       "      <td>102</td>\n",
       "      <td>108</td>\n",
       "      <td>0.485714</td>\n",
       "      <td>3</td>\n",
       "      <td>12</td>\n",
       "      <td>0.200000</td>\n",
       "      <td>66</td>\n",
       "      <td>125</td>\n",
       "      <td>0.345550</td>\n",
       "    </tr>\n",
       "    <tr>\n",
       "      <th>30-40</th>\n",
       "      <td>0.3</td>\n",
       "      <td>0.4</td>\n",
       "      <td>64</td>\n",
       "      <td>123</td>\n",
       "      <td>0.342246</td>\n",
       "      <td>55</td>\n",
       "      <td>126</td>\n",
       "      <td>0.303867</td>\n",
       "      <td>75</td>\n",
       "      <td>148</td>\n",
       "      <td>0.336323</td>\n",
       "    </tr>\n",
       "    <tr>\n",
       "      <th>20-30</th>\n",
       "      <td>0.2</td>\n",
       "      <td>0.3</td>\n",
       "      <td>77</td>\n",
       "      <td>169</td>\n",
       "      <td>0.313008</td>\n",
       "      <td>213</td>\n",
       "      <td>626</td>\n",
       "      <td>0.253874</td>\n",
       "      <td>78</td>\n",
       "      <td>186</td>\n",
       "      <td>0.295455</td>\n",
       "    </tr>\n",
       "    <tr>\n",
       "      <th>&lt;20</th>\n",
       "      <td>0.0</td>\n",
       "      <td>0.2</td>\n",
       "      <td>26</td>\n",
       "      <td>145</td>\n",
       "      <td>0.152047</td>\n",
       "      <td>61</td>\n",
       "      <td>261</td>\n",
       "      <td>0.189441</td>\n",
       "      <td>69</td>\n",
       "      <td>375</td>\n",
       "      <td>0.155405</td>\n",
       "    </tr>\n",
       "  </tbody>\n",
       "</table>\n",
       "</div>"
      ],
      "text/plain": [
       "       [lower  upper)  h_Correct  h_Wrong  h_Precent  d_Correct  d_Wrong  \\\n",
       ">80       0.8     1.0         37       13   0.740000          0        0   \n",
       "60-80     0.6     0.8        209      114   0.647059          0        0   \n",
       "50-60     0.5     0.6         84       87   0.491228          0        1   \n",
       "40-50     0.4     0.5        102      108   0.485714          3       12   \n",
       "30-40     0.3     0.4         64      123   0.342246         55      126   \n",
       "20-30     0.2     0.3         77      169   0.313008        213      626   \n",
       "<20       0.0     0.2         26      145   0.152047         61      261   \n",
       "\n",
       "       d_Precent  a_Correct  a_Wrong  a_Precent  \n",
       ">80          NaN          1        0   1.000000  \n",
       "60-80        NaN         52       28   0.650000  \n",
       "50-60   0.000000         86       69   0.554839  \n",
       "40-50   0.200000         66      125   0.345550  \n",
       "30-40   0.303867         75      148   0.336323  \n",
       "20-30   0.253874         78      186   0.295455  \n",
       "<20     0.189441         69      375   0.155405  "
      ]
     },
     "execution_count": 192,
     "metadata": {},
     "output_type": "execute_result"
    }
   ],
   "source": [
    "g_p_matrix"
   ]
  },
  {
   "cell_type": "code",
   "execution_count": 134,
   "metadata": {
    "collapsed": true,
    "scrolled": false
   },
   "outputs": [],
   "source": [
    "def getTrainedModel(node_sizes,c):\n",
    "    X, y = c.getH7(removeInsufficient=True)\n",
    "    X_scaled = StandardScaler().fit_transform(X) \n",
    "    model = createModel(node_sizes,X_scaled.shape[1])\n",
    "    earlyCallback = EarlyStopping(patience=g_patience,verbose=1)\n",
    "    history = model.fit(X_scaled,y,verbose=0,nb_epoch=500, validation_split=0.1, callbacks=[earlyCallback])\n",
    "    return model\n",
    "    "
   ]
  },
  {
   "cell_type": "code",
   "execution_count": 135,
   "metadata": {
    "collapsed": false,
    "scrolled": false
   },
   "outputs": [
    {
     "name": "stdout",
     "output_type": "stream",
     "text": [
      "start format\n",
      "[['HS_Acc' 'HST_Acc' 'H_poss_Acc' 'H_atk_3rd_Acc' 'H_atk_3rd_tot_Acc'\n",
      "  'H_red_goal_Acc' 'H_red_on_Acc' 'H_red_tot_Acc' 'H_chance_goal_Acc'\n",
      "  'H_chance_tot_Acc' 'H_successful_tackle_Acc' 'H_tackle_tot_Acc'\n",
      "  'H_successful_clearance_Acc' 'H_clearance_tot_Acc' 'H_interceptions_Acc'\n",
      "  'H_blocks_Acc']\n",
      " ['AS_Acc' 'AST_Acc' 'A_poss_Acc' 'A_atk_3rd_Acc' 'A_atk_3rd_tot_Acc'\n",
      "  'A_red_goal_Acc' 'A_red_on_Acc' 'A_red_tot_Acc' 'A_chance_goal_Acc'\n",
      "  'A_chance_tot_Acc' 'A_successful_tackle_Acc' 'A_tackle_tot_Acc'\n",
      "  'A_successful_clearance_Acc' 'A_clearance_tot_Acc' 'A_interceptions_Acc'\n",
      "  'A_blocks_Acc']]\n",
      "finish\n",
      "Epoch 00019: early stopping\n"
     ]
    },
    {
     "name": "stderr",
     "output_type": "stream",
     "text": [
      "/home/y/anaconda3/lib/python3.5/site-packages/ipykernel/__main__.py:223: DeprecationWarning: using a non-integer number instead of an integer will result in an error in the future\n",
      "/home/y/anaconda3/lib/python3.5/site-packages/ipykernel/__main__.py:231: DeprecationWarning: using a non-integer number instead of an integer will result in an error in the future\n"
     ]
    }
   ],
   "source": [
    "g_model = getTrainedModel(g_node_sizes,c)"
   ]
  },
  {
   "cell_type": "code",
   "execution_count": 154,
   "metadata": {
    "collapsed": false,
    "scrolled": false
   },
   "outputs": [],
   "source": [
    "from sklearn.preprocessing import StandardScaler\n",
    "def predictFuture(node_sizes,c,p_matrix,model):\n",
    "    X_test,y_test = c.getH7(removeInsufficient = True,future=True)\n",
    "    X_test_scaled = StandardScaler().fit_transform(X_test)\n",
    "    proba_y = model.predict_proba(X_test_scaled)\n",
    "   \n",
    "    def getTestDf (X_test,proba_y,c):\n",
    "        decoded = oneHotDecode(c, X_test)\n",
    "        homeNames = c.inverseTeamMapping(decoded[:,0])\n",
    "        awayNames = c.inverseTeamMapping(decoded[:,1])\n",
    "        names = np.array([homeNames,awayNames]).T\n",
    "        return pd.DataFrame(np.hstack([names,proba_y]),columns=['HomeTeam','AwayTeam','H_prob','D_prob','A_prob'])\n",
    "   \n",
    "    test_df = getTestDf(X_test,proba_y,c)\n",
    "    test_df = test_df.sort(columns=\"HomeTeam\")\n",
    "    originDf = c.df[c.df[\"Future\"]==1].sort(columns=\"HomeTeam\")\n",
    "    test_df['JocH']=originDf['JocH'].values\n",
    "    test_df['JocD']=originDf['JocD'].values\n",
    "    test_df['JocA']=originDf['JocA'].values\n",
    "    fproba_mat,odd_mat,_= formatMatrixs(test_df,p_matrix)\n",
    "    return fproba_mat,odd_mat,test_df\n",
    "    \n",
    "    "
   ]
  },
  {
   "cell_type": "code",
   "execution_count": 155,
   "metadata": {
    "collapsed": false,
    "scrolled": false
   },
   "outputs": [
    {
     "name": "stdout",
     "output_type": "stream",
     "text": [
      "start format\n",
      "[['HS_Acc' 'HST_Acc' 'H_poss_Acc' 'H_atk_3rd_Acc' 'H_atk_3rd_tot_Acc'\n",
      "  'H_red_goal_Acc' 'H_red_on_Acc' 'H_red_tot_Acc' 'H_chance_goal_Acc'\n",
      "  'H_chance_tot_Acc' 'H_successful_tackle_Acc' 'H_tackle_tot_Acc'\n",
      "  'H_successful_clearance_Acc' 'H_clearance_tot_Acc' 'H_interceptions_Acc'\n",
      "  'H_blocks_Acc']\n",
      " ['AS_Acc' 'AST_Acc' 'A_poss_Acc' 'A_atk_3rd_Acc' 'A_atk_3rd_tot_Acc'\n",
      "  'A_red_goal_Acc' 'A_red_on_Acc' 'A_red_tot_Acc' 'A_chance_goal_Acc'\n",
      "  'A_chance_tot_Acc' 'A_successful_tackle_Acc' 'A_tackle_tot_Acc'\n",
      "  'A_successful_clearance_Acc' 'A_clearance_tot_Acc' 'A_interceptions_Acc'\n",
      "  'A_blocks_Acc']]\n",
      "finish\n",
      "9/9 [==============================] - 0s"
     ]
    },
    {
     "name": "stderr",
     "output_type": "stream",
     "text": [
      "/home/y/anaconda3/lib/python3.5/site-packages/ipykernel/__main__.py:223: DeprecationWarning: using a non-integer number instead of an integer will result in an error in the future\n",
      "/home/y/anaconda3/lib/python3.5/site-packages/ipykernel/__main__.py:231: DeprecationWarning: using a non-integer number instead of an integer will result in an error in the future\n",
      "/home/y/anaconda3/lib/python3.5/site-packages/ipykernel/__main__.py:15: FutureWarning: sort(columns=....) is deprecated, use sort_values(by=.....)\n",
      "/home/y/anaconda3/lib/python3.5/site-packages/ipykernel/__main__.py:16: FutureWarning: sort(columns=....) is deprecated, use sort_values(by=.....)\n"
     ]
    },
    {
     "name": "stdout",
     "output_type": "stream",
     "text": [
      "\n"
     ]
    }
   ],
   "source": [
    "fproba_mat,odd_mat,test_df=predictFuture(g_node_sizes,c,g_p_matrix,g_model)"
   ]
  },
  {
   "cell_type": "code",
   "execution_count": 164,
   "metadata": {
    "collapsed": false,
    "scrolled": false
   },
   "outputs": [],
   "source": [
    "spent,income,expectation,withdraw,total,receipt = strategy4(fproba_mat,odd_mat,None,test_df,z=0.2,e=1.6)"
   ]
  },
  {
   "cell_type": "code",
   "execution_count": 165,
   "metadata": {
    "collapsed": false,
    "scrolled": false
   },
   "outputs": [
    {
     "data": {
      "text/html": [
       "<div>\n",
       "<table border=\"1\" class=\"dataframe\">\n",
       "  <thead>\n",
       "    <tr style=\"text-align: right;\">\n",
       "      <th></th>\n",
       "      <th>home</th>\n",
       "      <th>away</th>\n",
       "      <th>odd of choice</th>\n",
       "      <th>choice</th>\n",
       "      <th>result</th>\n",
       "      <th>Hp</th>\n",
       "      <th>Dp</th>\n",
       "      <th>Ap</th>\n",
       "    </tr>\n",
       "  </thead>\n",
       "  <tbody>\n",
       "  </tbody>\n",
       "</table>\n",
       "</div>"
      ],
      "text/plain": [
       "Empty DataFrame\n",
       "Columns: [home, away, odd of choice, choice, result, Hp, Dp, Ap]\n",
       "Index: []"
      ]
     },
     "execution_count": 165,
     "metadata": {},
     "output_type": "execute_result"
    }
   ],
   "source": [
    "receipt"
   ]
  },
  {
   "cell_type": "code",
   "execution_count": null,
   "metadata": {
    "collapsed": false,
    "scrolled": false
   },
   "outputs": [],
   "source": [
    "c.df[[\"Date\",\"HomeTeam\",\"AwayTeam\"]].sort(columns =\"Date\",ascending = False)\n"
   ]
  },
  {
   "cell_type": "code",
   "execution_count": 170,
   "metadata": {
    "collapsed": true,
    "scrolled": false
   },
   "outputs": [],
   "source": [
    "from sklearn.ensemble import RandomForestClassifier"
   ]
  },
  {
   "cell_type": "code",
   "execution_count": 185,
   "metadata": {
    "collapsed": true,
    "scrolled": false
   },
   "outputs": [],
   "source": [
    "forest =RandomForestClassifier(n_estimators = 10000)"
   ]
  },
  {
   "cell_type": "code",
   "execution_count": 186,
   "metadata": {
    "collapsed": false,
    "scrolled": false
   },
   "outputs": [
    {
     "data": {
      "text/plain": [
       "RandomForestClassifier(bootstrap=True, class_weight=None, criterion='gini',\n",
       "            max_depth=None, max_features='auto', max_leaf_nodes=None,\n",
       "            min_samples_leaf=1, min_samples_split=2,\n",
       "            min_weight_fraction_leaf=0.0, n_estimators=10000, n_jobs=1,\n",
       "            oob_score=False, random_state=None, verbose=0,\n",
       "            warm_start=False)"
      ]
     },
     "execution_count": 186,
     "metadata": {},
     "output_type": "execute_result"
    }
   ],
   "source": [
    "forest.fit(X_scaled,y)"
   ]
  },
  {
   "cell_type": "code",
   "execution_count": 187,
   "metadata": {
    "collapsed": false,
    "scrolled": false
   },
   "outputs": [
    {
     "name": "stdout",
     "output_type": "stream",
     "text": [
      "start format\n",
      "[['HS_Acc' 'HST_Acc' 'H_poss_Acc' 'H_atk_3rd_Acc' 'H_atk_3rd_tot_Acc'\n",
      "  'H_red_goal_Acc' 'H_red_on_Acc' 'H_red_tot_Acc' 'H_chance_goal_Acc'\n",
      "  'H_chance_tot_Acc' 'H_successful_tackle_Acc' 'H_tackle_tot_Acc'\n",
      "  'H_successful_clearance_Acc' 'H_clearance_tot_Acc' 'H_interceptions_Acc'\n",
      "  'H_blocks_Acc']\n",
      " ['AS_Acc' 'AST_Acc' 'A_poss_Acc' 'A_atk_3rd_Acc' 'A_atk_3rd_tot_Acc'\n",
      "  'A_red_goal_Acc' 'A_red_on_Acc' 'A_red_tot_Acc' 'A_chance_goal_Acc'\n",
      "  'A_chance_tot_Acc' 'A_successful_tackle_Acc' 'A_tackle_tot_Acc'\n",
      "  'A_successful_clearance_Acc' 'A_clearance_tot_Acc' 'A_interceptions_Acc'\n",
      "  'A_blocks_Acc']]\n",
      "finish\n"
     ]
    },
    {
     "name": "stderr",
     "output_type": "stream",
     "text": [
      "/home/y/anaconda3/lib/python3.5/site-packages/ipykernel/__main__.py:223: DeprecationWarning: using a non-integer number instead of an integer will result in an error in the future\n",
      "/home/y/anaconda3/lib/python3.5/site-packages/ipykernel/__main__.py:231: DeprecationWarning: using a non-integer number instead of an integer will result in an error in the future\n"
     ]
    }
   ],
   "source": [
    "    X_test,y_test = c.getH7(removeInsufficient = True,future=True)\n",
    "    X_test_scaled = StandardScaler().fit_transform(X_test)"
   ]
  },
  {
   "cell_type": "code",
   "execution_count": 188,
   "metadata": {
    "collapsed": false,
    "scrolled": false
   },
   "outputs": [],
   "source": [
    "result =np.array(forest.predict_proba(X_test))"
   ]
  },
  {
   "cell_type": "code",
   "execution_count": 189,
   "metadata": {
    "collapsed": false,
    "scrolled": false
   },
   "outputs": [
    {
     "data": {
      "text/plain": [
       "array([[ 0.4075,  0.3284,  0.2641],\n",
       "       [ 0.3526,  0.3407,  0.3067],\n",
       "       [ 0.3954,  0.3455,  0.2591],\n",
       "       [ 0.3978,  0.3391,  0.2631],\n",
       "       [ 0.403 ,  0.3453,  0.2517],\n",
       "       [ 0.3905,  0.3458,  0.2637],\n",
       "       [ 0.4031,  0.3336,  0.2633],\n",
       "       [ 0.3597,  0.3373,  0.303 ],\n",
       "       [ 0.4072,  0.3307,  0.2621]])"
      ]
     },
     "execution_count": 189,
     "metadata": {},
     "output_type": "execute_result"
    }
   ],
   "source": []
  },
  {
   "cell_type": "code",
   "execution_count": 16,
   "metadata": {
    "collapsed": false,
    "scrolled": false
   },
   "outputs": [
    {
     "name": "stdout",
     "output_type": "stream",
     "text": [
      "start format\n",
      "[['HS_Acc' 'HST_Acc' 'H_poss_Acc' 'H_atk_3rd_Acc' 'H_atk_3rd_tot_Acc'\n",
      "  'H_red_goal_Acc' 'H_red_on_Acc' 'H_red_tot_Acc' 'H_chance_goal_Acc'\n",
      "  'H_chance_tot_Acc' 'H_successful_tackle_Acc' 'H_tackle_tot_Acc'\n",
      "  'H_successful_clearance_Acc' 'H_clearance_tot_Acc' 'H_interceptions_Acc'\n",
      "  'H_blocks_Acc']\n",
      " ['AS_Acc' 'AST_Acc' 'A_poss_Acc' 'A_atk_3rd_Acc' 'A_atk_3rd_tot_Acc'\n",
      "  'A_red_goal_Acc' 'A_red_on_Acc' 'A_red_tot_Acc' 'A_chance_goal_Acc'\n",
      "  'A_chance_tot_Acc' 'A_successful_tackle_Acc' 'A_tackle_tot_Acc'\n",
      "  'A_successful_clearance_Acc' 'A_clearance_tot_Acc' 'A_interceptions_Acc'\n",
      "  'A_blocks_Acc']]\n",
      "finish\n"
     ]
    },
    {
     "name": "stderr",
     "output_type": "stream",
     "text": [
      "/home/y/anaconda3/lib/python3.5/site-packages/ipykernel/__main__.py:223: DeprecationWarning: using a non-integer number instead of an integer will result in an error in the future\n",
      "/home/y/anaconda3/lib/python3.5/site-packages/ipykernel/__main__.py:231: DeprecationWarning: using a non-integer number instead of an integer will result in an error in the future\n"
     ]
    }
   ],
   "source": [
    "g_X,g_y = c.getH7()"
   ]
  },
  {
   "cell_type": "code",
   "execution_count": 17,
   "metadata": {
    "collapsed": false,
    "scrolled": false
   },
   "outputs": [],
   "source": [
    "g_X_train , g_X_test, g_y_train,g_y_test = splitData(g_X,g_y,test_size =0.2)"
   ]
  },
  {
   "cell_type": "code",
   "execution_count": 18,
   "metadata": {
    "collapsed": false,
    "scrolled": false
   },
   "outputs": [],
   "source": [
    "scaler = StandardScaler()\n",
    "g_X_train_scaled = scaler.fit_transform(g_X_train)\n",
    "g_X_test_scaled = scaler.transform(g_X_test)"
   ]
  },
  {
   "cell_type": "code",
   "execution_count": 19,
   "metadata": {
    "collapsed": false,
    "scrolled": false
   },
   "outputs": [
    {
     "name": "stderr",
     "output_type": "stream",
     "text": [
      "/home/y/scikit-learn/sklearn/lda.py:4: DeprecationWarning: lda.LDA has been moved to discriminant_analysis.LinearDiscriminantAnalysis in 0.17 and will be removed in 0.19\n",
      "  \"in 0.17 and will be removed in 0.19\", DeprecationWarning)\n"
     ]
    }
   ],
   "source": [
    "from sklearn.lda import LDA\n",
    "lda = LDA(solver ='eigen',shrinkage='auto')\n",
    "g_X_train_lda = lda.fit_transform(g_X_train_scaled,np.argmax(g_y_train,axis=1))"
   ]
  },
  {
   "cell_type": "code",
   "execution_count": 20,
   "metadata": {
    "collapsed": false,
    "scrolled": false
   },
   "outputs": [
    {
     "name": "stdout",
     "output_type": "stream",
     "text": [
      "(1086, 138)\n"
     ]
    }
   ],
   "source": [
    "print(g_X_train_lda.shape)\n",
    "g_y_arg = np.argmax(g_y_train,axis=1)\n"
   ]
  },
  {
   "cell_type": "code",
   "execution_count": 21,
   "metadata": {
    "collapsed": false,
    "scrolled": false
   },
   "outputs": [
    {
     "data": {
      "text/plain": [
       "<matplotlib.figure.Figure at 0x7f89a0e5c3c8>"
      ]
     },
     "execution_count": 21,
     "metadata": {},
     "output_type": "execute_result"
    },
    {
     "data": {
      "image/png": "[encoded data removed]",
      "text/plain": [
       "<matplotlib.figure.Figure at 0x7f89a0e5c438>"
      ]
     },
     "metadata": {},
     "output_type": "display_data"
    },
    {
     "data": {
      "text/plain": [
       "<matplotlib.figure.Figure at 0x7f89a0e5c3c8>"
      ]
     },
     "metadata": {},
     "output_type": "display_data"
    }
   ],
   "source": [
    "g_colors = ['r','g','b']\n",
    "for i in range (3):\n",
    "    tempX = g_X_train_lda[g_y_arg==i,:]\n",
    "    plt.scatter(tempX[:,0],tempX[:,1],c = g_colors[i])\n",
    "plt.figure()"
   ]
  },
  {
   "cell_type": "code",
   "execution_count": 22,
   "metadata": {
    "collapsed": true,
    "scrolled": false
   },
   "outputs": [],
   "source": [
    "g_X_test_lda = lda.transform(g_X_test_scaled)"
   ]
  },
  {
   "cell_type": "code",
   "execution_count": 23,
   "metadata": {
    "collapsed": false,
    "scrolled": false
   },
   "outputs": [
    {
     "data": {
      "text/plain": [
       "<matplotlib.figure.Figure at 0x7f899d20e9e8>"
      ]
     },
     "execution_count": 23,
     "metadata": {},
     "output_type": "execute_result"
    },
    {
     "data": {
      "image/png": "[encoded data removed]",
      "text/plain": [
       "<matplotlib.figure.Figure at 0x7f899d20e9b0>"
      ]
     },
     "metadata": {},
     "output_type": "display_data"
    },
    {
     "data": {
      "text/plain": [
       "<matplotlib.figure.Figure at 0x7f899d20e9e8>"
      ]
     },
     "metadata": {},
     "output_type": "display_data"
    }
   ],
   "source": [
    "g_colors = ['r','g','b']\n",
    "g_y_test_arg = np.argmax(g_y_test,axis=1)\n",
    "for i in range (3):\n",
    "    tempX = g_X_test_lda[g_y_test_arg==i,:]\n",
    "    plt.scatter(tempX[:,0],tempX[:,1],c = g_colors[i])\n",
    "plt.figure()"
   ]
  },
  {
   "cell_type": "code",
   "execution_count": 32,
   "metadata": {
    "collapsed": true,
    "scrolled": false
   },
   "outputs": [],
   "source": [
    "def testRetainNum(X_train_lda, y_train,variance_ratio, threshold = 0.001):\n",
    "    maxChoose = variance_ratio[variance_ratio >threshold].shape[0]\n",
    "    print(\"maxChoose {}\".format(maxChoose))\n",
    "    losses = []\n",
    "    val_losses = []\n",
    "    print(X_train_lda.shape)\n",
    "    print(y_train.shape)\n",
    "    dim_range =range(2, maxChoose+1,2)\n",
    "    for i in dim_range:\n",
    "        train_loss , val_loss = kfoldTesting(X_train_lda[:,0:i],y_train,s=i)\n",
    "        print(\"dim{}: train {}, val {}\".format(i,np.mean(train_loss),np.mean(val_loss)))\n",
    "        losses.append(train_loss)\n",
    "        val_losses.append(val_loss)\n",
    "    return losses, val_losses,dim_range\n",
    "    "
   ]
  },
  {
   "cell_type": "code",
   "execution_count": 28,
   "metadata": {
    "collapsed": false,
    "scrolled": false
   },
   "outputs": [
    {
     "name": "stdout",
     "output_type": "stream",
     "text": [
      "maxChoose 68\n",
      "(1086, 138)\n",
      "(1086, 3)\n",
      "Epoch 00082: early stopping\n",
      "Epoch 00092: early stopping\n",
      "Epoch 00100: early stopping\n",
      "Epoch 00115: early stopping\n",
      "Epoch 00099: early stopping\n",
      "dim2: train 0.9972330941029204, val 0.989859585201039\n",
      "Epoch 00068: early stopping\n",
      "Epoch 00094: early stopping\n",
      "Epoch 00079: early stopping\n",
      "Epoch 00097: early stopping\n",
      "Epoch 00095: early stopping\n",
      "dim4: train 0.9741176704516867, val 0.9788437170140882\n",
      "Epoch 00076: early stopping\n",
      "Epoch 00055: early stopping\n",
      "Epoch 00082: early stopping\n",
      "Epoch 00100: early stopping\n",
      "Epoch 00077: early stopping\n",
      "dim6: train 0.9564871733545963, val 0.9735073117648854\n",
      "Epoch 00057: early stopping\n",
      "Epoch 00061: early stopping\n",
      "Epoch 00050: early stopping\n",
      "Epoch 00074: early stopping\n",
      "Epoch 00064: early stopping\n",
      "dim8: train 0.9509325670668769, val 0.9680630389381857\n",
      "Epoch 00064: early stopping\n",
      "Epoch 00080: early stopping\n",
      "Epoch 00072: early stopping\n",
      "Epoch 00071: early stopping\n",
      "Epoch 00052: early stopping\n",
      "dim10: train 0.9465029346562135, val 0.9641666706870584\n",
      "Epoch 00069: early stopping\n",
      "Epoch 00056: early stopping\n",
      "Epoch 00055: early stopping\n",
      "Epoch 00052: early stopping\n",
      "Epoch 00041: early stopping\n",
      "dim12: train 0.93333688206989, val 0.964350694768569\n",
      "Epoch 00042: early stopping\n",
      "Epoch 00052: early stopping\n",
      "Epoch 00048: early stopping\n",
      "Epoch 00050: early stopping\n",
      "Epoch 00045: early stopping\n",
      "dim14: train 0.9308462965693461, val 0.9627775150186875\n",
      "Epoch 00046: early stopping\n",
      "Epoch 00042: early stopping\n",
      "Epoch 00039: early stopping\n",
      "Epoch 00039: early stopping\n",
      "Epoch 00049: early stopping\n",
      "dim16: train 0.9216212935471125, val 0.9624584183973426\n",
      "Epoch 00043: early stopping\n",
      "Epoch 00042: early stopping\n",
      "Epoch 00041: early stopping\n",
      "Epoch 00043: early stopping\n",
      "Epoch 00034: early stopping\n",
      "dim18: train 0.9273964522511718, val 0.9629917256972369\n",
      "Epoch 00044: early stopping\n",
      "Epoch 00046: early stopping\n",
      "Epoch 00036: early stopping\n",
      "Epoch 00041: early stopping\n",
      "Epoch 00035: early stopping\n",
      "dim20: train 0.9221942795582427, val 0.9670145792119642\n",
      "Epoch 00037: early stopping\n",
      "Epoch 00037: early stopping\n",
      "Epoch 00032: early stopping\n",
      "Epoch 00040: early stopping\n",
      "Epoch 00033: early stopping\n",
      "dim22: train 0.91853723994637, val 0.9700304283815271\n",
      "Epoch 00037: early stopping\n",
      "Epoch 00034: early stopping\n",
      "Epoch 00034: early stopping\n",
      "Epoch 00032: early stopping\n",
      "Epoch 00031: early stopping\n",
      "dim24: train 0.9156769092604335, val 0.9667308681151445\n",
      "Epoch 00030: early stopping\n",
      "Epoch 00039: early stopping\n",
      "Epoch 00040: early stopping\n",
      "Epoch 00031: early stopping\n",
      "Epoch 00030: early stopping\n",
      "dim26: train 0.9136514505238733, val 0.9697180046754725\n",
      "Epoch 00033: early stopping\n",
      "Epoch 00034: early stopping\n",
      "Epoch 00040: early stopping\n",
      "Epoch 00032: early stopping\n",
      "Epoch 00028: early stopping\n",
      "dim28: train 0.9157381693033972, val 0.973179463779225\n",
      "Epoch 00031: early stopping\n",
      "Epoch 00029: early stopping\n",
      "Epoch 00031: early stopping\n",
      "Epoch 00029: early stopping\n",
      "Epoch 00026: early stopping\n",
      "dim30: train 0.9151713995734362, val 0.9791031697217155\n",
      "Epoch 00033: early stopping\n",
      "Epoch 00026: early stopping\n",
      "Epoch 00027: early stopping\n",
      "Epoch 00032: early stopping\n",
      "Epoch 00027: early stopping\n",
      "dim32: train 0.9060317077566422, val 0.9775090694427491\n",
      "Epoch 00028: early stopping\n",
      "Epoch 00026: early stopping\n",
      "Epoch 00031: early stopping\n",
      "Epoch 00027: early stopping\n",
      "Epoch 00028: early stopping\n",
      "dim34: train 0.9068390777421526, val 0.9778909557005937\n",
      "Epoch 00030: early stopping\n",
      "Epoch 00028: early stopping\n",
      "Epoch 00030: early stopping\n",
      "Epoch 00028: early stopping\n",
      "Epoch 00025: early stopping\n",
      "dim36: train 0.9083621408488298, val 0.9748460390988518\n",
      "Epoch 00034: early stopping\n",
      "Epoch 00029: early stopping\n",
      "Epoch 00029: early stopping\n",
      "Epoch 00026: early stopping\n",
      "Epoch 00030: early stopping\n",
      "dim38: train 0.9076540997924617, val 0.9782212678123923\n",
      "Epoch 00033: early stopping\n",
      "Epoch 00026: early stopping\n",
      "Epoch 00028: early stopping\n",
      "Epoch 00033: early stopping\n",
      "Epoch 00027: early stopping\n",
      "dim40: train 0.9017717844438202, val 0.9792515852872062\n",
      "Epoch 00027: early stopping\n",
      "Epoch 00034: early stopping\n",
      "Epoch 00029: early stopping\n",
      "Epoch 00026: early stopping\n",
      "Epoch 00031: early stopping\n",
      "dim42: train 0.9011544008219857, val 0.979548802095301\n",
      "Epoch 00027: early stopping\n",
      "Epoch 00027: early stopping\n",
      "Epoch 00024: early stopping\n",
      "Epoch 00025: early stopping\n",
      "Epoch 00026: early stopping\n",
      "dim44: train 0.9080927493824127, val 0.982693081743577\n",
      "Epoch 00024: early stopping\n",
      "Epoch 00024: early stopping\n",
      "Epoch 00023: early stopping\n",
      "Epoch 00026: early stopping\n",
      "Epoch 00027: early stopping\n",
      "dim46: train 0.9130245298659773, val 0.9843175775864544\n",
      "Epoch 00027: early stopping\n",
      "Epoch 00027: early stopping\n",
      "Epoch 00025: early stopping\n",
      "Epoch 00026: early stopping\n",
      "Epoch 00024: early stopping\n",
      "dim48: train 0.9122074188412848, val 0.9874260678010829\n",
      "Epoch 00026: early stopping\n",
      "Epoch 00027: early stopping\n",
      "Epoch 00027: early stopping\n",
      "Epoch 00023: early stopping\n",
      "Epoch 00025: early stopping\n",
      "dim50: train 0.9036369103178638, val 0.9925965154872222\n",
      "Epoch 00024: early stopping\n",
      "Epoch 00024: early stopping\n",
      "Epoch 00028: early stopping\n",
      "Epoch 00026: early stopping\n",
      "Epoch 00024: early stopping\n",
      "dim52: train 0.901745229359048, val 0.9963527525172514\n",
      "Epoch 00025: early stopping\n",
      "Epoch 00025: early stopping\n",
      "Epoch 00025: early stopping\n",
      "Epoch 00026: early stopping\n",
      "Epoch 00027: early stopping\n",
      "dim54: train 0.8950348391286864, val 1.0018442939309513\n",
      "Epoch 00024: early stopping\n",
      "Epoch 00025: early stopping\n",
      "Epoch 00026: early stopping\n",
      "Epoch 00023: early stopping\n",
      "Epoch 00027: early stopping\n",
      "dim56: train 0.8961367431671086, val 1.0000237955766564\n",
      "Epoch 00024: early stopping\n",
      "Epoch 00024: early stopping\n",
      "Epoch 00023: early stopping\n",
      "Epoch 00024: early stopping\n",
      "Epoch 00023: early stopping\n",
      "dim58: train 0.9009493090010977, val 1.00371515750885\n",
      "Epoch 00024: early stopping\n",
      "Epoch 00024: early stopping\n",
      "Epoch 00026: early stopping\n",
      "Epoch 00022: early stopping\n",
      "Epoch 00023: early stopping\n",
      "dim60: train 0.8971967730533871, val 1.0008538344327143\n",
      "Epoch 00025: early stopping\n",
      "Epoch 00022: early stopping\n",
      "Epoch 00023: early stopping\n",
      "Epoch 00027: early stopping\n",
      "Epoch 00025: early stopping\n",
      "dim62: train 0.8996808957116317, val 1.0126573057735668\n",
      "Epoch 00023: early stopping\n",
      "Epoch 00024: early stopping\n",
      "Epoch 00023: early stopping\n",
      "Epoch 00024: early stopping\n",
      "Epoch 00024: early stopping\n",
      "dim64: train 0.9035970923355816, val 1.001823646882001\n",
      "Epoch 00024: early stopping\n",
      "Epoch 00023: early stopping\n",
      "Epoch 00023: early stopping\n",
      "Epoch 00023: early stopping\n",
      "Epoch 00023: early stopping\n",
      "dim66: train 0.9003071255414433, val 1.014281519721536\n",
      "Epoch 00022: early stopping\n",
      "Epoch 00024: early stopping\n",
      "Epoch 00025: early stopping\n",
      "Epoch 00023: early stopping\n",
      "Epoch 00022: early stopping\n",
      "dim68: train 0.895449365151895, val 1.0100267690770768\n"
     ]
    }
   ],
   "source": [
    "eigen_losses ,eigen_val_losses,dim_range = testRetainNum(g_X_train_lda,g_y_train,lda.explained_variance_ratio_)"
   ]
  },
  {
   "cell_type": "code",
   "execution_count": 31,
   "metadata": {
    "collapsed": false
   },
   "outputs": [
    {
     "data": {
      "text/plain": [
       "[<matplotlib.lines.Line2D at 0x7f895d3be128>,\n",
       " <matplotlib.lines.Line2D at 0x7f895d3be320>,\n",
       " <matplotlib.lines.Line2D at 0x7f895d3be5c0>,\n",
       " <matplotlib.lines.Line2D at 0x7f895d3be7b8>,\n",
       " <matplotlib.lines.Line2D at 0x7f895d3be9b0>]"
      ]
     },
     "execution_count": 31,
     "metadata": {},
     "output_type": "execute_result"
    },
    {
     "data": {
      "image/png": "[encoded data removed]",
      "text/plain": [
       "<matplotlib.figure.Figure at 0x7f895d3d3b00>"
      ]
     },
     "metadata": {},
     "output_type": "display_data"
    }
   ],
   "source": [
    "plt.plot(eigen_val_losses)"
   ]
  },
  {
   "cell_type": "code",
   "execution_count": 24,
   "metadata": {
    "collapsed": false,
    "scrolled": false
   },
   "outputs": [],
   "source": [
    "def svdTest(X,y):\n",
    "    lda = LDA(solver ='svd')\n",
    "    X_lda = lda.fit_transform(X,np.argmax(y,axis=1))\n",
    "    train_loss , val_loss = kfoldTesting(X_lda,y,s=X_lda.shape[1])\n",
    "    return train_loss, val_loss"
   ]
  },
  {
   "cell_type": "code",
   "execution_count": 25,
   "metadata": {
    "collapsed": false
   },
   "outputs": [
    {
     "name": "stdout",
     "output_type": "stream",
     "text": [
      "Epoch 00134: early stopping\n",
      "Epoch 00113: early stopping\n",
      "Epoch 00113: early stopping\n",
      "Epoch 00109: early stopping\n",
      "Epoch 00107: early stopping\n"
     ]
    },
    {
     "name": "stderr",
     "output_type": "stream",
     "text": [
      "/home/y/scikit-learn/sklearn/discriminant_analysis.py:387: UserWarning: Variables are collinear.\n",
      "  warnings.warn(\"Variables are collinear.\")\n"
     ]
    }
   ],
   "source": [
    "train_loss, val_loss = svdTest(g_X_train_scaled,g_y_train)"
   ]
  },
  {
   "cell_type": "code",
   "execution_count": 48,
   "metadata": {
    "collapsed": false
   },
   "outputs": [],
   "source": [
    "g_input_dim = 16\n",
    "g_best_size = g_input_dim"
   ]
  },
  {
   "cell_type": "code",
   "execution_count": 34,
   "metadata": {
    "collapsed": true
   },
   "outputs": [],
   "source": [
    "g_X_train_best = g_X_train_lda[:,0:g_input_dim]\n",
    "g_X_test_best = g_X_test_lda[:,0:g_input_dim]"
   ]
  },
  {
   "cell_type": "code",
   "execution_count": 40,
   "metadata": {
    "collapsed": false
   },
   "outputs": [
    {
     "name": "stdout",
     "output_type": "stream",
     "text": [
      "Epoch 00052: early stopping\n",
      "110/110 [==============================] - 0s\n",
      "110/110 [==============================] - 0s\n",
      "976/976 [==============================] - 0s     \n",
      "Fold: 1, Class dist.: [442 232 302], test_loss: 0.920\n",
      "Epoch 00052: early stopping\n",
      "110/110 [==============================] - 0s\n",
      "110/110 [==============================] - 0s\n",
      "976/976 [==============================] - 0s     \n",
      "Fold: 2, Class dist.: [442 232 302], test_loss: 0.953\n",
      "Epoch 00060: early stopping\n",
      "109/109 [==============================] - 0s\n",
      "109/109 [==============================] - 0s\n",
      "977/977 [==============================] - 0s     \n",
      "Fold: 3, Class dist.: [443 232 302], test_loss: 0.877\n",
      "Epoch 00049: early stopping\n",
      "109/109 [==============================] - 0s\n",
      "109/109 [==============================] - 0s\n",
      "977/977 [==============================] - 0s     \n",
      "Fold: 4, Class dist.: [443 232 302], test_loss: 1.011\n",
      "Epoch 00065: early stopping\n",
      "109/109 [==============================] - 0s\n",
      "109/109 [==============================] - 0s\n",
      "977/977 [==============================] - 0s     \n",
      "Fold: 5, Class dist.: [443 232 302], test_loss: 0.960\n",
      "Epoch 00049: early stopping\n",
      "109/109 [==============================] - 0s\n",
      "109/109 [==============================] - 0s\n",
      "977/977 [==============================] - 0s     \n",
      "Fold: 6, Class dist.: [443 232 302], test_loss: 0.850\n",
      "Epoch 00052: early stopping\n",
      "108/108 [==============================] - 0s\n",
      "108/108 [==============================] - 0s\n",
      "978/978 [==============================] - 0s     \n",
      "Fold: 7, Class dist.: [443 232 303], test_loss: 0.898\n",
      "Epoch 00044: early stopping\n",
      "108/108 [==============================] - 0s\n",
      "108/108 [==============================] - 0s\n",
      "978/978 [==============================] - 0s     \n",
      "Fold: 8, Class dist.: [443 232 303], test_loss: 1.010\n",
      "Epoch 00048: early stopping\n",
      "107/107 [==============================] - 0s\n",
      "107/107 [==============================] - 0s\n",
      "979/979 [==============================] - 0s     \n",
      "Fold: 9, Class dist.: [443 233 303], test_loss: 1.000\n",
      "Epoch 00037: early stopping\n",
      "107/107 [==============================] - 0s\n",
      "107/107 [==============================] - 0s\n",
      "979/979 [==============================] - 0s     \n",
      "Fold: 10, Class dist.: [443 233 303], test_loss: 0.908\n"
     ]
    }
   ],
   "source": [
    "g_p_matrix= getPrecisionMaxtrix(g_X_train_best, g_y_train,[g_input_dim,g_input_dim])"
   ]
  },
  {
   "cell_type": "code",
   "execution_count": 76,
   "metadata": {
    "collapsed": false
   },
   "outputs": [
    {
     "data": {
      "text/html": [
       "<div>\n",
       "<table border=\"1\" class=\"dataframe\">\n",
       "  <thead>\n",
       "    <tr style=\"text-align: right;\">\n",
       "      <th></th>\n",
       "      <th>[lower</th>\n",
       "      <th>upper)</th>\n",
       "      <th>h_Correct</th>\n",
       "      <th>h_Wrong</th>\n",
       "      <th>h_Precent</th>\n",
       "      <th>d_Correct</th>\n",
       "      <th>d_Wrong</th>\n",
       "      <th>d_Precent</th>\n",
       "      <th>a_Correct</th>\n",
       "      <th>a_Wrong</th>\n",
       "      <th>a_Precent</th>\n",
       "    </tr>\n",
       "  </thead>\n",
       "  <tbody>\n",
       "    <tr>\n",
       "      <th>&gt;80</th>\n",
       "      <td>0.8</td>\n",
       "      <td>1.0</td>\n",
       "      <td>47</td>\n",
       "      <td>12</td>\n",
       "      <td>0.796610</td>\n",
       "      <td>0</td>\n",
       "      <td>0</td>\n",
       "      <td>NaN</td>\n",
       "      <td>0</td>\n",
       "      <td>0</td>\n",
       "      <td>NaN</td>\n",
       "    </tr>\n",
       "    <tr>\n",
       "      <th>60-80</th>\n",
       "      <td>0.6</td>\n",
       "      <td>0.8</td>\n",
       "      <td>207</td>\n",
       "      <td>88</td>\n",
       "      <td>0.701695</td>\n",
       "      <td>0</td>\n",
       "      <td>0</td>\n",
       "      <td>NaN</td>\n",
       "      <td>38</td>\n",
       "      <td>8</td>\n",
       "      <td>0.826087</td>\n",
       "    </tr>\n",
       "    <tr>\n",
       "      <th>50-60</th>\n",
       "      <td>0.5</td>\n",
       "      <td>0.6</td>\n",
       "      <td>54</td>\n",
       "      <td>62</td>\n",
       "      <td>0.465517</td>\n",
       "      <td>1</td>\n",
       "      <td>1</td>\n",
       "      <td>0.500000</td>\n",
       "      <td>67</td>\n",
       "      <td>56</td>\n",
       "      <td>0.544715</td>\n",
       "    </tr>\n",
       "    <tr>\n",
       "      <th>40-50</th>\n",
       "      <td>0.4</td>\n",
       "      <td>0.5</td>\n",
       "      <td>61</td>\n",
       "      <td>77</td>\n",
       "      <td>0.442029</td>\n",
       "      <td>29</td>\n",
       "      <td>29</td>\n",
       "      <td>0.500000</td>\n",
       "      <td>71</td>\n",
       "      <td>78</td>\n",
       "      <td>0.476510</td>\n",
       "    </tr>\n",
       "    <tr>\n",
       "      <th>30-40</th>\n",
       "      <td>0.3</td>\n",
       "      <td>0.4</td>\n",
       "      <td>60</td>\n",
       "      <td>93</td>\n",
       "      <td>0.392157</td>\n",
       "      <td>75</td>\n",
       "      <td>139</td>\n",
       "      <td>0.350467</td>\n",
       "      <td>60</td>\n",
       "      <td>125</td>\n",
       "      <td>0.324324</td>\n",
       "    </tr>\n",
       "    <tr>\n",
       "      <th>20-30</th>\n",
       "      <td>0.2</td>\n",
       "      <td>0.3</td>\n",
       "      <td>52</td>\n",
       "      <td>184</td>\n",
       "      <td>0.220339</td>\n",
       "      <td>77</td>\n",
       "      <td>236</td>\n",
       "      <td>0.246006</td>\n",
       "      <td>50</td>\n",
       "      <td>144</td>\n",
       "      <td>0.257732</td>\n",
       "    </tr>\n",
       "    <tr>\n",
       "      <th>&lt;20</th>\n",
       "      <td>0.0</td>\n",
       "      <td>0.2</td>\n",
       "      <td>11</td>\n",
       "      <td>78</td>\n",
       "      <td>0.123596</td>\n",
       "      <td>76</td>\n",
       "      <td>423</td>\n",
       "      <td>0.152305</td>\n",
       "      <td>50</td>\n",
       "      <td>339</td>\n",
       "      <td>0.128535</td>\n",
       "    </tr>\n",
       "  </tbody>\n",
       "</table>\n",
       "</div>"
      ],
      "text/plain": [
       "       [lower  upper)  h_Correct  h_Wrong  h_Precent  d_Correct  d_Wrong  \\\n",
       ">80       0.8     1.0         47       12   0.796610          0        0   \n",
       "60-80     0.6     0.8        207       88   0.701695          0        0   \n",
       "50-60     0.5     0.6         54       62   0.465517          1        1   \n",
       "40-50     0.4     0.5         61       77   0.442029         29       29   \n",
       "30-40     0.3     0.4         60       93   0.392157         75      139   \n",
       "20-30     0.2     0.3         52      184   0.220339         77      236   \n",
       "<20       0.0     0.2         11       78   0.123596         76      423   \n",
       "\n",
       "       d_Precent  a_Correct  a_Wrong  a_Precent  \n",
       ">80          NaN          0        0        NaN  \n",
       "60-80        NaN         38        8   0.826087  \n",
       "50-60   0.500000         67       56   0.544715  \n",
       "40-50   0.500000         71       78   0.476510  \n",
       "30-40   0.350467         60      125   0.324324  \n",
       "20-30   0.246006         50      144   0.257732  \n",
       "<20     0.152305         50      339   0.128535  "
      ]
     },
     "execution_count": 76,
     "metadata": {},
     "output_type": "execute_result"
    }
   ],
   "source": [
    "g_p_matrix"
   ]
  },
  {
   "cell_type": "code",
   "execution_count": 93,
   "metadata": {
    "collapsed": true
   },
   "outputs": [],
   "source": [
    "def betTesting(X_train,X_test, y_train,y_test,origin_X_test):\n",
    "    model = createModel([g_best_size,g_best_size],input_dim=X_train.shape[1])\n",
    "    earlyCallback = EarlyStopping(patience=g_patience,verbose=1)\n",
    "    history = model.fit(X_train,y_train,verbose=0,nb_epoch=g_epoch, validation_split=g_validation,show_accuracy=True,callbacks=[earlyCallback] )\n",
    "    y_proba = model.predict_proba(X_test)\n",
    "    odds_proba_df = mergeXWithOdds_Proba(c,origin_X_test,y_proba)\n",
    "    fproba_mat,odd_mat,win_mat= formatMatrixs(odds_proba_df,g_p_matrix)\n",
    "    spent,income,expectation,withdraw,total,receipt = strategy4(fproba_mat,odd_mat,y_test,odds_proba_df,z=0,e=1)\n",
    "    return spent,income,expectation,withdraw,total,receipt"
   ]
  },
  {
   "cell_type": "code",
   "execution_count": 94,
   "metadata": {
    "collapsed": false
   },
   "outputs": [
    {
     "name": "stdout",
     "output_type": "stream",
     "text": [
      "Epoch 00047: early stopping\n",
      "272/272 [==============================] - 0s     "
     ]
    },
    {
     "name": "stderr",
     "output_type": "stream",
     "text": [
      "/home/y/anaconda3/lib/python3.5/site-packages/ipykernel/__main__.py:24: SettingWithCopyWarning: \n",
      "A value is trying to be set on a copy of a slice from a DataFrame.\n",
      "Try using .loc[row_indexer,col_indexer] = value instead\n",
      "\n",
      "See the caveats in the documentation: http://pandas.pydata.org/pandas-docs/stable/indexing.html#indexing-view-versus-copy\n",
      "/home/y/anaconda3/lib/python3.5/site-packages/ipykernel/__main__.py:25: SettingWithCopyWarning: \n",
      "A value is trying to be set on a copy of a slice from a DataFrame.\n",
      "Try using .loc[row_indexer,col_indexer] = value instead\n",
      "\n",
      "See the caveats in the documentation: http://pandas.pydata.org/pandas-docs/stable/indexing.html#indexing-view-versus-copy\n"
     ]
    },
    {
     "name": "stdout",
     "output_type": "stream",
     "text": [
      "\n"
     ]
    }
   ],
   "source": [
    "spent,income,expectation,withdraw,total,receipt = betTesting(g_X_train_best,g_X_test_best,g_y_train,g_y_test,g_X_test)"
   ]
  },
  {
   "cell_type": "code",
   "execution_count": 95,
   "metadata": {
    "collapsed": false
   },
   "outputs": [
    {
     "data": {
      "text/plain": [
       "241"
      ]
     },
     "execution_count": 95,
     "metadata": {},
     "output_type": "execute_result"
    }
   ],
   "source": [
    "spent"
   ]
  },
  {
   "cell_type": "code",
   "execution_count": 96,
   "metadata": {
    "collapsed": false
   },
   "outputs": [
    {
     "data": {
      "text/plain": [
       "335.30999999999995"
      ]
     },
     "execution_count": 96,
     "metadata": {},
     "output_type": "execute_result"
    }
   ],
   "source": [
    "income"
   ]
  },
  {
   "cell_type": "code",
   "execution_count": 97,
   "metadata": {
    "collapsed": false
   },
   "outputs": [
    {
     "data": {
      "text/plain": [
       "321.96525115001123"
      ]
     },
     "execution_count": 97,
     "metadata": {},
     "output_type": "execute_result"
    }
   ],
   "source": [
    "expectation"
   ]
  },
  {
   "cell_type": "code",
   "execution_count": 98,
   "metadata": {
    "collapsed": false
   },
   "outputs": [
    {
     "data": {
      "text/html": [
       "<div>\n",
       "<table border=\"1\" class=\"dataframe\">\n",
       "  <thead>\n",
       "    <tr style=\"text-align: right;\">\n",
       "      <th></th>\n",
       "      <th>home</th>\n",
       "      <th>away</th>\n",
       "      <th>odd of choice</th>\n",
       "      <th>choice</th>\n",
       "      <th>result</th>\n",
       "      <th>Hp</th>\n",
       "      <th>Dp</th>\n",
       "      <th>Ap</th>\n",
       "    </tr>\n",
       "  </thead>\n",
       "  <tbody>\n",
       "    <tr>\n",
       "      <th>0</th>\n",
       "      <td>Swansea</td>\n",
       "      <td>Aston Villa</td>\n",
       "      <td>3.6</td>\n",
       "      <td>1</td>\n",
       "      <td>0</td>\n",
       "      <td>0.4420289855072464</td>\n",
       "      <td>0.35046728971962615</td>\n",
       "      <td>0.25773195876288657</td>\n",
       "    </tr>\n",
       "    <tr>\n",
       "      <th>1</th>\n",
       "      <td>Aston Villa</td>\n",
       "      <td>Tottenham</td>\n",
       "      <td>4.2</td>\n",
       "      <td>1</td>\n",
       "      <td>1</td>\n",
       "      <td>0.14615917205810547</td>\n",
       "      <td>0.24600638977635783</td>\n",
       "      <td>0.5447154471544715</td>\n",
       "    </tr>\n",
       "    <tr>\n",
       "      <th>2</th>\n",
       "      <td>Newcastle</td>\n",
       "      <td>Bournemouth</td>\n",
       "      <td>3.2</td>\n",
       "      <td>1</td>\n",
       "      <td>2</td>\n",
       "      <td>0.22033898305084745</td>\n",
       "      <td>0.5</td>\n",
       "      <td>0.25773195876288657</td>\n",
       "    </tr>\n",
       "    <tr>\n",
       "      <th>3</th>\n",
       "      <td>Southampton</td>\n",
       "      <td>Sunderland</td>\n",
       "      <td>5.6</td>\n",
       "      <td>2</td>\n",
       "      <td>0</td>\n",
       "      <td>0.4420289855072464</td>\n",
       "      <td>0.24600638977635783</td>\n",
       "      <td>0.32432432432432434</td>\n",
       "    </tr>\n",
       "    <tr>\n",
       "      <th>4</th>\n",
       "      <td>Stoke</td>\n",
       "      <td>Newcastle</td>\n",
       "      <td>3.75</td>\n",
       "      <td>2</td>\n",
       "      <td>0</td>\n",
       "      <td>0.39215686274509803</td>\n",
       "      <td>0.24600638977635783</td>\n",
       "      <td>0.32432432432432434</td>\n",
       "    </tr>\n",
       "    <tr>\n",
       "      <th>5</th>\n",
       "      <td>Bournemouth</td>\n",
       "      <td>Southampton</td>\n",
       "      <td>2.43</td>\n",
       "      <td>2</td>\n",
       "      <td>2</td>\n",
       "      <td>0.39215686274509803</td>\n",
       "      <td>0.24600638977635783</td>\n",
       "      <td>0.47651006711409394</td>\n",
       "    </tr>\n",
       "    <tr>\n",
       "      <th>6</th>\n",
       "      <td>Southampton</td>\n",
       "      <td>Chelsea</td>\n",
       "      <td>2.45</td>\n",
       "      <td>2</td>\n",
       "      <td>0</td>\n",
       "      <td>0.39215686274509803</td>\n",
       "      <td>0.1595795750617981</td>\n",
       "      <td>0.47651006711409394</td>\n",
       "    </tr>\n",
       "    <tr>\n",
       "      <th>7</th>\n",
       "      <td>Chelsea</td>\n",
       "      <td>Newcastle</td>\n",
       "      <td>4.4</td>\n",
       "      <td>1</td>\n",
       "      <td>0</td>\n",
       "      <td>0.7016949152542373</td>\n",
       "      <td>0.24600638977635783</td>\n",
       "      <td>0.16647598147392273</td>\n",
       "    </tr>\n",
       "    <tr>\n",
       "      <th>8</th>\n",
       "      <td>Watford</td>\n",
       "      <td>Chelsea</td>\n",
       "      <td>1.8</td>\n",
       "      <td>2</td>\n",
       "      <td>2</td>\n",
       "      <td>0.22033898305084745</td>\n",
       "      <td>0.16697587072849274</td>\n",
       "      <td>0.8260869565217391</td>\n",
       "    </tr>\n",
       "    <tr>\n",
       "      <th>9</th>\n",
       "      <td>Everton</td>\n",
       "      <td>Newcastle</td>\n",
       "      <td>4.7</td>\n",
       "      <td>2</td>\n",
       "      <td>2</td>\n",
       "      <td>0.46551724137931033</td>\n",
       "      <td>0.16759805381298065</td>\n",
       "      <td>0.25773195876288657</td>\n",
       "    </tr>\n",
       "    <tr>\n",
       "      <th>10</th>\n",
       "      <td>West Ham</td>\n",
       "      <td>Man City</td>\n",
       "      <td>4.9</td>\n",
       "      <td>0</td>\n",
       "      <td>0</td>\n",
       "      <td>0.22033898305084745</td>\n",
       "      <td>0.24600638977635783</td>\n",
       "      <td>0.47651006711409394</td>\n",
       "    </tr>\n",
       "    <tr>\n",
       "      <th>11</th>\n",
       "      <td>Man United</td>\n",
       "      <td>Southampton</td>\n",
       "      <td>3.2</td>\n",
       "      <td>1</td>\n",
       "      <td>2</td>\n",
       "      <td>0.39215686274509803</td>\n",
       "      <td>0.35046728971962615</td>\n",
       "      <td>0.25773195876288657</td>\n",
       "    </tr>\n",
       "    <tr>\n",
       "      <th>12</th>\n",
       "      <td>Leicester</td>\n",
       "      <td>Stoke</td>\n",
       "      <td>3.25</td>\n",
       "      <td>1</td>\n",
       "      <td>0</td>\n",
       "      <td>0.39215686274509803</td>\n",
       "      <td>0.35046728971962615</td>\n",
       "      <td>0.32432432432432434</td>\n",
       "    </tr>\n",
       "    <tr>\n",
       "      <th>13</th>\n",
       "      <td>Sunderland</td>\n",
       "      <td>Bournemouth</td>\n",
       "      <td>2.25</td>\n",
       "      <td>2</td>\n",
       "      <td>0</td>\n",
       "      <td>0.22033898305084745</td>\n",
       "      <td>0.24600638977635783</td>\n",
       "      <td>0.47651006711409394</td>\n",
       "    </tr>\n",
       "    <tr>\n",
       "      <th>14</th>\n",
       "      <td>Newcastle</td>\n",
       "      <td>West Ham</td>\n",
       "      <td>3.2</td>\n",
       "      <td>1</td>\n",
       "      <td>1</td>\n",
       "      <td>0.22033898305084745</td>\n",
       "      <td>0.35046728971962615</td>\n",
       "      <td>0.32432432432432434</td>\n",
       "    </tr>\n",
       "    <tr>\n",
       "      <th>15</th>\n",
       "      <td>Stoke</td>\n",
       "      <td>Norwich</td>\n",
       "      <td>4.0</td>\n",
       "      <td>2</td>\n",
       "      <td>2</td>\n",
       "      <td>0.4420289855072464</td>\n",
       "      <td>0.24600638977635783</td>\n",
       "      <td>0.25773195876288657</td>\n",
       "    </tr>\n",
       "    <tr>\n",
       "      <th>16</th>\n",
       "      <td>Chelsea</td>\n",
       "      <td>West Brom</td>\n",
       "      <td>4.3</td>\n",
       "      <td>1</td>\n",
       "      <td>1</td>\n",
       "      <td>0.4420289855072464</td>\n",
       "      <td>0.35046728971962615</td>\n",
       "      <td>0.25773195876288657</td>\n",
       "    </tr>\n",
       "    <tr>\n",
       "      <th>17</th>\n",
       "      <td>Tottenham</td>\n",
       "      <td>Leicester</td>\n",
       "      <td>4.5</td>\n",
       "      <td>2</td>\n",
       "      <td>0</td>\n",
       "      <td>0.46551724137931033</td>\n",
       "      <td>0.1552896648645401</td>\n",
       "      <td>0.32432432432432434</td>\n",
       "    </tr>\n",
       "    <tr>\n",
       "      <th>18</th>\n",
       "      <td>Everton</td>\n",
       "      <td>Tottenham</td>\n",
       "      <td>3.3</td>\n",
       "      <td>1</td>\n",
       "      <td>1</td>\n",
       "      <td>0.22033898305084745</td>\n",
       "      <td>0.5</td>\n",
       "      <td>0.32432432432432434</td>\n",
       "    </tr>\n",
       "    <tr>\n",
       "      <th>19</th>\n",
       "      <td>Norwich</td>\n",
       "      <td>Southampton</td>\n",
       "      <td>3.1</td>\n",
       "      <td>1</td>\n",
       "      <td>1</td>\n",
       "      <td>0.22033898305084745</td>\n",
       "      <td>0.35046728971962615</td>\n",
       "      <td>0.32432432432432434</td>\n",
       "    </tr>\n",
       "    <tr>\n",
       "      <th>20</th>\n",
       "      <td>Leicester</td>\n",
       "      <td>Bournemouth</td>\n",
       "      <td>3.7</td>\n",
       "      <td>2</td>\n",
       "      <td>2</td>\n",
       "      <td>0.4420289855072464</td>\n",
       "      <td>0.12617577612400055</td>\n",
       "      <td>0.47651006711409394</td>\n",
       "    </tr>\n",
       "    <tr>\n",
       "      <th>21</th>\n",
       "      <td>Arsenal</td>\n",
       "      <td>Newcastle</td>\n",
       "      <td>11.5</td>\n",
       "      <td>2</td>\n",
       "      <td>2</td>\n",
       "      <td>0.7016949152542373</td>\n",
       "      <td>0.1390019655227661</td>\n",
       "      <td>0.14421017467975616</td>\n",
       "    </tr>\n",
       "    <tr>\n",
       "      <th>22</th>\n",
       "      <td>Bournemouth</td>\n",
       "      <td>Crystal Palace</td>\n",
       "      <td>2.83</td>\n",
       "      <td>2</td>\n",
       "      <td>2</td>\n",
       "      <td>0.22033898305084745</td>\n",
       "      <td>0.16676145792007446</td>\n",
       "      <td>0.5447154471544715</td>\n",
       "    </tr>\n",
       "    <tr>\n",
       "      <th>23</th>\n",
       "      <td>Chelsea</td>\n",
       "      <td>Watford</td>\n",
       "      <td>7.5</td>\n",
       "      <td>2</td>\n",
       "      <td>2</td>\n",
       "      <td>0.7016949152542373</td>\n",
       "      <td>0.19518530368804932</td>\n",
       "      <td>0.15017510950565338</td>\n",
       "    </tr>\n",
       "    <tr>\n",
       "      <th>24</th>\n",
       "      <td>Southampton</td>\n",
       "      <td>Tottenham</td>\n",
       "      <td>2.6</td>\n",
       "      <td>2</td>\n",
       "      <td>2</td>\n",
       "      <td>0.22033898305084745</td>\n",
       "      <td>0.1929216980934143</td>\n",
       "      <td>0.5447154471544715</td>\n",
       "    </tr>\n",
       "    <tr>\n",
       "      <th>25</th>\n",
       "      <td>Everton</td>\n",
       "      <td>Leicester</td>\n",
       "      <td>3.3</td>\n",
       "      <td>2</td>\n",
       "      <td>2</td>\n",
       "      <td>0.22033898305084745</td>\n",
       "      <td>0.24600638977635783</td>\n",
       "      <td>0.47651006711409394</td>\n",
       "    </tr>\n",
       "    <tr>\n",
       "      <th>26</th>\n",
       "      <td>Chelsea</td>\n",
       "      <td>Sunderland</td>\n",
       "      <td>5.1</td>\n",
       "      <td>1</td>\n",
       "      <td>1</td>\n",
       "      <td>0.7016949152542373</td>\n",
       "      <td>0.24600638977635783</td>\n",
       "      <td>0.09398515522480011</td>\n",
       "    </tr>\n",
       "    <tr>\n",
       "      <th>27</th>\n",
       "      <td>Aston Villa</td>\n",
       "      <td>Arsenal</td>\n",
       "      <td>1.46</td>\n",
       "      <td>2</td>\n",
       "      <td>2</td>\n",
       "      <td>0.16431193053722382</td>\n",
       "      <td>0.165893092751503</td>\n",
       "      <td>0.8260869565217391</td>\n",
       "    </tr>\n",
       "    <tr>\n",
       "      <th>28</th>\n",
       "      <td>Sunderland</td>\n",
       "      <td>Watford</td>\n",
       "      <td>2.5</td>\n",
       "      <td>2</td>\n",
       "      <td>1</td>\n",
       "      <td>0.22033898305084745</td>\n",
       "      <td>0.10908928513526917</td>\n",
       "      <td>0.8260869565217391</td>\n",
       "    </tr>\n",
       "    <tr>\n",
       "      <th>29</th>\n",
       "      <td>Stoke</td>\n",
       "      <td>Man City</td>\n",
       "      <td>5.45</td>\n",
       "      <td>0</td>\n",
       "      <td>2</td>\n",
       "      <td>0.22033898305084745</td>\n",
       "      <td>0.24600638977635783</td>\n",
       "      <td>0.5447154471544715</td>\n",
       "    </tr>\n",
       "    <tr>\n",
       "      <th>...</th>\n",
       "      <td>...</td>\n",
       "      <td>...</td>\n",
       "      <td>...</td>\n",
       "      <td>...</td>\n",
       "      <td>...</td>\n",
       "      <td>...</td>\n",
       "      <td>...</td>\n",
       "      <td>...</td>\n",
       "    </tr>\n",
       "    <tr>\n",
       "      <th>211</th>\n",
       "      <td>QPR</td>\n",
       "      <td>Fulham</td>\n",
       "      <td>3.3</td>\n",
       "      <td>1</td>\n",
       "      <td>0</td>\n",
       "      <td>0.22033898305084745</td>\n",
       "      <td>0.5</td>\n",
       "      <td>0.32432432432432434</td>\n",
       "    </tr>\n",
       "    <tr>\n",
       "      <th>212</th>\n",
       "      <td>Newcastle</td>\n",
       "      <td>Man City</td>\n",
       "      <td>3.8</td>\n",
       "      <td>1</td>\n",
       "      <td>1</td>\n",
       "      <td>0.22033898305084745</td>\n",
       "      <td>0.35046728971962615</td>\n",
       "      <td>0.47651006711409394</td>\n",
       "    </tr>\n",
       "    <tr>\n",
       "      <th>213</th>\n",
       "      <td>Sunderland</td>\n",
       "      <td>Reading</td>\n",
       "      <td>3.25</td>\n",
       "      <td>1</td>\n",
       "      <td>0</td>\n",
       "      <td>0.39215686274509803</td>\n",
       "      <td>0.35046728971962615</td>\n",
       "      <td>0.25773195876288657</td>\n",
       "    </tr>\n",
       "    <tr>\n",
       "      <th>214</th>\n",
       "      <td>Fulham</td>\n",
       "      <td>Newcastle</td>\n",
       "      <td>3.7</td>\n",
       "      <td>2</td>\n",
       "      <td>2</td>\n",
       "      <td>0.46551724137931033</td>\n",
       "      <td>0.10310911387205124</td>\n",
       "      <td>0.32432432432432434</td>\n",
       "    </tr>\n",
       "    <tr>\n",
       "      <th>215</th>\n",
       "      <td>West Ham</td>\n",
       "      <td>Liverpool</td>\n",
       "      <td>2.82</td>\n",
       "      <td>0</td>\n",
       "      <td>1</td>\n",
       "      <td>0.4420289855072464</td>\n",
       "      <td>0.24600638977635783</td>\n",
       "      <td>0.32432432432432434</td>\n",
       "    </tr>\n",
       "    <tr>\n",
       "      <th>216</th>\n",
       "      <td>Sunderland</td>\n",
       "      <td>Chelsea</td>\n",
       "      <td>3.5</td>\n",
       "      <td>1</td>\n",
       "      <td>0</td>\n",
       "      <td>0.22033898305084745</td>\n",
       "      <td>0.35046728971962615</td>\n",
       "      <td>0.47651006711409394</td>\n",
       "    </tr>\n",
       "    <tr>\n",
       "      <th>217</th>\n",
       "      <td>Aston Villa</td>\n",
       "      <td>Stoke</td>\n",
       "      <td>3.0</td>\n",
       "      <td>1</td>\n",
       "      <td>0</td>\n",
       "      <td>0.39215686274509803</td>\n",
       "      <td>0.35046728971962615</td>\n",
       "      <td>0.25773195876288657</td>\n",
       "    </tr>\n",
       "    <tr>\n",
       "      <th>218</th>\n",
       "      <td>Newcastle</td>\n",
       "      <td>Wigan</td>\n",
       "      <td>3.4</td>\n",
       "      <td>1</td>\n",
       "      <td>2</td>\n",
       "      <td>0.39215686274509803</td>\n",
       "      <td>0.35046728971962615</td>\n",
       "      <td>0.25773195876288657</td>\n",
       "    </tr>\n",
       "    <tr>\n",
       "      <th>219</th>\n",
       "      <td>Man City</td>\n",
       "      <td>Everton</td>\n",
       "      <td>6.0</td>\n",
       "      <td>2</td>\n",
       "      <td>0</td>\n",
       "      <td>0.7016949152542373</td>\n",
       "      <td>0.10074644535779953</td>\n",
       "      <td>0.17670729756355286</td>\n",
       "    </tr>\n",
       "    <tr>\n",
       "      <th>220</th>\n",
       "      <td>Arsenal</td>\n",
       "      <td>Swansea</td>\n",
       "      <td>6.4</td>\n",
       "      <td>2</td>\n",
       "      <td>2</td>\n",
       "      <td>0.46551724137931033</td>\n",
       "      <td>0.17865081131458282</td>\n",
       "      <td>0.25773195876288657</td>\n",
       "    </tr>\n",
       "    <tr>\n",
       "      <th>221</th>\n",
       "      <td>West Brom</td>\n",
       "      <td>Stoke</td>\n",
       "      <td>3.6</td>\n",
       "      <td>2</td>\n",
       "      <td>0</td>\n",
       "      <td>0.39215686274509803</td>\n",
       "      <td>0.24600638977635783</td>\n",
       "      <td>0.32432432432432434</td>\n",
       "    </tr>\n",
       "    <tr>\n",
       "      <th>222</th>\n",
       "      <td>QPR</td>\n",
       "      <td>Aston Villa</td>\n",
       "      <td>3.7</td>\n",
       "      <td>2</td>\n",
       "      <td>2</td>\n",
       "      <td>0.39215686274509803</td>\n",
       "      <td>0.24600638977635783</td>\n",
       "      <td>0.32432432432432434</td>\n",
       "    </tr>\n",
       "    <tr>\n",
       "      <th>223</th>\n",
       "      <td>Reading</td>\n",
       "      <td>Man United</td>\n",
       "      <td>4.6</td>\n",
       "      <td>1</td>\n",
       "      <td>0</td>\n",
       "      <td>0.22033898305084745</td>\n",
       "      <td>0.35046728971962615</td>\n",
       "      <td>0.47651006711409394</td>\n",
       "    </tr>\n",
       "    <tr>\n",
       "      <th>224</th>\n",
       "      <td>Swansea</td>\n",
       "      <td>West Brom</td>\n",
       "      <td>3.35</td>\n",
       "      <td>1</td>\n",
       "      <td>2</td>\n",
       "      <td>0.4420289855072464</td>\n",
       "      <td>0.35046728971962615</td>\n",
       "      <td>0.25773195876288657</td>\n",
       "    </tr>\n",
       "    <tr>\n",
       "      <th>225</th>\n",
       "      <td>Wigan</td>\n",
       "      <td>Man City</td>\n",
       "      <td>4.2</td>\n",
       "      <td>1</td>\n",
       "      <td>1</td>\n",
       "      <td>0.18604376912117004</td>\n",
       "      <td>0.35046728971962615</td>\n",
       "      <td>0.47651006711409394</td>\n",
       "    </tr>\n",
       "    <tr>\n",
       "      <th>226</th>\n",
       "      <td>Tottenham</td>\n",
       "      <td>Liverpool</td>\n",
       "      <td>2.78</td>\n",
       "      <td>2</td>\n",
       "      <td>0</td>\n",
       "      <td>0.39215686274509803</td>\n",
       "      <td>0.15329796075820923</td>\n",
       "      <td>0.47651006711409394</td>\n",
       "    </tr>\n",
       "    <tr>\n",
       "      <th>227</th>\n",
       "      <td>Everton</td>\n",
       "      <td>Arsenal</td>\n",
       "      <td>2.3</td>\n",
       "      <td>0</td>\n",
       "      <td>0</td>\n",
       "      <td>0.4420289855072464</td>\n",
       "      <td>0.1894998848438263</td>\n",
       "      <td>0.32432432432432434</td>\n",
       "    </tr>\n",
       "    <tr>\n",
       "      <th>228</th>\n",
       "      <td>Swansea</td>\n",
       "      <td>Liverpool</td>\n",
       "      <td>3.35</td>\n",
       "      <td>0</td>\n",
       "      <td>0</td>\n",
       "      <td>0.39215686274509803</td>\n",
       "      <td>0.1910988986492157</td>\n",
       "      <td>0.47651006711409394</td>\n",
       "    </tr>\n",
       "    <tr>\n",
       "      <th>229</th>\n",
       "      <td>Stoke</td>\n",
       "      <td>Fulham</td>\n",
       "      <td>3.25</td>\n",
       "      <td>1</td>\n",
       "      <td>2</td>\n",
       "      <td>0.4420289855072464</td>\n",
       "      <td>0.35046728971962615</td>\n",
       "      <td>0.25773195876288657</td>\n",
       "    </tr>\n",
       "    <tr>\n",
       "      <th>230</th>\n",
       "      <td>West Ham</td>\n",
       "      <td>Stoke</td>\n",
       "      <td>1.9</td>\n",
       "      <td>0</td>\n",
       "      <td>2</td>\n",
       "      <td>0.7016949152542373</td>\n",
       "      <td>0.19153955578804016</td>\n",
       "      <td>0.1586807519197464</td>\n",
       "    </tr>\n",
       "    <tr>\n",
       "      <th>231</th>\n",
       "      <td>Man City</td>\n",
       "      <td>Aston Villa</td>\n",
       "      <td>14.5</td>\n",
       "      <td>2</td>\n",
       "      <td>0</td>\n",
       "      <td>0.7966101694915254</td>\n",
       "      <td>0.078829824924469</td>\n",
       "      <td>0.09529614448547363</td>\n",
       "    </tr>\n",
       "    <tr>\n",
       "      <th>232</th>\n",
       "      <td>Liverpool</td>\n",
       "      <td>Wigan</td>\n",
       "      <td>7.0</td>\n",
       "      <td>2</td>\n",
       "      <td>0</td>\n",
       "      <td>0.46551724137931033</td>\n",
       "      <td>0.16605480015277863</td>\n",
       "      <td>0.25773195876288657</td>\n",
       "    </tr>\n",
       "    <tr>\n",
       "      <th>233</th>\n",
       "      <td>Reading</td>\n",
       "      <td>Norwich</td>\n",
       "      <td>2.08</td>\n",
       "      <td>0</td>\n",
       "      <td>0</td>\n",
       "      <td>0.7016949152542373</td>\n",
       "      <td>0.24600638977635783</td>\n",
       "      <td>0.13847491145133972</td>\n",
       "    </tr>\n",
       "    <tr>\n",
       "      <th>234</th>\n",
       "      <td>Everton</td>\n",
       "      <td>Sunderland</td>\n",
       "      <td>6.9</td>\n",
       "      <td>2</td>\n",
       "      <td>0</td>\n",
       "      <td>0.7016949152542373</td>\n",
       "      <td>0.11966023594141006</td>\n",
       "      <td>0.19225339591503143</td>\n",
       "    </tr>\n",
       "    <tr>\n",
       "      <th>235</th>\n",
       "      <td>Aston Villa</td>\n",
       "      <td>Man United</td>\n",
       "      <td>1.42</td>\n",
       "      <td>2</td>\n",
       "      <td>0</td>\n",
       "      <td>0.17221206426620483</td>\n",
       "      <td>0.24600638977635783</td>\n",
       "      <td>0.8260869565217391</td>\n",
       "    </tr>\n",
       "    <tr>\n",
       "      <th>236</th>\n",
       "      <td>Arsenal</td>\n",
       "      <td>Fulham</td>\n",
       "      <td>1.44</td>\n",
       "      <td>0</td>\n",
       "      <td>1</td>\n",
       "      <td>0.7016949152542373</td>\n",
       "      <td>0.24600638977635783</td>\n",
       "      <td>0.11893698573112488</td>\n",
       "    </tr>\n",
       "    <tr>\n",
       "      <th>237</th>\n",
       "      <td>Sunderland</td>\n",
       "      <td>Newcastle</td>\n",
       "      <td>2.8</td>\n",
       "      <td>2</td>\n",
       "      <td>1</td>\n",
       "      <td>0.22033898305084745</td>\n",
       "      <td>0.24600638977635783</td>\n",
       "      <td>0.47651006711409394</td>\n",
       "    </tr>\n",
       "    <tr>\n",
       "      <th>238</th>\n",
       "      <td>Norwich</td>\n",
       "      <td>Arsenal</td>\n",
       "      <td>4.15</td>\n",
       "      <td>1</td>\n",
       "      <td>0</td>\n",
       "      <td>0.22033898305084745</td>\n",
       "      <td>0.35046728971962615</td>\n",
       "      <td>0.47651006711409394</td>\n",
       "    </tr>\n",
       "    <tr>\n",
       "      <th>239</th>\n",
       "      <td>West Brom</td>\n",
       "      <td>QPR</td>\n",
       "      <td>1.73</td>\n",
       "      <td>0</td>\n",
       "      <td>0</td>\n",
       "      <td>0.7016949152542373</td>\n",
       "      <td>0.15309277176856995</td>\n",
       "      <td>0.16873297095298767</td>\n",
       "    </tr>\n",
       "    <tr>\n",
       "      <th>240</th>\n",
       "      <td>QPR</td>\n",
       "      <td>West Ham</td>\n",
       "      <td>3.25</td>\n",
       "      <td>1</td>\n",
       "      <td>1</td>\n",
       "      <td>0.22033898305084745</td>\n",
       "      <td>0.5</td>\n",
       "      <td>0.32432432432432434</td>\n",
       "    </tr>\n",
       "  </tbody>\n",
       "</table>\n",
       "<p>241 rows × 8 columns</p>\n",
       "</div>"
      ],
      "text/plain": [
       "            home            away odd of choice choice result  \\\n",
       "0        Swansea     Aston Villa           3.6      1      0   \n",
       "1    Aston Villa       Tottenham           4.2      1      1   \n",
       "2      Newcastle     Bournemouth           3.2      1      2   \n",
       "3    Southampton      Sunderland           5.6      2      0   \n",
       "4          Stoke       Newcastle          3.75      2      0   \n",
       "5    Bournemouth     Southampton          2.43      2      2   \n",
       "6    Southampton         Chelsea          2.45      2      0   \n",
       "7        Chelsea       Newcastle           4.4      1      0   \n",
       "8        Watford         Chelsea           1.8      2      2   \n",
       "9        Everton       Newcastle           4.7      2      2   \n",
       "10      West Ham        Man City           4.9      0      0   \n",
       "11    Man United     Southampton           3.2      1      2   \n",
       "12     Leicester           Stoke          3.25      1      0   \n",
       "13    Sunderland     Bournemouth          2.25      2      0   \n",
       "14     Newcastle        West Ham           3.2      1      1   \n",
       "15         Stoke         Norwich           4.0      2      2   \n",
       "16       Chelsea       West Brom           4.3      1      1   \n",
       "17     Tottenham       Leicester           4.5      2      0   \n",
       "18       Everton       Tottenham           3.3      1      1   \n",
       "19       Norwich     Southampton           3.1      1      1   \n",
       "20     Leicester     Bournemouth           3.7      2      2   \n",
       "21       Arsenal       Newcastle          11.5      2      2   \n",
       "22   Bournemouth  Crystal Palace          2.83      2      2   \n",
       "23       Chelsea         Watford           7.5      2      2   \n",
       "24   Southampton       Tottenham           2.6      2      2   \n",
       "25       Everton       Leicester           3.3      2      2   \n",
       "26       Chelsea      Sunderland           5.1      1      1   \n",
       "27   Aston Villa         Arsenal          1.46      2      2   \n",
       "28    Sunderland         Watford           2.5      2      1   \n",
       "29         Stoke        Man City          5.45      0      2   \n",
       "..           ...             ...           ...    ...    ...   \n",
       "211          QPR          Fulham           3.3      1      0   \n",
       "212    Newcastle        Man City           3.8      1      1   \n",
       "213   Sunderland         Reading          3.25      1      0   \n",
       "214       Fulham       Newcastle           3.7      2      2   \n",
       "215     West Ham       Liverpool          2.82      0      1   \n",
       "216   Sunderland         Chelsea           3.5      1      0   \n",
       "217  Aston Villa           Stoke           3.0      1      0   \n",
       "218    Newcastle           Wigan           3.4      1      2   \n",
       "219     Man City         Everton           6.0      2      0   \n",
       "220      Arsenal         Swansea           6.4      2      2   \n",
       "221    West Brom           Stoke           3.6      2      0   \n",
       "222          QPR     Aston Villa           3.7      2      2   \n",
       "223      Reading      Man United           4.6      1      0   \n",
       "224      Swansea       West Brom          3.35      1      2   \n",
       "225        Wigan        Man City           4.2      1      1   \n",
       "226    Tottenham       Liverpool          2.78      2      0   \n",
       "227      Everton         Arsenal           2.3      0      0   \n",
       "228      Swansea       Liverpool          3.35      0      0   \n",
       "229        Stoke          Fulham          3.25      1      2   \n",
       "230     West Ham           Stoke           1.9      0      2   \n",
       "231     Man City     Aston Villa          14.5      2      0   \n",
       "232    Liverpool           Wigan           7.0      2      0   \n",
       "233      Reading         Norwich          2.08      0      0   \n",
       "234      Everton      Sunderland           6.9      2      0   \n",
       "235  Aston Villa      Man United          1.42      2      0   \n",
       "236      Arsenal          Fulham          1.44      0      1   \n",
       "237   Sunderland       Newcastle           2.8      2      1   \n",
       "238      Norwich         Arsenal          4.15      1      0   \n",
       "239    West Brom             QPR          1.73      0      0   \n",
       "240          QPR        West Ham          3.25      1      1   \n",
       "\n",
       "                      Hp                   Dp                   Ap  \n",
       "0     0.4420289855072464  0.35046728971962615  0.25773195876288657  \n",
       "1    0.14615917205810547  0.24600638977635783   0.5447154471544715  \n",
       "2    0.22033898305084745                  0.5  0.25773195876288657  \n",
       "3     0.4420289855072464  0.24600638977635783  0.32432432432432434  \n",
       "4    0.39215686274509803  0.24600638977635783  0.32432432432432434  \n",
       "5    0.39215686274509803  0.24600638977635783  0.47651006711409394  \n",
       "6    0.39215686274509803   0.1595795750617981  0.47651006711409394  \n",
       "7     0.7016949152542373  0.24600638977635783  0.16647598147392273  \n",
       "8    0.22033898305084745  0.16697587072849274   0.8260869565217391  \n",
       "9    0.46551724137931033  0.16759805381298065  0.25773195876288657  \n",
       "10   0.22033898305084745  0.24600638977635783  0.47651006711409394  \n",
       "11   0.39215686274509803  0.35046728971962615  0.25773195876288657  \n",
       "12   0.39215686274509803  0.35046728971962615  0.32432432432432434  \n",
       "13   0.22033898305084745  0.24600638977635783  0.47651006711409394  \n",
       "14   0.22033898305084745  0.35046728971962615  0.32432432432432434  \n",
       "15    0.4420289855072464  0.24600638977635783  0.25773195876288657  \n",
       "16    0.4420289855072464  0.35046728971962615  0.25773195876288657  \n",
       "17   0.46551724137931033   0.1552896648645401  0.32432432432432434  \n",
       "18   0.22033898305084745                  0.5  0.32432432432432434  \n",
       "19   0.22033898305084745  0.35046728971962615  0.32432432432432434  \n",
       "20    0.4420289855072464  0.12617577612400055  0.47651006711409394  \n",
       "21    0.7016949152542373   0.1390019655227661  0.14421017467975616  \n",
       "22   0.22033898305084745  0.16676145792007446   0.5447154471544715  \n",
       "23    0.7016949152542373  0.19518530368804932  0.15017510950565338  \n",
       "24   0.22033898305084745   0.1929216980934143   0.5447154471544715  \n",
       "25   0.22033898305084745  0.24600638977635783  0.47651006711409394  \n",
       "26    0.7016949152542373  0.24600638977635783  0.09398515522480011  \n",
       "27   0.16431193053722382    0.165893092751503   0.8260869565217391  \n",
       "28   0.22033898305084745  0.10908928513526917   0.8260869565217391  \n",
       "29   0.22033898305084745  0.24600638977635783   0.5447154471544715  \n",
       "..                   ...                  ...                  ...  \n",
       "211  0.22033898305084745                  0.5  0.32432432432432434  \n",
       "212  0.22033898305084745  0.35046728971962615  0.47651006711409394  \n",
       "213  0.39215686274509803  0.35046728971962615  0.25773195876288657  \n",
       "214  0.46551724137931033  0.10310911387205124  0.32432432432432434  \n",
       "215   0.4420289855072464  0.24600638977635783  0.32432432432432434  \n",
       "216  0.22033898305084745  0.35046728971962615  0.47651006711409394  \n",
       "217  0.39215686274509803  0.35046728971962615  0.25773195876288657  \n",
       "218  0.39215686274509803  0.35046728971962615  0.25773195876288657  \n",
       "219   0.7016949152542373  0.10074644535779953  0.17670729756355286  \n",
       "220  0.46551724137931033  0.17865081131458282  0.25773195876288657  \n",
       "221  0.39215686274509803  0.24600638977635783  0.32432432432432434  \n",
       "222  0.39215686274509803  0.24600638977635783  0.32432432432432434  \n",
       "223  0.22033898305084745  0.35046728971962615  0.47651006711409394  \n",
       "224   0.4420289855072464  0.35046728971962615  0.25773195876288657  \n",
       "225  0.18604376912117004  0.35046728971962615  0.47651006711409394  \n",
       "226  0.39215686274509803  0.15329796075820923  0.47651006711409394  \n",
       "227   0.4420289855072464   0.1894998848438263  0.32432432432432434  \n",
       "228  0.39215686274509803   0.1910988986492157  0.47651006711409394  \n",
       "229   0.4420289855072464  0.35046728971962615  0.25773195876288657  \n",
       "230   0.7016949152542373  0.19153955578804016   0.1586807519197464  \n",
       "231   0.7966101694915254    0.078829824924469  0.09529614448547363  \n",
       "232  0.46551724137931033  0.16605480015277863  0.25773195876288657  \n",
       "233   0.7016949152542373  0.24600638977635783  0.13847491145133972  \n",
       "234   0.7016949152542373  0.11966023594141006  0.19225339591503143  \n",
       "235  0.17221206426620483  0.24600638977635783   0.8260869565217391  \n",
       "236   0.7016949152542373  0.24600638977635783  0.11893698573112488  \n",
       "237  0.22033898305084745  0.24600638977635783  0.47651006711409394  \n",
       "238  0.22033898305084745  0.35046728971962615  0.47651006711409394  \n",
       "239   0.7016949152542373  0.15309277176856995  0.16873297095298767  \n",
       "240  0.22033898305084745                  0.5  0.32432432432432434  \n",
       "\n",
       "[241 rows x 8 columns]"
      ]
     },
     "execution_count": 98,
     "metadata": {},
     "output_type": "execute_result"
    }
   ],
   "source": [
    "receipt"
   ]
  },
  {
   "cell_type": "code",
   "execution_count": null,
   "metadata": {
    "collapsed": true
   },
   "outputs": [],
   "source": []
  }
 ],
 "metadata": {
  "kernelspec": {
   "display_name": "Python 3",
   "language": "python",
   "name": "python3"
  },
  "language_info": {
   "codemirror_mode": {
    "name": "ipython",
    "version": 3
   },
   "file_extension": ".py",
   "mimetype": "text/x-python",
   "name": "python",
   "nbconvert_exporter": "python",
   "pygments_lexer": "ipython3",
   "version": "3.5.1"
  }
 },
 "nbformat": 4,
 "nbformat_minor": 0
}
