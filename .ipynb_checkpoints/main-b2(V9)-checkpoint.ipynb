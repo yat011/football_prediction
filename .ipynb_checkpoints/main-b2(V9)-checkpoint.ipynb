{
 "cells": [
  {
   "cell_type": "code",
   "execution_count": 1,
   "metadata": {
    "ExecuteTime": {
     "end_time": "2016-04-11T13:30:44.970000",
     "start_time": "2016-04-11T13:30:43.725000"
    },
    "code_folding": [],
    "collapsed": false,
    "init_cell": true,
    "run_control": {
     "marked": false
    },
    "scrolled": false
   },
   "outputs": [],
   "source": [
    "import numpy as np\n",
    "try:\n",
    "    from IPython.core.display import clear_output\n",
    "    have_ipython = True\n",
    "except ImportError:\n",
    "    have_ipython = False\n",
    "import sys\n",
    "import datetime\n",
    "%matplotlib inline\n",
    "import matplotlib.pyplot as plt\n",
    "\n",
    "def plotCurve(train_mean, train_std,test_mean,test_std,sizes):\n",
    "    plt.plot(sizes, train_mean, \n",
    "            color='blue', marker='o', \n",
    "            markersize=5, \n",
    "            label='training accuracy')\n",
    "    plt.fill_between(sizes, \n",
    "                  train_mean + train_std,\n",
    "                   train_mean - train_std, alpha=0.15, color='blue')\n",
    "\n",
    "    plt.plot(sizes, test_mean, \n",
    "              color='green', linestyle='--', \n",
    "              marker='s', markersize=5, \n",
    "             label='validation accuracy')\n",
    "    plt.fill_between(sizes, \n",
    "                      test_mean + test_std,\n",
    "                     test_mean - test_std, \n",
    "                    alpha=0.15, color='green')\n",
    "    plt.xlabel('x_range')\n",
    "    plt.ylabel('Accuracy')\n",
    "    plt.show()\n",
    "def likehoodScore(proba,y):\n",
    "    return np.sum(proba * y)/proba.shape[0]\n",
    "\n",
    "def firstNScore(n, pred, y):\n",
    "    backup = np.array(pred, copy =True)\n",
    "    for r in range(pred.shape[0]):\n",
    "        row = backup[r]\n",
    "        s = np.sort(row)\n",
    "        for c in range(pred.shape[1]):\n",
    "            temp = backup[r][c]\n",
    "            backup[r][c] = False\n",
    "            for j in range(1,n+1):\n",
    "                if temp == s[-j]:\n",
    "                    backup[r][c] = True\n",
    "                    break\n",
    "    res = np.sum(np.logical_and(backup,y))/pred.shape[0]\n",
    "    return res               \n",
    "\n",
    "def oneHotDecode(self, X_sample):\n",
    "    result=None\n",
    "    fiPos = 0\n",
    "    colIndex = 0\n",
    "    while colIndex < X_sample.shape[1]:\n",
    "        if fiPos < len(self.ohe.n_values_) and colIndex == self.ohe.feature_indices_[fiPos]:                \n",
    "            start = self.ohe.feature_indices_[fiPos]\n",
    "            end_ = start+ self.ohe.n_values_[fiPos]\n",
    "            #print(\"start{} end{}\".format(start,end_))\n",
    "            classes = np.argmax(X_sample[:,start:end_],axis=1).reshape(X_sample.shape[0],1)\n",
    "            if result is None:\n",
    "                result = classes\n",
    "            else:\n",
    "                result=np.hstack([result,classes])\n",
    "            colIndex = end_\n",
    "            fiPos = fiPos +1\n",
    "        else:\n",
    "            if result is None:\n",
    "                result = X_sample[:,colIndex:colIndex+1]\n",
    "            else:\n",
    "                result=np.hstack([result, X_sample[:,colIndex:colIndex+1]])\n",
    "            colIndex = colIndex +1\n",
    "        \n",
    "    return result \n",
    "def convertToDate(dayStamps):\n",
    "    res = [] \n",
    "    for v in dayStamps:\n",
    "        res.append(datetime.datetime.fromtimestamp(float(v)*24*60*60))\n",
    "    return res\n",
    "\n",
    "\n",
    "    \n",
    "\n",
    "def precisionMatrix(proba, y):\n",
    "    def _precisionClassify(df,proba, wins, c =0 ):\n",
    "        for indx, v in enumerate(proba):\n",
    "            row = 0\n",
    "            col = 0\n",
    "            if wins[indx] == c:\n",
    "                col = 0\n",
    "            else:\n",
    "                col =1\n",
    "            if v <0.2:\n",
    "                row =6 \n",
    "            elif v < 0.3 and  v >=0.2:\n",
    "                row =5 \n",
    "            elif v < 0.4 and v >= 0.3:\n",
    "                row = 4 \n",
    "            elif v < 0.5 and v >= 0.4:\n",
    "                row = 3 \n",
    "            elif v < 0.6 and v >= 0.5:\n",
    "                row = 2 \n",
    "            elif v < 0.8 and v >= 0.6:\n",
    "                row = 1\n",
    "            df.iloc[row,col] = df.iloc[row,col]+1 \n",
    "        df[df.columns[2]] = df[df.columns[0]] /(df[df.columns[1]] + df[df.columns[0]])\n",
    "        return df\n",
    "    rowHeader = ['>80','60-80','50-60','40-50','30-40','20-30','<20']\n",
    "    df = pd.DataFrame(np.zeros(shape=(7,3)),index=rowHeader, columns=['h_Correct', 'h_Wrong','h_Precent'])\n",
    "    hproba = proba[:,0]\n",
    "    wins = np.argmax(y,axis=1)\n",
    "    df = _precisionClassify(df,hproba,wins)\n",
    "    temp = pd.DataFrame(np.zeros(shape=(7,3)),index=rowHeader, columns=['d_Correct', 'd_Wrong','d_Precent'])\n",
    "    dproba = proba[:,1]\n",
    "    df = df.join(_precisionClassify(temp,dproba,wins,c=1))\n",
    "    temp = pd.DataFrame(np.zeros(shape=(7,3)),index=rowHeader, columns=['a_Correct', 'a_Wrong','a_Precent'])\n",
    "    aproba = proba[:,2]\n",
    "    df = df.join(_precisionClassify(temp,aproba,wins,c=2))\n",
    "    \n",
    "    bound = pd.DataFrame(np.array([[0.8,1.0],[0.6,0.8],[0.5,0.6],[0.4,0.5],[0.3,0.4],[0.2,0.3],[0,0.2]] )\n",
    "                                ,index=rowHeader, columns=['[lower', 'upper)'])\n",
    "            \n",
    "    return bound.join(df)\n",
    "       \n",
    "from datetime import date, timedelta\n",
    "from sklearn.metrics import precision_score\n",
    "\n",
    "\n",
    "def futureTest(mlp, X,y,numOfWeek = 10,verbose=False):\n",
    "    decoded = oneHotDecode(c, X)\n",
    "    dates = convertToDate(X[:,c.dateColumn])\n",
    "    dates = [d - timedelta(days=2) for d in dates]    \n",
    "    weeks  = [ v.isocalendar()[1] for v in dates]\n",
    "    thisWeek = weeks[-1]\n",
    "    start = -1\n",
    "    last = X.shape[0]\n",
    "    index = -1\n",
    "    w = 0\n",
    "    sum_proba =None \n",
    "    sum_y =None\n",
    "    sum_train_proba=None\n",
    "    sum_train_y=None\n",
    "    while w < numOfWeek:\n",
    "        if thisWeek != weeks[index]:\n",
    "            start = X.shape[0] +index+1\n",
    "            X_train = X[0:start, :]\n",
    "            X_test = X[start:last,:]\n",
    "            y_train = y[0:start,:]\n",
    "            y_test = y[start:last,:]\n",
    "            mlp.fit(X_train,y_train)\n",
    "            decoded = oneHotDecode(c,X_test)\n",
    "            home = np.array([c.inverseTeamMapping(decoded[:,0])]).reshape(X_test.shape[0],1)\n",
    "            away = np.array([c.inverseTeamMapping(decoded[:,1])]).reshape(X_test.shape[0],1)\n",
    "            stack = np.hstack([home,away])\n",
    "            proba = mlp.predict_proba(X_test)\n",
    "            train_proba =mlp.predict_proba(X_train)\n",
    "            errorIndx = np.argmax(proba,axis=1) != np.argmax(y_test,axis=1)\n",
    "            if sum_proba is None:\n",
    "                sum_proba = proba\n",
    "                sum_y = y_test\n",
    "                sum_train_proba = train_proba\n",
    "                sum_train_y = y_train\n",
    "            else:\n",
    "                sum_proba = np.vstack([sum_proba,proba])\n",
    "                sum_y = np.vstack([sum_y,y_test])\n",
    "                sum_train_proba = np.vstack([sum_train_proba, train_proba])\n",
    "                sum_train_y= np.vstack([sum_train_y, y_train])\n",
    "            if verbose == True:\n",
    "                print(\"week{}\".format(w))\n",
    "                print(\"numOftest {} , score {}\".format(X_test.shape[0],mlp.score(X_test,y_test)))\n",
    "                print(np.hstack([stack[errorIndx],proba[errorIndx],y_test[errorIndx]]))\n",
    "                print(\"first2 : {}\",firstNScore(2,proba,y_test))\n",
    "            last = start\n",
    "            thisWeek = weeks[index]\n",
    "            w = w+1\n",
    "        index = index -1\n",
    "        \n",
    "    print(\"summary\")\n",
    "    print(\"score:\")\n",
    "    score = firstNScore(1,sum_proba,sum_y)\n",
    "    print(score)\n",
    "    print(\"2like\")\n",
    "    like2 = firstNScore(2,sum_proba,sum_y)\n",
    "    print(precisionMatrix(sum_proba,sum_y))\n",
    "    y_true= np.argmax(sum_y,axis=1)\n",
    "    y_pred = np.argmax(sum_proba,axis=1)\n",
    "    print(\"sum precision:{}\".format(precision_score(y_true,y_pred,average=None)))\n",
    "    return firstNScore(1,sum_train_proba,sum_train_y), score, like2\n"
   ]
  },
  {
   "cell_type": "code",
   "execution_count": 2,
   "metadata": {
    "ExecuteTime": {
     "end_time": "2016-04-11T13:30:49.168000",
     "start_time": "2016-04-11T13:30:44.973000"
    },
    "collapsed": false,
    "init_cell": true,
    "run_control": {
     "marked": false
    },
    "scrolled": false
   },
   "outputs": [],
   "source": [
    "import numpy as np\n",
    "from sklearn.cross_validation import train_test_split\n",
    "from sklearn.preprocessing import StandardScaler\n",
    "from sklearn.preprocessing import OneHotEncoder\n",
    "import pandas as pd\n",
    "class FootballDataHelper:\n",
    "    def __init__ (self, recentNum=5):\n",
    "        self.win_mapping = {'H':0, 'D':1,'A':2}\n",
    "        self.recentNum = recentNum\n",
    "        self.df = None\n",
    "        self.teamsData={}\n",
    "        self.session = 0\n",
    "        self.generalList =['HS','AS','HST','AST','H_poss' ,'A_poss' ,'H_atk_3rd', 'A_atk_3rd',\n",
    " 'H_atk_3rd_tot', 'A_atk_3rd_tot','H_red_goal' ,'A_red_goal' ,'H_red_on',\n",
    " 'A_red_on' ,'H_red_tot' ,'A_red_tot' ,'H_chance_goal' ,'A_chance_goal',\n",
    " 'H_chance_tot', 'A_chance_tot' ,'H_successful_tackle', 'A_successful_tackle',\n",
    " 'H_tackle_tot', 'A_tackle_tot', 'H_successful_clearance',\n",
    " 'A_successful_clearance', 'H_clearance_tot' ,'A_clearance_tot',\n",
    " 'H_interceptions' ,'A_interceptions', 'H_blocks', 'A_blocks']\n",
    "        self.percentList = ['atk_3rd','atk_3rd_tot','red_goal','red_tot','red_on','red_tot',\n",
    "                           'chance_goal','chance_tot','successful_tackle','tackle_tot',\n",
    "                            'successful_clearance','clearance_tot']\n",
    "        self.h7_general = ['HS','AS','HST','AST','H_poss' ,'A_poss' ,'H_atk_3rd', 'A_atk_3rd',\n",
    " 'H_atk_3rd_tot', 'A_atk_3rd_tot','H_interceptions' ,'A_interceptions']\n",
    "    def addColumns(self,df, addition):    \n",
    "        dates = df[\"Date\"].drop_duplicates().values\n",
    "        col_adds = []\n",
    "        for colAdd in addition.columns:\n",
    "             if colAdd not in df.columns:\n",
    "                    df[colAdd]=np.zeros(shape=(df.shape[0],))\n",
    "                    col_adds.append(colAdd)\n",
    "        for date in dates:\n",
    "            dateAddition= addition[addition['Date'] == date].sort(columns='HomeTeam')\n",
    "            dateDf  = df [df['Date']==date].sort(columns='HomeTeam')\n",
    "            for col in col_adds:\n",
    "                dateDf[col] = dateAddition[col].values\n",
    "            df.update(dateDf)\n",
    "        return df\n",
    "            \n",
    "    def saveDf(self,filename):\n",
    "        self.df.to_csv(filename,index=False)\n",
    "    def loadDf(self,filename):\n",
    "        df = pd.read_csv(filename)\n",
    "        df['Date'] = pd.to_datetime(df['Date'])    \n",
    "        self.df = df\n",
    "        teams = self.df['HomeTeam'].drop_duplicates()\n",
    "        teamMap = {}\n",
    "        for index , v in enumerate(teams):\n",
    "            teamMap[v] = index\n",
    "        self.teamsMap = teamMap\n",
    "        referees = self.df['Referee'].drop_duplicates()\n",
    "        refereesMap = {}\n",
    "        for index , v in enumerate(referees):\n",
    "            refereesMap[v] = index+1\n",
    "\n",
    "        self.refereesMap = refereesMap\n",
    "    def readFootBallData(self,year): \n",
    "        filename = \"dataSet/E{}.csv\".format(year)\n",
    "        df = pd.read_csv(filename)\n",
    "        #df = df.drop(df.columns[range(23,df.shape[1])], axis=1)\n",
    "        #df = df.drop(\"Div\",axis=1)\n",
    "        df['Date'] = pd.to_datetime(df['Date'])\n",
    "        df['session'] = pd.Series(np.ones(shape=(df.shape[0],))*self.session, index=df.index)\n",
    "        self.session = self.session +1\n",
    "        \n",
    "        matchDetail = pd.read_csv(\"dataSet/match{}.csv\".format(year))\n",
    "        matchDetail['Date'] =pd.to_datetime(matchDetail['Date'])\n",
    "        df = self.addColumns(df,matchDetail)\n",
    "        \n",
    "        df[\"Future\"] = np.zeros(shape=(df.shape[0],))\n",
    "        \n",
    "        if self.df is None:\n",
    "            self.df = df\n",
    "        else:\n",
    "            self.df = pd.concat([self.df,df])\n",
    "            \n",
    "        self.df = self.df.reset_index(drop=True)\n",
    "        teams = self.df['HomeTeam'].drop_duplicates()\n",
    "        teamMap = {}\n",
    "        for index , v in enumerate(teams):\n",
    "            teamMap[v] = index\n",
    "        self.teamsMap = teamMap\n",
    "        referees = self.df['Referee'].drop_duplicates()\n",
    "        refereesMap = {}\n",
    "        for index , v in enumerate(referees):\n",
    "            refereesMap[v] = index+1\n",
    "\n",
    "        self.refereesMap = refereesMap\n",
    "    def readFuture(self):\n",
    "        filename = \"dataSet/future.csv\"\n",
    "        df = pd.read_csv(filename)\n",
    "        #df = df.drop(df.columns[range(23,df.shape[1])], axis=1)\n",
    "        #df = df.drop(\"Div\",axis=1)\n",
    "        df['Date'] = pd.to_datetime(df['Date'])\n",
    "        df[\"Future\"] = np.ones(shape=(df.shape[0],))\n",
    "        if self.df is None:\n",
    "            self.df = df\n",
    "        else:\n",
    "            self.df = pd.concat([self.df,df])\n",
    "            \n",
    "        self.df['HTR']=self.df['HTR'].fillna('D')\n",
    "        self.df = self.df.fillna(0)\n",
    "        self.df = self.df.reset_index(drop=True)\n",
    "        teams = self.df['HomeTeam'].drop_duplicates()\n",
    "        teamMap = {}\n",
    "        for index , v in enumerate(teams):\n",
    "            teamMap[v] = index\n",
    "        self.teamsMap = teamMap\n",
    "        referees = self.df['Referee'].drop_duplicates()\n",
    "        refereesMap = {}\n",
    "        for index , v in enumerate(referees):\n",
    "            refereesMap[v] = index+1\n",
    "\n",
    "        self.refereesMap = refereesMap\n",
    "        \n",
    "    def getTeam(self,dataFrame, teamName):       \n",
    "        return dataFrame[(dataFrame[\"HomeTeam\"] == teamName) | (dataFrame[\"AwayTeam\"] == teamName)]\n",
    " \n",
    "        \n",
    "    def previousRecords(self,team, date , recentNum):\n",
    "        prev = team[( team[\"Date\"] < date)]\n",
    "        \n",
    "        if prev.shape[0] < recentNum :\n",
    "            #print(\"less than min Num\")\n",
    "            return None\n",
    "        else:\n",
    "            return prev.iloc[-recentNum:]\n",
    "    def readPredict (self, filename):\n",
    "        df = pd.read_csv(filename)\n",
    "        df['Date'] = pd.to_datetime(df['Date'],dayfirst=True)\n",
    "\n",
    "        return df\n",
    "    \n",
    "    \n",
    "  \n",
    "    def inverseTeamMapping (self, col):\n",
    "        inverseMap ={}\n",
    "        for name in self.teamsMap.keys():        \n",
    "            inverseMap[self.teamsMap[name]] = name\n",
    "        res =[]\n",
    "        for idex, v in enumerate(col):\n",
    "            res.append(inverseMap[v])\n",
    "        return res\n",
    "\n",
    "\n",
    "    def readTeamMatch(self, teamName):\n",
    "        df = pd.read_csv('teams/'+teamName+'.csv')\n",
    "        df['1'] = pd.to_datetime(df['1'],yearfirst=True)\n",
    "        #df['1']= (pd.to_numeric(df['1'])/1e9/24/60/60)\n",
    "        self.teamsData[teamName]=df.sort(['1'],ascending=[False])\n",
    "        self.teamsById[self.teamsMap[teamName]]=self.teamsData[teamName]\n",
    "    \n",
    "    def commonMapping(self, X):\n",
    "        X['HomeTeam'] = X['HomeTeam'].map(self.teamsMap)\n",
    "        X['AwayTeam'] = X['AwayTeam'].map(self.teamsMap)\n",
    "        X['Referee']=X['Referee'].map(self.refereesMap).fillna(0)\n",
    "        X['HTR'] = X['HTR'].map(self.win_mapping)\n",
    "        X['FTR'] = X['FTR'].map(self.win_mapping)\n",
    "        return X\n",
    "    def initData(self, X, target,encode):\n",
    "        X  = X.sort_values(by=\"Date\")\n",
    "        isInput = False\n",
    "        if target is None:\n",
    "            target =X      \n",
    "        else:\n",
    "            if self.ohe is None:\n",
    "                raise Exception(\"Not yet get train data\")\n",
    "            isInput = True\n",
    "            if encode == True:\n",
    "                target = self.commonMapping(target)\n",
    "        y=None\n",
    "        if encode == True:    \n",
    "            X =self.commonMapping(X)\n",
    "            y = []\n",
    "            for v in target['FTR']:\n",
    "                y.append(range(3)==v)\n",
    "        else:\n",
    "            y = target['FTR'].values\n",
    "        target_date = (pd.to_numeric(target['Date'])/1e9/24/60/60).values\n",
    "        return isInput, X,y, target, target_date\n",
    "   \n",
    "    def aggregate(self,recents,nonExpand,isInput,encode):\n",
    "        res =None\n",
    "        if encode == True:\n",
    "            if isInput==False:\n",
    "                self.ohe = OneHotEncoder(categorical_features='all')\n",
    "                self.ohe.fit(recents)\n",
    "            res = self.ohe.transform(recents).toarray()\n",
    "        else:\n",
    "            res = np.array(recents)\n",
    "        self.dateColumn = res.shape[1]\n",
    "        res = np.hstack([res,nonExpand])\n",
    "        return res\n",
    "  \n",
    "    def getH7(self,removeInsufficient=True, target=None,encode = True,future =0):\n",
    "        #Simple recent win,draw, lose \n",
    "        df = self.df\n",
    "        if removeInsufficient == True:\n",
    "            df= df[df['Sufficient'] == 1]\n",
    "        df=df[df['Future']==future]\n",
    "        \n",
    "        isInput, X, y,target, target_date = self.initData(df,target,encode)\n",
    "        resy=[]\n",
    "        resx=[]\n",
    "        print(\"start format\")\n",
    "        recents = X[['HomeTeam','AwayTeam','Referee']].values\n",
    "        haccp = X['HAccP'].values.reshape(X.shape[0],1)\n",
    "        aaccp = X['AAccP'].values.reshape(X.shape[0],1)\n",
    "        homeRecent = np.hstack([X[['HWin','HDraw','HLose']].values,\n",
    "                                (X['HScore'].values - X['HConcede'].values).reshape(X.shape[0],1)])\n",
    "        awayRecent = np.hstack([X[['AWin','ADraw','ALose']].values,\n",
    "                                (X['AScore'].values - X['AConcede'].values).reshape(X.shape[0],1)])\n",
    "        homeMoral = X['HMoral'].values.reshape(X.shape[0],1)\n",
    "        awayMoral = X['AMoral'].values.reshape(X.shape[0],1)\n",
    "        target_date = target_date.reshape(X.shape[0],1)\n",
    "        \n",
    "        \n",
    "        \n",
    "        \n",
    "        acc_headers = [e+'_Acc' for e in self.h7_general]\n",
    "        self.acc_headers= acc_headers\n",
    "        general = X[['HRestDay','ARestDay']+acc_headers].values\n",
    "        \n",
    "        ha_headers =np.array(acc_headers).reshape(len(acc_headers)/2, 2).T\n",
    "        print(ha_headers)\n",
    "        h_over_a = (X[ha_headers[0,:]].values/X[ha_headers[1,:]].values)\n",
    "        self.ha_headers = [ ha_headers[0,i]+'/'+ha_headers[1,i] for i in range(ha_headers.shape[1])]\n",
    "        \n",
    "        percent_headers =[]\n",
    "        percent_headers += ['H_'+e+'_Acc' for e in self.percentList]\n",
    "        percent_headers += ['A_'+e+'_Acc' for e in self.percentList]\n",
    "        n_percent_headers = np.array(percent_headers).reshape(len(percent_headers)/2, 2).T\n",
    "       # percent_values = (X[n_percent_headers[0,:]].values/X[n_percent_headers[1,:]].values)\n",
    "        self.percent_headers = [ n_percent_headers[0,i]+'/'+n_percent_headers[1,i] for i in range(n_percent_headers.shape[1])]\n",
    "        \n",
    "        nonExpand =np.hstack([target_date,haccp-aaccp,(haccp+1)/(aaccp+1),\n",
    "                            homeRecent,awayRecent, \n",
    "                              homeMoral - awayMoral + haccp - aaccp,\n",
    "                              general\n",
    "                             ])\n",
    "        res = self.aggregate(recents,nonExpand,future,encode)\n",
    "        print(\"finish\")\n",
    "        sys.stdout.flush()\n",
    "        return res, np.array(y)\n",
    "    def _getRank(self,x, X,teamName,recentNum):\n",
    "        team = self.getTeam(X,teamName)\n",
    "        prev = team[team['Date'] < x['Date']].values      \n",
    "        for i in range(recentNum):\n",
    "            pass\n",
    "    def initRanking(self, n = 20):\n",
    "        defaultPt = 1\n",
    "        df = self.df.sort(columns=[\"Date\"],ascending=[False])\n",
    "        df[\"HPoints\"] = pd.Series(np.zeros(shape=(df.shape[0],)))\n",
    "        df[\"APoints\"] = pd.Series(np.zeros(shape=(df.shape[0],)))\n",
    "        df[\"HAccP\"] = pd.Series(np.zeros(shape=(df.shape[0],)))\n",
    "        df[\"AAccP\"] = pd.Series(np.zeros(shape=(df.shape[0],)))\n",
    "        hpoints= df[\"HPoints\"].values\n",
    "        apoints=df[\"APoints\"].values\n",
    "        ftr = df[\"FTR\"].values\n",
    "        for i in range(df.shape[0]):\n",
    "            sys.stdout.write(\"\\r progress {}\".format(i))\n",
    "            sys.stdout.flush()\n",
    "            if ftr[i] == 'H':\n",
    "                hpoints[i] = 3\n",
    "                apoints[i] = 0\n",
    "            elif ftr[i] == 'D':\n",
    "                hpoints[i] = 1\n",
    "                apoints[i] = 1\n",
    "            else :\n",
    "                hpoints[i] = 0\n",
    "                apoints[i] = 3\n",
    "        df[\"HPoints\"]=hpoints\n",
    "        df[\"APoints\"]=apoints\n",
    "        for teamName in self.teamsMap.keys():\n",
    "            team  = df[(df['HomeTeam']==teamName) | (df['AwayTeam'] == teamName)] \n",
    "            hometeam = team['HomeTeam'].values\n",
    "            hpoints = team['HPoints'].values\n",
    "            apoints = team['APoints'].values\n",
    "            psum = 0\n",
    "            haccp = team['HAccP'].values\n",
    "            aaccp = team['AAccP'].values\n",
    "        \n",
    "            for  i in range(0,n):\n",
    "                if i < hpoints.shape[0]:\n",
    "                    psum = psum + (hpoints[i] if hometeam[i] == teamName else apoints[i] ) \n",
    "                else:\n",
    "                    psum = psum + defaultPt        \n",
    "                    \n",
    "        \n",
    "            for j in range(team.shape[0]):\n",
    "\n",
    "                if j+n < hpoints.shape[0]:                     \n",
    "                    psum = psum + (hpoints[j+n] if hometeam[j+n]==teamName else apoints[j+n])\n",
    "                else:\n",
    "                    psum = psum + defaultPt \n",
    "                \n",
    "                psum = psum - (hpoints[j] if hometeam[j]==teamName else apoints[j])\n",
    "                    \n",
    "                if hometeam[j] == teamName:\n",
    "                    haccp[j]=psum\n",
    "                else:\n",
    "                    aaccp[j]=psum\n",
    "            team['HAccp']=haccp\n",
    "            team['AAccP']=aaccp\n",
    "            #print(team[['HomeTeam','AwayTeam','HAccP','AAccP']])\n",
    "            df.update(team)\n",
    "            \n",
    "            #print(df[['HomeTeam','AwayTeam','HAccP','AAccP']])\n",
    "        self.df =df\n",
    "        return df\n",
    "    def initRecentData(self, n =5):\n",
    "        df = self.df.sort(columns=[\"Date\"],ascending=[False])\n",
    "        df[\"HWin\"] = pd.Series(np.zeros(shape=(df.shape[0],)))\n",
    "        df[\"AWin\"] = pd.Series(np.zeros(shape=(df.shape[0],)))\n",
    "        df[\"HDraw\"] = pd.Series(np.zeros(shape=(df.shape[0],)))\n",
    "        df[\"ADraw\"] = pd.Series(np.zeros(shape=(df.shape[0],)))\n",
    "        df[\"HLose\"] = pd.Series(np.zeros(shape=(df.shape[0],)))\n",
    "        df[\"ALose\"] = pd.Series(np.zeros(shape=(df.shape[0],)))\n",
    "                \n",
    "        df[\"HScore\"] = pd.Series(np.zeros(shape=(df.shape[0],)))\n",
    "        df[\"AScore\"] = pd.Series(np.zeros(shape=(df.shape[0],)))\n",
    "        df[\"HConcede\"] = pd.Series(np.zeros(shape=(df.shape[0],)))\n",
    "        df[\"AConcede\"] = pd.Series(np.zeros(shape=(df.shape[0],)))\n",
    "        df[\"HMoral\"] = pd.Series(np.zeros(shape=(df.shape[0],)))\n",
    "        df[\"AMoral\"] = pd.Series(np.zeros(shape=(df.shape[0],)))\n",
    "        df[\"HRestDay\"]= pd.Series(np.zeros(shape=(df.shape[0],)))\n",
    "        df[\"ARestDay\"]= pd.Series(np.zeros(shape=(df.shape[0],)))\n",
    "        df[\"H_Enemy_Acc\"] = pd.Series(np.zeros(shape=(df.shape[0],)))\n",
    "        df[\"A_Enemy_Acc\"] = pd.Series(np.zeros(shape=(df.shape[0],)))\n",
    "        #general\n",
    "        generalList = self.generalList \n",
    "        generalOutput = []\n",
    "        for attr in generalList:\n",
    "            temp = attr+'_Acc'\n",
    "            df[temp]=pd.Series(np.zeros(shape=(df.shape[0],)))\n",
    "            generalOutput.append(temp)\n",
    "        #\n",
    "        df[\"Sufficient\"] = pd.Series(np.ones(shape=(df.shape[0],)))\n",
    "        \n",
    "      \n",
    "            \n",
    "        \n",
    "        hscore = df['FTHG'].values\n",
    "        ascore = df['FTAG'].values\n",
    "        hconcede = df ['FTAG'].values\n",
    "        aconcede = df['FTHG'].values\n",
    "               \n",
    "        hwin = df['HWin'].values\n",
    "        awin = df['AWin'].values\n",
    "        hlose = df['HLose'].values\n",
    "        alose = df['ALose'].values\n",
    "        hdraw = df['HDraw'].values\n",
    "        adraw = df['ADraw'].values\n",
    "        hmoral = df['HMoral'].values\n",
    "        amoral = df['AMoral'].values\n",
    "        \n",
    "        rankRatio = (df['HAccP'].values+1) / (df['AAccP'].values +1)\n",
    "        \n",
    "        \n",
    "        ftr = df[\"FTR\"].values\n",
    "        for i in range(df.shape[0]):\n",
    "            sys.stdout.write(\"\\r progress {}\".format(i))\n",
    "            sys.stdout.flush()\n",
    "            if ftr[i] == 'H':\n",
    "                hwin[i] = 1\n",
    "                hmoral[i] = 3 * 1/rankRatio[i]\n",
    "                alose[i]= 1\n",
    "                amoral[i] = -3 * 1/rankRatio[i]\n",
    "            elif ftr[i] == 'D':\n",
    "                hdraw[i] = 1\n",
    "                hmoral[i] = 1 * 1/rankRatio[i]\n",
    "                adraw[i] = 1\n",
    "                amoral[i] = 1 * rankRatio[i]\n",
    "            else :\n",
    "                hlose[i] = 1\n",
    "                hmoral[i] = -3*rankRatio[i]\n",
    "                awin [i] = 1\n",
    "                amoral[i] = 3*rankRatio[i]\n",
    "        \n",
    "        \n",
    "        df[\"HWin\"]=hwin\n",
    "        df[\"AWin\"]=awin\n",
    "        df[\"HDraw\"]=hdraw\n",
    "        df[\"ADraw\"]=adraw\n",
    "        df[\"HLose\"]=hlose\n",
    "        df[\"ALose\"]=alose\n",
    "        df[\"HScore\"]=hscore\n",
    "        df[\"AScore\"]=ascore\n",
    "        df[\"HConcede\"]=hconcede\n",
    "        df[\"AConcede\"]=aconcede\n",
    "        df[\"HMoral\"] = hmoral\n",
    "        df[\"AMoral\"] = amoral\n",
    "        \n",
    "        \n",
    "        \n",
    "        for teamName in self.teamsMap.keys():\n",
    "            print(teamName)\n",
    "            team  = df[(df['HomeTeam']==teamName) | (df['AwayTeam'] == teamName)] \n",
    "            hometeam = team['HomeTeam'].values\n",
    "            hwin = team[\"HWin\"].values\n",
    "            awin = team[\"AWin\"].values\n",
    "            hlose= team[\"HLose\"].values\n",
    "            alose = team[\"ALose\"].values\n",
    "            hdraw = team[\"HDraw\"].values\n",
    "            adraw = team[\"ADraw\"].values\n",
    "            hscore = team[\"HScore\"].values\n",
    "            ascore = team[\"AScore\"].values\n",
    "            hconcede = team[\"HConcede\"].values\n",
    "            aconcede = team[\"AConcede\"].values\n",
    "            hmoral = team[\"HMoral\"].values\n",
    "            amoral = team[\"AMoral\"].values\n",
    "            hrestday = team[\"HRestDay\"].values\n",
    "            arestday = team[\"ARestDay\"].values\n",
    "            \n",
    "            haccp = team[\"HAccP\"].values\n",
    "            aaccp = team[\"AAccP\"].values\n",
    "            h_enemy = team[\"H_Enemy_Acc\"].values\n",
    "            a_enemy = team[\"A_Enemy_Acc\"].values\n",
    "            enemy_sum = 0\n",
    "            \n",
    "            #general\n",
    "            original_list =[]\n",
    "            output_list=[]\n",
    "            for indx, o_attr in enumerate(generalList):\n",
    "                original_list.append(team[o_attr].values)\n",
    "                output_list.append(team[generalOutput[indx]].values)\n",
    "            \n",
    "            \n",
    "            matchDate =team['Date'].values\n",
    "            sufficient = team['Sufficient'].values\n",
    "            teamMatchesDate = self.teamsData[teamName].sort('1',ascending=False)['1'].values\n",
    "            \n",
    "            restday = 0\n",
    "            winsum =0 \n",
    "            losesum=0\n",
    "            drawsum=0\n",
    "            scoresum =0\n",
    "            concedesum=0\n",
    "            moralsum = 0\n",
    "            #print(team[['HomeTeam','AwayTeam','HWin']])\n",
    "            teamAttrSum_list=[0 for i in range(int(len(original_list)/2))]\n",
    "            for  i in range(0,n):\n",
    "                if i < team.shape[0]:\n",
    "                    scoresum = scoresum + (hscore[i] if hometeam[i] == teamName else ascore[i])\n",
    "                    winsum = winsum + (hwin[i] if hometeam[i] == teamName else awin[i])\n",
    "                    losesum= losesum + (hlose[i] if hometeam[i] == teamName else alose[i])\n",
    "                    drawsum= drawsum + (hdraw[i] if hometeam[i] == teamName else adraw[i])\n",
    "                    concedesum = concedesum+ (hconcede[i] if hometeam[i] == teamName else aconcede[i])\n",
    "                    moralsum= moralsum+ (hmoral[i] if hometeam[i] == teamName else amoral[i])\n",
    "                    enemy_sum += (aaccp[i] if hometeam[i] == teamName else haccp[i])\n",
    "                    for attrIndx in range(len(teamAttrSum_list)):\n",
    "                        teamAttrSum_list[attrIndx] +=(original_list[2*attrIndx][i] if hometeam[i] == teamName else original_list[2*attrIndx+1][i])\n",
    "                else:\n",
    "                    # + 0\n",
    "                    pass\n",
    "            dateIndx = 0\n",
    "            for j in range(team.shape[0]):\n",
    "                while True:\n",
    "                    if dateIndx >= teamMatchesDate.shape[0]:\n",
    "                        sufficient[j] = False\n",
    "                        break\n",
    "                    if teamMatchesDate[dateIndx] < matchDate[j] :\n",
    "                        restday = (matchDate[j] - teamMatchesDate[dateIndx])/np.timedelta64(1,'D')\n",
    "                        break\n",
    "                    else:\n",
    "                        dateIndx = dateIndx + 1\n",
    "                \n",
    "                if j+n < team.shape[0]:                     \n",
    "                    scoresum = scoresum + (hscore[j+n] if hometeam[j+n] == teamName else ascore[j+n])\n",
    "                    winsum = winsum + (hwin[j+n] if hometeam[j+n] == teamName else awin[j+n])\n",
    "                    losesum= losesum + (hlose[j+n] if hometeam[j+n] == teamName else alose[j+n])\n",
    "                    drawsum= drawsum + (hdraw[j+n] if hometeam[j+n] == teamName else adraw[j+n])\n",
    "                    concedesum = concedesum+ (hconcede[j+n] if hometeam[j+n] == teamName else aconcede[j+n])\n",
    "                    moralsum= moralsum+ (hmoral[j+n] if hometeam[j+n] == teamName else amoral[j+n])\n",
    "                    enemy_sum += (aaccp[j+n] if hometeam[j+n] == teamName else haccp[j+n])\n",
    "                    for attrIndx in range(len(teamAttrSum_list)):\n",
    "                        teamAttrSum_list[attrIndx] += (original_list[2*attrIndx][j+n] if hometeam[j+n] == teamName else original_list[2*attrIndx+1][j+n])\n",
    "                else:\n",
    "                    sufficient[j] = False\n",
    "                    \n",
    "                \n",
    "                scoresum = scoresum - (hscore[j] if hometeam[j] == teamName else ascore[j])\n",
    "                winsum = winsum - (hwin[j] if hometeam[j] == teamName else awin[j])\n",
    "                losesum= losesum - (hlose[j] if hometeam[j] == teamName else alose[j])\n",
    "                drawsum= drawsum - (hdraw[j] if hometeam[j] == teamName else adraw[j])\n",
    "                concedesum = concedesum - (hconcede[j] if hometeam[j] == teamName else aconcede[j])\n",
    "                moralsum= moralsum - (hmoral[j] if hometeam[j] == teamName else amoral[j])\n",
    "                enemy_sum -= (aaccp[j] if hometeam[j] == teamName else haccp[j])\n",
    "                for attrIndx in range(len(teamAttrSum_list)):\n",
    "                    teamAttrSum_list[attrIndx] -=  (original_list[2*attrIndx][j] if hometeam[j] == teamName else original_list[2*attrIndx+1][j])\n",
    "                    \n",
    "                if hometeam[j] == teamName:\n",
    "                    hscore[j] = scoresum\n",
    "                    hwin[j] = winsum\n",
    "                    hlose[j] = losesum\n",
    "                    hdraw[j] = drawsum\n",
    "                    hconcede[j] = concedesum\n",
    "                    hmoral[j] = moralsum\n",
    "                    hrestday[j] = restday\n",
    "                    h_enemy[j] = enemy_sum\n",
    "                    for attrIndx in range(len(teamAttrSum_list)):\n",
    "                        output_list[2*attrIndx][j] = teamAttrSum_list[attrIndx]\n",
    "                else:\n",
    "                    ascore[j] = scoresum\n",
    "                    awin[j] = winsum\n",
    "                    alose[j] = losesum\n",
    "                    adraw[j] = drawsum\n",
    "                    aconcede[j] = concedesum\n",
    "                    amoral[j] = moralsum\n",
    "                    arestday[j] = restday\n",
    "                    a_enemy[j] = enemy_sum\n",
    "                    for attrIndx in range(len(teamAttrSum_list)):\n",
    "                        output_list[2*attrIndx+1][j] = teamAttrSum_list[attrIndx]\n",
    "            team[\"HWin\"]=hwin\n",
    "            team[\"AWin\"]=awin\n",
    "            team[\"HDraw\"]=hdraw\n",
    "            team[\"ADraw\"]=adraw\n",
    "            team[\"HLose\"]=hlose\n",
    "            team[\"ALose\"]=alose\n",
    "            team[\"HScore\"]=hscore\n",
    "            team[\"AScore\"]=ascore\n",
    "            team[\"HConcede\"]=hconcede\n",
    "            team[\"AConcede\"]=aconcede\n",
    "            team[\"HMoral\"] = hmoral\n",
    "            team[\"AMoral\"] = amoral\n",
    "            team['Sufficient'] = sufficient\n",
    "            team[\"H_Enemy_Acc\"] = h_enemy\n",
    "            team[\"A_Enemy_Acc\"] = a_enemy\n",
    "            for indx in range(len(output_list)):\n",
    "                team[generalOutput[indx]]= output_list[indx]\n",
    "        \n",
    "            #print(team[['HomeTeam','AwayTeam','HWin']])\n",
    "            df.update(team)\n",
    "            #print(df[['HomeTeam','AwayTeam','HAccP','AAccP']])\n",
    "        self.df =df\n",
    "        return df\n",
    "    def initTeamData(self):\n",
    "        self.teamsData={}\n",
    "        self.teamsById={}\n",
    "        for name in self.teamsMap.keys():\n",
    "            self.readTeamMatch(name)\n",
    "            "
   ]
  },
  {
   "cell_type": "code",
   "execution_count": 3,
   "metadata": {
    "ExecuteTime": {
     "end_time": "2016-04-11T13:30:49.173000",
     "start_time": "2016-04-11T13:30:49.170000"
    },
    "collapsed": true,
    "init_cell": true,
    "run_control": {
     "marked": false
    },
    "scrolled": false
   },
   "outputs": [],
   "source": [
    "\n",
    "c = FootballDataHelper()"
   ]
  },
  {
   "cell_type": "code",
   "execution_count": null,
   "metadata": {
    "collapsed": false,
    "run_control": {
     "marked": false
    },
    "scrolled": false
   },
   "outputs": [],
   "source": [
    "#c.readFootBallData(\"E0_1112.csv\")\n",
    "c.readFootBallData(2012)\n",
    "c.readFootBallData(2013)\n",
    "c.readFootBallData(2014)\n",
    "c.readFootBallData(2015)"
   ]
  },
  {
   "cell_type": "code",
   "execution_count": null,
   "metadata": {
    "collapsed": true,
    "run_control": {
     "marked": false
    },
    "scrolled": false
   },
   "outputs": [],
   "source": [
    "\n",
    "c.readFuture()"
   ]
  },
  {
   "cell_type": "code",
   "execution_count": null,
   "metadata": {
    "collapsed": false,
    "run_control": {
     "marked": false
    },
    "scrolled": false
   },
   "outputs": [],
   "source": [
    "\n",
    "c.initTeamData()\n",
    "clear_output()"
   ]
  },
  {
   "cell_type": "code",
   "execution_count": null,
   "metadata": {
    "collapsed": false,
    "run_control": {
     "marked": false
    },
    "scrolled": false
   },
   "outputs": [],
   "source": [
    "df = c.initRanking()\n",
    "clear_output()"
   ]
  },
  {
   "cell_type": "code",
   "execution_count": null,
   "metadata": {
    "collapsed": false,
    "run_control": {
     "marked": false
    },
    "scrolled": false
   },
   "outputs": [],
   "source": [
    "df=c.initRecentData(n=5)\n",
    "clear_output()"
   ]
  },
  {
   "cell_type": "code",
   "execution_count": null,
   "metadata": {
    "collapsed": false,
    "run_control": {
     "marked": false
    },
    "scrolled": false
   },
   "outputs": [],
   "source": [
    "c.saveDf('dataSet/df.csv')"
   ]
  },
  {
   "cell_type": "code",
   "execution_count": 4,
   "metadata": {
    "ExecuteTime": {
     "end_time": "2016-04-11T13:30:49.388000",
     "start_time": "2016-04-11T13:30:49.175000"
    },
    "collapsed": true,
    "init_cell": true,
    "run_control": {
     "marked": false
    },
    "scrolled": false
   },
   "outputs": [],
   "source": [
    "c.loadDf('dataSet/df.csv')"
   ]
  },
  {
   "cell_type": "code",
   "execution_count": null,
   "metadata": {
    "collapsed": false,
    "run_control": {
     "marked": false
    },
    "scrolled": false
   },
   "outputs": [],
   "source": []
  },
  {
   "cell_type": "code",
   "execution_count": null,
   "metadata": {
    "collapsed": false,
    "run_control": {
     "marked": false
    },
    "scrolled": false
   },
   "outputs": [],
   "source": [
    "X,y = c.getH7(removeInsufficient=True, encode=False)\n"
   ]
  },
  {
   "cell_type": "code",
   "execution_count": null,
   "metadata": {
    "collapsed": true,
    "run_control": {
     "marked": false
    }
   },
   "outputs": [],
   "source": []
  },
  {
   "cell_type": "code",
   "execution_count": null,
   "metadata": {
    "collapsed": false,
    "run_control": {
     "marked": false
    },
    "scrolled": true
   },
   "outputs": [],
   "source": [
    "print(X.shape)\n",
    "df = pd.DataFrame(np.hstack([X,y.reshape(y.shape[0],1)]))\n",
    "print(df.shape)\n",
    "df.columns = ['home','away','Referee','time',\n",
    "              'HAccP - AAccP','H/A','HWin','HDraw','HLose','H goal Diff',\n",
    "'AWin','ADraw','ALose','A goal diff','moraldiff + h-a','H_Enemy_Acc','A_Enemy_Acc','HRestDay','ARestDay']+c.acc_headers+\\\n",
    "            c.percent_headers+[\n",
    "              'y']"
   ]
  },
  {
   "cell_type": "code",
   "execution_count": null,
   "metadata": {
    "collapsed": true,
    "run_control": {
     "marked": false
    },
    "scrolled": false
   },
   "outputs": [],
   "source": [
    "\n",
    "df.to_csv('dataSet/V10_2.csv',index=False)"
   ]
  },
  {
   "cell_type": "code",
   "execution_count": null,
   "metadata": {
    "collapsed": true,
    "run_control": {
     "marked": false
    },
    "scrolled": false
   },
   "outputs": [],
   "source": []
  },
  {
   "cell_type": "code",
   "execution_count": null,
   "metadata": {
    "collapsed": true,
    "run_control": {
     "marked": false
    },
    "scrolled": false
   },
   "outputs": [],
   "source": []
  },
  {
   "cell_type": "code",
   "execution_count": 5,
   "metadata": {
    "collapsed": false,
    "run_control": {
     "marked": false
    },
    "scrolled": false
   },
   "outputs": [
    {
     "name": "stdout",
     "output_type": "stream",
     "text": [
      "start format\n",
      "[['HS_Acc' 'HST_Acc' 'H_poss_Acc' 'H_atk_3rd_Acc' 'H_atk_3rd_tot_Acc'\n",
      "  'H_interceptions_Acc']\n",
      " ['AS_Acc' 'AST_Acc' 'A_poss_Acc' 'A_atk_3rd_Acc' 'A_atk_3rd_tot_Acc'\n",
      "  'A_interceptions_Acc']]\n",
      "finish\n"
     ]
    },
    {
     "name": "stderr",
     "output_type": "stream",
     "text": [
      "/home/y/anaconda3/lib/python3.5/site-packages/ipykernel/__main__.py:224: DeprecationWarning: using a non-integer number instead of an integer will result in an error in the future\n",
      "/home/y/anaconda3/lib/python3.5/site-packages/ipykernel/__main__.py:232: DeprecationWarning: using a non-integer number instead of an integer will result in an error in the future\n"
     ]
    }
   ],
   "source": [
    "X,y = c.getH7(removeInsufficient = True)"
   ]
  },
  {
   "cell_type": "code",
   "execution_count": 5,
   "metadata": {
    "ExecuteTime": {
     "end_time": "2016-04-11T13:30:49.393000",
     "start_time": "2016-04-11T13:30:49.391000"
    },
    "collapsed": false,
    "init_cell": true,
    "run_control": {
     "marked": false
    },
    "scrolled": false
   },
   "outputs": [],
   "source": [
    "from sklearn.preprocessing import StandardScaler"
   ]
  },
  {
   "cell_type": "code",
   "execution_count": 6,
   "metadata": {
    "ExecuteTime": {
     "end_time": "2016-04-11T13:30:49.454000",
     "start_time": "2016-04-11T13:30:49.395000"
    },
    "collapsed": false,
    "init_cell": true,
    "run_control": {
     "marked": false
    },
    "scrolled": false
   },
   "outputs": [],
   "source": [
    "from sklearn.cross_validation import train_test_split\n",
    "def splitData(X,y, test_size =0.2):\n",
    "    X_train, X_test, y_train, y_test = train_test_split(X, y, test_size=test_size )\n",
    "    return X_train, X_test,y_train, y_test"
   ]
  },
  {
   "cell_type": "code",
   "execution_count": 7,
   "metadata": {
    "ExecuteTime": {
     "end_time": "2016-04-11T13:30:59.309000",
     "start_time": "2016-04-11T13:30:49.456000"
    },
    "collapsed": false,
    "init_cell": true,
    "run_control": {
     "marked": false
    },
    "scrolled": false
   },
   "outputs": [
    {
     "name": "stderr",
     "output_type": "stream",
     "text": [
      "Using Theano backend.\n",
      "DEBUG: nvcc STDOUT mod.cu\n",
      "   Creating library C:/Users/at/AppData/Local/Theano/compiledir_Windows-10-10.0.10586-Intel64_Family_6_Model_58_Stepping_9_GenuineIntel-2.7.11-64/tmp53ptac/265abc51f7c376c224983485238ff1a5.lib and object C:/Users/at/AppData/Local/Theano/compiledir_Windows-10-10.0.10586-Intel64_Family_6_Model_58_Stepping_9_GenuineIntel-2.7.11-64/tmp53ptac/265abc51f7c376c224983485238ff1a5.exp\n",
      "\n",
      "Using gpu device 0: GeForce GTX 650 Ti (CNMeM is enabled with initial size: 40.0% of memory, CuDNN 3007)\n"
     ]
    }
   ],
   "source": [
    "from keras.models import Sequential"
   ]
  },
  {
   "cell_type": "code",
   "execution_count": 8,
   "metadata": {
    "ExecuteTime": {
     "end_time": "2016-04-11T13:30:59.318000",
     "start_time": "2016-04-11T13:30:59.311000"
    },
    "collapsed": false,
    "init_cell": true,
    "run_control": {
     "marked": false
    },
    "scrolled": false
   },
   "outputs": [],
   "source": [
    "g_best_size =170 \n",
    "g_best_dropout=0.4\n",
    "g_patience=10\n",
    "g_validation = 0.25\n",
    "g_epoch = 1000\n",
    "g_input_dim = None \n",
    "g_early_stop =False"
   ]
  },
  {
   "cell_type": "code",
   "execution_count": 9,
   "metadata": {
    "ExecuteTime": {
     "end_time": "2016-04-11T13:30:59.362000",
     "start_time": "2016-04-11T13:30:59.323000"
    },
    "collapsed": false,
    "init_cell": true,
    "run_control": {
     "marked": false
    },
    "scrolled": false
   },
   "outputs": [],
   "source": [
    "from keras.layers import Dense, Dropout, Activation, Flatten\n",
    "from keras.optimizers import SGD, Adadelta, Adagrad\n",
    "from keras.layers.normalization import BatchNormalization\n",
    "from keras.callbacks import EarlyStopping\n",
    "from keras.callbacks import ModelCheckpoint"
   ]
  },
  {
   "cell_type": "code",
   "execution_count": 10,
   "metadata": {
    "ExecuteTime": {
     "end_time": "2016-04-11T13:30:59.469000",
     "start_time": "2016-04-11T13:30:59.365000"
    },
    "collapsed": false,
    "init_cell": true
   },
   "outputs": [],
   "source": [
    "\n",
    "class Model:\n",
    "    \n",
    "    def __init__(self,hide_size =[10], dropout = 0, preprocess = []):\n",
    "        self.model =None\n",
    "        self.dropout = dropout\n",
    "        self.hide_size = hide_size\n",
    "        self.preprocess = [] + preprocess\n",
    "    \n",
    "    def createModel(self,input_dim = g_input_dim):\n",
    "        hidSize = self.hide_size\n",
    "        activation ='tanh'\n",
    "        model = Sequential()\n",
    "        model.add(Dense(hidSize[0], input_dim=input_dim, init='uniform'))\n",
    "        model.add(Activation(activation))\n",
    "        model.add(Dropout(self.dropout))\n",
    "        \n",
    "        for i in range(1,len(hidSize)):\n",
    "            model.add(Dense(hidSize[i], init='uniform'))\n",
    "            model.add(Activation(activation))\n",
    "            model.add(Dropout(self.dropout))\n",
    "\n",
    "        model.add(Dense(3, init='uniform'))\n",
    "        model.add(Activation('softmax'))\n",
    "        \n",
    "        model.compile(loss='categorical_crossentropy', optimizer='adadelta')\n",
    "        return model\n",
    "    def _fitModel(self,X_train,X_val,y_train,y_val,early_stop=g_early_stop):\n",
    "        print(\"dtype {}\".format(X_train.dtype))\n",
    "        print(\"dtype {}\".format(y_train.dtype))\n",
    "        print(\"dtype {}\".format(X_val.dtype))\n",
    "        model = self.model\n",
    "        earlyCallback = EarlyStopping(patience=g_patience,verbose=1)\n",
    "        modelCheckPoint =ModelCheckpoint(\"temp.model\", monitor='val_loss', verbose=0, save_best_only=True, mode='auto')\n",
    "        if early_stop==True:\n",
    "            h= model.fit(X_train,y_train,verbose=0,nb_epoch=g_epoch,batch_size=128, validation_split=0,show_accuracy=True, \n",
    "                             callbacks=[earlyCallback,modelCheckPoint],validation_data=(X_val,y_val))\n",
    "            model.load_weights(\"temp.model\")\n",
    "            return h\n",
    "        else:\n",
    "            print(\"no early stop\")\n",
    "            h= model.fit(X_train,y_train,verbose=0,nb_epoch=g_epoch,batch_size=256, validation_split=0,show_accuracy=True,\n",
    "                             callbacks = [modelCheckPoint],validation_data=(X_val,y_val))\n",
    "            model.load_weights(\"temp.model\")\n",
    "            return h\n",
    "    def _preprocess_fit(self,X_train,y_train):\n",
    "        for pre in self.preprocess:\n",
    "            pre.fit(X_train,y_train)\n",
    "    def _preprocess(self,X):\n",
    "        X_temp = X\n",
    "        for pre in self.preprocess:\n",
    "            X_temp = pre.transform(X_temp)\n",
    "        return X_temp\n",
    "    def fit(self,X_train,y_train):\n",
    "        if self.model is not None:\n",
    "            print(\"already fit\")\n",
    "            return\n",
    "        X_train = X_train.astype('float32')\n",
    "        y_train = y_train.astype('float32')\n",
    "        #precoss\n",
    "        X_t, X_v , y_t, y_v = splitData(X_train,y_train, test_size=0.25)\n",
    "        self._preprocess_fit(X_t,np.argmax(y_t,axis=1))\n",
    "        X_t_pre = self._preprocess(X_t)\n",
    "        X_v_pre = self._preprocess(X_v)\n",
    "        self.model = self.createModel(input_dim=X_t_pre.shape[1])\n",
    "        return self._fitModel(X_t_pre,X_v_pre,y_t,y_v,early_stop=False)\n",
    "    def predict_proba(self,X):\n",
    "        X=X.astype('float32')\n",
    "        X_pre = self._preprocess(X)\n",
    "        return self.model.predict_proba(X_pre)\n",
    "    def evaluate(self,X,y):\n",
    "        X=X.astype('float32')\n",
    "        X_pre = self._preprocess(X)\n",
    "        return self.model.evaluate(X_pre,y,show_accuracy=True)\n",
    "    def precision(self,X,y_true):\n",
    "        X=X.astype('float32')\n",
    "        y_pred = self.predict_proba(X)        \n",
    "        return precision_score(np.argmax(y_true,axis=1),np.argmax(y_pred,axis=1),average=None)"
   ]
  },
  {
   "cell_type": "code",
   "execution_count": null,
   "metadata": {
    "ExecuteTime": {
     "end_time": "2016-04-10T13:43:42.844000",
     "start_time": "2016-04-10T13:43:42.806000"
    },
    "collapsed": false,
    "init_cell": true,
    "run_control": {
     "marked": false
    }
   },
   "outputs": [],
   "source": [
    "\n",
    "    "
   ]
  },
  {
   "cell_type": "code",
   "execution_count": 11,
   "metadata": {
    "ExecuteTime": {
     "end_time": "2016-04-11T13:30:59.508000",
     "start_time": "2016-04-11T13:30:59.471000"
    },
    "collapsed": false,
    "init_cell": true,
    "run_control": {
     "marked": false
    },
    "scrolled": false
   },
   "outputs": [],
   "source": [
    "from sklearn.cross_validation import StratifiedKFold\n",
    "def crossValidate2(node_sizes, X,y,dropout=g_best_dropout, fold = 10, earlyStopping =False):\n",
    "    y_label = np.argmax(y,axis=1)\n",
    "\n",
    "    kfold = StratifiedKFold(y=y_label, \n",
    "                             n_folds=fold\n",
    "                           )\n",
    "\n",
    "    val_loss = []\n",
    "    train_loss=[]\n",
    "    test_loss =[]\n",
    "    val_acc = []\n",
    "    test_acc = []\n",
    "    precision = []\n",
    "    for k, (train, test) in enumerate(kfold):\n",
    "        model =  Model(node_sizes,dropout=dropout, preprocess=[StandardScaler()])\n",
    "        history =model.fit(X[train],y[train])\n",
    "        indx = np.argmin(history.history['val_loss'])\n",
    "        val_loss.append(history.history['val_loss'][indx])\n",
    "        val_acc.append(history.history['val_acc'][indx])\n",
    "        train_loss.append(history.history['loss'][indx])\n",
    "        test_loss.append(model.evaluate(X[test],y[test]))\n",
    "        proba = model.predict_proba(X[test])\n",
    "        precision.append(model.precision(X[test],y[test]))\n",
    "        temp = np.argmax(y[test],axis=1) == np.argmax(proba,axis=1)\n",
    "        test_acc.append(np.sum(temp)*1.0/y[test].shape[0])\n",
    "        print('Fold: %s, val_acc:%.3f test_acc: %.3f' % (k+1, val_acc[-1], test_acc[-1]))    \n",
    "        \n",
    "        \n",
    "    return train_loss,val_loss,test_loss,val_acc,test_acc\n",
    "\n",
    "\n"
   ]
  },
  {
   "cell_type": "code",
   "execution_count": null,
   "metadata": {
    "collapsed": false,
    "run_control": {
     "marked": false
    },
    "scrolled": false
   },
   "outputs": [],
   "source": [
    "train_scores,scores,  proba_test,proba_y,histories= crossValidate2([20,20],X_scaled,y,fold=5,dropout=0,earlyStopping=False)"
   ]
  },
  {
   "cell_type": "code",
   "execution_count": 12,
   "metadata": {
    "ExecuteTime": {
     "end_time": "2016-04-11T13:30:59.582000",
     "start_time": "2016-04-11T13:30:59.510000"
    },
    "collapsed": false,
    "init_cell": true,
    "run_control": {
     "marked": false
    },
    "scrolled": false
   },
   "outputs": [],
   "source": [
    "def kfoldTesting (X,y,X_test=None,y_test=None, s=g_best_size,dropout=g_best_dropout,kfold=5):\n",
    "        s_val_loss=[]\n",
    "        s_train_loss=[]\n",
    "        s_test_loss=[]\n",
    "        for k in range(kfold):\n",
    "            model = createModel([s,s],dropout=dropout,input_dim=X.shape[1])\n",
    "            history =fitModel(model,X,y)\n",
    "            s_val_loss.append(history.history['val_loss'][-1])\n",
    "            s_train_loss.append(history.history['loss'][-1])\n",
    "            if X_test is not None:\n",
    "                s_test_loss.append(model.evaluate(X_test,y_test))\n",
    "        if X_test is not None:\n",
    "            return s_train_loss,s_val_loss,s_test_loss\n",
    "        return s_train_loss,s_val_loss\n"
   ]
  },
  {
   "cell_type": "code",
   "execution_count": 13,
   "metadata": {
    "ExecuteTime": {
     "end_time": "2016-04-11T13:30:59.617000",
     "start_time": "2016-04-11T13:30:59.586000"
    },
    "collapsed": false,
    "init_cell": true,
    "run_control": {
     "marked": false
    },
    "scrolled": false
   },
   "outputs": [],
   "source": [
    "def dropoutTest(X_train,X_test,y_train,y_test, size=g_best_size,kfold = 5) :\n",
    "    val_losses = []\n",
    "    test_losses = []\n",
    "    losses =[]\n",
    "    drop_range = np.arange(0,0.9,0.1)\n",
    "    for d in drop_range:\n",
    "        s_train_loss,s_val_loss,s_test_loss = kfoldTesting(X_train,y_train,X_test=X_test,y_test=y_test,s =size,kfold=kfold)\n",
    "        losses.append(s_train_loss)\n",
    "        val_losses.append(s_val_loss)\n",
    "        test_losses.append(s_test_loss)\n",
    "        clear_output()\n",
    "        print(\"size{}, dropout{}:loss {},val {},test {}\".format(size,d,losses[-1],val_losses[-1],test_losses[-1]))\n",
    "        sys.stdout.flush()\n",
    "    return losses,val_losses,test_losses,drop_range\n",
    "                    \n",
    "    \n"
   ]
  },
  {
   "cell_type": "code",
   "execution_count": null,
   "metadata": {
    "collapsed": false,
    "run_control": {
     "marked": false
    },
    "scrolled": false
   },
   "outputs": [],
   "source": []
  },
  {
   "cell_type": "code",
   "execution_count": 14,
   "metadata": {
    "ExecuteTime": {
     "end_time": "2016-04-11T13:30:59.653000",
     "start_time": "2016-04-11T13:30:59.618000"
    },
    "collapsed": false,
    "init_cell": true,
    "run_control": {
     "marked": false
    },
    "scrolled": false
   },
   "outputs": [],
   "source": [
    "def testNodeNum(X,y, sizes,dropout =g_best_dropout, kfold =5):\n",
    "    #train_loss=[] \n",
    "    val_loss=[]\n",
    "    train_loss=[]\n",
    "    for s in sizes:\n",
    "        s_train_loss,s_val_loss = kfoldTesting(X,y,s=s,dropout=dropout,kfold=kfold)\n",
    "        clear_output()\n",
    "        print(\"size:{} , train:{} val_loss:{}\".format(s,\n",
    "                                np.mean(s_train_loss), np.mean(s_val_loss)))\n",
    "        val_loss.append(s_val_loss)\n",
    "        train_loss.append(s_train_loss)\n",
    "        \n",
    "    return train_loss,val_loss"
   ]
  },
  {
   "cell_type": "code",
   "execution_count": 15,
   "metadata": {
    "ExecuteTime": {
     "end_time": "2016-04-11T13:30:59.692000",
     "start_time": "2016-04-11T13:30:59.655000"
    },
    "collapsed": true,
    "init_cell": true,
    "run_control": {
     "marked": false
    }
   },
   "outputs": [],
   "source": [
    "def test_node_dropout(X_train,X_test,y_train,y_test, node_sizes,kfold=5):\n",
    "    s_val_loss=[]\n",
    "    s_train_loss=[]\n",
    "    s_test_loss=[]\n",
    "    s_drop_range =None\n",
    "    for s in node_sizes:\n",
    "        losses,val_losses,test_losses,drop_range = dropoutTest(X_train,X_test,y_train,y_test,size=s,kfold =kfold)\n",
    "        s_drop_range = drop_range\n",
    "\n",
    "        s_val_loss.append(val_losses)\n",
    "        s_train_loss.append(losses)\n",
    "        s_test_loss.append(test_losses)\n",
    "        \n",
    "    return s_train_loss,s_val_loss,s_test_loss,s_drop_range\n",
    "    \n",
    "    \n",
    "    "
   ]
  },
  {
   "cell_type": "code",
   "execution_count": null,
   "metadata": {
    "collapsed": false,
    "run_control": {
     "marked": false
    },
    "scrolled": true
   },
   "outputs": [],
   "source": [
    "sizes= range(45,55,1)\n",
    "train_loss,val_loss= testNodeNum(X_scaled,y,sizes,dropout=g_best_dropout)"
   ]
  },
  {
   "cell_type": "code",
   "execution_count": null,
   "metadata": {
    "collapsed": false,
    "run_control": {
     "marked": false
    },
    "scrolled": false
   },
   "outputs": [],
   "source": [
    "print(sizes)\n",
    "plt.plot(sizes,np.mean(val_loss,axis=1))\n",
    "plt.figure()"
   ]
  },
  {
   "cell_type": "code",
   "execution_count": null,
   "metadata": {
    "collapsed": true,
    "run_control": {
     "marked": false
    },
    "scrolled": false
   },
   "outputs": [],
   "source": [
    "def testDropoutRate(X,y, sizes,dropout):\n",
    "    train_scores,scores,  proba_test,proba_y= crossValidate2(sizes,X,y,fold=5,dropout=dropout,earlyStopping=True)\n",
    "    print(\"dropout:{} , val_loss_mean:{}\".format(dropout,np.mean(scores)))\n",
    "    return train_scores,scores"
   ]
  },
  {
   "cell_type": "code",
   "execution_count": null,
   "metadata": {
    "collapsed": false,
    "run_control": {
     "marked": false
    },
    "scrolled": false
   },
   "outputs": [],
   "source": [
    "g_dropout_range =np.arange(0.1,1, 0.1)\n",
    "g_train_loss=[]\n",
    "g_score_loss =[]\n",
    "for d in g_dropout_range:\n",
    "    train_loss, score_loss = testDropoutRate(X_scaled,y,[55,55],float(d))\n",
    "    g_train_loss.append(train_loss)\n",
    "    g_score_loss.append(score_loss)"
   ]
  },
  {
   "cell_type": "code",
   "execution_count": null,
   "metadata": {
    "collapsed": false,
    "run_control": {
     "marked": false
    },
    "scrolled": false
   },
   "outputs": [],
   "source": [
    "import matplotlib.pyplot as plt\n",
    "g_train_mean = np.mean(g_score_loss,axis=1)\n",
    "g_test_mean = np.mean(g_score_loss,axis=1)\n",
    "g_test_std = np.std(g_score_loss,axis = 1)\n",
    "plt.plot(g_dropout_range,g_test_mean)\n",
    "plt.plot(g_dropout_range,g_train_mean,color='red')\n",
    "plt.fill_between(g_dropout_range, g_test_mean - g_test_std, g_test_mean+g_test_std,alpha=0.3)\n",
    "plt.figure()\n"
   ]
  },
  {
   "cell_type": "code",
   "execution_count": null,
   "metadata": {
    "collapsed": true,
    "run_control": {
     "marked": false
    }
   },
   "outputs": [],
   "source": []
  },
  {
   "cell_type": "code",
   "execution_count": 16,
   "metadata": {
    "ExecuteTime": {
     "end_time": "2016-04-11T13:30:59.729000",
     "start_time": "2016-04-11T13:30:59.695000"
    },
    "collapsed": true,
    "init_cell": true,
    "run_control": {
     "marked": false
    },
    "scrolled": false
   },
   "outputs": [],
   "source": [
    "def findRecordsByDf(self,df):\n",
    "    #print((df['DayStamp']).values)\n",
    "    #date = convertToDate((df['DayStamp']).values)\n",
    "    #df[\"Date\"] = date\n",
    "    \n",
    "    home = df['HomeTeam'].values\n",
    "    away = df['AwayTeam'].values\n",
    "    origin = self.df[[\"Date\",\"HomeTeam\",\"AwayTeam\",\"JocH\",\"JocD\",\"JocA\"]]\n",
    "    origin[\"DayStamp\"]=(pd.to_numeric(origin['Date'])/1e9/24/60/60).values\n",
    "    origin[\"DayStamp\"] = origin[\"DayStamp\"].apply(lambda x: \"%.f\"%(float(x)))\n",
    "    df['DayStamp']=df['DayStamp'].apply(lambda x: \"%.f\"%(float(x)))\n",
    "    return origin.merge(df,left_on=['DayStamp',\"HomeTeam\",\"AwayTeam\"],right_on=[\"DayStamp\",\"HomeTeam\",\"AwayTeam\"],how='inner')\n",
    "   \n",
    "def mergeXWithOdds_Proba(self,X, y_proba, y_true):\n",
    "    decoded = oneHotDecode(self, X)\n",
    "    dates = X[:,c.dateColumn] \n",
    "    homeTeam = self.inverseTeamMapping(decoded[:,0])\n",
    "    awayTeam =self.inverseTeamMapping(decoded[:,1])\n",
    "    temp = np.vstack([homeTeam,awayTeam,dates]).T\n",
    "    df = pd.DataFrame(np.hstack([temp,y_proba,y_true])\n",
    "                      ,columns=[\"HomeTeam\",\"AwayTeam\",\"DayStamp\",\"H_prob\",\"D_prob\",\"A_prob\",\"H\",\"D\",\"A\"])\n",
    "    origin = self.df[[\"Date\",\"HomeTeam\",\"AwayTeam\",\"JocH\",\"JocD\",\"JocA\"]]\n",
    "    origin[\"DayStamp\"]=(pd.to_numeric(origin['Date'])/1e9/24/60/60).values\n",
    "    origin[\"DayStamp\"] = origin[\"DayStamp\"].apply(lambda x: \"%.f\"%(float(x)))\n",
    "    df['DayStamp']=df['DayStamp'].apply(lambda x: \"%.f\"%(float(x)))\n",
    "    #print(df.sort(\"DayStamp\",ascending=False).iloc[0:5])\n",
    "    resultDf=  origin.merge(df,left_on=['DayStamp',\"HomeTeam\",\"AwayTeam\"],right_on=[\"DayStamp\",\"HomeTeam\",\"AwayTeam\"],how='inner')  \n",
    "    #print(resultDf.sort(\"DayStamp\",ascending=False).iloc[0:5])\n",
    "    return resultDf"
   ]
  },
  {
   "cell_type": "code",
   "execution_count": null,
   "metadata": {
    "collapsed": false,
    "run_control": {
     "marked": false
    },
    "scrolled": false
   },
   "outputs": [],
   "source": [
    "withodds = findRecordsByDf(c,resultdf)"
   ]
  },
  {
   "cell_type": "code",
   "execution_count": 17,
   "metadata": {
    "ExecuteTime": {
     "end_time": "2016-04-11T13:30:59.766000",
     "start_time": "2016-04-11T13:30:59.731000"
    },
    "collapsed": false,
    "init_cell": true,
    "run_control": {
     "marked": false
    },
    "scrolled": false
   },
   "outputs": [],
   "source": [
    "import math\n",
    "def formatMatrixs(oddDf , precisionDf):\n",
    "    proba_mat = oddDf[['H_prob','D_prob','A_prob']].values\n",
    "    def locatePrecision(proba_mat, precisionDf):\n",
    "        precisionMat = precisionDf.values\n",
    "        pre_cols=[4,7,10]\n",
    "        def convert(proba, pre_col = 4):\n",
    "            if proba < 0.2:\n",
    "                return proba\n",
    "            for i in range(precisionMat.shape[0]):\n",
    "                if precisionMat[i,0] <= proba and proba < precisionMat[i,1] :\n",
    "                    if math.isnan(precisionMat[i,pre_col]):\n",
    "                        return proba\n",
    "                    else:\n",
    "                        return precisionMat[i,pre_col]\n",
    "        h_fproba = np.array([ convert(float(proba)) for proba in proba_mat[:,0] ] )\n",
    "        d_fproba = np.array([ convert(float(proba),pre_col=7) for proba in proba_mat[:,1] ] )\n",
    "        a_fproba = np.array([ convert(float(proba),pre_col=10) for proba in proba_mat[:,2] ] )\n",
    "        return h_fproba, d_fproba,a_fproba\n",
    "    if precisionDf is not None:\n",
    "        h_fproba, d_fproba,a_fproba =locatePrecision(proba_mat,precisionDf)\n",
    "        fproba_mat = np.hstack([h_fproba,d_fproba,a_fproba]).reshape(3,h_fproba.shape[0]).T\n",
    "    else:\n",
    "        fproba_mat = proba_mat.astype('float')\n",
    "    odd_mat = oddDf[['JocH','JocD','JocA']].values\n",
    "    win_mat = None\n",
    "    if 'H' in oddDf.columns:\n",
    "        win_mat = oddDf[['H','D','A']].values\n",
    "    return fproba_mat,odd_mat,win_mat"
   ]
  },
  {
   "cell_type": "code",
   "execution_count": null,
   "metadata": {
    "collapsed": false,
    "run_control": {
     "marked": false
    },
    "scrolled": false
   },
   "outputs": [],
   "source": [
    "fproba_mat,odd_mat,win_mat= formatMatrixs(withodds,p_matrix)"
   ]
  },
  {
   "cell_type": "code",
   "execution_count": null,
   "metadata": {
    "collapsed": false,
    "init_cell": false,
    "run_control": {
     "marked": false
    },
    "scrolled": false
   },
   "outputs": [],
   "source": [
    "def strategy1(fproba_mat,odd_mat,win_mat):\n",
    "    exp = odd_mat * fproba_mat\n",
    "    maxi = np.argmax(exp,axis=1)\n",
    "    y_true = np.argmax(win_mat,axis=1)\n",
    "    spent = 0\n",
    "    expectation = 0\n",
    "    income = 0\n",
    "    for i in range(maxi.shape[0]):\n",
    "        if exp[i,maxi[i]] > 1:\n",
    "            expectation = expectation+ exp[i,maxi[i]]\n",
    "            spent = spent+1\n",
    "            if maxi[i] == y_true[i]:\n",
    "                income = income + odd_mat[i,maxi[i]]\n",
    "            \n",
    "            \n",
    "        \n",
    "    print(\"Spent:{}, Income:{}, expectation:{}\".format(spent,income,expectation))"
   ]
  },
  {
   "cell_type": "code",
   "execution_count": null,
   "metadata": {
    "collapsed": false,
    "run_control": {
     "marked": false
    },
    "scrolled": true
   },
   "outputs": [],
   "source": [
    "strategy1(fproba_mat,odd_mat,win_mat)"
   ]
  },
  {
   "cell_type": "code",
   "execution_count": 18,
   "metadata": {
    "ExecuteTime": {
     "end_time": "2016-04-11T13:30:59.819000",
     "start_time": "2016-04-11T13:30:59.768000"
    },
    "collapsed": true,
    "init_cell": true,
    "run_control": {
     "marked": false
    },
    "scrolled": false
   },
   "outputs": [],
   "source": [
    "from datetime import date\n",
    "def strategy4(fproba_mat,odd_mat,win_mat,info, z = 0.2 ,e =1.8 ):\n",
    "    exp = odd_mat * fproba_mat\n",
    "    y_true=None\n",
    "    if win_mat is None:\n",
    "        y_true = np.zeros(shape=(fproba_mat.shape[0],))\n",
    "    else:\n",
    "        y_true = np.argmax(win_mat,axis=1)\n",
    "    spent = 0\n",
    "    expectation = 0\n",
    "    income = 0\n",
    "    total = fproba_mat.shape[0]\n",
    "    withdraw = 0\n",
    "    buy = 0\n",
    "    homeTeam = info[\"HomeTeam\"].values\n",
    "    awayTeam = info[\"AwayTeam\"].values\n",
    "    dates = [date(2015,1,1) for _ in range(homeTeam.shape[0])] \n",
    "    if \"DayStamp\" in info:\n",
    "        dates = convertToDate(info[\"DayStamp\"].values)\n",
    "    receipt = []\n",
    "    def chooseFrom(match, chosable):\n",
    "        max_prob = -1\n",
    "        c = 0\n",
    "        for choice in chosable:\n",
    "            if fproba_mat[match,choice] > max_prob:\n",
    "                c = choice\n",
    "                max_prob = fproba_mat[match,choice]\n",
    "        return c\n",
    "    for match in range(exp.shape[0]):\n",
    "        chosable = []\n",
    "        for choose in range(3):\n",
    "            if exp[match,choose]> e and fproba_mat[match,choose] >= z:\n",
    "                chosable.append(choose)\n",
    "                \n",
    "        if len(chosable) == 0:\n",
    "            withdraw= withdraw+1\n",
    "            continue\n",
    "        choice = chooseFrom(match,chosable)\n",
    "        expectation = expectation+ exp[match,choice]\n",
    "        spent = spent+1\n",
    "        buy =buy +1 \n",
    "        receipt.append(np.hstack([dates[match],homeTeam[match],awayTeam[match], odd_mat[match,choice],choice,y_true[match],fproba_mat[match,:]]))\n",
    "        if choice == y_true[match]:\n",
    "            income = income + odd_mat[match,choice]\n",
    "    #print(buy)\n",
    "    #print(\"Spent:{}, Income:{}, expectation:{}, withdraw:{}(total:{})\".\n",
    "    #      format(spent,income,expectation,withdraw,total))\n",
    "    receiptDf = pd.DataFrame(receipt,columns=[\"Date\",\"home\",\"away\",\"odd of choice\",\"choice\",\"result\",\"Hp\",\"Dp\",\"Ap\"])\n",
    "    return spent,income,expectation,withdraw,total,receiptDf"
   ]
  },
  {
   "cell_type": "code",
   "execution_count": null,
   "metadata": {
    "collapsed": false,
    "run_control": {
     "marked": false
    },
    "scrolled": false
   },
   "outputs": [],
   "source": [
    "spent,income,expectation,withdraw,total,receipt = strategy4(fproba_mat,odd_mat,win_mat,withodds,z=0.2,e=1.6)"
   ]
  },
  {
   "cell_type": "code",
   "execution_count": 19,
   "metadata": {
    "ExecuteTime": {
     "end_time": "2016-04-11T13:30:59.858000",
     "start_time": "2016-04-11T13:30:59.821000"
    },
    "collapsed": true,
    "init_cell": true,
    "run_control": {
     "marked": false
    },
    "scrolled": false
   },
   "outputs": [],
   "source": [
    "g_z_range = np.arange(0,1,0.05)\n",
    "g_e_range = np.arange(0,2,0.05)\n",
    "def range_strategy4_test(fproba_mat,odd_mat,win_mat,info):\n",
    "    g_incomes = []\n",
    "    g_spents =[]\n",
    "    g_withdraws=[]\n",
    "    g_exps=[]\n",
    "    g_total = 0\n",
    "    receipts=[]\n",
    "    for e in g_e_range:\n",
    "        for z in g_z_range:\n",
    "            spent,income,expectation,withdraw,total,receipt = strategy4(fproba_mat,odd_mat,win_mat,info,z=z,e=e)\n",
    "            g_spents.append(spent)\n",
    "            g_incomes.append(income)\n",
    "            g_withdraws.append(withdraw)\n",
    "            g_exps.append(expectation)\n",
    "            g_total= total\n",
    "            receipts.append(receipt)\n",
    "    return g_spents,g_incomes,g_exps,g_withdraws,g_total,receipts\n"
   ]
  },
  {
   "cell_type": "code",
   "execution_count": null,
   "metadata": {
    "collapsed": true,
    "run_control": {
     "marked": false
    },
    "scrolled": false
   },
   "outputs": [],
   "source": [
    "g_node_sizes=[g_best_size,g_best_size]\n",
    "X, y = c.getH7(removeInsufficient=True)\n",
    "X_scaled = StandardScaler().fit_transform(X)"
   ]
  },
  {
   "cell_type": "code",
   "execution_count": 20,
   "metadata": {
    "ExecuteTime": {
     "end_time": "2016-04-11T13:30:59.894000",
     "start_time": "2016-04-11T13:30:59.860000"
    },
    "collapsed": true,
    "init_cell": true,
    "run_control": {
     "marked": false
    },
    "scrolled": false
   },
   "outputs": [],
   "source": [
    "def getPrecisionMaxtrix(X,y,node_sizes):\n",
    "    _,_, proba_test,proba_y,_ = crossValidate2(node_sizes,X,y,dropout=g_best_dropout,fold=10)\n",
    "    p_matrix = precisionMatrix(np.vstack(proba_test),np.vstack(proba_y)) \n",
    "    return p_matrix"
   ]
  },
  {
   "cell_type": "code",
   "execution_count": null,
   "metadata": {
    "collapsed": false,
    "run_control": {
     "marked": false
    },
    "scrolled": false
   },
   "outputs": [],
   "source": [
    "g_p_matrix= getPrecisionMaxtrix(X, y,g_node_sizes)"
   ]
  },
  {
   "cell_type": "code",
   "execution_count": null,
   "metadata": {
    "collapsed": false,
    "run_control": {
     "marked": false
    },
    "scrolled": false
   },
   "outputs": [],
   "source": [
    "g_p_matrix"
   ]
  },
  {
   "cell_type": "code",
   "execution_count": 21,
   "metadata": {
    "ExecuteTime": {
     "end_time": "2016-04-11T13:30:59.931000",
     "start_time": "2016-04-11T13:30:59.896000"
    },
    "collapsed": true,
    "init_cell": true,
    "run_control": {
     "marked": false
    },
    "scrolled": false
   },
   "outputs": [],
   "source": [
    "def getTrainedModel(node_sizes,c):\n",
    "    X, y = c.getH7(removeInsufficient=True)\n",
    "    X_scaled = StandardScaler().fit_transform(X) \n",
    "    model = createModel(node_sizes,X_scaled.shape[1])\n",
    "    earlyCallback = EarlyStopping(patience=g_patience,verbose=1)\n",
    "    history = model.fit(X_scaled,y,verbose=0,nb_epoch=500, validation_split=0.1, callbacks=[earlyCallback])\n",
    "    return model\n",
    "    "
   ]
  },
  {
   "cell_type": "code",
   "execution_count": null,
   "metadata": {
    "collapsed": false,
    "run_control": {
     "marked": false
    },
    "scrolled": false
   },
   "outputs": [],
   "source": [
    "g_model = getTrainedModel(g_node_sizes,c)"
   ]
  },
  {
   "cell_type": "code",
   "execution_count": 22,
   "metadata": {
    "ExecuteTime": {
     "end_time": "2016-04-11T13:30:59.971000",
     "start_time": "2016-04-11T13:30:59.936000"
    },
    "collapsed": false,
    "init_cell": true,
    "run_control": {
     "marked": false
    },
    "scrolled": false
   },
   "outputs": [],
   "source": [
    "from sklearn.preprocessing import StandardScaler\n",
    "def predictFuture(node_sizes,c,p_matrix,model):\n",
    "    X_test,y_test = c.getH7(removeInsufficient = True,future=True)\n",
    "    X_test_scaled = StandardScaler().fit_transform(X_test)\n",
    "    proba_y = model.predict_proba(X_test_scaled)\n",
    "   \n",
    "    def getTestDf (X_test,proba_y,c):\n",
    "        decoded = oneHotDecode(c, X_test)\n",
    "        homeNames = c.inverseTeamMapping(decoded[:,0])\n",
    "        awayNames = c.inverseTeamMapping(decoded[:,1])\n",
    "        names = np.array([homeNames,awayNames]).T\n",
    "        return pd.DataFrame(np.hstack([names,proba_y]),columns=['HomeTeam','AwayTeam','H_prob','D_prob','A_prob'])\n",
    "   \n",
    "    test_df = getTestDf(X_test,proba_y,c)\n",
    "    test_df = test_df.sort(columns=\"HomeTeam\")\n",
    "    originDf = c.df[c.df[\"Future\"]==1].sort(columns=\"HomeTeam\")\n",
    "    test_df['JocH']=originDf['JocH'].values\n",
    "    test_df['JocD']=originDf['JocD'].values\n",
    "    test_df['JocA']=originDf['JocA'].values\n",
    "    fproba_mat,odd_mat,_= formatMatrixs(test_df,p_matrix)\n",
    "    return fproba_mat,odd_mat,test_df\n",
    "    \n",
    "    "
   ]
  },
  {
   "cell_type": "code",
   "execution_count": null,
   "metadata": {
    "collapsed": false,
    "run_control": {
     "marked": false
    },
    "scrolled": false
   },
   "outputs": [],
   "source": [
    "fproba_mat,odd_mat,test_df=predictFuture(g_node_sizes,c,g_p_matrix,g_model)"
   ]
  },
  {
   "cell_type": "code",
   "execution_count": null,
   "metadata": {
    "collapsed": false,
    "run_control": {
     "marked": false
    },
    "scrolled": false
   },
   "outputs": [],
   "source": [
    "spent,income,expectation,withdraw,total,receipt = strategy4(fproba_mat,odd_mat,None,test_df,z=0.2,e=1.6)"
   ]
  },
  {
   "cell_type": "code",
   "execution_count": null,
   "metadata": {
    "collapsed": false,
    "run_control": {
     "marked": false
    },
    "scrolled": false
   },
   "outputs": [],
   "source": [
    "receipt"
   ]
  },
  {
   "cell_type": "code",
   "execution_count": null,
   "metadata": {
    "collapsed": false,
    "run_control": {
     "marked": false
    },
    "scrolled": false
   },
   "outputs": [],
   "source": [
    "c.df[[\"Date\",\"HomeTeam\",\"AwayTeam\"]].sort(columns =\"Date\",ascending = False)\n"
   ]
  },
  {
   "cell_type": "code",
   "execution_count": null,
   "metadata": {
    "collapsed": true,
    "run_control": {
     "marked": false
    },
    "scrolled": false
   },
   "outputs": [],
   "source": [
    "from sklearn.ensemble import RandomForestClassifier"
   ]
  },
  {
   "cell_type": "code",
   "execution_count": null,
   "metadata": {
    "collapsed": true,
    "run_control": {
     "marked": false
    },
    "scrolled": false
   },
   "outputs": [],
   "source": [
    "forest =RandomForestClassifier(n_estimators = 10000)"
   ]
  },
  {
   "cell_type": "code",
   "execution_count": null,
   "metadata": {
    "collapsed": false,
    "run_control": {
     "marked": false
    },
    "scrolled": false
   },
   "outputs": [],
   "source": [
    "forest.fit(X_scaled,y)"
   ]
  },
  {
   "cell_type": "code",
   "execution_count": null,
   "metadata": {
    "collapsed": false,
    "run_control": {
     "marked": false
    },
    "scrolled": false
   },
   "outputs": [],
   "source": [
    "    X_test,y_test = c.getH7(removeInsufficient = True,future=True)\n",
    "    X_test_scaled = StandardScaler().fit_transform(X_test)"
   ]
  },
  {
   "cell_type": "code",
   "execution_count": null,
   "metadata": {
    "collapsed": false,
    "run_control": {
     "marked": false
    },
    "scrolled": false
   },
   "outputs": [],
   "source": [
    "result =np.array(forest.predict_proba(X_test))"
   ]
  },
  {
   "cell_type": "code",
   "execution_count": null,
   "metadata": {
    "collapsed": false,
    "run_control": {
     "marked": false
    },
    "scrolled": false
   },
   "outputs": [],
   "source": []
  },
  {
   "cell_type": "code",
   "execution_count": 53,
   "metadata": {
    "ExecuteTime": {
     "end_time": "2016-04-11T02:33:09.017000",
     "start_time": "2016-04-11T02:33:08.982000"
    },
    "collapsed": false,
    "run_control": {
     "marked": false
    },
    "scrolled": false
   },
   "outputs": [
    {
     "name": "stdout",
     "output_type": "stream",
     "text": [
      "start format\n",
      "[['HS_Acc' 'HST_Acc' 'H_poss_Acc' 'H_atk_3rd_Acc' 'H_atk_3rd_tot_Acc'\n",
      "  'H_interceptions_Acc']\n",
      " ['AS_Acc' 'AST_Acc' 'A_poss_Acc' 'A_atk_3rd_Acc' 'A_atk_3rd_tot_Acc'\n",
      "  'A_interceptions_Acc']]\n",
      "finish\n"
     ]
    }
   ],
   "source": [
    "g_X,g_y = c.getH7()"
   ]
  },
  {
   "cell_type": "code",
   "execution_count": 54,
   "metadata": {
    "ExecuteTime": {
     "end_time": "2016-04-11T02:33:09.403000",
     "start_time": "2016-04-11T02:33:09.398000"
    },
    "collapsed": false,
    "run_control": {
     "marked": false
    },
    "scrolled": false
   },
   "outputs": [],
   "source": [
    "g_X_train , g_X_test, g_y_train,g_y_test = splitData(g_X,g_y,test_size =0.2)"
   ]
  },
  {
   "cell_type": "code",
   "execution_count": 142,
   "metadata": {
    "collapsed": false,
    "run_control": {
     "marked": false
    },
    "scrolled": false
   },
   "outputs": [],
   "source": [
    "scaler = StandardScaler()\n",
    "g_X_train_scaled = scaler.fit_transform(g_X_train)\n",
    "g_X_test_scaled = scaler.transform(g_X_test)"
   ]
  },
  {
   "cell_type": "code",
   "execution_count": 23,
   "metadata": {
    "ExecuteTime": {
     "end_time": "2016-04-11T13:31:00.133000",
     "start_time": "2016-04-11T13:30:59.974000"
    },
    "collapsed": true,
    "init_cell": true,
    "run_control": {
     "marked": false
    }
   },
   "outputs": [],
   "source": [
    "from sklearn.decomposition import PCA \n",
    "def getPCA():\n",
    "    return PCA()"
   ]
  },
  {
   "cell_type": "code",
   "execution_count": 144,
   "metadata": {
    "collapsed": true,
    "run_control": {
     "marked": false
    }
   },
   "outputs": [],
   "source": [
    "g_pca = getPCA()\n",
    "g_X_train_pca = g_pca.fit_transform(g_X_train_scaled)\n",
    "g_X_test_pca = g_pca.transform(g_X_test_scaled)\n",
    "\n"
   ]
  },
  {
   "cell_type": "code",
   "execution_count": null,
   "metadata": {
    "collapsed": false,
    "run_control": {
     "marked": false
    }
   },
   "outputs": [],
   "source": []
  },
  {
   "cell_type": "code",
   "execution_count": 24,
   "metadata": {
    "ExecuteTime": {
     "end_time": "2016-04-11T13:31:00.143000",
     "start_time": "2016-04-11T13:31:00.135000"
    },
    "collapsed": false,
    "init_cell": true,
    "run_control": {
     "marked": false
    },
    "scrolled": false
   },
   "outputs": [
    {
     "name": "stderr",
     "output_type": "stream",
     "text": [
      "C:\\Anaconda2\\lib\\site-packages\\sklearn\\lda.py:4: DeprecationWarning: lda.LDA has been moved to discriminant_analysis.LinearDiscriminantAnalysis in 0.17 and will be removed in 0.19\n",
      "  \"in 0.17 and will be removed in 0.19\", DeprecationWarning)\n"
     ]
    }
   ],
   "source": [
    "from sklearn.lda import LDA\n",
    "def getLda():\n",
    "    lda = LDA(solver ='svd')\n",
    "    return lda\n"
   ]
  },
  {
   "cell_type": "code",
   "execution_count": 146,
   "metadata": {
    "collapsed": false,
    "run_control": {
     "marked": false
    },
    "scrolled": false
   },
   "outputs": [
    {
     "name": "stderr",
     "output_type": "stream",
     "text": [
      "/home/y/scikit-learn/sklearn/discriminant_analysis.py:387: UserWarning: Variables are collinear.\n",
      "  warnings.warn(\"Variables are collinear.\")\n"
     ]
    }
   ],
   "source": [
    "lda = getLda(g_X_train_scaled,g_y_train)\n",
    "g_X_train_lda = lda.transform(g_X_train_scaled)\n",
    "g_X_test_lda = lda.transform(g_X_test_scaled)\n",
    "g_y_arg = np.argmax(g_y_train,axis=1)\n",
    "lda = getLda(g_X_train_pca,g_y_train)\n",
    "g_X_train_pca_lda  = lda.transform(g_X_train_pca)\n",
    "g_X_test_pca_lda = lda.transform(g_X_test_pca)\n"
   ]
  },
  {
   "cell_type": "code",
   "execution_count": 25,
   "metadata": {
    "ExecuteTime": {
     "end_time": "2016-04-11T13:31:00.189000",
     "start_time": "2016-04-11T13:31:00.146000"
    },
    "collapsed": true,
    "init_cell": true,
    "run_control": {
     "marked": false
    }
   },
   "outputs": [],
   "source": [
    "def transform_train_test_set(X_train,X_test,y_train,y_test, retain = None):\n",
    "    global lda\n",
    "    scaler = StandardScaler()\n",
    "    X_train_std = scaler.fit_transform(X_train)\n",
    "    X_test_std = scaler.transform(X_test)\n",
    "    return X_train_std,X_test_std\n",
    "    lda = getLda(X_train_std,y_train)\n",
    "    if retain is None:\n",
    "        X_train_best = lda.transform(X_train_std)\n",
    "        X_test_best = lda.transform(X_test_std)\n",
    "        return X_train_best,X_test_best\n",
    "    else:\n",
    "        X_train_best = lda.transform(X_train_std)[:,0:retain]\n",
    "        X_test_best = lda.transform(X_test_std)[:,0:retain]\n",
    "        return X_train_best,X_test_best\n",
    "    \n",
    "def get_train_test_set(retain=None):\n",
    "    X,y = c.getH7()\n",
    "    X_train,X_test,y_train, y_test = splitData(X,y,test_size=0.2)\n",
    "    X_train_lda,X_test_lda = transform_train_test_set(X_train,X_test,y_train,y_test,retain=retain)\n",
    "    return X_train_lda,X_test_lda,y_train,y_test,X_test\n",
    "    "
   ]
  },
  {
   "cell_type": "code",
   "execution_count": 329,
   "metadata": {
    "ExecuteTime": {
     "end_time": "2016-04-10T03:05:20.947000",
     "start_time": "2016-04-10T03:05:20.897000"
    },
    "collapsed": false,
    "run_control": {
     "marked": false
    }
   },
   "outputs": [
    {
     "name": "stdout",
     "output_type": "stream",
     "text": [
      "start format\n",
      "[['HS_Acc' 'HST_Acc' 'H_poss_Acc' 'H_atk_3rd_Acc' 'H_atk_3rd_tot_Acc'\n",
      "  'H_interceptions_Acc']\n",
      " ['AS_Acc' 'AST_Acc' 'A_poss_Acc' 'A_atk_3rd_Acc' 'A_atk_3rd_tot_Acc'\n",
      "  'A_interceptions_Acc']]\n",
      "finish\n"
     ]
    }
   ],
   "source": [
    "g_X_train_best , g_X_test_best, g_y_train , g_y_test, g_X_test  = get_train_test_set()"
   ]
  },
  {
   "cell_type": "code",
   "execution_count": 90,
   "metadata": {
    "ExecuteTime": {
     "end_time": "2016-04-09T20:57:48.100000",
     "start_time": "2016-04-09T20:57:48.096000"
    },
    "collapsed": false,
    "run_control": {
     "marked": false
    }
   },
   "outputs": [],
   "source": [
    "g_node_size_test = range(5, g_X_train_best.shape[1] * 2, 10)"
   ]
  },
  {
   "cell_type": "code",
   "execution_count": 93,
   "metadata": {
    "ExecuteTime": {
     "end_time": "2016-04-09T22:48:15.143000",
     "start_time": "2016-04-09T20:58:22.111000"
    },
    "collapsed": false,
    "run_control": {
     "marked": false
    }
   },
   "outputs": [
    {
     "name": "stdout",
     "output_type": "stream",
     "text": [
      "size205, dropout0.8:loss [0.1173032483758739],val [3.9100210245917824],test [4.161320644266465]\n"
     ]
    }
   ],
   "source": [
    "s_train_loss,s_val_loss,s_test_loss,s_drop_range = test_node_dropout(g_X_train_best,g_X_test_best,g_y_train,g_y_test , g_node_size_test,kfold = 1)"
   ]
  },
  {
   "cell_type": "code",
   "execution_count": 129,
   "metadata": {
    "ExecuteTime": {
     "end_time": "2016-04-09T22:57:27.656000",
     "start_time": "2016-04-09T22:57:26.767000"
    },
    "collapsed": false
   },
   "outputs": [
    {
     "data": {
      "text/plain": [
       "<matplotlib.figure.Figure at 0xe863208>"
      ]
     },
     "execution_count": 129,
     "metadata": {},
     "output_type": "execute_result"
    },
    {
     "data": {
      "image/png": "[encoded data removed]",
      "text/plain": [
       "<matplotlib.figure.Figure at 0xe863400>"
      ]
     },
     "metadata": {},
     "output_type": "display_data"
    },
    {
     "data": {
      "text/plain": [
       "<matplotlib.figure.Figure at 0xe863208>"
      ]
     },
     "metadata": {},
     "output_type": "display_data"
    }
   ],
   "source": [
    "n_val_loss = np.mean(np.array(s_val_loss),axis=2)\n",
    "g_D,g_S = np.meshgrid(s_drop_range,g_node_size_test)\n",
    "cf = plt.contourf(g_D,g_S,n_val_loss)\n",
    "plt.figure()\n"
   ]
  },
  {
   "cell_type": "code",
   "execution_count": 212,
   "metadata": {
    "ExecuteTime": {
     "end_time": "2016-04-10T02:10:47.063000",
     "start_time": "2016-04-10T02:10:47.058000"
    },
    "collapsed": false
   },
   "outputs": [
    {
     "data": {
      "text/plain": [
       "1.0725122760323917"
      ]
     },
     "execution_count": 212,
     "metadata": {},
     "output_type": "execute_result"
    }
   ],
   "source": [
    "np.min(n_val_loss)"
   ]
  },
  {
   "cell_type": "code",
   "execution_count": 125,
   "metadata": {
    "ExecuteTime": {
     "end_time": "2016-04-11T03:16:39.304000",
     "start_time": "2016-04-11T03:16:38.621000"
    },
    "collapsed": false
   },
   "outputs": [
    {
     "name": "stdout",
     "output_type": "stream",
     "text": [
      "[GpuElemwise{exp,no_inplace}(<CudaNdarrayType(float32, vector)>), HostFromGpu(GpuElemwise{exp,no_inplace}.0)]\n",
      "Looping 1000 times took 0.641000 seconds\n",
      "Result is [ 1.23178029  1.61879349  1.52278066 ...,  2.20771813  2.29967761\n",
      "  1.62323296]\n",
      "Used the gpu\n"
     ]
    }
   ],
   "source": [
    "from theano import function, config, shared, sandbox\n",
    "import theano.tensor as T\n",
    "import numpy\n",
    "import time\n",
    "\n",
    "vlen = 10 * 30 * 768  # 10 x #cores x # threads per core\n",
    "iters = 1000\n",
    "\n",
    "rng = numpy.random.RandomState(22)\n",
    "x = shared(numpy.asarray(rng.rand(vlen), config.floatX))\n",
    "f = function([], T.exp(x))\n",
    "print(f.maker.fgraph.toposort())\n",
    "t0 = time.time()\n",
    "for i in range(iters):\n",
    "    r = f()\n",
    "t1 = time.time()\n",
    "print(\"Looping %d times took %f seconds\" % (iters, t1 - t0))\n",
    "print(\"Result is %s\" % (r,))\n",
    "if numpy.any([isinstance(x.op, T.Elemwise) for x in f.maker.fgraph.toposort()]):\n",
    "    print('Used the cpu')\n",
    "else:\n",
    "    print('Used the gpu')"
   ]
  },
  {
   "cell_type": "code",
   "execution_count": 37,
   "metadata": {
    "ExecuteTime": {
     "end_time": "2016-04-11T13:39:26.895000",
     "start_time": "2016-04-11T13:39:26.883000"
    },
    "collapsed": false,
    "init_cell": true
   },
   "outputs": [],
   "source": [
    "import random\n",
    "import time\n",
    "\n",
    "\n",
    "def kfoldRandomTesting( X, y ,kfold = 10, dropout_range =(0, 0.95), timeout=None,\n",
    "                      target_n = 100):\n",
    "    sums = []\n",
    "    start = time.time()\n",
    "    total_run = 0\n",
    "    try:\n",
    "        for i in range (target_n):\n",
    "            s1 = random.randint(3, int(X.shape[1]*1.2))\n",
    "            s2 = random.randint(3, s1)\n",
    "            d = random.uniform(dropout_range[0], dropout_range[1])\n",
    "            print(\"{} : s1 {}, s2 {}, d {}\".format(i,s1,s2,d))\n",
    "            summary = crossValidate2([s1,s2],X,y,dropout=d)\n",
    "            clear_output()\n",
    "            sums.append(summary)\n",
    "    except KeyboardInterrupt:\n",
    "        print(\"interrupted\")\n",
    "    return sums\n",
    "    "
   ]
  },
  {
   "cell_type": "code",
   "execution_count": 39,
   "metadata": {
    "ExecuteTime": {
     "end_time": "2016-04-11T13:50:19.172000",
     "start_time": "2016-04-11T13:50:19.138000"
    },
    "collapsed": false
   },
   "outputs": [
    {
     "name": "stdout",
     "output_type": "stream",
     "text": [
      "start format\n",
      "[['HS_Acc' 'HST_Acc' 'H_poss_Acc' 'H_atk_3rd_Acc' 'H_atk_3rd_tot_Acc'\n",
      "  'H_interceptions_Acc']\n",
      " ['AS_Acc' 'AST_Acc' 'A_poss_Acc' 'A_atk_3rd_Acc' 'A_atk_3rd_tot_Acc'\n",
      "  'A_interceptions_Acc']]\n",
      "finish\n"
     ]
    }
   ],
   "source": [
    "g_X,g_y = c.getH7()\n"
   ]
  },
  {
   "cell_type": "code",
   "execution_count": 40,
   "metadata": {
    "ExecuteTime": {
     "end_time": "2016-04-11T13:50:37.851000",
     "start_time": "2016-04-11T13:50:21.813000"
    },
    "collapsed": false
   },
   "outputs": [
    {
     "name": "stdout",
     "output_type": "stream",
     "text": [
      "0 : s1 6, s2 3, d 0.271744070825\n",
      "dtype float32\n",
      "dtype float32\n",
      "dtype float32\n",
      "no early stop\n",
      "137/137 [==============================] - 0s     \n",
      "137/137 [==============================] - 0s     \n",
      "Fold: 1, val_acc:0.490 test_acc: 0.533\n",
      "interrupted\n"
     ]
    },
    {
     "data": {
      "text/plain": [
       "[]"
      ]
     },
     "execution_count": 40,
     "metadata": {},
     "output_type": "execute_result"
    }
   ],
   "source": [
    "kfoldRandomTesting(g_X,g_y)"
   ]
  },
  {
   "cell_type": "code",
   "execution_count": 120,
   "metadata": {
    "ExecuteTime": {
     "end_time": "2016-04-11T02:56:17.575000",
     "start_time": "2016-04-11T02:56:17.571000"
    },
    "collapsed": false
   },
   "outputs": [],
   "source": [
    "g_epoch = 1000\n",
    "g_patience = 10\n",
    "g_model = Model([64,5],dropout=0.8, preprocess=[StandardScaler()])\n"
   ]
  },
  {
   "cell_type": "code",
   "execution_count": 121,
   "metadata": {
    "ExecuteTime": {
     "end_time": "2016-04-11T02:56:32.164000",
     "start_time": "2016-04-11T02:56:17.843000"
    },
    "collapsed": false
   },
   "outputs": [
    {
     "name": "stdout",
     "output_type": "stream",
     "text": [
      "dtype float32\n",
      "dtype float32\n",
      "dtype float32\n",
      "no early stop\n"
     ]
    }
   ],
   "source": [
    "history = g_model.fit(g_X_train,g_y_train)"
   ]
  },
  {
   "cell_type": "code",
   "execution_count": 122,
   "metadata": {
    "ExecuteTime": {
     "end_time": "2016-04-11T02:56:32.353000",
     "start_time": "2016-04-11T02:56:32.166000"
    },
    "collapsed": false
   },
   "outputs": [
    {
     "name": "stdout",
     "output_type": "stream",
     "text": [
      "0.507352941176\n"
     ]
    },
    {
     "data": {
      "text/plain": [
       "[<matplotlib.lines.Line2D at 0x3d801240>]"
      ]
     },
     "execution_count": 122,
     "metadata": {},
     "output_type": "execute_result"
    },
    {
     "data": {
      "image/png": "[encoded data removed]",
      "text/plain": [
       "<matplotlib.figure.Figure at 0x3ce61390>"
      ]
     },
     "metadata": {},
     "output_type": "display_data"
    }
   ],
   "source": [
    "print(np.max(history.history['val_acc']))\n",
    "plt.plot(history.history['val_loss'])\n",
    "plt.plot(history.history['val_acc'])\n",
    "plt.plot(history.history['loss'],c='r')"
   ]
  },
  {
   "cell_type": "code",
   "execution_count": 123,
   "metadata": {
    "ExecuteTime": {
     "end_time": "2016-04-11T02:56:40.713000",
     "start_time": "2016-04-11T02:56:40.700000"
    },
    "collapsed": false
   },
   "outputs": [
    {
     "name": "stdout",
     "output_type": "stream",
     "text": [
      "272/272 [==============================] - 0s     \n"
     ]
    },
    {
     "data": {
      "text/plain": [
       "[1.029232333688175, 0.52573529411764708]"
      ]
     },
     "execution_count": 123,
     "metadata": {},
     "output_type": "execute_result"
    }
   ],
   "source": [
    "\n",
    "g_model.evaluate(g_X_test,g_y_test)"
   ]
  },
  {
   "cell_type": "code",
   "execution_count": 190,
   "metadata": {
    "ExecuteTime": {
     "end_time": "2016-04-10T20:23:39.053000",
     "start_time": "2016-04-10T20:23:39.041000"
    },
    "collapsed": false
   },
   "outputs": [
    {
     "name": "stdout",
     "output_type": "stream",
     "text": [
      "272/272 [==============================] - 0s     \n"
     ]
    },
    {
     "data": {
      "text/plain": [
       "array([ 0.52903226,  0.        ,  0.46153846])"
      ]
     },
     "execution_count": 190,
     "metadata": {},
     "output_type": "execute_result"
    }
   ],
   "source": [
    "g_model.precision(g_X_test,g_y_test)"
   ]
  },
  {
   "cell_type": "code",
   "execution_count": 147,
   "metadata": {
    "collapsed": false,
    "run_control": {
     "marked": false
    },
    "scrolled": false
   },
   "outputs": [
    {
     "data": {
      "text/plain": [
       "<matplotlib.figure.Figure at 0x7f1922c2c710>"
      ]
     },
     "execution_count": 147,
     "metadata": {},
     "output_type": "execute_result"
    },
    {
     "data": {
      "image/png": "[encoded data removed]",
      "text/plain": [
       "<matplotlib.figure.Figure at 0x7f1922c2c940>"
      ]
     },
     "metadata": {},
     "output_type": "display_data"
    },
    {
     "data": {
      "text/plain": [
       "<matplotlib.figure.Figure at 0x7f1922c2c710>"
      ]
     },
     "metadata": {},
     "output_type": "display_data"
    }
   ],
   "source": [
    "g_colors = ['r','g','b']\n",
    "g_y_arg = np.argmax(g_y_train,axis=1)\n",
    "for i in range (3):\n",
    "    tempX = g_X_train_pca_lda[g_y_arg==i,:]\n",
    "    plt.scatter(tempX[:,0],tempX[:,1],c = g_colors[i])\n",
    "plt.figure()"
   ]
  },
  {
   "cell_type": "code",
   "execution_count": 149,
   "metadata": {
    "collapsed": false,
    "run_control": {
     "marked": false
    },
    "scrolled": false
   },
   "outputs": [
    {
     "data": {
      "text/plain": [
       "<matplotlib.figure.Figure at 0x7f1922c54ef0>"
      ]
     },
     "execution_count": 149,
     "metadata": {},
     "output_type": "execute_result"
    },
    {
     "data": {
      "image/png": "[encoded data removed]",
      "text/plain": [
       "<matplotlib.figure.Figure at 0x7f1922c544a8>"
      ]
     },
     "metadata": {},
     "output_type": "display_data"
    },
    {
     "data": {
      "text/plain": [
       "<matplotlib.figure.Figure at 0x7f1922c54ef0>"
      ]
     },
     "metadata": {},
     "output_type": "display_data"
    }
   ],
   "source": [
    "g_colors = ['r','g','b']\n",
    "g_y_test_arg = np.argmax(g_y_test,axis=1)\n",
    "for i in range (3):\n",
    "    tempX = g_X_test_pca_lda[g_y_test_arg==i,:]\n",
    "    plt.scatter(tempX[:,0],tempX[:,1],c = g_colors[i])\n",
    "plt.figure()"
   ]
  },
  {
   "cell_type": "code",
   "execution_count": 27,
   "metadata": {
    "ExecuteTime": {
     "end_time": "2016-04-11T13:31:00.264000",
     "start_time": "2016-04-11T13:31:00.228000"
    },
    "collapsed": true,
    "init_cell": true,
    "run_control": {
     "marked": false
    },
    "scrolled": false
   },
   "outputs": [],
   "source": [
    "def testRetainNum(input_dim,n_iter=5, threshold = 0):\n",
    "    all_losses = []\n",
    "    all_val_losses = []\n",
    "    print(\"max dim{}\".format(input_dim))\n",
    "    dim_range =range(2, input_dim,2)\n",
    "    for n in range(n_iter):\n",
    "        X_train_lda,X_test_lda,y_train,y_test,X_test = get_train_test_set()\n",
    "        variance  = lda.explained_variance_ratio_\n",
    "        losses = []\n",
    "        val_losses = []\n",
    "        for i in dim_range:\n",
    "            train_loss = None\n",
    "            val_loss = None\n",
    "            if variance[i] > threshold:\n",
    "                train_loss , val_loss = kfoldTesting(X_train_lda[:,0:i],y_train,s=i)\n",
    "                print(\"dim{}: train {}, val {}\".format(i,np.mean(train_loss),np.mean(val_loss)))\n",
    "            losses.append(train_loss)\n",
    "            val_losses.append(val_loss)\n",
    "        all_losses.append(losses)\n",
    "        all_val_losses.append(all_val_losses)\n",
    "        clear_output()\n",
    "    print(\"finish\")\n",
    "    return all_losses,all_val_losses, dim_range\n",
    "    "
   ]
  },
  {
   "cell_type": "code",
   "execution_count": null,
   "metadata": {
    "collapsed": false,
    "run_control": {
     "marked": false
    },
    "scrolled": false
   },
   "outputs": [],
   "source": [
    "eigen_losses ,eigen_val_losses,dim_range = testRetainNum(g_input_dim)"
   ]
  },
  {
   "cell_type": "code",
   "execution_count": null,
   "metadata": {
    "collapsed": false,
    "run_control": {
     "marked": false
    }
   },
   "outputs": [],
   "source": [
    "eigen_losses"
   ]
  },
  {
   "cell_type": "code",
   "execution_count": null,
   "metadata": {
    "collapsed": false,
    "run_control": {
     "marked": false
    }
   },
   "outputs": [],
   "source": [
    "plt.plot(list(dim_range), np.mean(eigen_val_losses,axis=1))\n"
   ]
  },
  {
   "cell_type": "code",
   "execution_count": 28,
   "metadata": {
    "ExecuteTime": {
     "end_time": "2016-04-11T13:31:00.380000",
     "start_time": "2016-04-11T13:31:00.267000"
    },
    "collapsed": false,
    "init_cell": true,
    "run_control": {
     "marked": false
    },
    "scrolled": false
   },
   "outputs": [],
   "source": [
    "def svdTest(n_iter=2):\n",
    "    train_losses, val_losses= [],[]\n",
    "    for n in range(n_iter):\n",
    "        X,y = c.getH7()\n",
    "        X_train, X_test, y_train,y_test =splitData(X,y)\n",
    "\n",
    "        scaler = StandardScaler()\n",
    "        X_train_std = scaler.fit_transform(X_train)\n",
    "        X_test_std = scaler.transform(X_test)\n",
    "        pca = getPCA()\n",
    "        X_train_pca=pca.fit_transform(X_train_std)\n",
    "        X_test_pca = pca.transform(X_test_std)\n",
    "        lda = LDA(solver ='svd')\n",
    "        X_train_lda = lda.fit_transform(X_train_std,np.argmax(y_train,axis=1))\n",
    "        train_loss , val_loss = kfoldTesting(X_train_lda,y_train,s=X_train_lda.shape[1])\n",
    "        return train_loss,val_loss\n",
    "        train_losses.append(train_loss)\n",
    "        val_losses.append(val_losses)\n",
    "        clear_output()\n",
    "    \n",
    "    return train_losses,val_losses"
   ]
  },
  {
   "cell_type": "code",
   "execution_count": 59,
   "metadata": {
    "collapsed": false,
    "run_control": {
     "marked": false
    }
   },
   "outputs": [
    {
     "name": "stdout",
     "output_type": "stream",
     "text": [
      "start format\n",
      "[['HS_Acc' 'HST_Acc' 'H_poss_Acc' 'H_atk_3rd_Acc' 'H_atk_3rd_tot_Acc'\n",
      "  'H_interceptions_Acc']\n",
      " ['AS_Acc' 'AST_Acc' 'A_poss_Acc' 'A_atk_3rd_Acc' 'A_atk_3rd_tot_Acc'\n",
      "  'A_interceptions_Acc']]\n",
      "finish\n"
     ]
    },
    {
     "name": "stderr",
     "output_type": "stream",
     "text": [
      "/home/y/anaconda3/lib/python3.5/site-packages/ipykernel/__main__.py:224: DeprecationWarning: using a non-integer number instead of an integer will result in an error in the future\n",
      "/home/y/anaconda3/lib/python3.5/site-packages/ipykernel/__main__.py:232: DeprecationWarning: using a non-integer number instead of an integer will result in an error in the future\n",
      "/home/y/scikit-learn/sklearn/discriminant_analysis.py:387: UserWarning: Variables are collinear.\n",
      "  warnings.warn(\"Variables are collinear.\")\n"
     ]
    },
    {
     "name": "stdout",
     "output_type": "stream",
     "text": [
      "Epoch 00155: early stopping\n",
      "Epoch 00160: early stopping\n",
      "Epoch 00109: early stopping\n",
      "Epoch 00140: early stopping\n",
      "Epoch 00157: early stopping\n"
     ]
    }
   ],
   "source": [
    "train_loss, val_loss = svdTest()"
   ]
  },
  {
   "cell_type": "code",
   "execution_count": 60,
   "metadata": {
    "collapsed": false,
    "run_control": {
     "marked": false
    }
   },
   "outputs": [
    {
     "data": {
      "text/plain": [
       "[0.95495356882319726,\n",
       " 0.95803944854175338,\n",
       " 0.96068139637217798,\n",
       " 0.95893779922934141,\n",
       " 0.9569771430071663]"
      ]
     },
     "execution_count": 60,
     "metadata": {},
     "output_type": "execute_result"
    }
   ],
   "source": [
    "val_loss"
   ]
  },
  {
   "cell_type": "code",
   "execution_count": 61,
   "metadata": {
    "collapsed": false,
    "run_control": {
     "marked": false
    }
   },
   "outputs": [
    {
     "data": {
      "text/plain": [
       "<matplotlib.figure.Figure at 0x7f193cb36f98>"
      ]
     },
     "execution_count": 61,
     "metadata": {},
     "output_type": "execute_result"
    },
    {
     "data": {
      "image/png": "[encoded data removed]",
      "text/plain": [
       "<matplotlib.figure.Figure at 0x7f193cb360b8>"
      ]
     },
     "metadata": {},
     "output_type": "display_data"
    },
    {
     "data": {
      "text/plain": [
       "<matplotlib.figure.Figure at 0x7f193cb36f98>"
      ]
     },
     "metadata": {},
     "output_type": "display_data"
    }
   ],
   "source": [
    "plt.plot(val_loss)\n",
    "plt.figure()"
   ]
  },
  {
   "cell_type": "code",
   "execution_count": 29,
   "metadata": {
    "ExecuteTime": {
     "end_time": "2016-04-11T13:31:00.470000",
     "start_time": "2016-04-11T13:31:00.382000"
    },
    "code_folding": [],
    "collapsed": false,
    "init_cell": true,
    "run_control": {
     "marked": false
    }
   },
   "outputs": [],
   "source": [
    "from sklearn.manifold import LocallyLinearEmbedding,Isomap\n",
    "def getLLe():\n",
    "    return LocallyLinearEmbedding(eigen_solver='dense')\n",
    "def getIsomap():\n",
    "    return Isomap()\n",
    "\n"
   ]
  },
  {
   "cell_type": "code",
   "execution_count": 227,
   "metadata": {
    "collapsed": false,
    "run_control": {
     "marked": false
    }
   },
   "outputs": [],
   "source": [
    "g_manifold =getLLe()\n",
    "g_X_train_manifold = g_manifold.fit_transform(g_X_train_scaled,g_y_train)\n",
    "g_X_test_manifold = g_manifold.transform(g_X_test_scaled)\n",
    "scaler = StandardScaler()\n",
    "g_X_train_manifold_std = scaler.fit_transform(g_X_train_manifold)\n",
    "g_X_test_manifold_std= scaler.transform(g_X_test_manifold)\n"
   ]
  },
  {
   "cell_type": "code",
   "execution_count": 233,
   "metadata": {
    "collapsed": false,
    "run_control": {
     "marked": false
    }
   },
   "outputs": [
    {
     "data": {
      "text/plain": [
       "<matplotlib.figure.Figure at 0x7f191d24ebe0>"
      ]
     },
     "execution_count": 233,
     "metadata": {},
     "output_type": "execute_result"
    },
    {
     "data": {
      "image/png": "[encoded data removed]",
      "text/plain": [
       "<matplotlib.figure.Figure at 0x7f191d24edd8>"
      ]
     },
     "metadata": {},
     "output_type": "display_data"
    },
    {
     "data": {
      "text/plain": [
       "<matplotlib.figure.Figure at 0x7f191d24ebe0>"
      ]
     },
     "metadata": {},
     "output_type": "display_data"
    }
   ],
   "source": [
    "g_colors = ['b','g','r']\n",
    "g_y_arg = np.argmax(g_y_train,axis=1)\n",
    "g_y_test_arg = np.argmax(g_y_test,axis=1)\n",
    "for i in range (3):\n",
    "    tempX = g_X_train_manifold[g_y_arg==i,:]\n",
    "    testX = g_X_test_manifold[g_y_test_arg==i,:]\n",
    "    plt.scatter(tempX[:,0],tempX[:,1],marker='x',c = g_colors[i])\n",
    "    plt.scatter(testX[:,0],testX[:,1],marker='o',c = g_colors[i])\n",
    "plt.figure()"
   ]
  },
  {
   "cell_type": "code",
   "execution_count": 234,
   "metadata": {
    "collapsed": false,
    "run_control": {
     "marked": false
    }
   },
   "outputs": [
    {
     "name": "stdout",
     "output_type": "stream",
     "text": [
      "Epoch 00037: early stopping\n",
      "272/272 [==============================] - 0s     \n",
      "Epoch 00024: early stopping\n",
      "272/272 [==============================] - 0s     \n",
      "Epoch 00026: early stopping\n",
      "272/272 [==============================] - 0s     \n",
      "Epoch 00052: early stopping\n",
      "272/272 [==============================] - 0s     \n",
      "Epoch 00023: early stopping\n",
      "272/272 [==============================] - 0s     \n"
     ]
    }
   ],
   "source": [
    "train_loss , val_loss,test_loss = kfoldTesting(g_X_train_manifold,g_y_train,X_test=g_X_test_manifold,y_test=g_y_test,s=g_X_train_manifold.shape[1])"
   ]
  },
  {
   "cell_type": "code",
   "execution_count": 235,
   "metadata": {
    "collapsed": false,
    "run_control": {
     "marked": false
    }
   },
   "outputs": [
    {
     "data": {
      "text/plain": [
       "[1.0779416526065153,\n",
       " 1.0781622213475845,\n",
       " 1.0776865762822769,\n",
       " 1.0778452683897579,\n",
       " 1.0779175162315369]"
      ]
     },
     "execution_count": 235,
     "metadata": {},
     "output_type": "execute_result"
    }
   ],
   "source": [
    "test_loss"
   ]
  },
  {
   "cell_type": "code",
   "execution_count": 157,
   "metadata": {
    "collapsed": false,
    "run_control": {
     "marked": false
    }
   },
   "outputs": [
    {
     "name": "stdout",
     "output_type": "stream",
     "text": [
      "Epoch 00039: early stopping\n",
      "272/272 [==============================] - 0s     \n",
      "Epoch 00033: early stopping\n",
      "272/272 [==============================] - 0s     \n",
      "Epoch 00033: early stopping\n",
      "272/272 [==============================] - 0s     \n",
      "Epoch 00034: early stopping\n",
      "272/272 [==============================] - 0s     \n",
      "Epoch 00037: early stopping\n",
      "272/272 [==============================] - 0s     \n"
     ]
    }
   ],
   "source": [
    "train_loss , val_loss,test_loss = kfoldTesting(g_X_train_pca,g_y_train,X_test=g_X_test_pca,y_test=g_y_test,s=10)"
   ]
  },
  {
   "cell_type": "code",
   "execution_count": 158,
   "metadata": {
    "collapsed": false,
    "run_control": {
     "marked": false
    }
   },
   "outputs": [
    {
     "data": {
      "text/plain": [
       "[1.0022836362614351,\n",
       " 0.99619938696131982,\n",
       " 0.99450166435802689,\n",
       " 0.99758752654580507,\n",
       " 0.99583619482376995]"
      ]
     },
     "execution_count": 158,
     "metadata": {},
     "output_type": "execute_result"
    }
   ],
   "source": [
    "test_loss"
   ]
  },
  {
   "cell_type": "code",
   "execution_count": 159,
   "metadata": {
    "collapsed": false,
    "run_control": {
     "marked": false
    }
   },
   "outputs": [
    {
     "name": "stdout",
     "output_type": "stream",
     "text": [
      "Epoch 00095: early stopping\n",
      "272/272 [==============================] - 0s     \n",
      "Epoch 00124: early stopping\n",
      "272/272 [==============================] - 0s     \n",
      "Epoch 00114: early stopping\n",
      "272/272 [==============================] - 0s     \n",
      "Epoch 00113: early stopping\n",
      "272/272 [==============================] - 0s     \n",
      "Epoch 00102: early stopping\n",
      "272/272 [==============================] - 0s     \n"
     ]
    }
   ],
   "source": [
    "train_loss , val_loss,test_loss = kfoldTesting(g_X_train_lda,g_y_train,X_test=g_X_test_lda,y_test=g_y_test,s=g_X_train_lda.shape[1])"
   ]
  },
  {
   "cell_type": "code",
   "execution_count": 160,
   "metadata": {
    "collapsed": false,
    "run_control": {
     "marked": false
    }
   },
   "outputs": [
    {
     "data": {
      "text/plain": [
       "[1.0105967241175033,\n",
       " 1.0128741299404818,\n",
       " 1.0111493257915272,\n",
       " 1.0117433982736923,\n",
       " 1.010627013795516]"
      ]
     },
     "execution_count": 160,
     "metadata": {},
     "output_type": "execute_result"
    }
   ],
   "source": [
    "test_loss"
   ]
  },
  {
   "cell_type": "code",
   "execution_count": null,
   "metadata": {
    "collapsed": true,
    "run_control": {
     "marked": false
    }
   },
   "outputs": [],
   "source": []
  },
  {
   "cell_type": "code",
   "execution_count": 161,
   "metadata": {
    "collapsed": false,
    "run_control": {
     "marked": false
    }
   },
   "outputs": [
    {
     "name": "stdout",
     "output_type": "stream",
     "text": [
      "Epoch 00082: early stopping\n",
      "272/272 [==============================] - 0s     \n",
      "Epoch 00098: early stopping\n",
      "272/272 [==============================] - 0s     \n",
      "Epoch 00118: early stopping\n",
      "272/272 [==============================] - 0s     \n",
      "Epoch 00113: early stopping\n",
      "272/272 [==============================] - 0s     \n",
      "Epoch 00129: early stopping\n",
      "272/272 [==============================] - 0s     \n"
     ]
    }
   ],
   "source": [
    "train_loss , val_loss,test_loss= kfoldTesting(g_X_train_pca_lda,g_y_train,X_test=g_X_test_pca_lda,y_test=g_y_test,s=g_X_train_pca_lda.shape[1])"
   ]
  },
  {
   "cell_type": "code",
   "execution_count": 30,
   "metadata": {
    "collapsed": false,
    "run_control": {
     "marked": false
    }
   },
   "outputs": [
    {
     "ename": "NameError",
     "evalue": "name 'g_X_train_best' is not defined",
     "output_type": "error",
     "traceback": [
      "\u001b[1;31m---------------------------------------------------------------------------\u001b[0m",
      "\u001b[1;31mNameError\u001b[0m                                 Traceback (most recent call last)",
      "\u001b[1;32m<ipython-input-30-d5ef88d3f63b>\u001b[0m in \u001b[0;36m<module>\u001b[1;34m()\u001b[0m\n\u001b[1;32m----> 1\u001b[1;33m \u001b[0mg_X_train_best\u001b[0m\u001b[1;33m.\u001b[0m\u001b[0mshape\u001b[0m\u001b[1;33m\u001b[0m\u001b[0m\n\u001b[0m",
      "\u001b[1;31mNameError\u001b[0m: name 'g_X_train_best' is not defined"
     ]
    }
   ],
   "source": []
  },
  {
   "cell_type": "code",
   "execution_count": 59,
   "metadata": {
    "collapsed": false,
    "run_control": {
     "marked": false
    }
   },
   "outputs": [
    {
     "name": "stdout",
     "output_type": "stream",
     "text": [
      "size:207 , train:0.977543470929823 val_loss:1.04782772695317\n"
     ]
    }
   ],
   "source": [
    "g_sizes= range(int(1/2 * g_X_train_best.shape[1]),2 * g_X_train_best.shape[1],5)\n",
    "train_loss,val_loss= testNodeNum(g_X_train_best,g_y_train,g_sizes,dropout=g_best_dropout)"
   ]
  },
  {
   "cell_type": "code",
   "execution_count": 65,
   "metadata": {
    "collapsed": false,
    "run_control": {
     "marked": false
    }
   },
   "outputs": [
    {
     "data": {
      "text/plain": [
       "[<matplotlib.lines.Line2D at 0x7feae1aeeac8>]"
      ]
     },
     "execution_count": 65,
     "metadata": {},
     "output_type": "execute_result"
    },
    {
     "data": {
      "image/png": "[encoded data removed]",
      "text/plain": [
       "<matplotlib.figure.Figure at 0x7feae1b79780>"
      ]
     },
     "metadata": {},
     "output_type": "display_data"
    }
   ],
   "source": [
    "n_val_loss = np.array(val_loss)\n",
    "plt.plot(g_sizes, np.mean(n_val_loss,axis=1))"
   ]
  },
  {
   "cell_type": "code",
   "execution_count": 69,
   "metadata": {
    "collapsed": false,
    "run_control": {
     "marked": false
    }
   },
   "outputs": [
    {
     "data": {
      "text/plain": [
       "172"
      ]
     },
     "execution_count": 69,
     "metadata": {},
     "output_type": "execute_result"
    }
   ],
   "source": [
    "g_sizes[np.argmin(np.mean(n_val_loss,axis=1))]"
   ]
  },
  {
   "cell_type": "code",
   "execution_count": 55,
   "metadata": {
    "collapsed": false,
    "run_control": {
     "marked": false
    }
   },
   "outputs": [],
   "source": [
    "g_input_dim =2 \n",
    "g_best_size =172 "
   ]
  },
  {
   "cell_type": "code",
   "execution_count": null,
   "metadata": {
    "collapsed": true,
    "run_control": {
     "marked": false
    }
   },
   "outputs": [],
   "source": [
    "g_X_train_best = g_X_train_lda[:,0:g_input_dim]\n",
    "g_X_test_best = g_X_test_lda[:,0:g_input_dim]"
   ]
  },
  {
   "cell_type": "code",
   "execution_count": null,
   "metadata": {
    "collapsed": false,
    "run_control": {
     "marked": false
    }
   },
   "outputs": [],
   "source": [
    "g_p_matrix= getPrecisionMaxtrix(g_X_train_best, g_y_train,[g_input_dim,g_input_dim])\n",
    "g_p_matrix"
   ]
  },
  {
   "cell_type": "code",
   "execution_count": null,
   "metadata": {
    "collapsed": false,
    "run_control": {
     "marked": false
    }
   },
   "outputs": [],
   "source": [
    "g_p_matrix"
   ]
  },
  {
   "cell_type": "code",
   "execution_count": 30,
   "metadata": {
    "ExecuteTime": {
     "end_time": "2016-04-11T13:31:00.514000",
     "start_time": "2016-04-11T13:31:00.472000"
    },
    "collapsed": true,
    "init_cell": true,
    "run_control": {
     "marked": false
    }
   },
   "outputs": [],
   "source": [
    "def betTesting(X_train,X_test, y_train,y_test,origin_X_test, p_matrix):\n",
    "    print(g_best_size)\n",
    "    model = createModel([g_best_size,g_best_size],input_dim=X_train.shape[1])\n",
    "    earlyCallback = EarlyStopping(patience=g_patience,verbose=1)\n",
    "    history = model.fit(X_train,y_train,verbose=0,nb_epoch=g_epoch, validation_split=g_validation,show_accuracy=True,callbacks=[earlyCallback] )\n",
    "    y_proba = model.predict_proba(X_test)\n",
    "    odds_proba_df = mergeXWithOdds_Proba(c,origin_X_test,y_proba,y_test)\n",
    "    fproba_mat,odd_mat,win_mat= formatMatrixs(odds_proba_df,p_matrix)\n",
    "    #changed\n",
    "    spent,income,expectation,withdraw,total,receipt = range_strategy4_test(fproba_mat,odd_mat,win_mat,odds_proba_df)\n",
    "    return spent,income,expectation,withdraw,total,receipt\n",
    "def kfoldBetTest(kfold = 10 ,input_dim = None):\n",
    "    spents= []\n",
    "    incomes =[]\n",
    "    exps = []\n",
    "    withs =[]\n",
    "    totals, receipts,p_matrixs =[],[],[]\n",
    "    for k in range(kfold):\n",
    "        print(\"fold {}\".format(k))\n",
    "        X_train_best,X_test_best,y_train,y_test,X_test = get_train_test_set(retain=input_dim)\n",
    "        print(X_train_best.shape)\n",
    "        #p_matrix= getPrecisionMaxtrix(X_train_best, y_train,[input_dim,input_dim])\n",
    "        spent,income,expectation,withdraw,total,receipt = betTesting(X_train_best,X_test_best,y_train,y_test,X_test,None)\n",
    "        spents.append(spent)\n",
    "        incomes.append(income)\n",
    "        exps.append(expectation)\n",
    "        withs.append(withdraw)\n",
    "        totals.append(totals)\n",
    "        receipts.append(receipt)\n",
    "        #p_matrixs.append(p_matrix)\n",
    "        clear_output()\n",
    "    print(\"finish\")\n",
    "    return spents, incomes, exps, withs , totals, receipts,p_matrixs \n",
    "    \n"
   ]
  },
  {
   "cell_type": "code",
   "execution_count": 64,
   "metadata": {
    "collapsed": false,
    "run_control": {
     "marked": false
    }
   },
   "outputs": [
    {
     "name": "stdout",
     "output_type": "stream",
     "text": [
      "finish\n"
     ]
    }
   ],
   "source": [
    "k_iter = 10\n",
    "spents, incomes, exps, withs , totals, receipts,p_matrixs = kfoldBetTest(kfold=k_iter)"
   ]
  },
  {
   "cell_type": "code",
   "execution_count": 65,
   "metadata": {
    "collapsed": false,
    "run_control": {
     "marked": false
    }
   },
   "outputs": [],
   "source": [
    "n_spents = np.array(spents).reshape(k_iter,len(g_e_range),len(g_z_range))\n",
    "n_incomes = np.array(incomes).reshape(k_iter,len(g_e_range),len(g_z_range))\n",
    "n_incomes_min = np.min(n_incomes,axis=0)\n",
    "n_spents_max = np.max(n_spents,axis=0)\n",
    "n_nets = n_incomes - n_spents"
   ]
  },
  {
   "cell_type": "code",
   "execution_count": 69,
   "metadata": {
    "collapsed": false,
    "run_control": {
     "marked": false
    }
   },
   "outputs": [
    {
     "data": {
      "text/plain": [
       "<matplotlib.figure.Figure at 0x7ff539f750b8>"
      ]
     },
     "execution_count": 69,
     "metadata": {},
     "output_type": "execute_result"
    },
    {
     "data": {
      "image/png": "[encoded data removed]",
      "text/plain": [
       "<matplotlib.figure.Figure at 0x7ff53a06c6d8>"
      ]
     },
     "metadata": {},
     "output_type": "display_data"
    },
    {
     "data": {
      "image/png": "[encoded data removed]",
      "text/plain": [
       "<matplotlib.figure.Figure at 0x7ff539ebed30>"
      ]
     },
     "metadata": {},
     "output_type": "display_data"
    },
    {
     "data": {
      "image/png": "[encoded data removed]",
      "text/plain": [
       "<matplotlib.figure.Figure at 0x7ff53a1e6c50>"
      ]
     },
     "metadata": {},
     "output_type": "display_data"
    },
    {
     "data": {
      "image/png": "[encoded data removed]",
      "text/plain": [
       "<matplotlib.figure.Figure at 0x7ff53a1ca6a0>"
      ]
     },
     "metadata": {},
     "output_type": "display_data"
    },
    {
     "data": {
      "text/plain": [
       "<matplotlib.figure.Figure at 0x7ff539f750b8>"
      ]
     },
     "metadata": {},
     "output_type": "display_data"
    }
   ],
   "source": [
    "g_Z, g_E =np.meshgrid(g_z_range,g_e_range)\n",
    "CS =  plt.contourf(g_Z,g_E,n_incomes_min)\n",
    "plt.title(\"min Income\")\n",
    "cbar = plt.colorbar(CS)\n",
    "plt.figure() \n",
    "CS = plt.contourf(g_Z,g_E,n_spents_max)\n",
    "plt.title(\"max Spents\")\n",
    "cbar = plt.colorbar(CS)\n",
    "plt.figure()\n",
    "CS = plt.contourf(g_Z,g_E,np.min(n_nets,axis=0))\n",
    "plt.title(\"net min\")\n",
    "cbar = plt.colorbar(CS)\n",
    "plt.figure()\n",
    "CS = plt.contourf(g_Z,g_E,np.mean(n_nets,axis=0))\n",
    "plt.title(\"net mean\")\n",
    "cbar = plt.colorbar(CS)\n",
    "plt.figure()"
   ]
  },
  {
   "cell_type": "code",
   "execution_count": null,
   "metadata": {
    "collapsed": true,
    "run_control": {
     "marked": false
    }
   },
   "outputs": [],
   "source": []
  },
  {
   "cell_type": "code",
   "execution_count": 268,
   "metadata": {
    "collapsed": false,
    "run_control": {
     "marked": false
    }
   },
   "outputs": [
    {
     "data": {
      "text/html": [
       "<div>\n",
       "<table border=\"1\" class=\"dataframe\">\n",
       "  <thead>\n",
       "    <tr style=\"text-align: right;\">\n",
       "      <th></th>\n",
       "      <th>Date</th>\n",
       "      <th>home</th>\n",
       "      <th>away</th>\n",
       "      <th>odd of choice</th>\n",
       "      <th>choice</th>\n",
       "      <th>result</th>\n",
       "      <th>Hp</th>\n",
       "      <th>Dp</th>\n",
       "      <th>Ap</th>\n",
       "    </tr>\n",
       "  </thead>\n",
       "  <tbody>\n",
       "    <tr>\n",
       "      <th>0</th>\n",
       "      <td>2016-03-20 08:00:00</td>\n",
       "      <td>Southampton</td>\n",
       "      <td>Liverpool</td>\n",
       "      <td>3.10</td>\n",
       "      <td>1</td>\n",
       "      <td>0</td>\n",
       "      <td>0.345929</td>\n",
       "      <td>0.346991</td>\n",
       "      <td>0.307080</td>\n",
       "    </tr>\n",
       "    <tr>\n",
       "      <th>1</th>\n",
       "      <td>2016-03-19 08:00:00</td>\n",
       "      <td>Chelsea</td>\n",
       "      <td>West Ham</td>\n",
       "      <td>1.55</td>\n",
       "      <td>0</td>\n",
       "      <td>1</td>\n",
       "      <td>0.568060</td>\n",
       "      <td>0.271225</td>\n",
       "      <td>0.160715</td>\n",
       "    </tr>\n",
       "    <tr>\n",
       "      <th>2</th>\n",
       "      <td>2016-03-19 08:00:00</td>\n",
       "      <td>Watford</td>\n",
       "      <td>Stoke</td>\n",
       "      <td>3.00</td>\n",
       "      <td>1</td>\n",
       "      <td>2</td>\n",
       "      <td>0.375817</td>\n",
       "      <td>0.508786</td>\n",
       "      <td>0.115398</td>\n",
       "    </tr>\n",
       "    <tr>\n",
       "      <th>3</th>\n",
       "      <td>2016-03-19 08:00:00</td>\n",
       "      <td>Swansea</td>\n",
       "      <td>Aston Villa</td>\n",
       "      <td>3.60</td>\n",
       "      <td>1</td>\n",
       "      <td>0</td>\n",
       "      <td>0.324819</td>\n",
       "      <td>0.470595</td>\n",
       "      <td>0.204586</td>\n",
       "    </tr>\n",
       "    <tr>\n",
       "      <th>4</th>\n",
       "      <td>2016-03-14 08:00:00</td>\n",
       "      <td>Leicester</td>\n",
       "      <td>Newcastle</td>\n",
       "      <td>1.41</td>\n",
       "      <td>0</td>\n",
       "      <td>0</td>\n",
       "      <td>0.672331</td>\n",
       "      <td>0.256795</td>\n",
       "      <td>0.070875</td>\n",
       "    </tr>\n",
       "    <tr>\n",
       "      <th>5</th>\n",
       "      <td>2016-03-12 08:00:00</td>\n",
       "      <td>Norwich</td>\n",
       "      <td>Man City</td>\n",
       "      <td>1.45</td>\n",
       "      <td>2</td>\n",
       "      <td>1</td>\n",
       "      <td>0.244295</td>\n",
       "      <td>0.214314</td>\n",
       "      <td>0.541391</td>\n",
       "    </tr>\n",
       "    <tr>\n",
       "      <th>6</th>\n",
       "      <td>2016-03-05 08:00:00</td>\n",
       "      <td>Man City</td>\n",
       "      <td>Aston Villa</td>\n",
       "      <td>1.12</td>\n",
       "      <td>0</td>\n",
       "      <td>0</td>\n",
       "      <td>0.733208</td>\n",
       "      <td>0.151754</td>\n",
       "      <td>0.115037</td>\n",
       "    </tr>\n",
       "    <tr>\n",
       "      <th>7</th>\n",
       "      <td>2016-03-05 08:00:00</td>\n",
       "      <td>Tottenham</td>\n",
       "      <td>Arsenal</td>\n",
       "      <td>2.22</td>\n",
       "      <td>0</td>\n",
       "      <td>1</td>\n",
       "      <td>0.460545</td>\n",
       "      <td>0.239932</td>\n",
       "      <td>0.299523</td>\n",
       "    </tr>\n",
       "    <tr>\n",
       "      <th>8</th>\n",
       "      <td>2016-03-02 08:00:00</td>\n",
       "      <td>Stoke</td>\n",
       "      <td>Newcastle</td>\n",
       "      <td>1.85</td>\n",
       "      <td>0</td>\n",
       "      <td>0</td>\n",
       "      <td>0.489654</td>\n",
       "      <td>0.378916</td>\n",
       "      <td>0.131431</td>\n",
       "    </tr>\n",
       "    <tr>\n",
       "      <th>9</th>\n",
       "      <td>2016-03-02 08:00:00</td>\n",
       "      <td>Man United</td>\n",
       "      <td>Watford</td>\n",
       "      <td>1.53</td>\n",
       "      <td>0</td>\n",
       "      <td>0</td>\n",
       "      <td>0.493774</td>\n",
       "      <td>0.141785</td>\n",
       "      <td>0.364440</td>\n",
       "    </tr>\n",
       "    <tr>\n",
       "      <th>10</th>\n",
       "      <td>2016-03-01 08:00:00</td>\n",
       "      <td>Bournemouth</td>\n",
       "      <td>Southampton</td>\n",
       "      <td>3.00</td>\n",
       "      <td>1</td>\n",
       "      <td>0</td>\n",
       "      <td>0.258888</td>\n",
       "      <td>0.484906</td>\n",
       "      <td>0.256207</td>\n",
       "    </tr>\n",
       "    <tr>\n",
       "      <th>11</th>\n",
       "      <td>2016-03-01 08:00:00</td>\n",
       "      <td>Sunderland</td>\n",
       "      <td>Crystal Palace</td>\n",
       "      <td>2.70</td>\n",
       "      <td>2</td>\n",
       "      <td>1</td>\n",
       "      <td>0.358181</td>\n",
       "      <td>0.238966</td>\n",
       "      <td>0.402854</td>\n",
       "    </tr>\n",
       "    <tr>\n",
       "      <th>12</th>\n",
       "      <td>2016-02-28 08:00:00</td>\n",
       "      <td>Tottenham</td>\n",
       "      <td>Swansea</td>\n",
       "      <td>1.38</td>\n",
       "      <td>0</td>\n",
       "      <td>0</td>\n",
       "      <td>0.739870</td>\n",
       "      <td>0.102542</td>\n",
       "      <td>0.157587</td>\n",
       "    </tr>\n",
       "    <tr>\n",
       "      <th>13</th>\n",
       "      <td>2016-02-27 08:00:00</td>\n",
       "      <td>Leicester</td>\n",
       "      <td>Norwich</td>\n",
       "      <td>1.40</td>\n",
       "      <td>0</td>\n",
       "      <td>0</td>\n",
       "      <td>0.693653</td>\n",
       "      <td>0.218232</td>\n",
       "      <td>0.088115</td>\n",
       "    </tr>\n",
       "    <tr>\n",
       "      <th>14</th>\n",
       "      <td>2016-02-13 08:00:00</td>\n",
       "      <td>Norwich</td>\n",
       "      <td>West Ham</td>\n",
       "      <td>3.20</td>\n",
       "      <td>1</td>\n",
       "      <td>1</td>\n",
       "      <td>0.248970</td>\n",
       "      <td>0.462772</td>\n",
       "      <td>0.288258</td>\n",
       "    </tr>\n",
       "    <tr>\n",
       "      <th>15</th>\n",
       "      <td>2016-02-06 08:00:00</td>\n",
       "      <td>Liverpool</td>\n",
       "      <td>Sunderland</td>\n",
       "      <td>1.32</td>\n",
       "      <td>0</td>\n",
       "      <td>1</td>\n",
       "      <td>0.780698</td>\n",
       "      <td>0.143331</td>\n",
       "      <td>0.075970</td>\n",
       "    </tr>\n",
       "    <tr>\n",
       "      <th>16</th>\n",
       "      <td>2016-02-06 08:00:00</td>\n",
       "      <td>Aston Villa</td>\n",
       "      <td>Norwich</td>\n",
       "      <td>3.05</td>\n",
       "      <td>1</td>\n",
       "      <td>0</td>\n",
       "      <td>0.297713</td>\n",
       "      <td>0.542170</td>\n",
       "      <td>0.160118</td>\n",
       "    </tr>\n",
       "    <tr>\n",
       "      <th>17</th>\n",
       "      <td>2016-02-02 08:00:00</td>\n",
       "      <td>Arsenal</td>\n",
       "      <td>Southampton</td>\n",
       "      <td>1.62</td>\n",
       "      <td>0</td>\n",
       "      <td>1</td>\n",
       "      <td>0.651242</td>\n",
       "      <td>0.210570</td>\n",
       "      <td>0.138188</td>\n",
       "    </tr>\n",
       "    <tr>\n",
       "      <th>18</th>\n",
       "      <td>2016-02-02 08:00:00</td>\n",
       "      <td>Leicester</td>\n",
       "      <td>Liverpool</td>\n",
       "      <td>2.47</td>\n",
       "      <td>0</td>\n",
       "      <td>0</td>\n",
       "      <td>0.450591</td>\n",
       "      <td>0.195455</td>\n",
       "      <td>0.353954</td>\n",
       "    </tr>\n",
       "    <tr>\n",
       "      <th>19</th>\n",
       "      <td>2016-01-24 08:00:00</td>\n",
       "      <td>Arsenal</td>\n",
       "      <td>Chelsea</td>\n",
       "      <td>1.87</td>\n",
       "      <td>0</td>\n",
       "      <td>2</td>\n",
       "      <td>0.679364</td>\n",
       "      <td>0.174637</td>\n",
       "      <td>0.146000</td>\n",
       "    </tr>\n",
       "    <tr>\n",
       "      <th>20</th>\n",
       "      <td>2016-01-23 08:00:00</td>\n",
       "      <td>Crystal Palace</td>\n",
       "      <td>Tottenham</td>\n",
       "      <td>1.98</td>\n",
       "      <td>2</td>\n",
       "      <td>2</td>\n",
       "      <td>0.096201</td>\n",
       "      <td>0.160239</td>\n",
       "      <td>0.743560</td>\n",
       "    </tr>\n",
       "    <tr>\n",
       "      <th>21</th>\n",
       "      <td>2016-01-16 08:00:00</td>\n",
       "      <td>Newcastle</td>\n",
       "      <td>West Ham</td>\n",
       "      <td>2.62</td>\n",
       "      <td>2</td>\n",
       "      <td>0</td>\n",
       "      <td>0.132274</td>\n",
       "      <td>0.401783</td>\n",
       "      <td>0.465943</td>\n",
       "    </tr>\n",
       "    <tr>\n",
       "      <th>22</th>\n",
       "      <td>2016-01-13 08:00:00</td>\n",
       "      <td>Southampton</td>\n",
       "      <td>Watford</td>\n",
       "      <td>1.87</td>\n",
       "      <td>0</td>\n",
       "      <td>0</td>\n",
       "      <td>0.405717</td>\n",
       "      <td>0.312266</td>\n",
       "      <td>0.282017</td>\n",
       "    </tr>\n",
       "    <tr>\n",
       "      <th>23</th>\n",
       "      <td>2016-01-13 08:00:00</td>\n",
       "      <td>Tottenham</td>\n",
       "      <td>Leicester</td>\n",
       "      <td>1.61</td>\n",
       "      <td>0</td>\n",
       "      <td>2</td>\n",
       "      <td>0.525934</td>\n",
       "      <td>0.168052</td>\n",
       "      <td>0.306014</td>\n",
       "    </tr>\n",
       "    <tr>\n",
       "      <th>24</th>\n",
       "      <td>2016-01-12 08:00:00</td>\n",
       "      <td>Newcastle</td>\n",
       "      <td>Man United</td>\n",
       "      <td>1.65</td>\n",
       "      <td>2</td>\n",
       "      <td>1</td>\n",
       "      <td>0.146424</td>\n",
       "      <td>0.391298</td>\n",
       "      <td>0.462278</td>\n",
       "    </tr>\n",
       "    <tr>\n",
       "      <th>25</th>\n",
       "      <td>2016-01-12 08:00:00</td>\n",
       "      <td>Bournemouth</td>\n",
       "      <td>West Ham</td>\n",
       "      <td>3.25</td>\n",
       "      <td>1</td>\n",
       "      <td>2</td>\n",
       "      <td>0.183952</td>\n",
       "      <td>0.490947</td>\n",
       "      <td>0.325102</td>\n",
       "    </tr>\n",
       "    <tr>\n",
       "      <th>26</th>\n",
       "      <td>2016-01-02 08:00:00</td>\n",
       "      <td>Watford</td>\n",
       "      <td>Man City</td>\n",
       "      <td>1.57</td>\n",
       "      <td>2</td>\n",
       "      <td>2</td>\n",
       "      <td>0.218475</td>\n",
       "      <td>0.289096</td>\n",
       "      <td>0.492429</td>\n",
       "    </tr>\n",
       "    <tr>\n",
       "      <th>27</th>\n",
       "      <td>2016-01-02 08:00:00</td>\n",
       "      <td>Sunderland</td>\n",
       "      <td>Aston Villa</td>\n",
       "      <td>2.23</td>\n",
       "      <td>0</td>\n",
       "      <td>0</td>\n",
       "      <td>0.487845</td>\n",
       "      <td>0.354600</td>\n",
       "      <td>0.157556</td>\n",
       "    </tr>\n",
       "    <tr>\n",
       "      <th>28</th>\n",
       "      <td>2016-01-02 08:00:00</td>\n",
       "      <td>Norwich</td>\n",
       "      <td>Southampton</td>\n",
       "      <td>2.18</td>\n",
       "      <td>2</td>\n",
       "      <td>0</td>\n",
       "      <td>0.270553</td>\n",
       "      <td>0.320717</td>\n",
       "      <td>0.408730</td>\n",
       "    </tr>\n",
       "    <tr>\n",
       "      <th>29</th>\n",
       "      <td>2016-01-02 08:00:00</td>\n",
       "      <td>Man United</td>\n",
       "      <td>Swansea</td>\n",
       "      <td>1.41</td>\n",
       "      <td>0</td>\n",
       "      <td>0</td>\n",
       "      <td>0.763396</td>\n",
       "      <td>0.088601</td>\n",
       "      <td>0.148004</td>\n",
       "    </tr>\n",
       "    <tr>\n",
       "      <th>...</th>\n",
       "      <td>...</td>\n",
       "      <td>...</td>\n",
       "      <td>...</td>\n",
       "      <td>...</td>\n",
       "      <td>...</td>\n",
       "      <td>...</td>\n",
       "      <td>...</td>\n",
       "      <td>...</td>\n",
       "      <td>...</td>\n",
       "    </tr>\n",
       "    <tr>\n",
       "      <th>242</th>\n",
       "      <td>2012-12-29 08:00:00</td>\n",
       "      <td>Aston Villa</td>\n",
       "      <td>Wigan</td>\n",
       "      <td>2.80</td>\n",
       "      <td>2</td>\n",
       "      <td>2</td>\n",
       "      <td>0.184603</td>\n",
       "      <td>0.322778</td>\n",
       "      <td>0.492619</td>\n",
       "    </tr>\n",
       "    <tr>\n",
       "      <th>243</th>\n",
       "      <td>2012-12-26 08:00:00</td>\n",
       "      <td>QPR</td>\n",
       "      <td>West Brom</td>\n",
       "      <td>3.30</td>\n",
       "      <td>1</td>\n",
       "      <td>2</td>\n",
       "      <td>0.266043</td>\n",
       "      <td>0.402164</td>\n",
       "      <td>0.331793</td>\n",
       "    </tr>\n",
       "    <tr>\n",
       "      <th>244</th>\n",
       "      <td>2012-12-26 08:00:00</td>\n",
       "      <td>Norwich</td>\n",
       "      <td>Chelsea</td>\n",
       "      <td>1.57</td>\n",
       "      <td>2</td>\n",
       "      <td>2</td>\n",
       "      <td>0.130131</td>\n",
       "      <td>0.258663</td>\n",
       "      <td>0.611206</td>\n",
       "    </tr>\n",
       "    <tr>\n",
       "      <th>245</th>\n",
       "      <td>2012-12-22 08:00:00</td>\n",
       "      <td>Newcastle</td>\n",
       "      <td>QPR</td>\n",
       "      <td>1.92</td>\n",
       "      <td>0</td>\n",
       "      <td>0</td>\n",
       "      <td>0.763949</td>\n",
       "      <td>0.094743</td>\n",
       "      <td>0.141308</td>\n",
       "    </tr>\n",
       "    <tr>\n",
       "      <th>246</th>\n",
       "      <td>2012-12-22 08:00:00</td>\n",
       "      <td>West Ham</td>\n",
       "      <td>Everton</td>\n",
       "      <td>3.20</td>\n",
       "      <td>1</td>\n",
       "      <td>2</td>\n",
       "      <td>0.274865</td>\n",
       "      <td>0.408177</td>\n",
       "      <td>0.316958</td>\n",
       "    </tr>\n",
       "    <tr>\n",
       "      <th>247</th>\n",
       "      <td>2012-12-15 08:00:00</td>\n",
       "      <td>Norwich</td>\n",
       "      <td>Wigan</td>\n",
       "      <td>3.30</td>\n",
       "      <td>1</td>\n",
       "      <td>0</td>\n",
       "      <td>0.325928</td>\n",
       "      <td>0.392874</td>\n",
       "      <td>0.281198</td>\n",
       "    </tr>\n",
       "    <tr>\n",
       "      <th>248</th>\n",
       "      <td>2012-12-08 08:00:00</td>\n",
       "      <td>Wigan</td>\n",
       "      <td>QPR</td>\n",
       "      <td>3.30</td>\n",
       "      <td>1</td>\n",
       "      <td>1</td>\n",
       "      <td>0.353931</td>\n",
       "      <td>0.482315</td>\n",
       "      <td>0.163753</td>\n",
       "    </tr>\n",
       "    <tr>\n",
       "      <th>249</th>\n",
       "      <td>2012-12-03 08:00:00</td>\n",
       "      <td>Newcastle</td>\n",
       "      <td>Wigan</td>\n",
       "      <td>1.82</td>\n",
       "      <td>0</td>\n",
       "      <td>0</td>\n",
       "      <td>0.552950</td>\n",
       "      <td>0.212548</td>\n",
       "      <td>0.234502</td>\n",
       "    </tr>\n",
       "    <tr>\n",
       "      <th>250</th>\n",
       "      <td>2012-12-02 08:00:00</td>\n",
       "      <td>Norwich</td>\n",
       "      <td>Sunderland</td>\n",
       "      <td>3.15</td>\n",
       "      <td>1</td>\n",
       "      <td>0</td>\n",
       "      <td>0.310281</td>\n",
       "      <td>0.378841</td>\n",
       "      <td>0.310878</td>\n",
       "    </tr>\n",
       "    <tr>\n",
       "      <th>251</th>\n",
       "      <td>2012-11-28 08:00:00</td>\n",
       "      <td>Swansea</td>\n",
       "      <td>West Brom</td>\n",
       "      <td>2.15</td>\n",
       "      <td>0</td>\n",
       "      <td>0</td>\n",
       "      <td>0.437646</td>\n",
       "      <td>0.376787</td>\n",
       "      <td>0.185567</td>\n",
       "    </tr>\n",
       "    <tr>\n",
       "      <th>252</th>\n",
       "      <td>2012-11-28 08:00:00</td>\n",
       "      <td>Tottenham</td>\n",
       "      <td>Liverpool</td>\n",
       "      <td>3.35</td>\n",
       "      <td>1</td>\n",
       "      <td>0</td>\n",
       "      <td>0.166410</td>\n",
       "      <td>0.418096</td>\n",
       "      <td>0.415493</td>\n",
       "    </tr>\n",
       "    <tr>\n",
       "      <th>253</th>\n",
       "      <td>2012-11-28 08:00:00</td>\n",
       "      <td>Everton</td>\n",
       "      <td>Arsenal</td>\n",
       "      <td>2.30</td>\n",
       "      <td>0</td>\n",
       "      <td>1</td>\n",
       "      <td>0.617137</td>\n",
       "      <td>0.208657</td>\n",
       "      <td>0.174205</td>\n",
       "    </tr>\n",
       "    <tr>\n",
       "      <th>254</th>\n",
       "      <td>2012-11-27 08:00:00</td>\n",
       "      <td>Sunderland</td>\n",
       "      <td>QPR</td>\n",
       "      <td>1.98</td>\n",
       "      <td>0</td>\n",
       "      <td>1</td>\n",
       "      <td>0.653879</td>\n",
       "      <td>0.193037</td>\n",
       "      <td>0.153084</td>\n",
       "    </tr>\n",
       "    <tr>\n",
       "      <th>255</th>\n",
       "      <td>2012-11-25 08:00:00</td>\n",
       "      <td>Swansea</td>\n",
       "      <td>Liverpool</td>\n",
       "      <td>1.92</td>\n",
       "      <td>2</td>\n",
       "      <td>1</td>\n",
       "      <td>0.166378</td>\n",
       "      <td>0.277961</td>\n",
       "      <td>0.555661</td>\n",
       "    </tr>\n",
       "    <tr>\n",
       "      <th>256</th>\n",
       "      <td>2012-11-24 08:00:00</td>\n",
       "      <td>Everton</td>\n",
       "      <td>Norwich</td>\n",
       "      <td>1.40</td>\n",
       "      <td>0</td>\n",
       "      <td>1</td>\n",
       "      <td>0.832230</td>\n",
       "      <td>0.119370</td>\n",
       "      <td>0.048399</td>\n",
       "    </tr>\n",
       "    <tr>\n",
       "      <th>257</th>\n",
       "      <td>2012-11-17 08:00:00</td>\n",
       "      <td>West Brom</td>\n",
       "      <td>Chelsea</td>\n",
       "      <td>1.78</td>\n",
       "      <td>2</td>\n",
       "      <td>0</td>\n",
       "      <td>0.130998</td>\n",
       "      <td>0.401293</td>\n",
       "      <td>0.467709</td>\n",
       "    </tr>\n",
       "    <tr>\n",
       "      <th>258</th>\n",
       "      <td>2012-11-10 08:00:00</td>\n",
       "      <td>Wigan</td>\n",
       "      <td>West Brom</td>\n",
       "      <td>3.35</td>\n",
       "      <td>1</td>\n",
       "      <td>2</td>\n",
       "      <td>0.344646</td>\n",
       "      <td>0.462907</td>\n",
       "      <td>0.192447</td>\n",
       "    </tr>\n",
       "    <tr>\n",
       "      <th>259</th>\n",
       "      <td>2012-11-04 08:00:00</td>\n",
       "      <td>QPR</td>\n",
       "      <td>Reading</td>\n",
       "      <td>1.75</td>\n",
       "      <td>0</td>\n",
       "      <td>1</td>\n",
       "      <td>0.521314</td>\n",
       "      <td>0.233531</td>\n",
       "      <td>0.245155</td>\n",
       "    </tr>\n",
       "    <tr>\n",
       "      <th>260</th>\n",
       "      <td>2012-11-04 08:00:00</td>\n",
       "      <td>Liverpool</td>\n",
       "      <td>Newcastle</td>\n",
       "      <td>1.42</td>\n",
       "      <td>0</td>\n",
       "      <td>1</td>\n",
       "      <td>0.750066</td>\n",
       "      <td>0.137219</td>\n",
       "      <td>0.112715</td>\n",
       "    </tr>\n",
       "    <tr>\n",
       "      <th>261</th>\n",
       "      <td>2012-11-03 08:00:00</td>\n",
       "      <td>Man United</td>\n",
       "      <td>Arsenal</td>\n",
       "      <td>1.60</td>\n",
       "      <td>0</td>\n",
       "      <td>0</td>\n",
       "      <td>0.428925</td>\n",
       "      <td>0.212433</td>\n",
       "      <td>0.358643</td>\n",
       "    </tr>\n",
       "    <tr>\n",
       "      <th>262</th>\n",
       "      <td>2012-10-27 08:00:00</td>\n",
       "      <td>Stoke</td>\n",
       "      <td>Sunderland</td>\n",
       "      <td>1.80</td>\n",
       "      <td>0</td>\n",
       "      <td>1</td>\n",
       "      <td>0.600483</td>\n",
       "      <td>0.230140</td>\n",
       "      <td>0.169377</td>\n",
       "    </tr>\n",
       "    <tr>\n",
       "      <th>263</th>\n",
       "      <td>2012-10-27 08:00:00</td>\n",
       "      <td>Wigan</td>\n",
       "      <td>West Ham</td>\n",
       "      <td>2.15</td>\n",
       "      <td>0</td>\n",
       "      <td>0</td>\n",
       "      <td>0.386774</td>\n",
       "      <td>0.351952</td>\n",
       "      <td>0.261273</td>\n",
       "    </tr>\n",
       "    <tr>\n",
       "      <th>264</th>\n",
       "      <td>2012-10-20 08:00:00</td>\n",
       "      <td>Tottenham</td>\n",
       "      <td>Chelsea</td>\n",
       "      <td>3.30</td>\n",
       "      <td>1</td>\n",
       "      <td>2</td>\n",
       "      <td>0.348905</td>\n",
       "      <td>0.414998</td>\n",
       "      <td>0.236097</td>\n",
       "    </tr>\n",
       "    <tr>\n",
       "      <th>265</th>\n",
       "      <td>2012-10-07 08:00:00</td>\n",
       "      <td>Newcastle</td>\n",
       "      <td>Man United</td>\n",
       "      <td>1.70</td>\n",
       "      <td>2</td>\n",
       "      <td>2</td>\n",
       "      <td>0.232155</td>\n",
       "      <td>0.148140</td>\n",
       "      <td>0.619705</td>\n",
       "    </tr>\n",
       "    <tr>\n",
       "      <th>266</th>\n",
       "      <td>2012-10-07 08:00:00</td>\n",
       "      <td>Tottenham</td>\n",
       "      <td>Aston Villa</td>\n",
       "      <td>1.38</td>\n",
       "      <td>0</td>\n",
       "      <td>0</td>\n",
       "      <td>0.686483</td>\n",
       "      <td>0.185776</td>\n",
       "      <td>0.127742</td>\n",
       "    </tr>\n",
       "    <tr>\n",
       "      <th>267</th>\n",
       "      <td>2012-10-06 08:00:00</td>\n",
       "      <td>Chelsea</td>\n",
       "      <td>Norwich</td>\n",
       "      <td>1.17</td>\n",
       "      <td>0</td>\n",
       "      <td>0</td>\n",
       "      <td>0.770227</td>\n",
       "      <td>0.160818</td>\n",
       "      <td>0.068955</td>\n",
       "    </tr>\n",
       "    <tr>\n",
       "      <th>268</th>\n",
       "      <td>2012-10-01 08:00:00</td>\n",
       "      <td>QPR</td>\n",
       "      <td>West Ham</td>\n",
       "      <td>3.25</td>\n",
       "      <td>1</td>\n",
       "      <td>2</td>\n",
       "      <td>0.305016</td>\n",
       "      <td>0.351564</td>\n",
       "      <td>0.343420</td>\n",
       "    </tr>\n",
       "    <tr>\n",
       "      <th>269</th>\n",
       "      <td>2012-09-30 08:00:00</td>\n",
       "      <td>Aston Villa</td>\n",
       "      <td>West Brom</td>\n",
       "      <td>2.70</td>\n",
       "      <td>2</td>\n",
       "      <td>1</td>\n",
       "      <td>0.356334</td>\n",
       "      <td>0.284213</td>\n",
       "      <td>0.359453</td>\n",
       "    </tr>\n",
       "    <tr>\n",
       "      <th>270</th>\n",
       "      <td>2012-09-29 08:00:00</td>\n",
       "      <td>Everton</td>\n",
       "      <td>Southampton</td>\n",
       "      <td>1.34</td>\n",
       "      <td>0</td>\n",
       "      <td>0</td>\n",
       "      <td>0.419927</td>\n",
       "      <td>0.331581</td>\n",
       "      <td>0.248492</td>\n",
       "    </tr>\n",
       "    <tr>\n",
       "      <th>271</th>\n",
       "      <td>2012-09-29 08:00:00</td>\n",
       "      <td>Arsenal</td>\n",
       "      <td>Chelsea</td>\n",
       "      <td>3.30</td>\n",
       "      <td>1</td>\n",
       "      <td>2</td>\n",
       "      <td>0.308311</td>\n",
       "      <td>0.520925</td>\n",
       "      <td>0.170765</td>\n",
       "    </tr>\n",
       "  </tbody>\n",
       "</table>\n",
       "<p>272 rows × 9 columns</p>\n",
       "</div>"
      ],
      "text/plain": [
       "                   Date            home            away  odd of choice  \\\n",
       "0   2016-03-20 08:00:00     Southampton       Liverpool           3.10   \n",
       "1   2016-03-19 08:00:00         Chelsea        West Ham           1.55   \n",
       "2   2016-03-19 08:00:00         Watford           Stoke           3.00   \n",
       "3   2016-03-19 08:00:00         Swansea     Aston Villa           3.60   \n",
       "4   2016-03-14 08:00:00       Leicester       Newcastle           1.41   \n",
       "5   2016-03-12 08:00:00         Norwich        Man City           1.45   \n",
       "6   2016-03-05 08:00:00        Man City     Aston Villa           1.12   \n",
       "7   2016-03-05 08:00:00       Tottenham         Arsenal           2.22   \n",
       "8   2016-03-02 08:00:00           Stoke       Newcastle           1.85   \n",
       "9   2016-03-02 08:00:00      Man United         Watford           1.53   \n",
       "10  2016-03-01 08:00:00     Bournemouth     Southampton           3.00   \n",
       "11  2016-03-01 08:00:00      Sunderland  Crystal Palace           2.70   \n",
       "12  2016-02-28 08:00:00       Tottenham         Swansea           1.38   \n",
       "13  2016-02-27 08:00:00       Leicester         Norwich           1.40   \n",
       "14  2016-02-13 08:00:00         Norwich        West Ham           3.20   \n",
       "15  2016-02-06 08:00:00       Liverpool      Sunderland           1.32   \n",
       "16  2016-02-06 08:00:00     Aston Villa         Norwich           3.05   \n",
       "17  2016-02-02 08:00:00         Arsenal     Southampton           1.62   \n",
       "18  2016-02-02 08:00:00       Leicester       Liverpool           2.47   \n",
       "19  2016-01-24 08:00:00         Arsenal         Chelsea           1.87   \n",
       "20  2016-01-23 08:00:00  Crystal Palace       Tottenham           1.98   \n",
       "21  2016-01-16 08:00:00       Newcastle        West Ham           2.62   \n",
       "22  2016-01-13 08:00:00     Southampton         Watford           1.87   \n",
       "23  2016-01-13 08:00:00       Tottenham       Leicester           1.61   \n",
       "24  2016-01-12 08:00:00       Newcastle      Man United           1.65   \n",
       "25  2016-01-12 08:00:00     Bournemouth        West Ham           3.25   \n",
       "26  2016-01-02 08:00:00         Watford        Man City           1.57   \n",
       "27  2016-01-02 08:00:00      Sunderland     Aston Villa           2.23   \n",
       "28  2016-01-02 08:00:00         Norwich     Southampton           2.18   \n",
       "29  2016-01-02 08:00:00      Man United         Swansea           1.41   \n",
       "..                  ...             ...             ...            ...   \n",
       "242 2012-12-29 08:00:00     Aston Villa           Wigan           2.80   \n",
       "243 2012-12-26 08:00:00             QPR       West Brom           3.30   \n",
       "244 2012-12-26 08:00:00         Norwich         Chelsea           1.57   \n",
       "245 2012-12-22 08:00:00       Newcastle             QPR           1.92   \n",
       "246 2012-12-22 08:00:00        West Ham         Everton           3.20   \n",
       "247 2012-12-15 08:00:00         Norwich           Wigan           3.30   \n",
       "248 2012-12-08 08:00:00           Wigan             QPR           3.30   \n",
       "249 2012-12-03 08:00:00       Newcastle           Wigan           1.82   \n",
       "250 2012-12-02 08:00:00         Norwich      Sunderland           3.15   \n",
       "251 2012-11-28 08:00:00         Swansea       West Brom           2.15   \n",
       "252 2012-11-28 08:00:00       Tottenham       Liverpool           3.35   \n",
       "253 2012-11-28 08:00:00         Everton         Arsenal           2.30   \n",
       "254 2012-11-27 08:00:00      Sunderland             QPR           1.98   \n",
       "255 2012-11-25 08:00:00         Swansea       Liverpool           1.92   \n",
       "256 2012-11-24 08:00:00         Everton         Norwich           1.40   \n",
       "257 2012-11-17 08:00:00       West Brom         Chelsea           1.78   \n",
       "258 2012-11-10 08:00:00           Wigan       West Brom           3.35   \n",
       "259 2012-11-04 08:00:00             QPR         Reading           1.75   \n",
       "260 2012-11-04 08:00:00       Liverpool       Newcastle           1.42   \n",
       "261 2012-11-03 08:00:00      Man United         Arsenal           1.60   \n",
       "262 2012-10-27 08:00:00           Stoke      Sunderland           1.80   \n",
       "263 2012-10-27 08:00:00           Wigan        West Ham           2.15   \n",
       "264 2012-10-20 08:00:00       Tottenham         Chelsea           3.30   \n",
       "265 2012-10-07 08:00:00       Newcastle      Man United           1.70   \n",
       "266 2012-10-07 08:00:00       Tottenham     Aston Villa           1.38   \n",
       "267 2012-10-06 08:00:00         Chelsea         Norwich           1.17   \n",
       "268 2012-10-01 08:00:00             QPR        West Ham           3.25   \n",
       "269 2012-09-30 08:00:00     Aston Villa       West Brom           2.70   \n",
       "270 2012-09-29 08:00:00         Everton     Southampton           1.34   \n",
       "271 2012-09-29 08:00:00         Arsenal         Chelsea           3.30   \n",
       "\n",
       "     choice  result        Hp        Dp        Ap  \n",
       "0         1       0  0.345929  0.346991  0.307080  \n",
       "1         0       1  0.568060  0.271225  0.160715  \n",
       "2         1       2  0.375817  0.508786  0.115398  \n",
       "3         1       0  0.324819  0.470595  0.204586  \n",
       "4         0       0  0.672331  0.256795  0.070875  \n",
       "5         2       1  0.244295  0.214314  0.541391  \n",
       "6         0       0  0.733208  0.151754  0.115037  \n",
       "7         0       1  0.460545  0.239932  0.299523  \n",
       "8         0       0  0.489654  0.378916  0.131431  \n",
       "9         0       0  0.493774  0.141785  0.364440  \n",
       "10        1       0  0.258888  0.484906  0.256207  \n",
       "11        2       1  0.358181  0.238966  0.402854  \n",
       "12        0       0  0.739870  0.102542  0.157587  \n",
       "13        0       0  0.693653  0.218232  0.088115  \n",
       "14        1       1  0.248970  0.462772  0.288258  \n",
       "15        0       1  0.780698  0.143331  0.075970  \n",
       "16        1       0  0.297713  0.542170  0.160118  \n",
       "17        0       1  0.651242  0.210570  0.138188  \n",
       "18        0       0  0.450591  0.195455  0.353954  \n",
       "19        0       2  0.679364  0.174637  0.146000  \n",
       "20        2       2  0.096201  0.160239  0.743560  \n",
       "21        2       0  0.132274  0.401783  0.465943  \n",
       "22        0       0  0.405717  0.312266  0.282017  \n",
       "23        0       2  0.525934  0.168052  0.306014  \n",
       "24        2       1  0.146424  0.391298  0.462278  \n",
       "25        1       2  0.183952  0.490947  0.325102  \n",
       "26        2       2  0.218475  0.289096  0.492429  \n",
       "27        0       0  0.487845  0.354600  0.157556  \n",
       "28        2       0  0.270553  0.320717  0.408730  \n",
       "29        0       0  0.763396  0.088601  0.148004  \n",
       "..      ...     ...       ...       ...       ...  \n",
       "242       2       2  0.184603  0.322778  0.492619  \n",
       "243       1       2  0.266043  0.402164  0.331793  \n",
       "244       2       2  0.130131  0.258663  0.611206  \n",
       "245       0       0  0.763949  0.094743  0.141308  \n",
       "246       1       2  0.274865  0.408177  0.316958  \n",
       "247       1       0  0.325928  0.392874  0.281198  \n",
       "248       1       1  0.353931  0.482315  0.163753  \n",
       "249       0       0  0.552950  0.212548  0.234502  \n",
       "250       1       0  0.310281  0.378841  0.310878  \n",
       "251       0       0  0.437646  0.376787  0.185567  \n",
       "252       1       0  0.166410  0.418096  0.415493  \n",
       "253       0       1  0.617137  0.208657  0.174205  \n",
       "254       0       1  0.653879  0.193037  0.153084  \n",
       "255       2       1  0.166378  0.277961  0.555661  \n",
       "256       0       1  0.832230  0.119370  0.048399  \n",
       "257       2       0  0.130998  0.401293  0.467709  \n",
       "258       1       2  0.344646  0.462907  0.192447  \n",
       "259       0       1  0.521314  0.233531  0.245155  \n",
       "260       0       1  0.750066  0.137219  0.112715  \n",
       "261       0       0  0.428925  0.212433  0.358643  \n",
       "262       0       1  0.600483  0.230140  0.169377  \n",
       "263       0       0  0.386774  0.351952  0.261273  \n",
       "264       1       2  0.348905  0.414998  0.236097  \n",
       "265       2       2  0.232155  0.148140  0.619705  \n",
       "266       0       0  0.686483  0.185776  0.127742  \n",
       "267       0       0  0.770227  0.160818  0.068955  \n",
       "268       1       2  0.305016  0.351564  0.343420  \n",
       "269       2       1  0.356334  0.284213  0.359453  \n",
       "270       0       0  0.419927  0.331581  0.248492  \n",
       "271       1       2  0.308311  0.520925  0.170765  \n",
       "\n",
       "[272 rows x 9 columns]"
      ]
     },
     "execution_count": 268,
     "metadata": {},
     "output_type": "execute_result"
    }
   ],
   "source": [
    "receipts[0][0]"
   ]
  },
  {
   "cell_type": "code",
   "execution_count": 31,
   "metadata": {
    "ExecuteTime": {
     "end_time": "2016-04-11T13:31:00.648000",
     "start_time": "2016-04-11T13:31:00.517000"
    },
    "collapsed": false,
    "init_cell": true,
    "run_control": {
     "marked": false
    },
    "scrolled": false
   },
   "outputs": [],
   "source": [
    "\n",
    "def futureTest3(node_sizes, X,y, ori_dates, numOfWeek = 10,verbose=False):\n",
    "    dates = convertToDate(ori_dates)\n",
    "    dates = [d - timedelta(days=2) for d in dates]    \n",
    "    weeks  = [ v.isocalendar()[1] for v in dates]\n",
    "    thisWeek = weeks[-1]\n",
    "    start = -1\n",
    "    last = X.shape[0]\n",
    "    index = -1\n",
    "    w = 0\n",
    "    sum_proba =None \n",
    "    sum_y =None\n",
    "    sum_train_proba=None\n",
    "    sum_train_y=None\n",
    "    results = None\n",
    "    while w < numOfWeek:\n",
    "        if thisWeek != weeks[index]:\n",
    "            print(\"week{}\".format(w))\n",
    "            start = X.shape[0] +index+1\n",
    "            X_train = X[0:start, :]\n",
    "            X_test = X[start:last,:]\n",
    "            y_train = y[0:start,:]\n",
    "            y_test = y[start:last,:]\n",
    "            #transform\n",
    "            X_train_best,X_test_best = transform_train_test_set(X_train,X_test,y_train,y_test)\n",
    "            #\n",
    "            earlyCallback = EarlyStopping(patience=g_patience,verbose=1)\n",
    "            model = createModel(node_sizes,input_dim=X_train_best.shape[1],dropout=g_best_dropout)\n",
    "            history = model.fit(X_train_best,y_train,verbose=0,nb_epoch=g_epoch, validation_split=g_validation, callbacks=[earlyCallback])\n",
    "            decoded = oneHotDecode(c,X_test)\n",
    "            home = np.array([c.inverseTeamMapping(decoded[:,0])]).reshape(X_test.shape[0],1)\n",
    "            away = np.array([c.inverseTeamMapping(decoded[:,1])]).reshape(X_test.shape[0],1)\n",
    "            stack = np.hstack([home,away])\n",
    "            proba = model.predict_proba(X_test_best)\n",
    "            train_proba =model.predict_proba(X_train_best)\n",
    "            errorIndx = np.argmax(proba,axis=1) != np.argmax(y_test,axis=1)\n",
    "            tresult = np.hstack([np.array([w for i in range(proba.shape[0])]).reshape(proba.shape[0],1),\n",
    "                                 ori_dates[start:last].reshape(proba.shape[0],1),stack,proba,y_test])\n",
    "            if sum_proba is None:\n",
    "                sum_proba = proba\n",
    "                sum_y = y_test\n",
    "                sum_train_proba = train_proba\n",
    "                sum_train_y = y_train\n",
    "                results =    tresult\n",
    "            else:\n",
    "                sum_proba = np.vstack([sum_proba,proba])\n",
    "                sum_y = np.vstack([sum_y,y_test])\n",
    "                sum_train_proba = np.vstack([sum_train_proba, train_proba])\n",
    "                sum_train_y= np.vstack([sum_train_y, y_train])\n",
    "                results =  np.vstack([results, tresult])\n",
    "            if verbose == True:\n",
    "                print(\"numOftest {} , loss {}\".format(X_test.shape[0],model.evaluate(X_test,y_test)))               \n",
    "                print (tresult)\n",
    "                print(\"first2 : {}\",firstNScore(2,proba,y_test))\n",
    "            last = start\n",
    "            thisWeek = weeks[index]\n",
    "            w = w+1\n",
    "        index = index -1\n",
    "    start = X.shape[0] +index+1\n",
    "    print(\"start compute precision_mat\")\n",
    "    X_train,X_useless, y_train,y_useless = X[0:start,:], X,y[0:start,:],y\n",
    "    X_train_best,X_test_best = transform_train_test_set(X_train,X_test,y_train,y_test)\n",
    "    _,_, proba_test,proba_y,_ = crossValidate2(node_sizes,X_train_best,y_train,fold=10,dropout=g_best_dropout)\n",
    "    p_matrix = precisionMatrix(np.vstack(proba_test),np.vstack(proba_y))\n",
    "    print(\"summary\")\n",
    "    print(\"score:\")\n",
    "    score = firstNScore(1,sum_proba,sum_y)\n",
    "    print(score)\n",
    "    print(\"2like\")\n",
    "    like2 = firstNScore(2,sum_proba,sum_y)\n",
    "    print(precisionMatrix(sum_proba,sum_y))\n",
    "    y_true= np.argmax(sum_y,axis=1)\n",
    "    y_pred = np.argmax(sum_proba,axis=1)\n",
    "    print(\"sum precision:{}\".format(precision_score(y_true,y_pred,average=None)))\n",
    "    resultdf= pd.DataFrame(results, columns=['week','DayStamp','HomeTeam','AwayTeam','H_prob','D_prob','A_prob','H','D','A'])\n",
    "    return sum_proba, sum_y,resultdf,p_matrix"
   ]
  },
  {
   "cell_type": "code",
   "execution_count": 244,
   "metadata": {
    "collapsed": false,
    "run_control": {
     "marked": false
    },
    "scrolled": true
   },
   "outputs": [
    {
     "name": "stdout",
     "output_type": "stream",
     "text": [
      "start format\n",
      "[['HS_Acc' 'HST_Acc' 'H_poss_Acc' 'H_atk_3rd_Acc' 'H_atk_3rd_tot_Acc'\n",
      "  'H_interceptions_Acc']\n",
      " ['AS_Acc' 'AST_Acc' 'A_poss_Acc' 'A_atk_3rd_Acc' 'A_atk_3rd_tot_Acc'\n",
      "  'A_interceptions_Acc']]\n",
      "finish\n",
      "week0\n",
      "Epoch 00066: early stopping\n",
      "10/10 [==============================] - 0s\n",
      "1348/1348 [==============================] - 0s     \n",
      "week1\n",
      "Epoch 00066: early stopping\n",
      "5/5 [==============================] - 0s\n",
      "1343/1343 [==============================] - 0s     \n",
      "week2\n",
      "Epoch 00090: early stopping\n",
      "15/15 [==============================] - 0s\n",
      "1328/1328 [==============================] - 0s     \n",
      "week3\n",
      "Epoch 00070: early stopping\n",
      "13/13 [==============================] - 0s\n",
      "1315/1315 [==============================] - 0s     \n",
      "week4\n",
      "Epoch 00076: early stopping\n",
      "10/10 [==============================] - 0s\n",
      "1305/1305 [==============================] - 0s     \n",
      "week5\n",
      "Epoch 00059: early stopping\n",
      "12/12 [==============================] - 0s\n",
      "1293/1293 [==============================] - 0s     \n",
      "week6\n",
      "Epoch 00082: early stopping\n",
      "8/8 [==============================] - 0s\n",
      "1285/1285 [==============================] - 0s     \n",
      "week7\n",
      "Epoch 00088: early stopping\n",
      "10/10 [==============================] - 0s\n",
      "1275/1275 [==============================] - 0s     \n",
      "week8\n",
      "Epoch 00092: early stopping\n",
      "17/17 [==============================] - 0s\n",
      " 512/1258 [===========>..................] - ETA: 0s**OUTPUT MUTED**"
     ]
    }
   ],
   "source": [
    "X,y = c.getH7()\n",
    "sum_proba, sum_y,resultdf,p_matrix= futureTest3([55,55],X,y,X[:,c.dateColumn],numOfWeek=25,verbose=False)"
   ]
  },
  {
   "cell_type": "code",
   "execution_count": 240,
   "metadata": {
    "collapsed": false,
    "run_control": {
     "marked": false
    }
   },
   "outputs": [
    {
     "data": {
      "text/html": [
       "<div>\n",
       "<table border=\"1\" class=\"dataframe\">\n",
       "  <thead>\n",
       "    <tr style=\"text-align: right;\">\n",
       "      <th></th>\n",
       "      <th>week</th>\n",
       "      <th>DayStamp</th>\n",
       "      <th>HomeTeam</th>\n",
       "      <th>AwayTeam</th>\n",
       "      <th>H_prob</th>\n",
       "      <th>D_prob</th>\n",
       "      <th>A_prob</th>\n",
       "      <th>H</th>\n",
       "      <th>D</th>\n",
       "      <th>A</th>\n",
       "    </tr>\n",
       "  </thead>\n",
       "  <tbody>\n",
       "    <tr>\n",
       "      <th>0</th>\n",
       "      <td>0</td>\n",
       "      <td>16879</td>\n",
       "      <td>Chelsea</td>\n",
       "      <td>West Ham</td>\n",
       "      <td>0.6451169848442078</td>\n",
       "      <td>0.24129584431648254</td>\n",
       "      <td>0.11358717828989029</td>\n",
       "      <td>False</td>\n",
       "      <td>True</td>\n",
       "      <td>False</td>\n",
       "    </tr>\n",
       "    <tr>\n",
       "      <th>1</th>\n",
       "      <td>0</td>\n",
       "      <td>16879</td>\n",
       "      <td>West Brom</td>\n",
       "      <td>Norwich</td>\n",
       "      <td>0.44883987307548523</td>\n",
       "      <td>0.28193244338035583</td>\n",
       "      <td>0.26922768354415894</td>\n",
       "      <td>False</td>\n",
       "      <td>False</td>\n",
       "      <td>True</td>\n",
       "    </tr>\n",
       "    <tr>\n",
       "      <th>2</th>\n",
       "      <td>0</td>\n",
       "      <td>16879</td>\n",
       "      <td>Crystal Palace</td>\n",
       "      <td>Leicester</td>\n",
       "      <td>0.2901594042778015</td>\n",
       "      <td>0.3086998164653778</td>\n",
       "      <td>0.4011407792568207</td>\n",
       "      <td>False</td>\n",
       "      <td>False</td>\n",
       "      <td>True</td>\n",
       "    </tr>\n",
       "    <tr>\n",
       "      <th>3</th>\n",
       "      <td>0</td>\n",
       "      <td>16879</td>\n",
       "      <td>Swansea</td>\n",
       "      <td>Aston Villa</td>\n",
       "      <td>0.3550359606742859</td>\n",
       "      <td>0.3800290524959564</td>\n",
       "      <td>0.2649349868297577</td>\n",
       "      <td>True</td>\n",
       "      <td>False</td>\n",
       "      <td>False</td>\n",
       "    </tr>\n",
       "    <tr>\n",
       "      <th>4</th>\n",
       "      <td>0</td>\n",
       "      <td>16879</td>\n",
       "      <td>Everton</td>\n",
       "      <td>Arsenal</td>\n",
       "      <td>0.4390999674797058</td>\n",
       "      <td>0.2775816321372986</td>\n",
       "      <td>0.2833184003829956</td>\n",
       "      <td>False</td>\n",
       "      <td>False</td>\n",
       "      <td>True</td>\n",
       "    </tr>\n",
       "    <tr>\n",
       "      <th>5</th>\n",
       "      <td>0</td>\n",
       "      <td>16879</td>\n",
       "      <td>Watford</td>\n",
       "      <td>Stoke</td>\n",
       "      <td>0.3766646683216095</td>\n",
       "      <td>0.3310716152191162</td>\n",
       "      <td>0.2922637164592743</td>\n",
       "      <td>False</td>\n",
       "      <td>False</td>\n",
       "      <td>True</td>\n",
       "    </tr>\n",
       "    <tr>\n",
       "      <th>6</th>\n",
       "      <td>0</td>\n",
       "      <td>16880</td>\n",
       "      <td>Man City</td>\n",
       "      <td>Man United</td>\n",
       "      <td>0.5499265193939209</td>\n",
       "      <td>0.3158906102180481</td>\n",
       "      <td>0.134182870388031</td>\n",
       "      <td>False</td>\n",
       "      <td>False</td>\n",
       "      <td>True</td>\n",
       "    </tr>\n",
       "    <tr>\n",
       "      <th>7</th>\n",
       "      <td>0</td>\n",
       "      <td>16880</td>\n",
       "      <td>Newcastle</td>\n",
       "      <td>Sunderland</td>\n",
       "      <td>0.4791263937950134</td>\n",
       "      <td>0.28833726048469543</td>\n",
       "      <td>0.23253636062145233</td>\n",
       "      <td>False</td>\n",
       "      <td>True</td>\n",
       "      <td>False</td>\n",
       "    </tr>\n",
       "    <tr>\n",
       "      <th>8</th>\n",
       "      <td>0</td>\n",
       "      <td>16880</td>\n",
       "      <td>Southampton</td>\n",
       "      <td>Liverpool</td>\n",
       "      <td>0.23118646442890167</td>\n",
       "      <td>0.3163735270500183</td>\n",
       "      <td>0.4524399936199188</td>\n",
       "      <td>True</td>\n",
       "      <td>False</td>\n",
       "      <td>False</td>\n",
       "    </tr>\n",
       "    <tr>\n",
       "      <th>9</th>\n",
       "      <td>0</td>\n",
       "      <td>16880</td>\n",
       "      <td>Tottenham</td>\n",
       "      <td>Bournemouth</td>\n",
       "      <td>0.615971565246582</td>\n",
       "      <td>0.24954083561897278</td>\n",
       "      <td>0.134487584233284</td>\n",
       "      <td>True</td>\n",
       "      <td>False</td>\n",
       "      <td>False</td>\n",
       "    </tr>\n",
       "    <tr>\n",
       "      <th>10</th>\n",
       "      <td>1</td>\n",
       "      <td>16872</td>\n",
       "      <td>Stoke</td>\n",
       "      <td>Southampton</td>\n",
       "      <td>0.651969850063324</td>\n",
       "      <td>0.21324707567691803</td>\n",
       "      <td>0.1347830593585968</td>\n",
       "      <td>False</td>\n",
       "      <td>False</td>\n",
       "      <td>True</td>\n",
       "    </tr>\n",
       "    <tr>\n",
       "      <th>11</th>\n",
       "      <td>1</td>\n",
       "      <td>16872</td>\n",
       "      <td>Bournemouth</td>\n",
       "      <td>Swansea</td>\n",
       "      <td>0.5835736989974976</td>\n",
       "      <td>0.23906467854976654</td>\n",
       "      <td>0.1773616224527359</td>\n",
       "      <td>True</td>\n",
       "      <td>False</td>\n",
       "      <td>False</td>\n",
       "    </tr>\n",
       "    <tr>\n",
       "      <th>12</th>\n",
       "      <td>1</td>\n",
       "      <td>16872</td>\n",
       "      <td>Norwich</td>\n",
       "      <td>Man City</td>\n",
       "      <td>0.23259535431861877</td>\n",
       "      <td>0.2912583351135254</td>\n",
       "      <td>0.47614631056785583</td>\n",
       "      <td>False</td>\n",
       "      <td>True</td>\n",
       "      <td>False</td>\n",
       "    </tr>\n",
       "    <tr>\n",
       "      <th>13</th>\n",
       "      <td>1</td>\n",
       "      <td>16873</td>\n",
       "      <td>Aston Villa</td>\n",
       "      <td>Tottenham</td>\n",
       "      <td>0.11443448811769485</td>\n",
       "      <td>0.23999753594398499</td>\n",
       "      <td>0.6455679535865784</td>\n",
       "      <td>False</td>\n",
       "      <td>False</td>\n",
       "      <td>True</td>\n",
       "    </tr>\n",
       "    <tr>\n",
       "      <th>14</th>\n",
       "      <td>1</td>\n",
       "      <td>16874</td>\n",
       "      <td>Leicester</td>\n",
       "      <td>Newcastle</td>\n",
       "      <td>0.694147527217865</td>\n",
       "      <td>0.1911758929491043</td>\n",
       "      <td>0.11467655748128891</td>\n",
       "      <td>True</td>\n",
       "      <td>False</td>\n",
       "      <td>False</td>\n",
       "    </tr>\n",
       "    <tr>\n",
       "      <th>15</th>\n",
       "      <td>2</td>\n",
       "      <td>16862</td>\n",
       "      <td>Liverpool</td>\n",
       "      <td>Man City</td>\n",
       "      <td>0.4815467298030853</td>\n",
       "      <td>0.2902716398239136</td>\n",
       "      <td>0.2281816452741623</td>\n",
       "      <td>True</td>\n",
       "      <td>False</td>\n",
       "      <td>False</td>\n",
       "    </tr>\n",
       "    <tr>\n",
       "      <th>16</th>\n",
       "      <td>2</td>\n",
       "      <td>16862</td>\n",
       "      <td>Man United</td>\n",
       "      <td>Watford</td>\n",
       "      <td>0.5133599638938904</td>\n",
       "      <td>0.2761519253253937</td>\n",
       "      <td>0.21048809587955475</td>\n",
       "      <td>True</td>\n",
       "      <td>False</td>\n",
       "      <td>False</td>\n",
       "    </tr>\n",
       "    <tr>\n",
       "      <th>17</th>\n",
       "      <td>2</td>\n",
       "      <td>16862</td>\n",
       "      <td>Stoke</td>\n",
       "      <td>Newcastle</td>\n",
       "      <td>0.5660507082939148</td>\n",
       "      <td>0.2793912887573242</td>\n",
       "      <td>0.1545579880475998</td>\n",
       "      <td>True</td>\n",
       "      <td>False</td>\n",
       "      <td>False</td>\n",
       "    </tr>\n",
       "    <tr>\n",
       "      <th>18</th>\n",
       "      <td>2</td>\n",
       "      <td>16862</td>\n",
       "      <td>West Ham</td>\n",
       "      <td>Tottenham</td>\n",
       "      <td>0.25137996673583984</td>\n",
       "      <td>0.291446715593338</td>\n",
       "      <td>0.45717328786849976</td>\n",
       "      <td>True</td>\n",
       "      <td>False</td>\n",
       "      <td>False</td>\n",
       "    </tr>\n",
       "    <tr>\n",
       "      <th>19</th>\n",
       "      <td>2</td>\n",
       "      <td>16862</td>\n",
       "      <td>Arsenal</td>\n",
       "      <td>Swansea</td>\n",
       "      <td>0.6747733950614929</td>\n",
       "      <td>0.22498978674411774</td>\n",
       "      <td>0.10023684054613113</td>\n",
       "      <td>False</td>\n",
       "      <td>False</td>\n",
       "      <td>True</td>\n",
       "    </tr>\n",
       "    <tr>\n",
       "      <th>20</th>\n",
       "      <td>2</td>\n",
       "      <td>16865</td>\n",
       "      <td>Man City</td>\n",
       "      <td>Aston Villa</td>\n",
       "      <td>0.6909178495407104</td>\n",
       "      <td>0.2164713442325592</td>\n",
       "      <td>0.09261082112789154</td>\n",
       "      <td>True</td>\n",
       "      <td>False</td>\n",
       "      <td>False</td>\n",
       "    </tr>\n",
       "    <tr>\n",
       "      <th>21</th>\n",
       "      <td>2</td>\n",
       "      <td>16865</td>\n",
       "      <td>Tottenham</td>\n",
       "      <td>Arsenal</td>\n",
       "      <td>0.5190221667289734</td>\n",
       "      <td>0.2586773633956909</td>\n",
       "      <td>0.2223004847764969</td>\n",
       "      <td>False</td>\n",
       "      <td>True</td>\n",
       "      <td>False</td>\n",
       "    </tr>\n",
       "    <tr>\n",
       "      <th>22</th>\n",
       "      <td>2</td>\n",
       "      <td>16865</td>\n",
       "      <td>Watford</td>\n",
       "      <td>Leicester</td>\n",
       "      <td>0.33501502871513367</td>\n",
       "      <td>0.32923978567123413</td>\n",
       "      <td>0.3357451558113098</td>\n",
       "      <td>False</td>\n",
       "      <td>False</td>\n",
       "      <td>True</td>\n",
       "    </tr>\n",
       "    <tr>\n",
       "      <th>23</th>\n",
       "      <td>2</td>\n",
       "      <td>16865</td>\n",
       "      <td>Swansea</td>\n",
       "      <td>Norwich</td>\n",
       "      <td>0.6193513870239258</td>\n",
       "      <td>0.24520500004291534</td>\n",
       "      <td>0.13544364273548126</td>\n",
       "      <td>True</td>\n",
       "      <td>False</td>\n",
       "      <td>False</td>\n",
       "    </tr>\n",
       "    <tr>\n",
       "      <th>24</th>\n",
       "      <td>2</td>\n",
       "      <td>16865</td>\n",
       "      <td>Chelsea</td>\n",
       "      <td>Stoke</td>\n",
       "      <td>0.6429874897003174</td>\n",
       "      <td>0.2399168759584427</td>\n",
       "      <td>0.11709561198949814</td>\n",
       "      <td>False</td>\n",
       "      <td>True</td>\n",
       "      <td>False</td>\n",
       "    </tr>\n",
       "    <tr>\n",
       "      <th>25</th>\n",
       "      <td>2</td>\n",
       "      <td>16865</td>\n",
       "      <td>Newcastle</td>\n",
       "      <td>Bournemouth</td>\n",
       "      <td>0.39878416061401367</td>\n",
       "      <td>0.3244054317474365</td>\n",
       "      <td>0.2768104076385498</td>\n",
       "      <td>False</td>\n",
       "      <td>False</td>\n",
       "      <td>True</td>\n",
       "    </tr>\n",
       "    <tr>\n",
       "      <th>26</th>\n",
       "      <td>2</td>\n",
       "      <td>16865</td>\n",
       "      <td>Southampton</td>\n",
       "      <td>Sunderland</td>\n",
       "      <td>0.3641854226589203</td>\n",
       "      <td>0.33942437171936035</td>\n",
       "      <td>0.296390175819397</td>\n",
       "      <td>False</td>\n",
       "      <td>True</td>\n",
       "      <td>False</td>\n",
       "    </tr>\n",
       "    <tr>\n",
       "      <th>27</th>\n",
       "      <td>2</td>\n",
       "      <td>16865</td>\n",
       "      <td>Everton</td>\n",
       "      <td>West Ham</td>\n",
       "      <td>0.48538142442703247</td>\n",
       "      <td>0.30330973863601685</td>\n",
       "      <td>0.21130883693695068</td>\n",
       "      <td>False</td>\n",
       "      <td>False</td>\n",
       "      <td>True</td>\n",
       "    </tr>\n",
       "    <tr>\n",
       "      <th>28</th>\n",
       "      <td>2</td>\n",
       "      <td>16866</td>\n",
       "      <td>West Brom</td>\n",
       "      <td>Man United</td>\n",
       "      <td>0.15086878836154938</td>\n",
       "      <td>0.32112741470336914</td>\n",
       "      <td>0.5280038118362427</td>\n",
       "      <td>True</td>\n",
       "      <td>False</td>\n",
       "      <td>False</td>\n",
       "    </tr>\n",
       "    <tr>\n",
       "      <th>29</th>\n",
       "      <td>2</td>\n",
       "      <td>16866</td>\n",
       "      <td>Crystal Palace</td>\n",
       "      <td>Liverpool</td>\n",
       "      <td>0.2093699723482132</td>\n",
       "      <td>0.2962348163127899</td>\n",
       "      <td>0.4943952262401581</td>\n",
       "      <td>False</td>\n",
       "      <td>False</td>\n",
       "      <td>True</td>\n",
       "    </tr>\n",
       "    <tr>\n",
       "      <th>...</th>\n",
       "      <td>...</td>\n",
       "      <td>...</td>\n",
       "      <td>...</td>\n",
       "      <td>...</td>\n",
       "      <td>...</td>\n",
       "      <td>...</td>\n",
       "      <td>...</td>\n",
       "      <td>...</td>\n",
       "      <td>...</td>\n",
       "      <td>...</td>\n",
       "    </tr>\n",
       "    <tr>\n",
       "      <th>231</th>\n",
       "      <td>21</td>\n",
       "      <td>16712</td>\n",
       "      <td>Everton</td>\n",
       "      <td>Liverpool</td>\n",
       "      <td>0.46327728033065796</td>\n",
       "      <td>0.2393433302640915</td>\n",
       "      <td>0.29737937450408936</td>\n",
       "      <td>False</td>\n",
       "      <td>True</td>\n",
       "      <td>False</td>\n",
       "    </tr>\n",
       "    <tr>\n",
       "      <th>232</th>\n",
       "      <td>21</td>\n",
       "      <td>16712</td>\n",
       "      <td>Swansea</td>\n",
       "      <td>Tottenham</td>\n",
       "      <td>0.1648874580860138</td>\n",
       "      <td>0.3199771046638489</td>\n",
       "      <td>0.5151354074478149</td>\n",
       "      <td>False</td>\n",
       "      <td>True</td>\n",
       "      <td>False</td>\n",
       "    </tr>\n",
       "    <tr>\n",
       "      <th>233</th>\n",
       "      <td>22</td>\n",
       "      <td>16704</td>\n",
       "      <td>Tottenham</td>\n",
       "      <td>Man City</td>\n",
       "      <td>0.24536487460136414</td>\n",
       "      <td>0.19126637279987335</td>\n",
       "      <td>0.5633687376976013</td>\n",
       "      <td>True</td>\n",
       "      <td>False</td>\n",
       "      <td>False</td>\n",
       "    </tr>\n",
       "    <tr>\n",
       "      <th>234</th>\n",
       "      <td>22</td>\n",
       "      <td>16704</td>\n",
       "      <td>Stoke</td>\n",
       "      <td>Bournemouth</td>\n",
       "      <td>0.49118512868881226</td>\n",
       "      <td>0.2288546860218048</td>\n",
       "      <td>0.27996018528938293</td>\n",
       "      <td>True</td>\n",
       "      <td>False</td>\n",
       "      <td>False</td>\n",
       "    </tr>\n",
       "    <tr>\n",
       "      <th>235</th>\n",
       "      <td>22</td>\n",
       "      <td>16704</td>\n",
       "      <td>Southampton</td>\n",
       "      <td>Swansea</td>\n",
       "      <td>0.49965378642082214</td>\n",
       "      <td>0.2855360507965088</td>\n",
       "      <td>0.21481016278266907</td>\n",
       "      <td>True</td>\n",
       "      <td>False</td>\n",
       "      <td>False</td>\n",
       "    </tr>\n",
       "    <tr>\n",
       "      <th>236</th>\n",
       "      <td>22</td>\n",
       "      <td>16704</td>\n",
       "      <td>Leicester</td>\n",
       "      <td>Arsenal</td>\n",
       "      <td>0.18630541861057281</td>\n",
       "      <td>0.176718071103096</td>\n",
       "      <td>0.6369764804840088</td>\n",
       "      <td>False</td>\n",
       "      <td>False</td>\n",
       "      <td>True</td>\n",
       "    </tr>\n",
       "    <tr>\n",
       "      <th>237</th>\n",
       "      <td>22</td>\n",
       "      <td>16704</td>\n",
       "      <td>Man United</td>\n",
       "      <td>Sunderland</td>\n",
       "      <td>0.7359563112258911</td>\n",
       "      <td>0.14090387523174286</td>\n",
       "      <td>0.12313981354236603</td>\n",
       "      <td>True</td>\n",
       "      <td>False</td>\n",
       "      <td>False</td>\n",
       "    </tr>\n",
       "    <tr>\n",
       "      <th>238</th>\n",
       "      <td>22</td>\n",
       "      <td>16704</td>\n",
       "      <td>Liverpool</td>\n",
       "      <td>Aston Villa</td>\n",
       "      <td>0.5697997212409973</td>\n",
       "      <td>0.20098547637462616</td>\n",
       "      <td>0.22921478748321533</td>\n",
       "      <td>True</td>\n",
       "      <td>False</td>\n",
       "      <td>False</td>\n",
       "    </tr>\n",
       "    <tr>\n",
       "      <th>239</th>\n",
       "      <td>22</td>\n",
       "      <td>16704</td>\n",
       "      <td>Newcastle</td>\n",
       "      <td>Chelsea</td>\n",
       "      <td>0.11426237225532532</td>\n",
       "      <td>0.2018256038427353</td>\n",
       "      <td>0.6839120388031006</td>\n",
       "      <td>False</td>\n",
       "      <td>True</td>\n",
       "      <td>False</td>\n",
       "    </tr>\n",
       "    <tr>\n",
       "      <th>240</th>\n",
       "      <td>22</td>\n",
       "      <td>16704</td>\n",
       "      <td>West Ham</td>\n",
       "      <td>Norwich</td>\n",
       "      <td>0.4622931182384491</td>\n",
       "      <td>0.2483845353126526</td>\n",
       "      <td>0.2893223464488983</td>\n",
       "      <td>False</td>\n",
       "      <td>True</td>\n",
       "      <td>False</td>\n",
       "    </tr>\n",
       "    <tr>\n",
       "      <th>241</th>\n",
       "      <td>22</td>\n",
       "      <td>16705</td>\n",
       "      <td>Watford</td>\n",
       "      <td>Crystal Palace</td>\n",
       "      <td>0.30239853262901306</td>\n",
       "      <td>0.2611275315284729</td>\n",
       "      <td>0.43647393584251404</td>\n",
       "      <td>False</td>\n",
       "      <td>False</td>\n",
       "      <td>True</td>\n",
       "    </tr>\n",
       "    <tr>\n",
       "      <th>242</th>\n",
       "      <td>22</td>\n",
       "      <td>16706</td>\n",
       "      <td>West Brom</td>\n",
       "      <td>Everton</td>\n",
       "      <td>0.32404935359954834</td>\n",
       "      <td>0.3179704546928406</td>\n",
       "      <td>0.3579801917076111</td>\n",
       "      <td>False</td>\n",
       "      <td>False</td>\n",
       "      <td>True</td>\n",
       "    </tr>\n",
       "    <tr>\n",
       "      <th>243</th>\n",
       "      <td>23</td>\n",
       "      <td>16697</td>\n",
       "      <td>Swansea</td>\n",
       "      <td>Everton</td>\n",
       "      <td>0.2692849636077881</td>\n",
       "      <td>0.2334941029548645</td>\n",
       "      <td>0.4972209334373474</td>\n",
       "      <td>False</td>\n",
       "      <td>True</td>\n",
       "      <td>False</td>\n",
       "    </tr>\n",
       "    <tr>\n",
       "      <th>244</th>\n",
       "      <td>23</td>\n",
       "      <td>16697</td>\n",
       "      <td>Stoke</td>\n",
       "      <td>Leicester</td>\n",
       "      <td>0.47433561086654663</td>\n",
       "      <td>0.2329752892255783</td>\n",
       "      <td>0.29268911480903625</td>\n",
       "      <td>False</td>\n",
       "      <td>True</td>\n",
       "      <td>False</td>\n",
       "    </tr>\n",
       "    <tr>\n",
       "      <th>245</th>\n",
       "      <td>23</td>\n",
       "      <td>16697</td>\n",
       "      <td>Newcastle</td>\n",
       "      <td>Watford</td>\n",
       "      <td>0.30644598603248596</td>\n",
       "      <td>0.2502577304840088</td>\n",
       "      <td>0.44329628348350525</td>\n",
       "      <td>False</td>\n",
       "      <td>False</td>\n",
       "      <td>True</td>\n",
       "    </tr>\n",
       "    <tr>\n",
       "      <th>246</th>\n",
       "      <td>23</td>\n",
       "      <td>16697</td>\n",
       "      <td>Chelsea</td>\n",
       "      <td>Arsenal</td>\n",
       "      <td>0.2481212615966797</td>\n",
       "      <td>0.22688302397727966</td>\n",
       "      <td>0.524995744228363</td>\n",
       "      <td>True</td>\n",
       "      <td>False</td>\n",
       "      <td>False</td>\n",
       "    </tr>\n",
       "    <tr>\n",
       "      <th>247</th>\n",
       "      <td>23</td>\n",
       "      <td>16697</td>\n",
       "      <td>Bournemouth</td>\n",
       "      <td>Sunderland</td>\n",
       "      <td>0.48761916160583496</td>\n",
       "      <td>0.23772291839122772</td>\n",
       "      <td>0.2746579051017761</td>\n",
       "      <td>True</td>\n",
       "      <td>False</td>\n",
       "      <td>False</td>\n",
       "    </tr>\n",
       "    <tr>\n",
       "      <th>248</th>\n",
       "      <td>23</td>\n",
       "      <td>16697</td>\n",
       "      <td>Aston Villa</td>\n",
       "      <td>West Brom</td>\n",
       "      <td>0.3793238699436188</td>\n",
       "      <td>0.23020882904529572</td>\n",
       "      <td>0.3904673159122467</td>\n",
       "      <td>False</td>\n",
       "      <td>False</td>\n",
       "      <td>True</td>\n",
       "    </tr>\n",
       "    <tr>\n",
       "      <th>249</th>\n",
       "      <td>23</td>\n",
       "      <td>16697</td>\n",
       "      <td>Man City</td>\n",
       "      <td>West Ham</td>\n",
       "      <td>0.8102907538414001</td>\n",
       "      <td>0.11040958017110825</td>\n",
       "      <td>0.07929963618516922</td>\n",
       "      <td>False</td>\n",
       "      <td>False</td>\n",
       "      <td>True</td>\n",
       "    </tr>\n",
       "    <tr>\n",
       "      <th>250</th>\n",
       "      <td>23</td>\n",
       "      <td>16698</td>\n",
       "      <td>Liverpool</td>\n",
       "      <td>Norwich</td>\n",
       "      <td>0.5939338803291321</td>\n",
       "      <td>0.19793778657913208</td>\n",
       "      <td>0.20812833309173584</td>\n",
       "      <td>False</td>\n",
       "      <td>True</td>\n",
       "      <td>False</td>\n",
       "    </tr>\n",
       "    <tr>\n",
       "      <th>251</th>\n",
       "      <td>23</td>\n",
       "      <td>16698</td>\n",
       "      <td>Southampton</td>\n",
       "      <td>Man United</td>\n",
       "      <td>0.24097569286823273</td>\n",
       "      <td>0.2622230052947998</td>\n",
       "      <td>0.49680131673812866</td>\n",
       "      <td>False</td>\n",
       "      <td>False</td>\n",
       "      <td>True</td>\n",
       "    </tr>\n",
       "    <tr>\n",
       "      <th>252</th>\n",
       "      <td>23</td>\n",
       "      <td>16698</td>\n",
       "      <td>Tottenham</td>\n",
       "      <td>Crystal Palace</td>\n",
       "      <td>0.601591169834137</td>\n",
       "      <td>0.19684109091758728</td>\n",
       "      <td>0.20156772434711456</td>\n",
       "      <td>True</td>\n",
       "      <td>False</td>\n",
       "      <td>False</td>\n",
       "    </tr>\n",
       "    <tr>\n",
       "      <th>253</th>\n",
       "      <td>24</td>\n",
       "      <td>16690</td>\n",
       "      <td>Everton</td>\n",
       "      <td>Chelsea</td>\n",
       "      <td>0.21811135113239288</td>\n",
       "      <td>0.2776758670806885</td>\n",
       "      <td>0.5042127966880798</td>\n",
       "      <td>True</td>\n",
       "      <td>False</td>\n",
       "      <td>False</td>\n",
       "    </tr>\n",
       "    <tr>\n",
       "      <th>254</th>\n",
       "      <td>24</td>\n",
       "      <td>16690</td>\n",
       "      <td>Arsenal</td>\n",
       "      <td>Stoke</td>\n",
       "      <td>0.7445130348205566</td>\n",
       "      <td>0.1867130547761917</td>\n",
       "      <td>0.06877393275499344</td>\n",
       "      <td>True</td>\n",
       "      <td>False</td>\n",
       "      <td>False</td>\n",
       "    </tr>\n",
       "    <tr>\n",
       "      <th>255</th>\n",
       "      <td>24</td>\n",
       "      <td>16690</td>\n",
       "      <td>Crystal Palace</td>\n",
       "      <td>Man City</td>\n",
       "      <td>0.16837209463119507</td>\n",
       "      <td>0.2148367166519165</td>\n",
       "      <td>0.6167911887168884</td>\n",
       "      <td>False</td>\n",
       "      <td>False</td>\n",
       "      <td>True</td>\n",
       "    </tr>\n",
       "    <tr>\n",
       "      <th>256</th>\n",
       "      <td>24</td>\n",
       "      <td>16690</td>\n",
       "      <td>West Brom</td>\n",
       "      <td>Southampton</td>\n",
       "      <td>0.11231429129838943</td>\n",
       "      <td>0.2163204699754715</td>\n",
       "      <td>0.6713652610778809</td>\n",
       "      <td>False</td>\n",
       "      <td>True</td>\n",
       "      <td>False</td>\n",
       "    </tr>\n",
       "    <tr>\n",
       "      <th>257</th>\n",
       "      <td>24</td>\n",
       "      <td>16690</td>\n",
       "      <td>Man United</td>\n",
       "      <td>Liverpool</td>\n",
       "      <td>0.5817633867263794</td>\n",
       "      <td>0.2340693473815918</td>\n",
       "      <td>0.1841672658920288</td>\n",
       "      <td>True</td>\n",
       "      <td>False</td>\n",
       "      <td>False</td>\n",
       "    </tr>\n",
       "    <tr>\n",
       "      <th>258</th>\n",
       "      <td>24</td>\n",
       "      <td>16691</td>\n",
       "      <td>Sunderland</td>\n",
       "      <td>Tottenham</td>\n",
       "      <td>0.15250670909881592</td>\n",
       "      <td>0.24221399426460266</td>\n",
       "      <td>0.6052793264389038</td>\n",
       "      <td>False</td>\n",
       "      <td>False</td>\n",
       "      <td>True</td>\n",
       "    </tr>\n",
       "    <tr>\n",
       "      <th>259</th>\n",
       "      <td>24</td>\n",
       "      <td>16691</td>\n",
       "      <td>Leicester</td>\n",
       "      <td>Aston Villa</td>\n",
       "      <td>0.28275495767593384</td>\n",
       "      <td>0.2956351935863495</td>\n",
       "      <td>0.4216098189353943</td>\n",
       "      <td>True</td>\n",
       "      <td>False</td>\n",
       "      <td>False</td>\n",
       "    </tr>\n",
       "    <tr>\n",
       "      <th>260</th>\n",
       "      <td>24</td>\n",
       "      <td>16692</td>\n",
       "      <td>West Ham</td>\n",
       "      <td>Newcastle</td>\n",
       "      <td>0.47292548418045044</td>\n",
       "      <td>0.26367613673210144</td>\n",
       "      <td>0.2633983790874481</td>\n",
       "      <td>True</td>\n",
       "      <td>False</td>\n",
       "      <td>False</td>\n",
       "    </tr>\n",
       "  </tbody>\n",
       "</table>\n",
       "<p>261 rows × 10 columns</p>\n",
       "</div>"
      ],
      "text/plain": [
       "    week DayStamp        HomeTeam        AwayTeam               H_prob  \\\n",
       "0      0    16879         Chelsea        West Ham   0.6451169848442078   \n",
       "1      0    16879       West Brom         Norwich  0.44883987307548523   \n",
       "2      0    16879  Crystal Palace       Leicester   0.2901594042778015   \n",
       "3      0    16879         Swansea     Aston Villa   0.3550359606742859   \n",
       "4      0    16879         Everton         Arsenal   0.4390999674797058   \n",
       "5      0    16879         Watford           Stoke   0.3766646683216095   \n",
       "6      0    16880        Man City      Man United   0.5499265193939209   \n",
       "7      0    16880       Newcastle      Sunderland   0.4791263937950134   \n",
       "8      0    16880     Southampton       Liverpool  0.23118646442890167   \n",
       "9      0    16880       Tottenham     Bournemouth    0.615971565246582   \n",
       "10     1    16872           Stoke     Southampton    0.651969850063324   \n",
       "11     1    16872     Bournemouth         Swansea   0.5835736989974976   \n",
       "12     1    16872         Norwich        Man City  0.23259535431861877   \n",
       "13     1    16873     Aston Villa       Tottenham  0.11443448811769485   \n",
       "14     1    16874       Leicester       Newcastle    0.694147527217865   \n",
       "15     2    16862       Liverpool        Man City   0.4815467298030853   \n",
       "16     2    16862      Man United         Watford   0.5133599638938904   \n",
       "17     2    16862           Stoke       Newcastle   0.5660507082939148   \n",
       "18     2    16862        West Ham       Tottenham  0.25137996673583984   \n",
       "19     2    16862         Arsenal         Swansea   0.6747733950614929   \n",
       "20     2    16865        Man City     Aston Villa   0.6909178495407104   \n",
       "21     2    16865       Tottenham         Arsenal   0.5190221667289734   \n",
       "22     2    16865         Watford       Leicester  0.33501502871513367   \n",
       "23     2    16865         Swansea         Norwich   0.6193513870239258   \n",
       "24     2    16865         Chelsea           Stoke   0.6429874897003174   \n",
       "25     2    16865       Newcastle     Bournemouth  0.39878416061401367   \n",
       "26     2    16865     Southampton      Sunderland   0.3641854226589203   \n",
       "27     2    16865         Everton        West Ham  0.48538142442703247   \n",
       "28     2    16866       West Brom      Man United  0.15086878836154938   \n",
       "29     2    16866  Crystal Palace       Liverpool   0.2093699723482132   \n",
       "..   ...      ...             ...             ...                  ...   \n",
       "231   21    16712         Everton       Liverpool  0.46327728033065796   \n",
       "232   21    16712         Swansea       Tottenham   0.1648874580860138   \n",
       "233   22    16704       Tottenham        Man City  0.24536487460136414   \n",
       "234   22    16704           Stoke     Bournemouth  0.49118512868881226   \n",
       "235   22    16704     Southampton         Swansea  0.49965378642082214   \n",
       "236   22    16704       Leicester         Arsenal  0.18630541861057281   \n",
       "237   22    16704      Man United      Sunderland   0.7359563112258911   \n",
       "238   22    16704       Liverpool     Aston Villa   0.5697997212409973   \n",
       "239   22    16704       Newcastle         Chelsea  0.11426237225532532   \n",
       "240   22    16704        West Ham         Norwich   0.4622931182384491   \n",
       "241   22    16705         Watford  Crystal Palace  0.30239853262901306   \n",
       "242   22    16706       West Brom         Everton  0.32404935359954834   \n",
       "243   23    16697         Swansea         Everton   0.2692849636077881   \n",
       "244   23    16697           Stoke       Leicester  0.47433561086654663   \n",
       "245   23    16697       Newcastle         Watford  0.30644598603248596   \n",
       "246   23    16697         Chelsea         Arsenal   0.2481212615966797   \n",
       "247   23    16697     Bournemouth      Sunderland  0.48761916160583496   \n",
       "248   23    16697     Aston Villa       West Brom   0.3793238699436188   \n",
       "249   23    16697        Man City        West Ham   0.8102907538414001   \n",
       "250   23    16698       Liverpool         Norwich   0.5939338803291321   \n",
       "251   23    16698     Southampton      Man United  0.24097569286823273   \n",
       "252   23    16698       Tottenham  Crystal Palace    0.601591169834137   \n",
       "253   24    16690         Everton         Chelsea  0.21811135113239288   \n",
       "254   24    16690         Arsenal           Stoke   0.7445130348205566   \n",
       "255   24    16690  Crystal Palace        Man City  0.16837209463119507   \n",
       "256   24    16690       West Brom     Southampton  0.11231429129838943   \n",
       "257   24    16690      Man United       Liverpool   0.5817633867263794   \n",
       "258   24    16691      Sunderland       Tottenham  0.15250670909881592   \n",
       "259   24    16691       Leicester     Aston Villa  0.28275495767593384   \n",
       "260   24    16692        West Ham       Newcastle  0.47292548418045044   \n",
       "\n",
       "                  D_prob               A_prob      H      D      A  \n",
       "0    0.24129584431648254  0.11358717828989029  False   True  False  \n",
       "1    0.28193244338035583  0.26922768354415894  False  False   True  \n",
       "2     0.3086998164653778   0.4011407792568207  False  False   True  \n",
       "3     0.3800290524959564   0.2649349868297577   True  False  False  \n",
       "4     0.2775816321372986   0.2833184003829956  False  False   True  \n",
       "5     0.3310716152191162   0.2922637164592743  False  False   True  \n",
       "6     0.3158906102180481    0.134182870388031  False  False   True  \n",
       "7    0.28833726048469543  0.23253636062145233  False   True  False  \n",
       "8     0.3163735270500183   0.4524399936199188   True  False  False  \n",
       "9    0.24954083561897278    0.134487584233284   True  False  False  \n",
       "10   0.21324707567691803   0.1347830593585968  False  False   True  \n",
       "11   0.23906467854976654   0.1773616224527359   True  False  False  \n",
       "12    0.2912583351135254  0.47614631056785583  False   True  False  \n",
       "13   0.23999753594398499   0.6455679535865784  False  False   True  \n",
       "14    0.1911758929491043  0.11467655748128891   True  False  False  \n",
       "15    0.2902716398239136   0.2281816452741623   True  False  False  \n",
       "16    0.2761519253253937  0.21048809587955475   True  False  False  \n",
       "17    0.2793912887573242   0.1545579880475998   True  False  False  \n",
       "18     0.291446715593338  0.45717328786849976   True  False  False  \n",
       "19   0.22498978674411774  0.10023684054613113  False  False   True  \n",
       "20    0.2164713442325592  0.09261082112789154   True  False  False  \n",
       "21    0.2586773633956909   0.2223004847764969  False   True  False  \n",
       "22   0.32923978567123413   0.3357451558113098  False  False   True  \n",
       "23   0.24520500004291534  0.13544364273548126   True  False  False  \n",
       "24    0.2399168759584427  0.11709561198949814  False   True  False  \n",
       "25    0.3244054317474365   0.2768104076385498  False  False   True  \n",
       "26   0.33942437171936035    0.296390175819397  False   True  False  \n",
       "27   0.30330973863601685  0.21130883693695068  False  False   True  \n",
       "28   0.32112741470336914   0.5280038118362427   True  False  False  \n",
       "29    0.2962348163127899   0.4943952262401581  False  False   True  \n",
       "..                   ...                  ...    ...    ...    ...  \n",
       "231   0.2393433302640915  0.29737937450408936  False   True  False  \n",
       "232   0.3199771046638489   0.5151354074478149  False   True  False  \n",
       "233  0.19126637279987335   0.5633687376976013   True  False  False  \n",
       "234   0.2288546860218048  0.27996018528938293   True  False  False  \n",
       "235   0.2855360507965088  0.21481016278266907   True  False  False  \n",
       "236    0.176718071103096   0.6369764804840088  False  False   True  \n",
       "237  0.14090387523174286  0.12313981354236603   True  False  False  \n",
       "238  0.20098547637462616  0.22921478748321533   True  False  False  \n",
       "239   0.2018256038427353   0.6839120388031006  False   True  False  \n",
       "240   0.2483845353126526   0.2893223464488983  False   True  False  \n",
       "241   0.2611275315284729  0.43647393584251404  False  False   True  \n",
       "242   0.3179704546928406   0.3579801917076111  False  False   True  \n",
       "243   0.2334941029548645   0.4972209334373474  False   True  False  \n",
       "244   0.2329752892255783  0.29268911480903625  False   True  False  \n",
       "245   0.2502577304840088  0.44329628348350525  False  False   True  \n",
       "246  0.22688302397727966    0.524995744228363   True  False  False  \n",
       "247  0.23772291839122772   0.2746579051017761   True  False  False  \n",
       "248  0.23020882904529572   0.3904673159122467  False  False   True  \n",
       "249  0.11040958017110825  0.07929963618516922  False  False   True  \n",
       "250  0.19793778657913208  0.20812833309173584  False   True  False  \n",
       "251   0.2622230052947998  0.49680131673812866  False  False   True  \n",
       "252  0.19684109091758728  0.20156772434711456   True  False  False  \n",
       "253   0.2776758670806885   0.5042127966880798   True  False  False  \n",
       "254   0.1867130547761917  0.06877393275499344   True  False  False  \n",
       "255   0.2148367166519165   0.6167911887168884  False  False   True  \n",
       "256   0.2163204699754715   0.6713652610778809  False   True  False  \n",
       "257   0.2340693473815918   0.1841672658920288   True  False  False  \n",
       "258  0.24221399426460266   0.6052793264389038  False  False   True  \n",
       "259   0.2956351935863495   0.4216098189353943   True  False  False  \n",
       "260  0.26367613673210144   0.2633983790874481   True  False  False  \n",
       "\n",
       "[261 rows x 10 columns]"
      ]
     },
     "execution_count": 240,
     "metadata": {},
     "output_type": "execute_result"
    }
   ],
   "source": [
    "resultdf"
   ]
  },
  {
   "cell_type": "code",
   "execution_count": 238,
   "metadata": {
    "collapsed": false,
    "run_control": {
     "marked": false
    },
    "scrolled": false
   },
   "outputs": [
    {
     "name": "stderr",
     "output_type": "stream",
     "text": [
      "/home/y/anaconda3/lib/python3.5/site-packages/ipykernel/__main__.py:9: SettingWithCopyWarning: \n",
      "A value is trying to be set on a copy of a slice from a DataFrame.\n",
      "Try using .loc[row_indexer,col_indexer] = value instead\n",
      "\n",
      "See the caveats in the documentation: http://pandas.pydata.org/pandas-docs/stable/indexing.html#indexing-view-versus-copy\n",
      "/home/y/anaconda3/lib/python3.5/site-packages/ipykernel/__main__.py:10: SettingWithCopyWarning: \n",
      "A value is trying to be set on a copy of a slice from a DataFrame.\n",
      "Try using .loc[row_indexer,col_indexer] = value instead\n",
      "\n",
      "See the caveats in the documentation: http://pandas.pydata.org/pandas-docs/stable/indexing.html#indexing-view-versus-copy\n"
     ]
    }
   ],
   "source": [
    "withodds = findRecordsByDf(c,resultdf)\n",
    "fproba_mat,odd_mat,win_mat= formatMatrixs(withodds,p_matrix)\n",
    "g_spents,g_incomes,g_exps,g_withdraws,total,receipt = range_strategy4_test(fproba_mat,odd_mat,win_mat,withodds)\n"
   ]
  },
  {
   "cell_type": "code",
   "execution_count": 239,
   "metadata": {
    "collapsed": false,
    "run_control": {
     "marked": false
    },
    "scrolled": false
   },
   "outputs": [
    {
     "data": {
      "text/plain": [
       "<matplotlib.figure.Figure at 0x7f19158fa710>"
      ]
     },
     "execution_count": 239,
     "metadata": {},
     "output_type": "execute_result"
    },
    {
     "data": {
      "image/png": "[encoded data removed]",
      "text/plain": [
       "<matplotlib.figure.Figure at 0x7f191891ed68>"
      ]
     },
     "metadata": {},
     "output_type": "display_data"
    },
    {
     "data": {
      "image/png": "[encoded data removed]",
      "text/plain": [
       "<matplotlib.figure.Figure at 0x7f1917a67518>"
      ]
     },
     "metadata": {},
     "output_type": "display_data"
    },
    {
     "data": {
      "image/png": "[encoded data removed]",
      "text/plain": [
       "<matplotlib.figure.Figure at 0x7f191522f588>"
      ]
     },
     "metadata": {},
     "output_type": "display_data"
    },
    {
     "data": {
      "image/png": "[encoded data removed]",
      "text/plain": [
       "<matplotlib.figure.Figure at 0x7f1915e24d68>"
      ]
     },
     "metadata": {},
     "output_type": "display_data"
    },
    {
     "data": {
      "image/png": "[encoded data removed]",
      "text/plain": [
       "<matplotlib.figure.Figure at 0x7f19140b9518>"
      ]
     },
     "metadata": {},
     "output_type": "display_data"
    },
    {
     "data": {
      "text/plain": [
       "<matplotlib.figure.Figure at 0x7f19158fa710>"
      ]
     },
     "metadata": {},
     "output_type": "display_data"
    }
   ],
   "source": [
    "import matplotlib.pyplot as plt\n",
    "g_n_incomes = np.array(g_incomes).reshape(len(g_e_range),len(g_z_range))\n",
    "g_n_spent = np.array(g_spents).reshape(len(g_e_range),len(g_z_range))\n",
    "g_n_withdraws = np.array(g_withdraws).reshape(len(g_e_range),len(g_z_range))\n",
    "g_n_exps = np.array(g_exps).reshape(len(g_e_range),len(g_z_range))\n",
    "Z, E =np.meshgrid(g_z_range,g_e_range)\n",
    "CS = plt.contour = plt.contourf(Z,E,g_n_incomes)\n",
    "plt.title(\"Income\")\n",
    "cbar = plt.colorbar(CS)\n",
    "plt.figure()\n",
    "CS = plt.contour = plt.contourf(Z,E,g_n_incomes-g_n_spent)\n",
    "plt.title(\"Net Income\")\n",
    "cbar = plt.colorbar(CS)\n",
    "plt.figure()\n",
    "CS = plt.contour = plt.contourf(Z,E,g_n_withdraws)\n",
    "plt.title(\"Withdraws\")\n",
    "cbar = plt.colorbar(CS)\n",
    "plt.figure()\n",
    "CS = plt.contour = plt.contourf(Z,E,g_n_exps - g_n_incomes)\n",
    "plt.title(\"Exps - income\")\n",
    "cbar = plt.colorbar(CS)\n",
    "plt.figure()\n",
    "CS = plt.contour = plt.contourf(Z,E, (g_n_incomes-g_n_spent)/g_n_spent)\n",
    "plt.title(\"net_income/spents\")\n",
    "cbar = plt.colorbar(CS)\n",
    "plt.figure()"
   ]
  },
  {
   "cell_type": "code",
   "execution_count": null,
   "metadata": {
    "collapsed": false,
    "run_control": {
     "marked": false
    }
   },
   "outputs": [],
   "source": []
  },
  {
   "cell_type": "code",
   "execution_count": null,
   "metadata": {
    "collapsed": false,
    "run_control": {
     "marked": false
    }
   },
   "outputs": [],
   "source": [
    "spent,income,expectation,withdraw,total,receipt = betTesting(g_X_train_best,g_X_test_best,g_y_train,g_y_test,g_X_test,g_p_matrix)"
   ]
  },
  {
   "cell_type": "code",
   "execution_count": null,
   "metadata": {
    "collapsed": false,
    "run_control": {
     "marked": false
    }
   },
   "outputs": [],
   "source": [
    "withodds = findRecordsByDf(c,resultdf)"
   ]
  },
  {
   "cell_type": "code",
   "execution_count": null,
   "metadata": {
    "collapsed": false,
    "run_control": {
     "marked": false
    }
   },
   "outputs": [],
   "source": [
    "spent"
   ]
  },
  {
   "cell_type": "code",
   "execution_count": null,
   "metadata": {
    "collapsed": false,
    "run_control": {
     "marked": false
    }
   },
   "outputs": [],
   "source": [
    "income"
   ]
  },
  {
   "cell_type": "code",
   "execution_count": null,
   "metadata": {
    "collapsed": false,
    "run_control": {
     "marked": false
    }
   },
   "outputs": [],
   "source": [
    "expectation"
   ]
  },
  {
   "cell_type": "code",
   "execution_count": null,
   "metadata": {
    "collapsed": false,
    "run_control": {
     "marked": false
    }
   },
   "outputs": [],
   "source": [
    "receipt"
   ]
  },
  {
   "cell_type": "code",
   "execution_count": null,
   "metadata": {
    "collapsed": true,
    "run_control": {
     "marked": false
    }
   },
   "outputs": [],
   "source": []
  }
 ],
 "metadata": {
  "celltoolbar": "Initialisation Cell",
  "kernelspec": {
   "display_name": "Python 2",
   "language": "python",
   "name": "python2"
  },
  "language_info": {
   "codemirror_mode": {
    "name": "ipython",
    "version": 2
   },
   "file_extension": ".py",
   "mimetype": "text/x-python",
   "name": "python",
   "nbconvert_exporter": "python",
   "pygments_lexer": "ipython2",
   "version": "2.7.11"
  }
 },
 "nbformat": 4,
 "nbformat_minor": 0
}
