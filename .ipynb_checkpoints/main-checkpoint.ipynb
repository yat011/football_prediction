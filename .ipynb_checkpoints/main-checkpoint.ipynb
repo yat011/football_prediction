{
 "cells": [
  {
   "cell_type": "code",
   "execution_count": 52,
   "metadata": {
    "collapsed": false
   },
   "outputs": [],
   "source": [
    "import numpy as np\n",
    "#from sklearn.neural_network import MLPClassifier\n",
    "import pandas as pd\n",
    "from sklearn.cross_validation import train_test_split\n",
    "from sklearn.preprocessing import StandardScaler\n",
    "try:\n",
    "    from IPython.core.display import clear_output\n",
    "    have_ipython = True\n",
    "except ImportError:\n",
    "    have_ipython = False\n",
    "import sys\n",
    "class FootballDataHelper:\n",
    "    def __init__ (self, recentNum=5):\n",
    "        self.win_mapping = {'D':0, 'H':1,'A':2}\n",
    "        self.recentNum = recentNum\n",
    "        self.df = None\n",
    "        #self.hiddensCount = 2\n",
    "       \n",
    "        \n",
    "    def readFootBallData(self,filename): \n",
    "        df = pd.read_csv(filename)\n",
    "        df = df.drop(df.columns[range(23,df.shape[1])], axis=1)\n",
    "        df = df.drop(\"Div\",axis=1)\n",
    "        df['Date'] = pd.to_datetime(df['Date'],dayfirst=True)\n",
    "        df['HTR'] = df['HTR'].map(self.win_mapping)\n",
    "        df['FTR'] = df['FTR'].map(self.win_mapping)\n",
    "        df= df.drop('Referee', 1)\n",
    "        print(df.shape)\n",
    "          #self.team = df['HomeTeam'].drop_duplicates()\n",
    "        if self.df is None:\n",
    "            self.df = df\n",
    "        else:\n",
    "            self.df = pd.concat([self.df,df])\n",
    "    def getTeam(self,dataFrame, teamName):       \n",
    "        return dataFrame[(dataFrame[\"HomeTeam\"] == teamName) | (dataFrame[\"AwayTeam\"] == teamName)]\n",
    "    def formatData(self, X_train ):\n",
    "        print(\"start format\")\n",
    "        X_train = X_train.sort_values(by=\"Date\")\n",
    "        X_train['Date'] = pd.to_numeric(X_train['Date'])/1e9/24/60/60\n",
    "        \n",
    "        sys.stdout.flush()\n",
    "        res = []\n",
    "        y =[]\n",
    "        for v in X_train['FTR']:\n",
    "            y.append(range(3)==v)\n",
    "        resy=[]\n",
    "        for i in range(X_train.shape[0]):\n",
    "            x = X_train.iloc[i]\n",
    "            homeName = x['HomeTeam']\n",
    "            awayName = x['AwayTeam']\n",
    "            homeTeam = self.getTeam(X_train,homeName)\n",
    "            awayTeam = self.getTeam(X_train,awayName)\n",
    "            prevHome = self.previousRecords(homeTeam,x['Date'])\n",
    "            prevAway = self.previousRecords(awayTeam,x['Date'])\n",
    "            if prevHome is None or prevAway is None:\n",
    "               # print(\"{} skip\".format(i))\n",
    "                continue\n",
    "           # print(\"{} has enough sample\".format(i))  \n",
    "            prevHome=prevHome.copy()\n",
    "            prevAway = prevAway.copy()\n",
    "            prevHome['HomeTeam']=(prevHome['HomeTeam']==homeName)\n",
    "            prevHome['AwayTeam']=(prevHome['AwayTeam']==homeName)\n",
    "            prevAway['HomeTeam']=(prevAway['HomeTeam']==awayName)\n",
    "            prevAway['AwayTeam']=(prevAway['AwayTeam']==awayName)\n",
    "            homeDate = prevHome['Date'].values\n",
    "            awayDate = prevAway['Date'].values\n",
    "            #homeDate = homeDate.astype('uint64')/1e9/24/60/60\n",
    "            homeDate = x['Date'] - homeDate \n",
    "            #awayDate = awayDate.astype('uint64')/1e9/24/60/60\n",
    "            awayDate = x['Date'] - awayDate \n",
    "            #print(homeDate)\n",
    "            hv = prevHome.drop('Date',axis=1).values\n",
    "            av = prevAway.drop('Date',axis=1).values\n",
    "            hv = np.column_stack([hv, homeDate])\n",
    "            av = np.column_stack([av,awayDate])\n",
    "            \n",
    "            inData = np.ravel(np.array([hv,av]))\n",
    "            res.append(inData)\n",
    "            resy.append(y[i])\n",
    "        \n",
    "        Xres = np.array(res)\n",
    "        \n",
    "       \n",
    "        X_train_std = Xres\n",
    "        \n",
    "\n",
    "        return (X_train_std,np.array(resy))\n",
    "            \n",
    "    def fit(self,X=None,y=None):\n",
    "        teams = self.df['HomeTeam'].drop_duplicates()\n",
    "       \n",
    "        if X is None or y is None:\n",
    "            (X, y)=self.formatData(df)\n",
    "        X_train,X_test_val, y_train, y_test_val =    train_test_split(X,y, test_size=0.4)\n",
    "        X_val ,X_test,y_val,y_test = train_test_split(X_test_val,y_test_val, test_size=0.5)\n",
    "        print(X_val)\n",
    "        \n",
    "        \n",
    "     \n",
    "        print(\"Start Training\")\n",
    "        self.nn.fit(X_train,y_train)\n",
    "        print(\"fisish Training\")\n",
    "        return (X_val ,X_test,y_val,y_test)\n",
    "\n",
    "    def validate(self, X_val, y_val):\n",
    "            return self.nn.predict(X_val)\n",
    "            \n",
    "            \n",
    "        \n",
    "        \n",
    "    def previousRecords(self,team, date):\n",
    "        prev = team[( team[\"Date\"] < date)]\n",
    "        \n",
    "        if prev.shape[0] < self.recentNum :\n",
    "            #print(\"less than min Num\")\n",
    "            return None\n",
    "        else:\n",
    "            return prev.iloc[-self.recentNum:]"
   ]
  },
  {
   "cell_type": "code",
   "execution_count": null,
   "metadata": {
    "collapsed": false
   },
   "outputs": [],
   "source": []
  },
  {
   "cell_type": "code",
   "execution_count": null,
   "metadata": {
    "collapsed": true
   },
   "outputs": [],
   "source": []
  },
  {
   "cell_type": "code",
   "execution_count": 53,
   "metadata": {
    "collapsed": false,
    "scrolled": true
   },
   "outputs": [
    {
     "name": "stdout",
     "output_type": "stream",
     "text": [
      "(380, 21)\n",
      "(288, 21)\n",
      "start format\n",
      "[[False True 1 ..., 0 0 7.0]\n",
      " [True False 0 ..., 0 0 7.0]\n",
      " [True False 0 ..., 0 0 7.0]\n",
      " ..., \n",
      " [False True 1 ..., 0 0 4.0]\n",
      " [False True 1 ..., 0 0 4.0]\n",
      " [False True 1 ..., 0 0 4.0]]\n"
     ]
    }
   ],
   "source": [
    "\n",
    "c = FootballDataHelper(recentNum=4)\n",
    "c.readFootBallData(\"E0_1415.csv\")\n",
    "c.readFootBallData(\"E0.csv\")\n",
    "#c.fit()\n",
    "#c.fit()\n",
    "X, y = c.formatData(c.df)\n",
    "print(X)\n"
   ]
  },
  {
   "cell_type": "code",
   "execution_count": 54,
   "metadata": {
    "collapsed": false
   },
   "outputs": [
    {
     "name": "stdout",
     "output_type": "stream",
     "text": [
      "start learning\n",
      "[learning_curve] Training set sizes: [ 55 304 554]\n",
      "[CV] no parameters to be set .........................................\n",
      "[CV] ................ no parameters to be set, score=0.241935 -   1.1s\n",
      "[CV] no parameters to be set .........................................\n",
      "[CV] ................ no parameters to be set, score=0.306452 -   1.4s\n",
      "[CV] no parameters to be set .........................................\n",
      "[CV] ................ no parameters to be set, score=0.387097 -   2.9s\n",
      "[CV] no parameters to be set .........................................\n",
      "[CV] ................ no parameters to be set, score=0.435484 -   0.8s\n",
      "[CV] no parameters to be set .........................................\n",
      "[CV] ................ no parameters to be set, score=0.193548 -   2.4s\n",
      "[CV] no parameters to be set .........................................\n",
      "[CV] ................ no parameters to be set, score=0.387097 -   2.6s\n",
      "[CV] no parameters to be set .........................................\n",
      "[CV] ................ no parameters to be set, score=0.193548 -   0.8s\n",
      "[CV] no parameters to be set .........................................\n",
      "[CV] ................ no parameters to be set, score=0.290323 -   1.3s\n",
      "[CV] no parameters to be set .........................................\n",
      "[CV] ................ no parameters to be set, score=0.258065 -   2.0s\n",
      "[CV] no parameters to be set .........................................\n",
      "[CV] ................ no parameters to be set, score=0.274194 -   0.7s\n",
      "[CV] no parameters to be set .........................................\n",
      "[CV] ................ no parameters to be set, score=0.435484 -   1.2s\n",
      "[CV] no parameters to be set .........................................\n",
      "[CV] ................ no parameters to be set, score=0.419355 -   1.8s\n",
      "[CV] no parameters to be set .........................................\n",
      "[CV] ................ no parameters to be set, score=0.145161 -   0.7s\n",
      "[CV] no parameters to be set .........................................\n",
      "[CV] ................ no parameters to be set, score=0.161290 -   1.4s\n",
      "[CV] no parameters to be set .........................................\n",
      "[CV] ................ no parameters to be set, score=0.354839 -   2.1s\n",
      "[CV] no parameters to be set .........................................\n",
      "[CV] ................ no parameters to be set, score=0.306452 -   0.6s\n",
      "[CV] no parameters to be set .........................................\n",
      "[CV] ................ no parameters to be set, score=0.274194 -   1.2s\n",
      "[CV] no parameters to be set .........................................\n",
      "[CV] ................ no parameters to be set, score=0.096774 -   1.8s\n",
      "[CV] no parameters to be set .........................................\n",
      "[CV] ................ no parameters to be set, score=0.245902 -   0.6s\n",
      "[CV] no parameters to be set .........................................\n",
      "[CV] ................ no parameters to be set, score=0.344262 -   1.2s\n",
      "[CV] no parameters to be set .........................................\n",
      "[CV] ................ no parameters to be set, score=0.344262 -   1.8s\n",
      "[CV] no parameters to be set .........................................\n",
      "[CV] ................ no parameters to be set, score=0.491803 -   0.6s\n",
      "[CV] no parameters to be set .........................................\n",
      "[CV] ................ no parameters to be set, score=0.393443 -   1.4s\n",
      "[CV] no parameters to be set .........................................\n",
      "[CV] ................ no parameters to be set, score=0.311475 -   1.7s\n",
      "[CV] no parameters to be set .........................................\n",
      "[CV] ................ no parameters to be set, score=0.360656 -   0.7s\n",
      "[CV] no parameters to be set .........................................\n",
      "[CV] ................ no parameters to be set, score=0.163934 -   1.2s\n",
      "[CV] no parameters to be set .........................................\n",
      "[CV] ................ no parameters to be set, score=0.245902 -   2.1s\n",
      "[CV] no parameters to be set .........................................\n",
      "[CV] ................ no parameters to be set, score=0.377049 -   0.8s\n",
      "[CV] no parameters to be set .........................................\n",
      "[CV] ................ no parameters to be set, score=0.426230 -   1.6s\n",
      "[CV] no parameters to be set .........................................\n",
      "[CV] ................ no parameters to be set, score=0.311475 -   2.1s\n",
      "finishing\n"
     ]
    },
    {
     "name": "stderr",
     "output_type": "stream",
     "text": [
      "[Parallel(n_jobs=1)]: Done  30 out of  30 | elapsed:   42.7s finished\n"
     ]
    }
   ],
   "source": [
    "from sklearn.neural_network import MLPClassifier\n",
    "from sklearn.learning_curve import learning_curve\n",
    "mlp = MLPClassifier(hidden_layer_sizes=(21*c.recentNum,2), activation='logistic', algorithm='l-bfgs', alpha=0.001, \n",
    "              learning_rate_init=0.01,learning_rate='adaptive' ,max_iter=1000,verbose = 3)\n",
    "print (\"start learning\")\n",
    "sys.stdout.flush()\n",
    "train_sizes, train_scores, test_scores = learning_curve(estimator=mlp, \n",
    "                       X=X, \n",
    "                      y=y, \n",
    "                      train_sizes=np.linspace(0.1, 1.0, 3), \n",
    "                      cv=10,\n",
    "                     n_jobs=1,verbose=3)\n",
    "print(\"finishing\")   \n",
    "train_mean = np.mean(train_scores, axis=1)\n",
    "train_std = np.std(train_scores, axis=1)\n",
    "test_mean = np.mean(test_scores, axis=1)\n",
    "test_std = np.std(test_scores, axis=1)"
   ]
  },
  {
   "cell_type": "code",
   "execution_count": 55,
   "metadata": {
    "collapsed": false
   },
   "outputs": [
    {
     "data": {
      "image/png": "[encoded data removed]",
      "text/plain": [
       "<matplotlib.figure.Figure at 0x7f9458f06b70>"
      ]
     },
     "metadata": {},
     "output_type": "display_data"
    }
   ],
   "source": [
    "%matplotlib inline\n",
    "import matplotlib.pyplot as plt\n",
    "def plotCurve(train_mean, train_std,test_mean,test_std,sizes):\n",
    "    plt.plot(train_sizes, train_mean, \n",
    "            color='blue', marker='o', \n",
    "            markersize=5, \n",
    "            label='training accuracy')\n",
    "    plt.fill_between(train_sizes, \n",
    "                  train_mean + train_std,\n",
    "                   train_mean - train_std, alpha=0.15, color='blue')\n",
    "\n",
    "    plt.plot(train_sizes, test_mean, \n",
    "              color='green', linestyle='--', \n",
    "              marker='s', markersize=5, \n",
    "             label='validation accuracy')\n",
    "    plt.fill_between(train_sizes, \n",
    "                      test_mean + test_std,\n",
    "                     test_mean - test_std, \n",
    "                    alpha=0.15, color='green')\n",
    "    plt.xlabel('Number of training samples')\n",
    "    plt.ylabel('Accuracy')\n",
    "    plt.show()\n",
    "plotCurve(train_mean,train_std,test_mean,test_std,train_sizes)\n"
   ]
  },
  {
   "cell_type": "code",
   "execution_count": 56,
   "metadata": {
    "collapsed": false
   },
   "outputs": [],
   "source": [
    "from sklearn.cross_validation import StratifiedKFold\n",
    "def crossValidate(mlp, X,y):\n",
    "    y_label = np.argmax(y,axis=1)\n",
    "\n",
    "    kfold = StratifiedKFold(y=y_label, \n",
    "                             n_folds=10,\n",
    "                            random_state=1)\n",
    "\n",
    "    scores = []\n",
    "    train_scores=[]\n",
    "    for k, (train, test) in enumerate(kfold):\n",
    "\n",
    "        mlp.fit(X[train], y[train])\n",
    "        score = mlp.score(X[test], y[test])\n",
    "        train_scores.append(mlp.score(X[train],y[train]))\n",
    "        scores.append(score)\n",
    "        print('Fold: %s, Class dist.: %s, Acc: %.3f' % (k+1, \n",
    "                    np.bincount(y_label[train]), score))    \n",
    "    return train_scores,scores\n",
    "\n"
   ]
  },
  {
   "cell_type": "code",
   "execution_count": 57,
   "metadata": {
    "collapsed": false
   },
   "outputs": [
    {
     "name": "stdout",
     "output_type": "stream",
     "text": [
      "{'beta_1': 0.9, 'random_state': None, 'alpha': 0.001, 'early_stopping': False, 'verbose': 3, 'learning_rate_init': 0.001, 'warm_start': False, 'max_iter': 200, 'hidden_layer_sizes': (84, 2), 'batch_size': 'auto', 'power_t': 0.5, 'learning_rate': 'constant', 'tol': 0.0001, 'beta_2': 0.999, 'validation_fraction': 0.1, 'algorithm': 'l-bfgs', 'momentum': 0.9, 'nesterovs_momentum': True, 'epsilon': 1e-08, 'shuffle': True, 'activation': 'logistic'}\n",
      "Fold: 1, Class dist.: [137 244 171], Acc: 0.078\n",
      "Fold: 2, Class dist.: [137 244 172], Acc: 0.444\n",
      "Fold: 3, Class dist.: [137 245 172], Acc: 0.161\n",
      "Fold: 4, Class dist.: [138 245 172], Acc: 0.361\n",
      "Fold: 5, Class dist.: [138 245 172], Acc: 0.246\n",
      "Fold: 6, Class dist.: [138 245 172], Acc: 0.213\n",
      "Fold: 7, Class dist.: [138 245 172], Acc: 0.525\n",
      "Fold: 8, Class dist.: [138 245 172], Acc: 0.344\n",
      "Fold: 9, Class dist.: [138 245 172], Acc: 0.246\n",
      "Fold: 10, Class dist.: [138 245 172], Acc: 0.213\n",
      "lamda: 0.001, train: 0.6413196530994941, test: 0.2831400750631647\n",
      "{'beta_1': 0.9, 'random_state': None, 'alpha': 0.0030000000000000001, 'early_stopping': False, 'verbose': 3, 'learning_rate_init': 0.001, 'warm_start': False, 'max_iter': 200, 'hidden_layer_sizes': (84, 2), 'batch_size': 'auto', 'power_t': 0.5, 'learning_rate': 'constant', 'tol': 0.0001, 'beta_2': 0.999, 'validation_fraction': 0.1, 'algorithm': 'l-bfgs', 'momentum': 0.9, 'nesterovs_momentum': True, 'epsilon': 1e-08, 'shuffle': True, 'activation': 'logistic'}\n",
      "Fold: 1, Class dist.: [137 244 171], Acc: 0.281\n",
      "Fold: 2, Class dist.: [137 244 172], Acc: 0.175\n",
      "Fold: 3, Class dist.: [137 245 172], Acc: 0.371\n",
      "Fold: 4, Class dist.: [138 245 172], Acc: 0.262\n",
      "Fold: 5, Class dist.: [138 245 172], Acc: 0.197\n",
      "Fold: 6, Class dist.: [138 245 172], Acc: 0.377\n",
      "Fold: 7, Class dist.: [138 245 172], Acc: 0.311\n",
      "Fold: 8, Class dist.: [138 245 172], Acc: 0.393\n",
      "Fold: 9, Class dist.: [138 245 172], Acc: 0.262\n",
      "Fold: 10, Class dist.: [138 245 172], Acc: 0.377\n",
      "lamda: 0.003, train: 0.6034874047568635, test: 0.3007148785391117\n",
      "{'beta_1': 0.9, 'random_state': None, 'alpha': 0.01, 'early_stopping': False, 'verbose': 3, 'learning_rate_init': 0.001, 'warm_start': False, 'max_iter': 200, 'hidden_layer_sizes': (84, 2), 'batch_size': 'auto', 'power_t': 0.5, 'learning_rate': 'constant', 'tol': 0.0001, 'beta_2': 0.999, 'validation_fraction': 0.1, 'algorithm': 'l-bfgs', 'momentum': 0.9, 'nesterovs_momentum': True, 'epsilon': 1e-08, 'shuffle': True, 'activation': 'logistic'}\n",
      "Fold: 1, Class dist.: [137 244 171], Acc: 0.312\n",
      "Fold: 2, Class dist.: [137 244 172], Acc: 0.143\n",
      "Fold: 3, Class dist.: [137 245 172], Acc: 0.290\n",
      "Fold: 4, Class dist.: [138 245 172], Acc: 0.361\n",
      "Fold: 5, Class dist.: [138 245 172], Acc: 0.377\n",
      "Fold: 6, Class dist.: [138 245 172], Acc: 0.328\n",
      "Fold: 7, Class dist.: [138 245 172], Acc: 0.361\n",
      "Fold: 8, Class dist.: [138 245 172], Acc: 0.311\n",
      "Fold: 9, Class dist.: [138 245 172], Acc: 0.148\n",
      "Fold: 10, Class dist.: [138 245 172], Acc: 0.328\n",
      "lamda: 0.01, train: 0.6361754978013677, test: 0.29587944776006647\n",
      "{'beta_1': 0.9, 'random_state': None, 'alpha': 0.029999999999999999, 'early_stopping': False, 'verbose': 3, 'learning_rate_init': 0.001, 'warm_start': False, 'max_iter': 200, 'hidden_layer_sizes': (84, 2), 'batch_size': 'auto', 'power_t': 0.5, 'learning_rate': 'constant', 'tol': 0.0001, 'beta_2': 0.999, 'validation_fraction': 0.1, 'algorithm': 'l-bfgs', 'momentum': 0.9, 'nesterovs_momentum': True, 'epsilon': 1e-08, 'shuffle': True, 'activation': 'logistic'}\n",
      "Fold: 1, Class dist.: [137 244 171], Acc: 0.406\n",
      "Fold: 2, Class dist.: [137 244 172], Acc: 0.270\n",
      "Fold: 3, Class dist.: [137 245 172], Acc: 0.242\n",
      "Fold: 4, Class dist.: [138 245 172], Acc: 0.361\n",
      "Fold: 5, Class dist.: [138 245 172], Acc: 0.295\n",
      "Fold: 6, Class dist.: [138 245 172], Acc: 0.344\n",
      "Fold: 7, Class dist.: [138 245 172], Acc: 0.459\n",
      "Fold: 8, Class dist.: [138 245 172], Acc: 0.311\n",
      "Fold: 9, Class dist.: [138 245 172], Acc: 0.426\n",
      "Fold: 10, Class dist.: [138 245 172], Acc: 0.443\n",
      "lamda: 0.03, train: 0.6890260889213818, test: 0.3557371016007319\n",
      "{'beta_1': 0.9, 'random_state': None, 'alpha': 0.10000000000000001, 'early_stopping': False, 'verbose': 3, 'learning_rate_init': 0.001, 'warm_start': False, 'max_iter': 200, 'hidden_layer_sizes': (84, 2), 'batch_size': 'auto', 'power_t': 0.5, 'learning_rate': 'constant', 'tol': 0.0001, 'beta_2': 0.999, 'validation_fraction': 0.1, 'algorithm': 'l-bfgs', 'momentum': 0.9, 'nesterovs_momentum': True, 'epsilon': 1e-08, 'shuffle': True, 'activation': 'logistic'}\n",
      "Fold: 1, Class dist.: [137 244 171], Acc: 0.359\n",
      "Fold: 2, Class dist.: [137 244 172], Acc: 0.286\n",
      "Fold: 3, Class dist.: [137 245 172], Acc: 0.323\n",
      "Fold: 4, Class dist.: [138 245 172], Acc: 0.164\n",
      "Fold: 5, Class dist.: [138 245 172], Acc: 0.213\n",
      "Fold: 6, Class dist.: [138 245 172], Acc: 0.213\n",
      "Fold: 7, Class dist.: [138 245 172], Acc: 0.295\n",
      "Fold: 8, Class dist.: [138 245 172], Acc: 0.246\n",
      "Fold: 9, Class dist.: [138 245 172], Acc: 0.361\n",
      "Fold: 10, Class dist.: [138 245 172], Acc: 0.295\n",
      "lamda: 0.1, train: 0.6452171960713036, test: 0.2754555176777215\n"
     ]
    }
   ],
   "source": [
    "def lamda_test(mlp, X, y, lamdas):\n",
    "    \n",
    "    train_scores=[]\n",
    "    test_scores=[]\n",
    "    for lamda in lamdas:\n",
    "        mlp.set_params(alpha= lamda)\n",
    "        print(mlp.get_params())\n",
    "        train_s, test_s = crossValidate(mlp,X,y)\n",
    "        train_scores.append(train_s)\n",
    "        test_scores.append(test_s)\n",
    "        print(\"lamda: {}, train: {}, test: {}\".format(lamda, \n",
    "                    np.mean(train_s), np.mean(test_s)) )\n",
    "    return np.array(train_scores),np.array(test_scores)\n",
    "\n",
    "l_range = np.array([0.001,0.003,0.01,0.03,0.1])\n",
    "train_scores,test_scores = lamda_test(mlp,X,y,l_range)\n",
    "    "
   ]
  },
  {
   "cell_type": "code",
   "execution_count": 60,
   "metadata": {
    "collapsed": false
   },
   "outputs": [
    {
     "name": "stdout",
     "output_type": "stream",
     "text": [
      "(5,)\n",
      "(5,)\n"
     ]
    },
    {
     "data": {
      "image/png": "[encoded data removed]",
      "text/plain": [
       "<matplotlib.figure.Figure at 0x7f945664edd8>"
      ]
     },
     "metadata": {},
     "output_type": "display_data"
    }
   ],
   "source": [
    "train_mean = np.mean(train_scores, axis=1)\n",
    "train_std = np.std(train_scores, axis=1)\n",
    "test_mean = np.mean(test_scores, axis=1)\n",
    "test_std = np.std(test_scores, axis=1)\n",
    "print(train_mean.shape)\n",
    "print(l_range.shape)\n",
    "#plotCurve(train_mean,train_std,test_mean,test_std,l_range)\n",
    "plt.plot(l_range, train_mean, \n",
    "        color='blue', marker='o', \n",
    "        markersize=5, \n",
    "        label='training accuracy')\n",
    "plt.fill_between(l_range, \n",
    "              train_mean + train_std,\n",
    "               train_mean - train_std, alpha=0.15, color='blue')\n",
    "\n",
    "plt.plot(l_range, test_mean, \n",
    "          color='green', linestyle='--', \n",
    "          marker='s', markersize=5, \n",
    "         label='validation accuracy')\n",
    "plt.fill_between(l_range, \n",
    "                  test_mean + test_std,\n",
    "                 test_mean - test_std, \n",
    "                alpha=0.15, color='green')\n",
    "plt.xlabel('Number of training samples')\n",
    "plt.ylabel('Accuracy')\n",
    "plt.show()\n"
   ]
  },
  {
   "cell_type": "code",
   "execution_count": null,
   "metadata": {
    "collapsed": true
   },
   "outputs": [],
   "source": []
  }
 ],
 "metadata": {
  "kernelspec": {
   "display_name": "Python 3",
   "language": "python",
   "name": "python3"
  },
  "language_info": {
   "codemirror_mode": {
    "name": "ipython",
    "version": 3
   },
   "file_extension": ".py",
   "mimetype": "text/x-python",
   "name": "python",
   "nbconvert_exporter": "python",
   "pygments_lexer": "ipython3",
   "version": "3.5.1"
  }
 },
 "nbformat": 4,
 "nbformat_minor": 0
}
