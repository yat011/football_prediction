{
 "cells": [
  {
   "cell_type": "code",
   "execution_count": 25,
   "metadata": {
    "collapsed": false
   },
   "outputs": [],
   "source": [
    "import numpy as np\n",
    "#from sklearn.neural_network import MLPClassifier\n",
    "import pandas as pd\n",
    "from sklearn.cross_validation import train_test_split\n",
    "from sklearn.preprocessing import StandardScaler\n",
    "from sklearn.preprocessing import OneHotEncoder\n",
    "try:\n",
    "    from IPython.core.display import clear_output\n",
    "    have_ipython = True\n",
    "except ImportError:\n",
    "    have_ipython = False\n",
    "import sys\n",
    "class FootballDataHelper:\n",
    "    def __init__ (self, recentNum=5):\n",
    "        self.win_mapping = {'D':0, 'H':1,'A':2}\n",
    "        self.recentNum = recentNum\n",
    "        self.df = None\n",
    "        #self.hiddensCount = 2\n",
    "       \n",
    "        \n",
    "    def readFootBallData(self,filename): \n",
    "        df = pd.read_csv(filename)\n",
    "        df = df.drop(df.columns[range(23,df.shape[1])], axis=1)\n",
    "        df = df.drop(\"Div\",axis=1)\n",
    "        df['Date'] = pd.to_datetime(df['Date'],dayfirst=True)\n",
    "        df['HTR'] = df['HTR'].map(self.win_mapping)\n",
    "        df['FTR'] = df['FTR'].map(self.win_mapping)\n",
    "        df= df.drop('Referee', 1)\n",
    "        print(df.shape)\n",
    "          #self.team = df['HomeTeam'].drop_duplicates()\n",
    "        if self.df is None:\n",
    "            self.df = df\n",
    "        else:\n",
    "            self.df = pd.concat([self.df,df])\n",
    "            \n",
    "        teams = self.df['HomeTeam'].drop_duplicates()\n",
    "        teamMap = {}\n",
    "        for index , v in enumerate(teams):\n",
    "            teamMap[v] = index\n",
    "        self.teamsMap = teamMap\n",
    "    def getTeam(self,dataFrame, teamName):       \n",
    "        return dataFrame[(dataFrame[\"HomeTeam\"] == teamName) | (dataFrame[\"AwayTeam\"] == teamName)]\n",
    "    def formatData(self, X_train ):\n",
    "        print(\"start format\")\n",
    "        X_train = X_train.sort_values(by=\"Date\")\n",
    "        X_train['Date'] = pd.to_numeric(X_train['Date'])/1e9/24/60/60\n",
    "        \n",
    "        sys.stdout.flush()\n",
    "        res = []\n",
    "        y =[]\n",
    "        for v in X_train['FTR']:\n",
    "            y.append(range(3)==v)\n",
    "        resy=[]\n",
    "        for i in range(X_train.shape[0]):\n",
    "            print(\"\\r progress {}\".format(i))\n",
    "            sys.stdout.flush()\n",
    "            x = X_train.iloc[i]\n",
    "            homeName = x['HomeTeam']\n",
    "            awayName = x['AwayTeam']\n",
    "            homeTeam = self.getTeam(X_train,homeName)\n",
    "            awayTeam = self.getTeam(X_train,awayName)\n",
    "            prevHome = self.previousRecords(homeTeam,x['Date'])\n",
    "            prevAway = self.previousRecords(awayTeam,x['Date'])\n",
    "            if prevHome is None or prevAway is None:\n",
    "               # print(\"{} skip\".format(i))\n",
    "                continue\n",
    "           # print(\"{} has enough sample\".format(i))  \n",
    "            prevHome=prevHome.copy()\n",
    "            prevAway = prevAway.copy()\n",
    "            prevHome['HomeTeam']=(prevHome['HomeTeam']==homeName)\n",
    "            prevHome['AwayTeam']=(prevHome['AwayTeam']==homeName)\n",
    "            prevAway['HomeTeam']=(prevAway['HomeTeam']==awayName)\n",
    "            prevAway['AwayTeam']=(prevAway['AwayTeam']==awayName)\n",
    "            homeDate = prevHome['Date'].values\n",
    "            awayDate = prevAway['Date'].values\n",
    "            #homeDate = homeDate.astype('uint64')/1e9/24/60/60\n",
    "            homeDate = x['Date'] - homeDate \n",
    "            #awayDate = awayDate.astype('uint64')/1e9/24/60/60\n",
    "            awayDate = x['Date'] - awayDate \n",
    "            #print(homeDate)\n",
    "            hv = prevHome.drop('Date',axis=1).values\n",
    "            av = prevAway.drop('Date',axis=1).values\n",
    "            hv = np.column_stack([hv, homeDate])\n",
    "            av = np.column_stack([av,awayDate])\n",
    "            \n",
    "            inData = np.ravel(np.array([hv,av]))\n",
    "            res.append(inData)\n",
    "            resy.append(y[i])\n",
    "        \n",
    "        Xres = np.array(res)\n",
    "        \n",
    "       \n",
    "        X_train_std = Xres\n",
    "        print(\"finish\")\n",
    "\n",
    "        return (X_train_std,np.array(resy))\n",
    "            \n",
    "    def fit(self,X=None,y=None):\n",
    "        teams = self.df['HomeTeam'].drop_duplicates()\n",
    "       \n",
    "        if X is None or y is None:\n",
    "            (X, y)=self.formatData(df)\n",
    "        X_train,X_test_val, y_train, y_test_val =    train_test_split(X,y, test_size=0.4)\n",
    "        X_val ,X_test,y_val,y_test = train_test_split(X_test_val,y_test_val, test_size=0.5)\n",
    "        print(X_val)\n",
    "        \n",
    "        \n",
    "     \n",
    "        print(\"Start Training\")\n",
    "        self.nn.fit(X_train,y_train)\n",
    "        print(\"fisish Training\")\n",
    "        return (X_val ,X_test,y_val,y_test)\n",
    "\n",
    "    def validate(self, X_val, y_val):\n",
    "            return self.nn.predict(X_val)\n",
    "            \n",
    "            \n",
    "        \n",
    "        \n",
    "    def previousRecords(self,team, date):\n",
    "        prev = team[( team[\"Date\"] < date)]\n",
    "        \n",
    "        if prev.shape[0] < self.recentNum :\n",
    "            #print(\"less than min Num\")\n",
    "            return None\n",
    "        else:\n",
    "            return prev.iloc[-self.recentNum:]\n",
    "    def getH1(self):\n",
    "        #recent matches (only win/loss/draw)\n",
    "       \n",
    "        \n",
    "       # print (self.df)      \n",
    "        X  = self.df.sort_values(by=\"Date\")\n",
    "        y = []\n",
    "        for v in X['FTR']:\n",
    "            y.append(range(3)==v)\n",
    "       # print(y)\n",
    "        resy=[]\n",
    "        resx=[]\n",
    "        print(\"h1:start format\")\n",
    "        for i in range(X.shape[0]):\n",
    "            \n",
    "            sys.stdout.write(\"\\r progress {}\".format(i))\n",
    "            sys.stdout.flush()\n",
    "            x = X.iloc[i]\n",
    "            homeName = x['HomeTeam']\n",
    "            awayName = x['AwayTeam']\n",
    "            homeTeam = self.getTeam(X,homeName)\n",
    "            awayTeam = self.getTeam(X,awayName)\n",
    "            prevHome = self.previousRecords(homeTeam,x['Date'])\n",
    "            prevAway = self.previousRecords(awayTeam,x['Date'])\n",
    "            if prevHome is None or prevAway is None:\n",
    "               # print(\"{} skip\".format(i))\n",
    "                continue\n",
    "            prevHomeWin = []\n",
    "            prevAwayWin = []\n",
    "            for v in prevHome['FTR']:\n",
    "                prevHomeWin.append(range(3) == v)\n",
    "            #print(prevHomeWin)\n",
    "            for v in prevAway['FTR']:\n",
    "                prevAwayWin.append(range(3) == v)\n",
    "            pHHT=(prevHome['HomeTeam']==homeName).values\n",
    "            pAHT=(prevAway['HomeTeam']==awayName).values\n",
    "            tempX=[]\n",
    "            for j in range(pHHT.shape[0]):\n",
    "                tempX.append(np.append(prevHomeWin[j],pHHT[j]))\n",
    "                \n",
    "            for j in range(pAHT.shape[0]):\n",
    "                tempX.append(np.append(prevAwayWin[j],pAHT[j]))\n",
    "            resx.append(np.ravel(tempX))\n",
    "            \n",
    "            resy.append(y[i])\n",
    "        print(\"finish\")\n",
    "        sys.stdout.flush()\n",
    "        return np.array(resx), np.array(resy)\n",
    "    def getH2(self):         \n",
    "       #team based      \n",
    "        X  = self.df.sort_values(by=\"Date\")\n",
    "        y = []\n",
    "        for v in X['FTR']:\n",
    "            y.append(range(3)==v)\n",
    "       # print(y)\n",
    "        resy=[]\n",
    "        resx=[]\n",
    "        print(\"h1:start format\")\n",
    "        X['HomeTeam'] = X['HomeTeam'].map(self.teamsMap)\n",
    "        X['AwayTeam'] = X['AwayTeam'].map(self.teamsMap)\n",
    "        nativeX = X[['HomeTeam','AwayTeam']].values\n",
    "        #print(X)\n",
    "        ohe = OneHotEncoder(categorical_features=[0,1])\n",
    "        res = ohe.fit_transform(nativeX).toarray()\n",
    "        #print(res)\n",
    "        return res, np.array(y)\n"
   ]
  },
  {
   "cell_type": "code",
   "execution_count": null,
   "metadata": {
    "collapsed": false
   },
   "outputs": [],
   "source": []
  },
  {
   "cell_type": "code",
   "execution_count": null,
   "metadata": {
    "collapsed": true
   },
   "outputs": [],
   "source": []
  },
  {
   "cell_type": "code",
   "execution_count": 26,
   "metadata": {
    "collapsed": false,
    "scrolled": true
   },
   "outputs": [
    {
     "name": "stdout",
     "output_type": "stream",
     "text": [
      "(380, 21)\n",
      "(288, 21)\n",
      "{'Southampton': 14, 'Hull': 16, 'Everton': 13, 'Crystal Palace': 12, 'Man City': 19, 'Swansea': 15, 'Newcastle': 8, 'Sunderland': 17, 'QPR': 3, 'Watford': 22, 'West Ham': 6, 'Aston Villa': 10, 'West Brom': 5, 'Chelsea': 11, 'Arsenal': 0, 'Burnley': 9, 'Liverpool': 7, 'Norwich': 21, 'Leicester': 1, 'Bournemouth': 20, 'Stoke': 4, 'Man United': 2, 'Tottenham': 18}\n",
      "h1:start format\n"
     ]
    }
   ],
   "source": [
    "\n",
    "c = FootballDataHelper(recentNum=4)\n",
    "c.readFootBallData(\"E0_1415.csv\")\n",
    "c.readFootBallData(\"E0.csv\")\n",
    "print(c.teamsMap)\n",
    "#c.fit()\n",
    "#c.fit()\n",
    "#X, y = c.formatData(c.df)\n",
    "#print(X)\n",
    "X, y =c.getH2()\n"
   ]
  },
  {
   "cell_type": "code",
   "execution_count": 27,
   "metadata": {
    "collapsed": false
   },
   "outputs": [
    {
     "name": "stdout",
     "output_type": "stream",
     "text": [
      "[[ 1.  0.  0. ...,  0.  0.  0.]\n",
      " [ 0.  1.  0. ...,  0.  0.  0.]\n",
      " [ 0.  0.  1. ...,  0.  0.  0.]\n",
      " ..., \n",
      " [ 0.  0.  0. ...,  0.  0.  0.]\n",
      " [ 0.  0.  0. ...,  0.  0.  0.]\n",
      " [ 0.  0.  0. ...,  0.  0.  0.]]\n",
      "668\n"
     ]
    }
   ],
   "source": [
    "print(X)\n",
    "print(y.shape[0])"
   ]
  },
  {
   "cell_type": "code",
   "execution_count": 28,
   "metadata": {
    "collapsed": false
   },
   "outputs": [
    {
     "name": "stdout",
     "output_type": "stream",
     "text": [
      "start learning\n",
      "[learning_curve] Training set sizes: [ 60 330 601]\n",
      "[CV] no parameters to be set .........................................\n",
      "[CV] ................ no parameters to be set, score=0.328358 -   0.3s\n",
      "[CV] no parameters to be set .........................................\n",
      "[CV] ................ no parameters to be set, score=0.238806 -   3.0s\n",
      "[CV] no parameters to be set .........................................\n",
      "[CV] ................ no parameters to be set, score=0.313433 -   8.2s\n",
      "[CV] no parameters to be set .........................................\n",
      "[CV] ................ no parameters to be set, score=0.313433 -   0.3s\n",
      "[CV] no parameters to be set .........................................\n",
      "[CV] ................ no parameters to be set, score=0.268657 -   1.6s\n",
      "[CV] no parameters to be set .........................................\n",
      "[CV] ................ no parameters to be set, score=0.328358 -   7.7s\n",
      "[CV] no parameters to be set .........................................\n",
      "[CV] ................ no parameters to be set, score=0.358209 -   0.3s\n",
      "[CV] no parameters to be set .........................................\n",
      "[CV] ................ no parameters to be set, score=0.313433 -   2.6s\n",
      "[CV] no parameters to be set .........................................\n",
      "[CV] ................ no parameters to be set, score=0.358209 -   8.6s\n",
      "[CV] no parameters to be set .........................................\n",
      "[CV] ................ no parameters to be set, score=0.417910 -   0.3s\n",
      "[CV] no parameters to be set .........................................\n",
      "[CV] ................ no parameters to be set, score=0.268657 -   2.0s\n",
      "[CV] no parameters to be set .........................................\n",
      "[CV] ................ no parameters to be set, score=0.388060 -   8.0s\n",
      "[CV] no parameters to be set .........................................\n",
      "[CV] ................ no parameters to be set, score=0.268657 -   0.2s\n",
      "[CV] no parameters to be set .........................................\n",
      "[CV] ................ no parameters to be set, score=0.283582 -   2.0s\n",
      "[CV] no parameters to be set .........................................\n",
      "[CV] ................ no parameters to be set, score=0.358209 -   8.1s\n",
      "[CV] no parameters to be set .........................................\n",
      "[CV] ................ no parameters to be set, score=0.343284 -   0.3s\n",
      "[CV] no parameters to be set .........................................\n",
      "[CV] ................ no parameters to be set, score=0.373134 -   1.8s\n",
      "[CV] no parameters to be set .........................................\n",
      "[CV] ................ no parameters to be set, score=0.343284 -   7.9s\n",
      "[CV] no parameters to be set .........................................\n",
      "[CV] ................ no parameters to be set, score=0.298507 -   0.3s\n",
      "[CV] no parameters to be set .........................................\n",
      "[CV] ................ no parameters to be set, score=0.298507 -   1.6s\n",
      "[CV] no parameters to be set .........................................\n",
      "[CV] ................ no parameters to be set, score=0.328358 -   8.3s\n",
      "[CV] no parameters to be set .........................................\n",
      "[CV] ................ no parameters to be set, score=0.194030 -   0.3s\n",
      "[CV] no parameters to be set .........................................\n",
      "[CV] ................ no parameters to be set, score=0.328358 -   1.4s\n",
      "[CV] no parameters to be set .........................................\n",
      "[CV] ................ no parameters to be set, score=0.328358 -   8.5s\n",
      "[CV] no parameters to be set .........................................\n",
      "[CV] ................ no parameters to be set, score=0.212121 -   0.4s\n",
      "[CV] no parameters to be set .........................................\n",
      "[CV] ................ no parameters to be set, score=0.378788 -   1.9s\n",
      "[CV] no parameters to be set .........................................\n",
      "[CV] ................ no parameters to be set, score=0.393939 -   9.4s\n",
      "[CV] no parameters to be set .........................................\n",
      "[CV] ................ no parameters to be set, score=0.318182 -   0.3s\n",
      "[CV] no parameters to be set .........................................\n",
      "[CV] ................ no parameters to be set, score=0.318182 -   1.7s\n",
      "[CV] no parameters to be set .........................................\n",
      "[CV] ................ no parameters to be set, score=0.303030 -   9.3s\n",
      "finishing\n"
     ]
    },
    {
     "name": "stderr",
     "output_type": "stream",
     "text": [
      "[Parallel(n_jobs=1)]: Done  30 out of  30 | elapsed:  1.8min finished\n"
     ]
    }
   ],
   "source": [
    "from sklearn.neural_network import MLPClassifier\n",
    "from sklearn.learning_curve import learning_curve\n",
    "mlp = MLPClassifier(hidden_layer_sizes=(len(c.teamsMap),), activation='logistic', algorithm='l-bfgs', alpha=0, \n",
    "              learning_rate_init=0.01,learning_rate='adaptive' ,max_iter=500,early_stopping = True,verbose = 3)\n",
    "print (\"start learning\")\n",
    "sys.stdout.flush()\n",
    "train_sizes, train_scores, test_scores = learning_curve(estimator=mlp, \n",
    "                       X=X, \n",
    "                      y=y, \n",
    "                      train_sizes=np.linspace(0.1, 1.0, 3), \n",
    "                      cv=10,\n",
    "                     n_jobs=1,verbose=3)\n",
    "print(\"finishing\")   \n",
    "train_mean = np.mean(train_scores, axis=1)\n",
    "train_std = np.std(train_scores, axis=1)\n",
    "test_mean = np.mean(test_scores, axis=1)\n",
    "test_std = np.std(test_scores, axis=1)"
   ]
  },
  {
   "cell_type": "code",
   "execution_count": null,
   "metadata": {
    "collapsed": false
   },
   "outputs": [],
   "source": [
    "%matplotlib inline\n",
    "import matplotlib.pyplot as plt\n",
    "def plotCurve(train_mean, train_std,test_mean,test_std,sizes):\n",
    "    plt.plot(train_sizes, train_mean, \n",
    "            color='blue', marker='o', \n",
    "            markersize=5, \n",
    "            label='training accuracy')\n",
    "    plt.fill_between(train_sizes, \n",
    "                  train_mean + train_std,\n",
    "                   train_mean - train_std, alpha=0.15, color='blue')\n",
    "\n",
    "    plt.plot(train_sizes, test_mean, \n",
    "              color='green', linestyle='--', \n",
    "              marker='s', markersize=5, \n",
    "             label='validation accuracy')\n",
    "    plt.fill_between(train_sizes, \n",
    "                      test_mean + test_std,\n",
    "                     test_mean - test_std, \n",
    "                    alpha=0.15, color='green')\n",
    "    plt.xlabel('Number of training samples')\n",
    "    plt.ylabel('Accuracy')\n",
    "    plt.show()\n",
    "plotCurve(train_mean,train_std,test_mean,test_std,train_sizes)\n"
   ]
  },
  {
   "cell_type": "code",
   "execution_count": null,
   "metadata": {
    "collapsed": false
   },
   "outputs": [],
   "source": [
    "from sklearn.cross_validation import StratifiedKFold\n",
    "def crossValidate(mlp, X,y):\n",
    "    y_label = np.argmax(y,axis=1)\n",
    "\n",
    "    kfold = StratifiedKFold(y=y_label, \n",
    "                             n_folds=10,\n",
    "                            random_state=1)\n",
    "\n",
    "    scores = []\n",
    "    train_scores=[]\n",
    "    for k, (train, test) in enumerate(kfold):\n",
    "\n",
    "        mlp.fit(X[train], y[train])\n",
    "        score = mlp.score(X[test], y[test])\n",
    "        train_scores.append(mlp.score(X[train],y[train]))\n",
    "        scores.append(score)\n",
    "        print('Fold: %s, Class dist.: %s, Acc: %.3f' % (k+1, \n",
    "                    np.bincount(y_label[train]), score))    \n",
    "    return train_scores,scores\n",
    "\n"
   ]
  },
  {
   "cell_type": "code",
   "execution_count": null,
   "metadata": {
    "collapsed": false
   },
   "outputs": [],
   "source": [
    "def lamda_test(mlp, X, y, lamdas):\n",
    "    \n",
    "    train_scores=[]\n",
    "    test_scores=[]\n",
    "    for lamda in lamdas:\n",
    "        mlp.set_params(alpha= lamda)\n",
    "        print(mlp.get_params())\n",
    "        train_s, test_s = crossValidate(mlp,X,y)\n",
    "        train_scores.append(train_s)\n",
    "        test_scores.append(test_s)\n",
    "        print(\"lamda: {}, train: {}, test: {}\".format(lamda, \n",
    "                    np.mean(train_s), np.mean(test_s)) )\n",
    "    return np.array(train_scores),np.array(test_scores)\n",
    "\n",
    "l_range = np.array([0,0.001,0.003,0.01,0.03,0.1])\n",
    "train_scores,test_scores = lamda_test(mlp,X,y,l_range)\n",
    "    "
   ]
  },
  {
   "cell_type": "code",
   "execution_count": null,
   "metadata": {
    "collapsed": false
   },
   "outputs": [],
   "source": [
    "train_mean = np.mean(train_scores, axis=1)\n",
    "train_std = np.std(train_scores, axis=1)\n",
    "test_mean = np.mean(test_scores, axis=1)\n",
    "test_std = np.std(test_scores, axis=1)\n",
    "print(train_mean.shape)\n",
    "print(l_range.shape)\n",
    "#plotCurve(train_mean,train_std,test_mean,test_std,l_range)\n",
    "plt.plot(l_range, train_mean, \n",
    "        color='blue', marker='o', \n",
    "        markersize=5, \n",
    "        label='training accuracy')\n",
    "plt.fill_between(l_range, \n",
    "              train_mean + train_std,\n",
    "               train_mean - train_std, alpha=0.15, color='blue')\n",
    "\n",
    "plt.plot(l_range, test_mean, \n",
    "          color='green', linestyle='--', \n",
    "          marker='s', markersize=5, \n",
    "         label='validation accuracy')\n",
    "plt.fill_between(l_range, \n",
    "                  test_mean + test_std,\n",
    "                 test_mean - test_std, \n",
    "                alpha=0.15, color='green')\n",
    "plt.xlabel('lamda')\n",
    "plt.ylabel('Accuracy')\n",
    "plt.show()\n"
   ]
  },
  {
   "cell_type": "code",
   "execution_count": null,
   "metadata": {
    "collapsed": true
   },
   "outputs": [],
   "source": [
    "from sklearn.cross_validation import train_test_split\n",
    "X_train, X_test , y_train, y_test = train_test_split(X,y,test_size =0.3)\n",
    "\n"
   ]
  },
  {
   "cell_type": "code",
   "execution_count": null,
   "metadata": {
    "collapsed": false
   },
   "outputs": [],
   "source": [
    "mlp.fit(X_train, y_train)"
   ]
  },
  {
   "cell_type": "code",
   "execution_count": null,
   "metadata": {
    "collapsed": false
   },
   "outputs": [],
   "source": [
    "res = mlp.predict_proba(X_test)"
   ]
  },
  {
   "cell_type": "code",
   "execution_count": null,
   "metadata": {
    "collapsed": false
   },
   "outputs": [],
   "source": [
    "for i in range(res.shape[0]):\n",
    "    print(res[i])\n",
    "    print(y_test[i])\n"
   ]
  },
  {
   "cell_type": "code",
   "execution_count": null,
   "metadata": {
    "collapsed": true
   },
   "outputs": [],
   "source": []
  }
 ],
 "metadata": {
  "kernelspec": {
   "display_name": "Python 3",
   "language": "python",
   "name": "python3"
  },
  "language_info": {
   "codemirror_mode": {
    "name": "ipython",
    "version": 3
   },
   "file_extension": ".py",
   "mimetype": "text/x-python",
   "name": "python",
   "nbconvert_exporter": "python",
   "pygments_lexer": "ipython3",
   "version": "3.5.1"
  }
 },
 "nbformat": 4,
 "nbformat_minor": 0
}
