{
 "cells": [
  {
   "cell_type": "code",
   "execution_count": 63,
   "metadata": {
    "collapsed": false
   },
   "outputs": [],
   "source": [
    "from sklearn.cross_validation import train_test_split\n",
    "from sklearn.preprocessing import StandardScaler\n",
    "from sklearn.preprocessing import OneHotEncoder\n",
    "try:\n",
    "    from IPython.core.display import clear_output\n",
    "    have_ipython = True\n",
    "except ImportError:\n",
    "    have_ipython = False\n",
    "import sys\n",
    "def likehoodScore(proba,y):\n",
    "    return np.sum(proba * y)/proba.shape[0]\n",
    "\n",
    "        \n",
    "        \n",
    "        "
   ]
  },
  {
   "cell_type": "code",
   "execution_count": 64,
   "metadata": {
    "collapsed": false,
    "scrolled": true
   },
   "outputs": [
    {
     "ename": "ImportError",
     "evalue": "cannot import name 'FootballDataHelper'",
     "output_type": "error",
     "traceback": [
      "\u001b[1;31m---------------------------------------------------------------------------\u001b[0m",
      "\u001b[1;31mImportError\u001b[0m                               Traceback (most recent call last)",
      "\u001b[1;32m<ipython-input-64-216a79a07bca>\u001b[0m in \u001b[0;36m<module>\u001b[1;34m()\u001b[0m\n\u001b[1;32m----> 1\u001b[1;33m \u001b[1;32mfrom\u001b[0m \u001b[0mcustom\u001b[0m \u001b[1;32mimport\u001b[0m \u001b[0mFootballDataHelper\u001b[0m\u001b[1;33m\u001b[0m\u001b[0m\n\u001b[0m\u001b[0;32m      2\u001b[0m \u001b[1;31m#alpha, hidden size, score, weighted Score\u001b[0m\u001b[1;33m\u001b[0m\u001b[1;33m\u001b[0m\u001b[0m\n\u001b[0;32m      3\u001b[0m \u001b[0moutput\u001b[0m \u001b[1;33m=\u001b[0m \u001b[1;33m[\u001b[0m\u001b[1;33m]\u001b[0m\u001b[1;33m\u001b[0m\u001b[0m\n\u001b[0;32m      4\u001b[0m \u001b[0mc\u001b[0m \u001b[1;33m=\u001b[0m \u001b[0mFootballDataHelper\u001b[0m\u001b[1;33m(\u001b[0m\u001b[0mrecentNum\u001b[0m\u001b[1;33m=\u001b[0m\u001b[1;36m4\u001b[0m\u001b[1;33m)\u001b[0m\u001b[1;33m\u001b[0m\u001b[0m\n\u001b[0;32m      5\u001b[0m \u001b[0mc\u001b[0m\u001b[1;33m.\u001b[0m\u001b[0mreadFootBallData\u001b[0m\u001b[1;33m(\u001b[0m\u001b[1;34m\"E0_1415.csv\"\u001b[0m\u001b[1;33m)\u001b[0m\u001b[1;33m\u001b[0m\u001b[0m\n",
      "\u001b[1;31mImportError\u001b[0m: cannot import name 'FootballDataHelper'"
     ]
    }
   ],
   "source": [
    "from custom import FootballDataHelper\n",
    "#alpha, hidden size, score, weighted Score\n",
    "output = []\n",
    "c = FootballDataHelper(recentNum=4)\n",
    "c.readFootBallData(\"E0_1415.csv\")\n",
    "c.readFootBallData(\"E0.csv\")\n",
    "print(c.teamsMap)\n",
    "#c.fit()\n",
    "#c.fit()\n",
    "#X, y = c.formatData(c.df)\n",
    "#print(X)\n",
    "X, y =c.getH2()\n"
   ]
  },
  {
   "cell_type": "code",
   "execution_count": 4,
   "metadata": {
    "collapsed": false
   },
   "outputs": [
    {
     "name": "stdout",
     "output_type": "stream",
     "text": [
      "[[ 1.  0.  0. ...,  0.  0.  0.]\n",
      " [ 0.  1.  0. ...,  0.  0.  0.]\n",
      " [ 0.  0.  1. ...,  0.  0.  0.]\n",
      " ..., \n",
      " [ 0.  0.  0. ...,  0.  0.  0.]\n",
      " [ 0.  0.  0. ...,  0.  0.  0.]\n",
      " [ 0.  0.  0. ...,  0.  0.  0.]]\n",
      "668\n"
     ]
    }
   ],
   "source": [
    "print(X)\n",
    "print(y.shape[0])"
   ]
  },
  {
   "cell_type": "code",
   "execution_count": 5,
   "metadata": {
    "collapsed": false
   },
   "outputs": [
    {
     "name": "stdout",
     "output_type": "stream",
     "text": [
      "33\n"
     ]
    },
    {
     "name": "stderr",
     "output_type": "stream",
     "text": [
      "/home/y/scikit-learn/sklearn/learning_curve.py:23: DeprecationWarning: This module has been deprecated in favor of the model_selection module into which all the functions are moved. This module will be removed in 0.20\n",
      "  DeprecationWarning)\n"
     ]
    }
   ],
   "source": [
    "from sklearn.neural_network import MLPClassifier\n",
    "from sklearn.learning_curve import learning_curve\n",
    "from custom import SoftMaxMLPClassifier\n",
    "hiddenNodes = int(3+X.shape[1]*2/3)\n",
    "print(hiddenNodes)\n",
    "mlp = SoftMaxMLPClassifier(hidden_layer_sizes=(hiddenNodes,), activation='logistic', algorithm='l-bfgs', alpha=0.01, \n",
    "              learning_rate_init=0.01,learning_rate='adaptive' ,max_iter=500,early_stopping = True,verbose = 3)\n"
   ]
  },
  {
   "cell_type": "code",
   "execution_count": 6,
   "metadata": {
    "collapsed": false
   },
   "outputs": [
    {
     "name": "stdout",
     "output_type": "stream",
     "text": [
      "start learning\n",
      "[learning_curve] Training set sizes: [ 60 330 601]\n",
      "[CV] no parameters to be set .........................................\n",
      "[CV] ................ no parameters to be set, score=0.373134 -   0.4s\n",
      "[CV] no parameters to be set .........................................\n",
      "[CV] ................ no parameters to be set, score=0.313433 -   1.1s\n",
      "[CV] no parameters to be set .........................................\n",
      "[CV] ................ no parameters to be set, score=0.328358 -   1.6s\n",
      "[CV] no parameters to be set .........................................\n",
      "[CV] ................ no parameters to be set, score=0.343284 -   0.3s\n",
      "[CV] no parameters to be set .........................................\n",
      "[CV] ................ no parameters to be set, score=0.388060 -   1.0s\n",
      "[CV] no parameters to be set .........................................\n",
      "[CV] ................ no parameters to be set, score=0.417910 -   1.5s\n",
      "[CV] no parameters to be set .........................................\n",
      "[CV] ................ no parameters to be set, score=0.358209 -   0.4s\n",
      "[CV] no parameters to be set .........................................\n",
      "[CV] ................ no parameters to be set, score=0.477612 -   1.0s\n",
      "[CV] no parameters to be set .........................................\n",
      "[CV] ................ no parameters to be set, score=0.388060 -   1.6s\n",
      "[CV] no parameters to be set .........................................\n",
      "[CV] ................ no parameters to be set, score=0.477612 -   0.4s\n",
      "[CV] no parameters to be set .........................................\n",
      "[CV] ................ no parameters to be set, score=0.477612 -   1.1s\n",
      "[CV] no parameters to be set .........................................\n",
      "[CV] ................ no parameters to be set, score=0.447761 -   1.6s\n",
      "[CV] no parameters to be set .........................................\n",
      "[CV] ................ no parameters to be set, score=0.328358 -   0.5s\n",
      "[CV] no parameters to be set .........................................\n",
      "[CV] ................ no parameters to be set, score=0.432836 -   1.3s\n",
      "[CV] no parameters to be set .........................................\n",
      "[CV] ................ no parameters to be set, score=0.477612 -   1.6s\n",
      "[CV] no parameters to be set .........................................\n",
      "[CV] ................ no parameters to be set, score=0.462687 -   0.3s\n",
      "[CV] no parameters to be set .........................................\n",
      "[CV] ................ no parameters to be set, score=0.388060 -   0.8s\n",
      "[CV] no parameters to be set .........................................\n",
      "[CV] ................ no parameters to be set, score=0.328358 -   1.8s\n",
      "[CV] no parameters to be set .........................................\n",
      "[CV] ................ no parameters to be set, score=0.373134 -   0.3s\n",
      "[CV] no parameters to be set .........................................\n",
      "[CV] ................ no parameters to be set, score=0.417910 -   0.9s\n",
      "[CV] no parameters to be set .........................................\n",
      "[CV] ................ no parameters to be set, score=0.328358 -   2.1s\n",
      "[CV] no parameters to be set .........................................\n",
      "[CV] ................ no parameters to be set, score=0.298507 -   0.4s\n",
      "[CV] no parameters to be set .........................................\n",
      "[CV] ................ no parameters to be set, score=0.343284 -   1.3s\n",
      "[CV] no parameters to be set .........................................\n",
      "[CV] ................ no parameters to be set, score=0.343284 -   4.1s\n",
      "[CV] no parameters to be set .........................................\n",
      "[CV] ................ no parameters to be set, score=0.348485 -   0.4s\n",
      "[CV] no parameters to be set .........................................\n",
      "[CV] ................ no parameters to be set, score=0.439394 -   0.9s\n",
      "[CV] no parameters to be set .........................................\n",
      "[CV] ................ no parameters to be set, score=0.439394 -   1.6s\n",
      "[CV] no parameters to be set .........................................\n",
      "[CV] ................ no parameters to be set, score=0.424242 -   0.3s\n",
      "[CV] no parameters to be set .........................................\n",
      "[CV] ................ no parameters to be set, score=0.439394 -   1.0s\n",
      "[CV] no parameters to be set .........................................\n",
      "[CV] ................ no parameters to be set, score=0.469697 -   2.5s\n",
      "finishing\n"
     ]
    },
    {
     "name": "stderr",
     "output_type": "stream",
     "text": [
      "[Parallel(n_jobs=1)]: Done  30 out of  30 | elapsed:   34.1s finished\n"
     ]
    }
   ],
   "source": [
    "print (\"start learning\")\n",
    "sys.stdout.flush()\n",
    "train_sizes, train_scores, test_scores = learning_curve(estimator=mlp, \n",
    "                       X=X, \n",
    "                      y=y, \n",
    "                      train_sizes=np.linspace(0.1, 1.0, 3), \n",
    "                      cv=10,\n",
    "                     n_jobs=1,verbose=3)\n",
    "print(\"finishing\")   \n",
    "train_mean = np.mean(train_scores, axis=1)\n",
    "train_std = np.std(train_scores, axis=1)\n",
    "test_mean = np.mean(test_scores, axis=1)\n",
    "test_std = np.std(test_scores, axis=1)"
   ]
  },
  {
   "cell_type": "code",
   "execution_count": 7,
   "metadata": {
    "collapsed": false,
    "scrolled": true
   },
   "outputs": [
    {
     "data": {
      "image/png": "[encoded data removed]",
      "text/plain": [
       "<matplotlib.figure.Figure at 0x7f838cb543c8>"
      ]
     },
     "metadata": {},
     "output_type": "display_data"
    }
   ],
   "source": [
    "%matplotlib inline\n",
    "import matplotlib.pyplot as plt\n",
    "def plotCurve(train_mean, train_std,test_mean,test_std,sizes):\n",
    "    plt.plot(train_sizes, train_mean, \n",
    "            color='blue', marker='o', \n",
    "            markersize=5, \n",
    "            label='training accuracy')\n",
    "    plt.fill_between(train_sizes, \n",
    "                  train_mean + train_std,\n",
    "                   train_mean - train_std, alpha=0.15, color='blue')\n",
    "\n",
    "    plt.plot(train_sizes, test_mean, \n",
    "              color='green', linestyle='--', \n",
    "              marker='s', markersize=5, \n",
    "             label='validation accuracy')\n",
    "    plt.fill_between(train_sizes, \n",
    "                      test_mean + test_std,\n",
    "                     test_mean - test_std, \n",
    "                    alpha=0.15, color='green')\n",
    "    plt.xlabel('Number of training samples')\n",
    "    plt.ylabel('Accuracy')\n",
    "    plt.show()\n",
    "plotCurve(train_mean,train_std,test_mean,test_std,train_sizes)\n"
   ]
  },
  {
   "cell_type": "code",
   "execution_count": 8,
   "metadata": {
    "collapsed": false
   },
   "outputs": [],
   "source": [
    "from sklearn.cross_validation import StratifiedKFold\n",
    "def crossValidate(mlp, X,y):\n",
    "    y_label = np.argmax(y,axis=1)\n",
    "\n",
    "    kfold = StratifiedKFold(y=y_label, \n",
    "                             n_folds=10,\n",
    "                            random_state=1)\n",
    "\n",
    "    scores = []\n",
    "    train_scores=[]\n",
    "    for k, (train, test) in enumerate(kfold):\n",
    "\n",
    "        mlp.fit(X[train], y[train])\n",
    "        score = mlp.score(X[test], y[test])\n",
    "        train_scores.append(mlp.score(X[train],y[train]))\n",
    "        scores.append(score)\n",
    "        print('Fold: %s, Class dist.: %s, Acc: %.3f' % (k+1, \n",
    "                    np.bincount(y_label[train]), score))    \n",
    "    return train_scores,scores\n",
    "\n"
   ]
  },
  {
   "cell_type": "code",
   "execution_count": 19,
   "metadata": {
    "collapsed": false
   },
   "outputs": [
    {
     "name": "stdout",
     "output_type": "stream",
     "text": [
      "{'batch_size': 'auto', 'power_t': 0.5, 'nesterovs_momentum': True, 'validation_fraction': 0.1, 'warm_start': False, 'random_state': None, 'verbose': 3, 'learning_rate_init': 0.01, 'hidden_layer_sizes': (33,), 'early_stopping': True, 'alpha': 0.0030000000000000001, 'beta_2': 0.999, 'activation': 'logistic', 'shuffle': True, 'beta_1': 0.9, 'momentum': 0.9, 'learning_rate': 'adaptive', 'tol': 0.0001, 'max_iter': 500, 'algorithm': 'l-bfgs', 'epsilon': 1e-08}\n",
      "Fold: 1, Class dist.: [154 258 188], Acc: 0.382\n",
      "Fold: 2, Class dist.: [154 258 188], Acc: 0.368\n",
      "Fold: 3, Class dist.: [155 258 188], Acc: 0.478\n",
      "Fold: 4, Class dist.: [155 258 188], Acc: 0.478\n",
      "Fold: 5, Class dist.: [155 258 188], Acc: 0.403\n",
      "Fold: 6, Class dist.: [155 258 188], Acc: 0.343\n",
      "Fold: 7, Class dist.: [155 258 188], Acc: 0.358\n",
      "Fold: 8, Class dist.: [155 259 188], Acc: 0.364\n",
      "Fold: 9, Class dist.: [155 259 188], Acc: 0.394\n",
      "Fold: 10, Class dist.: [155 259 189], Acc: 0.354\n",
      "lamda: 0.003, train: 0.8241800612005671, test: 0.39211234039592247\n",
      "{'batch_size': 'auto', 'power_t': 0.5, 'nesterovs_momentum': True, 'validation_fraction': 0.1, 'warm_start': False, 'random_state': None, 'verbose': 3, 'learning_rate_init': 0.01, 'hidden_layer_sizes': (33,), 'early_stopping': True, 'alpha': 0.001, 'beta_2': 0.999, 'activation': 'logistic', 'shuffle': True, 'beta_1': 0.9, 'momentum': 0.9, 'learning_rate': 'adaptive', 'tol': 0.0001, 'max_iter': 500, 'algorithm': 'l-bfgs', 'epsilon': 1e-08}\n",
      "Fold: 1, Class dist.: [154 258 188], Acc: 0.441\n",
      "Fold: 2, Class dist.: [154 258 188], Acc: 0.397\n",
      "Fold: 3, Class dist.: [155 258 188], Acc: 0.433\n",
      "Fold: 4, Class dist.: [155 258 188], Acc: 0.448\n",
      "Fold: 5, Class dist.: [155 258 188], Acc: 0.343\n",
      "Fold: 6, Class dist.: [155 258 188], Acc: 0.373\n",
      "Fold: 7, Class dist.: [155 258 188], Acc: 0.373\n",
      "Fold: 8, Class dist.: [155 259 188], Acc: 0.379\n",
      "Fold: 9, Class dist.: [155 259 188], Acc: 0.348\n",
      "Fold: 10, Class dist.: [155 259 189], Acc: 0.400\n",
      "lamda: 0.001, train: 0.8241800612005671, test: 0.3935657275121718\n",
      "{'batch_size': 'auto', 'power_t': 0.5, 'nesterovs_momentum': True, 'validation_fraction': 0.1, 'warm_start': False, 'random_state': None, 'verbose': 3, 'learning_rate_init': 0.01, 'hidden_layer_sizes': (33,), 'early_stopping': True, 'alpha': 0.0030000000000000001, 'beta_2': 0.999, 'activation': 'logistic', 'shuffle': True, 'beta_1': 0.9, 'momentum': 0.9, 'learning_rate': 'adaptive', 'tol': 0.0001, 'max_iter': 500, 'algorithm': 'l-bfgs', 'epsilon': 1e-08}\n",
      "Fold: 1, Class dist.: [154 258 188], Acc: 0.382\n",
      "Fold: 2, Class dist.: [154 258 188], Acc: 0.397\n",
      "Fold: 3, Class dist.: [155 258 188], Acc: 0.373\n",
      "Fold: 4, Class dist.: [155 258 188], Acc: 0.493\n",
      "Fold: 5, Class dist.: [155 258 188], Acc: 0.403\n",
      "Fold: 6, Class dist.: [155 258 188], Acc: 0.358\n",
      "Fold: 7, Class dist.: [155 258 188], Acc: 0.328\n",
      "Fold: 8, Class dist.: [155 259 188], Acc: 0.394\n",
      "Fold: 9, Class dist.: [155 259 188], Acc: 0.470\n",
      "Fold: 10, Class dist.: [155 259 189], Acc: 0.400\n",
      "lamda: 0.003, train: 0.8241800612005671, test: 0.39982720089392604\n",
      "{'batch_size': 'auto', 'power_t': 0.5, 'nesterovs_momentum': True, 'validation_fraction': 0.1, 'warm_start': False, 'random_state': None, 'verbose': 3, 'learning_rate_init': 0.01, 'hidden_layer_sizes': (33,), 'early_stopping': True, 'alpha': 0.01, 'beta_2': 0.999, 'activation': 'logistic', 'shuffle': True, 'beta_1': 0.9, 'momentum': 0.9, 'learning_rate': 'adaptive', 'tol': 0.0001, 'max_iter': 500, 'algorithm': 'l-bfgs', 'epsilon': 1e-08}\n",
      "Fold: 1, Class dist.: [154 258 188], Acc: 0.382\n",
      "Fold: 2, Class dist.: [154 258 188], Acc: 0.397\n",
      "Fold: 3, Class dist.: [155 258 188], Acc: 0.448\n",
      "Fold: 4, Class dist.: [155 258 188], Acc: 0.448\n",
      "Fold: 5, Class dist.: [155 258 188], Acc: 0.403\n",
      "Fold: 6, Class dist.: [155 258 188], Acc: 0.373\n",
      "Fold: 7, Class dist.: [155 258 188], Acc: 0.343\n",
      "Fold: 8, Class dist.: [155 259 188], Acc: 0.348\n",
      "Fold: 9, Class dist.: [155 259 188], Acc: 0.439\n",
      "Fold: 10, Class dist.: [155 259 189], Acc: 0.415\n",
      "lamda: 0.01, train: 0.8241800612005671, test: 0.39976005411036136\n",
      "{'batch_size': 'auto', 'power_t': 0.5, 'nesterovs_momentum': True, 'validation_fraction': 0.1, 'warm_start': False, 'random_state': None, 'verbose': 3, 'learning_rate_init': 0.01, 'hidden_layer_sizes': (33,), 'early_stopping': True, 'alpha': 0.029999999999999999, 'beta_2': 0.999, 'activation': 'logistic', 'shuffle': True, 'beta_1': 0.9, 'momentum': 0.9, 'learning_rate': 'adaptive', 'tol': 0.0001, 'max_iter': 500, 'algorithm': 'l-bfgs', 'epsilon': 1e-08}\n",
      "Fold: 1, Class dist.: [154 258 188], Acc: 0.338\n",
      "Fold: 2, Class dist.: [154 258 188], Acc: 0.412\n",
      "Fold: 3, Class dist.: [155 258 188], Acc: 0.418\n",
      "Fold: 4, Class dist.: [155 258 188], Acc: 0.507\n",
      "Fold: 5, Class dist.: [155 258 188], Acc: 0.418\n",
      "Fold: 6, Class dist.: [155 258 188], Acc: 0.343\n",
      "Fold: 7, Class dist.: [155 258 188], Acc: 0.343\n",
      "Fold: 8, Class dist.: [155 259 188], Acc: 0.379\n",
      "Fold: 9, Class dist.: [155 259 188], Acc: 0.394\n",
      "Fold: 10, Class dist.: [155 259 189], Acc: 0.400\n",
      "lamda: 0.03, train: 0.8241800612005671, test: 0.3952578018995929\n",
      "{'batch_size': 'auto', 'power_t': 0.5, 'nesterovs_momentum': True, 'validation_fraction': 0.1, 'warm_start': False, 'random_state': None, 'verbose': 3, 'learning_rate_init': 0.01, 'hidden_layer_sizes': (33,), 'early_stopping': True, 'alpha': 0.10000000000000001, 'beta_2': 0.999, 'activation': 'logistic', 'shuffle': True, 'beta_1': 0.9, 'momentum': 0.9, 'learning_rate': 'adaptive', 'tol': 0.0001, 'max_iter': 500, 'algorithm': 'l-bfgs', 'epsilon': 1e-08}\n",
      "Fold: 1, Class dist.: [154 258 188], Acc: 0.397\n",
      "Fold: 2, Class dist.: [154 258 188], Acc: 0.426\n",
      "Fold: 3, Class dist.: [155 258 188], Acc: 0.478\n",
      "Fold: 4, Class dist.: [155 258 188], Acc: 0.403\n",
      "Fold: 5, Class dist.: [155 258 188], Acc: 0.448\n",
      "Fold: 6, Class dist.: [155 258 188], Acc: 0.403\n",
      "Fold: 7, Class dist.: [155 258 188], Acc: 0.343\n",
      "Fold: 8, Class dist.: [155 259 188], Acc: 0.364\n",
      "Fold: 9, Class dist.: [155 259 188], Acc: 0.470\n",
      "Fold: 10, Class dist.: [155 259 189], Acc: 0.385\n",
      "lamda: 0.1, train: 0.8241800612005671, test: 0.4116104995385066\n",
      "{'batch_size': 'auto', 'power_t': 0.5, 'nesterovs_momentum': True, 'validation_fraction': 0.1, 'warm_start': False, 'random_state': None, 'verbose': 3, 'learning_rate_init': 0.01, 'hidden_layer_sizes': (33,), 'early_stopping': True, 'alpha': 0.29999999999999999, 'beta_2': 0.999, 'activation': 'logistic', 'shuffle': True, 'beta_1': 0.9, 'momentum': 0.9, 'learning_rate': 'adaptive', 'tol': 0.0001, 'max_iter': 500, 'algorithm': 'l-bfgs', 'epsilon': 1e-08}\n",
      "Fold: 1, Class dist.: [154 258 188], Acc: 0.412\n",
      "Fold: 2, Class dist.: [154 258 188], Acc: 0.397\n",
      "Fold: 3, Class dist.: [155 258 188], Acc: 0.448\n",
      "Fold: 4, Class dist.: [155 258 188], Acc: 0.433\n",
      "Fold: 5, Class dist.: [155 258 188], Acc: 0.507\n",
      "Fold: 6, Class dist.: [155 258 188], Acc: 0.388\n",
      "Fold: 7, Class dist.: [155 258 188], Acc: 0.343\n",
      "Fold: 8, Class dist.: [155 259 188], Acc: 0.394\n",
      "Fold: 9, Class dist.: [155 259 188], Acc: 0.424\n",
      "Fold: 10, Class dist.: [155 259 189], Acc: 0.415\n",
      "lamda: 0.3, train: 0.8205236349691392, test: 0.4161792948052825\n"
     ]
    }
   ],
   "source": [
    "def lamda_test(mlp, X, y, lamdas):\n",
    "    \n",
    "    train_scores=[]\n",
    "    test_scores=[]\n",
    "    for lamda in lamdas:\n",
    "        mlp.set_params(alpha= lamda)\n",
    "        print(mlp.get_params())\n",
    "        train_s, test_s = crossValidate(mlp,X,y)\n",
    "        train_scores.append(train_s)\n",
    "        test_scores.append(test_s)\n",
    "        print(\"lamda: {}, train: {}, test: {}\".format(lamda, \n",
    "                    np.mean(train_s), np.mean(test_s)) )\n",
    "    return np.array(train_scores),np.array(test_scores)\n",
    "\n",
    "l_range = np.array([0.0003,0.001,0.003,0.01,0.03,0.1,0.3])\n",
    "train_scores,test_scores = lamda_test(mlp,X,y,l_range)\n",
    "    "
   ]
  },
  {
   "cell_type": "code",
   "execution_count": 20,
   "metadata": {
    "collapsed": false
   },
   "outputs": [
    {
     "name": "stdout",
     "output_type": "stream",
     "text": [
      "(7,)\n",
      "(7,)\n"
     ]
    },
    {
     "data": {
      "image/png": "[encoded data removed]",
      "text/plain": [
       "<matplotlib.figure.Figure at 0x7f8383b424a8>"
      ]
     },
     "metadata": {},
     "output_type": "display_data"
    }
   ],
   "source": [
    "train_mean = np.mean(train_scores, axis=1)\n",
    "train_std = np.std(train_scores, axis=1)\n",
    "test_mean = np.mean(test_scores, axis=1)\n",
    "test_std = np.std(test_scores, axis=1)\n",
    "\n",
    "print(train_mean.shape)\n",
    "print(l_range.shape)\n",
    "#plotCurve(train_mean,train_std,test_mean,test_std,l_range)\n",
    "plt.plot(l_range, train_mean, \n",
    "        color='blue', marker='o', \n",
    "        markersize=5, \n",
    "        label='training accuracy')\n",
    "plt.fill_between(l_range, \n",
    "              train_mean + train_std,\n",
    "               train_mean - train_std, alpha=0.15, color='blue')\n",
    "\n",
    "plt.plot(l_range, test_mean, \n",
    "          color='green', linestyle='--', \n",
    "          marker='s', markersize=5, \n",
    "         label='validation accuracy')\n",
    "plt.fill_between(l_range, \n",
    "                  test_mean + test_std,\n",
    "                 test_mean - test_std, \n",
    "                alpha=0.15, color='green')\n",
    "plt.xlabel('lamda')\n",
    "plt.ylabel('Accuracy')\n",
    "plt.show()\n"
   ]
  },
  {
   "cell_type": "code",
   "execution_count": 30,
   "metadata": {
    "collapsed": true
   },
   "outputs": [],
   "source": [
    "from sklearn.cross_validation import train_test_split\n",
    "X_train, X_test , y_train, y_test = train_test_split(X,y,test_size =0.3)\n",
    "\n"
   ]
  },
  {
   "cell_type": "code",
   "execution_count": 31,
   "metadata": {
    "collapsed": false
   },
   "outputs": [
    {
     "data": {
      "text/plain": [
       "SoftMaxMLPClassifier(activation='logistic', algorithm='l-bfgs',\n",
       "           alpha=0.29999999999999999, batch_size='auto', beta_1=0.9,\n",
       "           beta_2=0.999, early_stopping=True, epsilon=1e-08,\n",
       "           hidden_layer_sizes=(33,), learning_rate='adaptive',\n",
       "           learning_rate_init=0.01, max_iter=500, momentum=0.9,\n",
       "           nesterovs_momentum=True, power_t=0.5, random_state=None,\n",
       "           shuffle=True, tol=0.0001, validation_fraction=0.1, verbose=3,\n",
       "           warm_start=False)"
      ]
     },
     "execution_count": 31,
     "metadata": {},
     "output_type": "execute_result"
    }
   ],
   "source": [
    "mlp.fit(X_train, y_train)"
   ]
  },
  {
   "cell_type": "code",
   "execution_count": 51,
   "metadata": {
    "collapsed": false
   },
   "outputs": [],
   "source": [
    "res = mlp.predict_proba(X_test)\n"
   ]
  },
  {
   "cell_type": "code",
   "execution_count": 52,
   "metadata": {
    "collapsed": false
   },
   "outputs": [
    {
     "name": "stdout",
     "output_type": "stream",
     "text": [
      "0.417910447761\n"
     ]
    }
   ],
   "source": [
    "predicted = mlp.predict(X_test)\n",
    "print(mlp.score(X_test, y_test))"
   ]
  },
  {
   "cell_type": "code",
   "execution_count": 53,
   "metadata": {
    "collapsed": false
   },
   "outputs": [
    {
     "data": {
      "text/plain": [
       "0.4048500334607813"
      ]
     },
     "execution_count": 53,
     "metadata": {},
     "output_type": "execute_result"
    }
   ],
   "source": [
    "likehoodScore(res,y_test)"
   ]
  },
  {
   "cell_type": "code",
   "execution_count": 55,
   "metadata": {
    "collapsed": false
   },
   "outputs": [
    {
     "name": "stdout",
     "output_type": "stream",
     "text": [
      "-------------\n",
      "West Ham vs Man United\n",
      "[ 0.4396892  0.5512534  0.0090574] vs [ True False False]\n",
      "-------------\n",
      "Liverpool vs Tottenham\n",
      "[ 0.01128737  0.01162487  0.97708775] vs [False  True False]\n",
      "-------------\n",
      "Southampton vs Tottenham\n",
      "[ 0.65228791  0.14496271  0.20274938] vs [False False  True]\n",
      "-------------\n",
      "Burnley vs Man City\n",
      "[ 0.03346044  0.00760759  0.95893198] vs [False  True False]\n",
      "-------------\n",
      "Stoke vs Chelsea\n",
      "[ 0.00841913  0.95565511  0.03592576] vs [False False  True]\n",
      "-------------\n",
      "Newcastle vs Leicester\n",
      "[ 0.10665693  0.05961582  0.83372725] vs [False  True False]\n",
      "-------------\n",
      "Chelsea vs Stoke\n",
      "[ 0.85155974  0.14392032  0.00451994] vs [False  True False]\n",
      "-------------\n",
      "Man United vs Man City\n",
      "[ 0.00174322  0.99299642  0.00526036] vs [ True False False]\n",
      "-------------\n",
      "Burnley vs Crystal Palace\n",
      "[ 0.4133501   0.38600537  0.20064453] vs [False False  True]\n",
      "-------------\n",
      "Everton vs Leicester\n",
      "[ 0.91373153  0.01806048  0.068208  ] vs [False False  True]\n",
      "-------------\n",
      "Hull vs Chelsea\n",
      "[ 0.80927809  0.09442385  0.09629806] vs [False False  True]\n",
      "-------------\n",
      "Aston Villa vs Man United\n",
      "[ 0.99201057  0.00314467  0.00484476] vs [False False  True]\n",
      "-------------\n",
      "Sunderland vs Tottenham\n",
      "[ 0.11257797  0.00222452  0.88519751] vs [ True False False]\n",
      "-------------\n",
      "Burnley vs Chelsea\n",
      "[ 0.84153112  0.05890148  0.0995674 ] vs [False False  True]\n",
      "-------------\n",
      "Southampton vs Sunderland\n",
      "[ 0.95044223  0.03203626  0.01752152] vs [False  True False]\n",
      "-------------\n",
      "West Ham vs Crystal Palace\n",
      "[ 0.10157143  0.76107532  0.13735325] vs [False False  True]\n",
      "-------------\n",
      "Aston Villa vs Norwich\n",
      "[ 0.48931746  0.25094328  0.25973926] vs [False  True False]\n",
      "-------------\n",
      "Man United vs Swansea\n",
      "[ 0.00357685  0.98803752  0.00838563] vs [False False  True]\n",
      "-------------\n",
      "Southampton vs Man United\n",
      "[ 0.35542974  0.40448278  0.24008749] vs [False False  True]\n",
      "-------------\n",
      "West Brom vs QPR\n",
      "[  1.84439123e-03   9.97301566e-01   8.54043038e-04] vs [False False  True]\n",
      "-------------\n",
      "Man United vs Newcastle\n",
      "[  2.01125342e-04   9.99721617e-01   7.72580558e-05] vs [ True False False]\n",
      "-------------\n",
      "Stoke vs West Ham\n",
      "[ 0.04049119  0.70844999  0.25105882] vs [ True False False]\n",
      "-------------\n",
      "Liverpool vs West Brom\n",
      "[ 0.07594442  0.84591725  0.07813833] vs [ True False False]\n",
      "-------------\n",
      "West Ham vs Bournemouth\n",
      "[ 0.00866435  0.9694515   0.02188414] vs [False False  True]\n",
      "-------------\n",
      "Chelsea vs Liverpool\n",
      "[ 0.01696943  0.92563067  0.0573999 ] vs [False False  True]\n",
      "-------------\n",
      "Stoke vs Arsenal\n",
      "[ 0.0165309   0.92730278  0.05616632] vs [ True False False]\n",
      "-------------\n",
      "Newcastle vs Man United\n",
      "[ 0.96691224  0.00332499  0.02976277] vs [False False  True]\n",
      "-------------\n",
      "Sunderland vs Aston Villa\n",
      "[ 0.13997313  0.06905998  0.79096688] vs [False  True False]\n",
      "-------------\n",
      "Leicester vs Crystal Palace\n",
      "[ 0.85366091  0.13352209  0.012817  ] vs [False  True False]\n",
      "-------------\n",
      "Norwich vs Leicester\n",
      "[ 0.67259803  0.253789    0.07361298] vs [False False  True]\n",
      "-------------\n",
      "Stoke vs West Brom\n",
      "[ 0.10825885  0.06666965  0.82507151] vs [False  True False]\n",
      "-------------\n",
      "West Brom vs Liverpool\n",
      "[ 0.07452344  0.05848468  0.86699187] vs [ True False False]\n",
      "-------------\n",
      "QPR vs Hull\n",
      "[ 0.06058837  0.48000284  0.45940879] vs [False False  True]\n",
      "-------------\n",
      "Arsenal vs Tottenham\n",
      "[ 0.0591649   0.01555272  0.92528238] vs [ True False False]\n",
      "-------------\n",
      "Hull vs Stoke\n",
      "[ 0.05300901  0.14696801  0.80002297] vs [ True False False]\n",
      "-------------\n",
      "Crystal Palace vs Southampton\n",
      "[ 0.64158844  0.03059535  0.32781621] vs [False False  True]\n",
      "-------------\n",
      "QPR vs Man City\n",
      "[ 0.00223893  0.74657989  0.25118118] vs [ True False False]\n",
      "-------------\n",
      "Leicester vs Burnley\n",
      "[  3.13900049e-02   9.68181341e-01   4.28654006e-04] vs [ True False False]\n",
      "-------------\n",
      "West Ham vs Arsenal\n",
      "[ 0.04259249  0.48196777  0.47543974] vs [False False  True]\n",
      "-------------\n",
      "Man City vs Arsenal\n",
      "[ 0.12789725  0.81649145  0.0556113 ] vs [False False  True]\n",
      "-------------\n",
      "Everton vs Swansea\n",
      "[ 0.03543114  0.0407693   0.92379955] vs [ True False False]\n",
      "-------------\n",
      "QPR vs Everton\n",
      "[ 0.64526899  0.15780527  0.19692574] vs [False False  True]\n",
      "-------------\n",
      "Chelsea vs Bournemouth\n",
      "[ 0.13950787  0.85016867  0.01032346] vs [False False  True]\n",
      "-------------\n",
      "West Ham vs Leicester\n",
      "[ 0.15366994  0.1992287   0.64710135] vs [False  True False]\n",
      "-------------\n",
      "Arsenal vs Liverpool\n",
      "[ 0.87231128  0.08627425  0.04141447] vs [False  True False]\n",
      "-------------\n",
      "Liverpool vs Bournemouth\n",
      "[ 0.5215514   0.42965948  0.04878911] vs [False  True False]\n",
      "-------------\n",
      "Newcastle vs West Brom\n",
      "[ 0.2731193   0.69377246  0.03310824] vs [ True False False]\n",
      "-------------\n",
      "Arsenal vs Man City\n",
      "[ 0.74427361  0.17867236  0.07705403] vs [False  True False]\n",
      "-------------\n",
      "Swansea vs Leicester\n",
      "[ 0.12392119  0.85306793  0.02301089] vs [False False  True]\n",
      "-------------\n",
      "West Ham vs Everton\n",
      "[ 0.02183637  0.2047121   0.77345153] vs [ True False False]\n",
      "-------------\n",
      "Everton vs Chelsea\n",
      "[ 0.090851    0.88456557  0.02458343] vs [False False  True]\n",
      "-------------\n",
      "Tottenham vs Aston Villa\n",
      "[ 0.06517524  0.34015725  0.59466751] vs [False  True False]\n",
      "-------------\n",
      "Southampton vs Stoke\n",
      "[ 0.03014257  0.90575734  0.06410009] vs [False False  True]\n",
      "-------------\n",
      "Everton vs Tottenham\n",
      "[ 0.00804993  0.00710323  0.98484684] vs [ True False False]\n",
      "-------------\n",
      "West Brom vs Chelsea\n",
      "[ 0.07068328  0.90473861  0.02457811] vs [False False  True]\n",
      "-------------\n",
      "Hull vs Burnley\n",
      "[ 0.04204428  0.93545483  0.02250089] vs [False False  True]\n",
      "-------------\n",
      "Aston Villa vs West Ham\n",
      "[ 0.9203307   0.01455227  0.06511702] vs [False  True False]\n",
      "-------------\n",
      "Tottenham vs Man United\n",
      "[ 0.00555041  0.98986093  0.00458866] vs [ True False False]\n",
      "-------------\n",
      "Stoke vs Aston Villa\n",
      "[ 0.05310566  0.61116686  0.33572749] vs [False False  True]\n",
      "-------------\n",
      "Crystal Palace vs Man City\n",
      "[ 0.00928873  0.93457076  0.05614051] vs [False False  True]\n",
      "-------------\n",
      "Chelsea vs Man City\n",
      "[ 0.01392876  0.93227493  0.05379631] vs [ True False False]\n",
      "-------------\n",
      "Watford vs Man City\n",
      "[ 0.14939717  0.51479743  0.3358054 ] vs [False False  True]\n",
      "-------------\n",
      "West Ham vs Southampton\n",
      "[ 0.05123449  0.94675141  0.0020141 ] vs [False False  True]\n",
      "-------------\n",
      "Crystal Palace vs Tottenham\n",
      "[  2.17156676e-03   6.23711966e-04   9.97204721e-01] vs [False  True False]\n",
      "-------------\n",
      "Man City vs Leicester\n",
      "[  3.61997921e-02   9.63515603e-01   2.84604993e-04] vs [False False  True]\n",
      "-------------\n",
      "Everton vs West Ham\n",
      "[ 0.02249199  0.32703013  0.65047788] vs [False  True False]\n",
      "-------------\n",
      "Leicester vs Sunderland\n",
      "[ 0.01299175  0.9844262   0.00258205] vs [ True False False]\n",
      "-------------\n",
      "West Ham vs Chelsea\n",
      "[ 0.02843398  0.9593446   0.01222142] vs [False False  True]\n",
      "-------------\n",
      "Newcastle vs Chelsea\n",
      "[ 0.04886574  0.81471488  0.13641938] vs [ True False False]\n",
      "-------------\n",
      "West Ham vs Man City\n",
      "[ 0.0202557   0.91949613  0.06024816] vs [ True False False]\n",
      "-------------\n",
      "Crystal Palace vs Southampton\n",
      "[ 0.64158844  0.03059535  0.32781621] vs [False  True False]\n",
      "-------------\n",
      "Arsenal vs Sunderland\n",
      "[ 0.95269159  0.02345277  0.02385564] vs [False  True False]\n",
      "-------------\n",
      "Burnley vs Newcastle\n",
      "[ 0.04202425  0.65357332  0.30440243] vs [ True False False]\n",
      "-------------\n",
      "Burnley vs West Ham\n",
      "[  9.97872093e-01   9.26743257e-04   1.20116378e-03] vs [False False  True]\n",
      "-------------\n",
      "Swansea vs Watford\n",
      "[ 0.12121953  0.41014633  0.46863414] vs [False  True False]\n",
      "-------------\n",
      "Liverpool vs Norwich\n",
      "[ 0.01854931  0.36202856  0.61942213] vs [ True False False]\n",
      "-------------\n",
      "Burnley vs Swansea\n",
      "[ 0.27513812  0.65024053  0.07462135] vs [False False  True]\n",
      "-------------\n",
      "Liverpool vs West Ham\n",
      "[ 0.01840982  0.02656486  0.95502532] vs [False  True False]\n",
      "-------------\n",
      "Southampton vs West Ham\n",
      "[ 0.9889344   0.00952828  0.00153732] vs [False  True False]\n",
      "-------------\n",
      "Sunderland vs Bournemouth\n",
      "[ 0.29386756  0.32233653  0.38379591] vs [ True False False]\n",
      "-------------\n",
      "Leicester vs West Brom\n",
      "[ 0.93915002  0.04403945  0.01681053] vs [False False  True]\n",
      "-------------\n",
      "Tottenham vs West Brom\n",
      "[ 0.01296135  0.98503438  0.00200427] vs [False False  True]\n",
      "-------------\n",
      "West Brom vs West Ham\n",
      "[ 0.91230448  0.0853112   0.00238432] vs [False False  True]\n",
      "-------------\n",
      "West Brom vs Sunderland\n",
      "[ 0.94077984  0.02587993  0.03334023] vs [False  True False]\n",
      "-------------\n",
      "Southampton vs Everton\n",
      "[ 0.06480976  0.89785253  0.03733771] vs [False False  True]\n",
      "-------------\n",
      "Stoke vs Sunderland\n",
      "[ 0.00636923  0.8229057   0.17072507] vs [ True False False]\n",
      "-------------\n",
      "Sunderland vs Southampton\n",
      "[ 0.03416431  0.826354    0.13948169] vs [False False  True]\n",
      "-------------\n",
      "Crystal Palace vs Burnley\n",
      "[ 0.02387816  0.21601837  0.76010347] vs [ True False False]\n",
      "-------------\n",
      "Tottenham vs Stoke\n",
      "[ 0.01243367  0.18099196  0.80657437] vs [ True False False]\n",
      "-------------\n",
      "Hull vs Leicester\n",
      "[ 0.08149912  0.88345921  0.03504167] vs [False False  True]\n",
      "-------------\n",
      "Arsenal vs Tottenham\n",
      "[ 0.0591649   0.01555272  0.92528238] vs [ True False False]\n",
      "-------------\n",
      "West Ham vs Tottenham\n",
      "[ 0.02284369  0.76339705  0.21375926] vs [False False  True]\n",
      "-------------\n",
      "Swansea vs Bournemouth\n",
      "[ 0.18181222  0.78093499  0.03725279] vs [ True False False]\n",
      "-------------\n",
      "Watford vs Arsenal\n",
      "[ 0.67934415  0.05111075  0.2695451 ] vs [False False  True]\n",
      "-------------\n",
      "Swansea vs Arsenal\n",
      "[ 0.02138853  0.92140541  0.05720606] vs [False False  True]\n",
      "-------------\n",
      "Crystal Palace vs Newcastle\n",
      "[ 0.63761967  0.18152852  0.1808518 ] vs [False  True False]\n",
      "-------------\n",
      "Burnley vs Tottenham\n",
      "[ 0.14478977  0.00216389  0.85304634] vs [ True False False]\n",
      "-------------\n",
      "Leicester vs Crystal Palace\n",
      "[ 0.85366091  0.13352209  0.012817  ] vs [False False  True]\n",
      "-------------\n",
      "Norwich vs West Brom\n",
      "[ 0.9374236   0.05767832  0.00489808] vs [False False  True]\n",
      "-------------\n",
      "Arsenal vs Chelsea\n",
      "[ 0.92391256  0.03336556  0.04272188] vs [False False  True]\n",
      "-------------\n",
      "Chelsea vs Burnley\n",
      "[ 0.06038537  0.8774183   0.06219633] vs [ True False False]\n",
      "-------------\n",
      "Man City vs Everton\n",
      "[ 0.08920602  0.90800903  0.00278495] vs [ True False False]\n",
      "-------------\n",
      "QPR vs Swansea\n",
      "[ 0.01096131  0.83037716  0.15866154] vs [ True False False]\n",
      "-------------\n",
      "Leicester vs Liverpool\n",
      "[ 0.03230554  0.00565985  0.96203461] vs [False  True False]\n",
      "-------------\n",
      "Stoke vs Man United\n",
      "[ 0.7593188   0.16885736  0.07182384] vs [False  True False]\n",
      "-------------\n",
      "QPR vs Stoke\n",
      "[ 0.01587682  0.06773245  0.91639073] vs [ True False False]\n",
      "-------------\n",
      "Hull vs West Brom\n",
      "[ 0.11771117  0.87537829  0.00691054] vs [ True False False]\n",
      "-------------\n",
      "Aston Villa vs West Brom\n",
      "[ 0.09864287  0.88082577  0.02053136] vs [False False  True]\n",
      "-------------\n",
      "Newcastle vs Everton\n",
      "[ 0.00879735  0.0146128   0.97658985] vs [False  True False]\n",
      "-------------\n",
      "Chelsea vs Crystal Palace\n",
      "[ 0.39990199  0.10183515  0.49826286] vs [False  True False]\n",
      "-------------\n",
      "Tottenham vs Leicester\n",
      "[ 0.00965983  0.98731169  0.00302848] vs [False False  True]\n",
      "-------------\n",
      "Aston Villa vs Burnley\n",
      "[ 0.32907354  0.66181754  0.00910892] vs [False False  True]\n",
      "-------------\n",
      "West Brom vs Bournemouth\n",
      "[ 0.02156369  0.58883079  0.38960552] vs [False False  True]\n",
      "-------------\n",
      "Aston Villa vs Crystal Palace\n",
      "[ 0.96446047  0.01592231  0.01961723] vs [False  True False]\n",
      "-------------\n",
      "Tottenham vs Arsenal\n",
      "[ 0.00217207  0.96314273  0.0346852 ] vs [ True False False]\n",
      "-------------\n",
      "West Brom vs Arsenal\n",
      "[ 0.01382616  0.05791498  0.92825886] vs [False  True False]\n",
      "-------------\n",
      "Chelsea vs Liverpool\n",
      "[ 0.01696943  0.92563067  0.0573999 ] vs [ True False False]\n"
     ]
    }
   ],
   "source": [
    "home_teams_test = np.argmax(X_test[:,0:len(c.teamsMap)],axis=1)\n",
    "away_teams_test = np.argmax(X_test[:,len(c.teamsMap):len(c.teamsMap)*2],axis=1)\n",
    "inverseMap ={}\n",
    "for name in c.teamsMap.keys():        \n",
    "    inverseMap[c.teamsMap[name]] = name\n",
    "\n",
    "home_name =[]\n",
    "away_name =[]\n",
    "for i in range(home_teams_test.shape[0]):         \n",
    "    home_name.append(inverseMap[home_teams_test[i]])\n",
    "    away_name.append(inverseMap[away_teams_test[i]])\n",
    "pre_y = np.argmax(predicted,axis=1)\n",
    "real_y = np.argmax(y_test,axis=1)\n",
    "for i in range(predicted.shape[0]):\n",
    "    if pre_y[i] != real_y[i]:\n",
    "        print('-------------')\n",
    "        print(\"{} vs {}\".format(home_name[i],away_name[i]))\n",
    "        print(\"{} vs {}\".format(res[i],y_test[i]))\n",
    "    "
   ]
  },
  {
   "cell_type": "code",
   "execution_count": 62,
   "metadata": {
    "collapsed": false
   },
   "outputs": [],
   "source": [
    "#c.df[(c.df['HomeTeam'] == 'West Brom') | (c.df['AwayTeam']=='West Brom')]"
   ]
  },
  {
   "cell_type": "code",
   "execution_count": null,
   "metadata": {
    "collapsed": false
   },
   "outputs": [],
   "source": []
  },
  {
   "cell_type": "code",
   "execution_count": null,
   "metadata": {
    "collapsed": true
   },
   "outputs": [],
   "source": []
  }
 ],
 "metadata": {
  "kernelspec": {
   "display_name": "Python 3",
   "language": "python",
   "name": "python3"
  },
  "language_info": {
   "codemirror_mode": {
    "name": "ipython",
    "version": 3
   },
   "file_extension": ".py",
   "mimetype": "text/x-python",
   "name": "python",
   "nbconvert_exporter": "python",
   "pygments_lexer": "ipython3",
   "version": "3.5.1"
  }
 },
 "nbformat": 4,
 "nbformat_minor": 0
}
