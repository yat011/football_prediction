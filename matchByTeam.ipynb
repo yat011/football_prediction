{
 "cells": [
  {
   "cell_type": "code",
   "execution_count": null,
   "metadata": {
    "collapsed": false
   },
   "outputs": [],
   "source": [
    "year =2015\n",
    "teamsListUrl = 'http://app.gooooal.com/competition.do?lid=4&sid={}&pid=6&lang=tr'.format(year)\n",
    "print(teamsListUrl)\n",
    "\n",
    "\n"
   ]
  },
  {
   "cell_type": "code",
   "execution_count": null,
   "metadata": {
    "collapsed": false
   },
   "outputs": [],
   "source": [
    "import urllib.request\n",
    "teamsRaw =urllib.request.urlopen(teamsListUrl).read()"
   ]
  },
  {
   "cell_type": "code",
   "execution_count": 5,
   "metadata": {
    "collapsed": false
   },
   "outputs": [],
   "source": [
    "import re\n",
    "import numpy as np\n",
    "import pandas as pd\n",
    "#panel = re.search('<div class=\\\"panel\\\">.*?<script',str(teamsRaw),flags=re.M)\n",
    "#print(panel.group(0))\n",
    "content=\"\"\n",
    "with open('temp.txt','r') as f:\n",
    "    content= f.read()\n",
    "\n",
    "reiter = re.finditer('<a href=\"javascript:toTeam\\((.*?),.*?\\)\">(.*?)</a></td>',str(content),flags=re.M)\n",
    "res = []\n",
    "for m in reiter:\n",
    "    res.append([m.group(1),m.group(2)])"
   ]
  },
  {
   "cell_type": "code",
   "execution_count": 6,
   "metadata": {
    "collapsed": false
   },
   "outputs": [
    {
     "name": "stdout",
     "output_type": "stream",
     "text": [
      "       0      1\n",
      "0    216     曼城\n",
      "1     52     曼聯\n",
      "2     61    阿仙奴\n",
      "3     66     熱刺\n",
      "4     63    紐卡素\n",
      "5     60    車路士\n",
      "6     73    愛華頓\n",
      "7     53    利物浦\n",
      "8    275     富咸\n",
      "9    278    西布朗\n",
      "10  7145    史雲斯\n",
      "11   291    諾域治\n",
      "12    96    新特蘭\n",
      "13  2297    史篤城\n",
      "14  3265     韋根\n",
      "15    70  阿士東維拉\n",
      "16   296  昆士柏流浪\n",
      "17   279     保頓\n",
      "18   281  布力般流浪\n",
      "19   290     狼隊\n"
     ]
    }
   ],
   "source": [
    "df = pd.DataFrame(res)\n",
    "df = df.drop_duplicates()\n",
    "print(df)"
   ]
  },
  {
   "cell_type": "code",
   "execution_count": 7,
   "metadata": {
    "collapsed": true
   },
   "outputs": [],
   "source": [
    "df.to_csv(\"1112.csv\",index=False)"
   ]
  },
  {
   "cell_type": "code",
   "execution_count": 25,
   "metadata": {
    "collapsed": false
   },
   "outputs": [
    {
     "name": "stdout",
     "output_type": "stream",
     "text": [
      "       0      1\n",
      "0    216     曼城\n",
      "1     52     曼聯\n",
      "2     61    阿仙奴\n",
      "3     66     熱刺\n",
      "4     63    紐卡素\n",
      "5     60    車路士\n",
      "6     73    愛華頓\n",
      "7     53    利物浦\n",
      "8    275     富咸\n",
      "9    278    西布朗\n",
      "10  7145    史雲斯\n",
      "11   291    諾域治\n",
      "12    96    新特蘭\n",
      "13  2297    史篤城\n",
      "14  3265     韋根\n",
      "15    70  阿士東維拉\n",
      "16   296  昆士柏流浪\n",
      "17   279     保頓\n",
      "18   281  布力般流浪\n",
      "19   290     狼隊\n",
      "9     98    韋斯咸\n",
      "13    94    修咸頓\n",
      "18  3154     雷丁\n",
      "10   292    水晶宮\n",
      "15  3908     侯城\n",
      "19  2302   卡迪夫城\n",
      "0     92   李斯特城\n",
      "12  7146   般尼茅夫\n",
      "13   276    屈福特\n",
      "       0               1\n",
      "0    216        Man City\n",
      "1     52      Man United\n",
      "2     61         Arsenal\n",
      "3     66       Tottenham\n",
      "4     63       Newcastle\n",
      "5     60         Chelsea\n",
      "6     73         Everton\n",
      "7     53       Liverpool\n",
      "8    275          Fulham\n",
      "9    278       West Brom\n",
      "10  7145         Swansea\n",
      "11   291         Norwich\n",
      "12    96      Sunderland\n",
      "13  2297      Stoke City\n",
      "14  3265           Wigan\n",
      "15    70     Aston Villa\n",
      "16   296             QPR\n",
      "17   279          Bolton\n",
      "18   281       Blackburn\n",
      "19   290          Wolves\n",
      "9     98        West Ham\n",
      "13    94     Southampton\n",
      "18  3154         Reading\n",
      "10   292  Crystal Palace\n",
      "15  3908            Hull\n",
      "19  2302         Cardiff\n",
      "0     92       Leicester\n",
      "12  7146     Bournemouth\n",
      "13   276         Watford\n"
     ]
    }
   ],
   "source": [
    "df = pd.read_csv('1112.csv').append(pd.read_csv('1213.csv')).append(\n",
    "    pd.read_csv('1314.csv')).append(pd.read_csv('1415.csv')).append(pd.read_csv('1516.csv')).drop_duplicates()\n",
    "print(df)\n",
    "df['1'] = df['1'].map(teamDict) \n",
    "print(df)"
   ]
  },
  {
   "cell_type": "code",
   "execution_count": 22,
   "metadata": {
    "collapsed": false
   },
   "outputs": [],
   "source": [
    "df.to_csv('teamId.csv')"
   ]
  },
  {
   "cell_type": "code",
   "execution_count": 24,
   "metadata": {
    "collapsed": false
   },
   "outputs": [
    {
     "name": "stdout",
     "output_type": "stream",
     "text": [
      "[[216 'Man City']\n",
      " [52 'Man United']\n",
      " [61 'Arsenal']\n",
      " [66 'Tottenham']\n",
      " [63 'Newcastle']\n",
      " [60 'Chelsea']\n",
      " [73 'Everton']\n",
      " [53 'Liverpool']\n",
      " [275 'Fulham']\n",
      " [278 'West Brom']\n",
      " [7145 'Swansea']\n",
      " [291 'Norwich']\n",
      " [96 'Sunderland']\n",
      " [2297 'Stoke City']\n",
      " [3265 'Wigan']\n",
      " [70 'Aston Villa']\n",
      " [296 'QPR']\n",
      " [279 'Bolton']\n",
      " [281 'Blackburn']\n",
      " [290 'Wolves']\n",
      " [98 'West Ham']\n",
      " [94 'Southampton']\n",
      " [3154 'Reading']\n",
      " [292 'Crystal Palace']\n",
      " [3908 'Hull']\n",
      " [2302 'Cardiff']\n",
      " [92 'Leicester']\n",
      " [7146 'Bournemouth']\n",
      " [276 'Watford']]\n",
      "Man City\n",
      "Man United\n",
      "Arsenal\n",
      "Tottenham\n",
      "Newcastle\n",
      "Chelsea\n",
      "Everton\n",
      "Liverpool\n",
      "Fulham\n",
      "West Brom\n",
      "Swansea\n",
      "Norwich\n",
      "Sunderland\n",
      "Stoke City\n",
      "Wigan\n",
      "Aston Villa\n",
      "QPR\n",
      "Bolton\n",
      "Blackburn\n",
      "Wolves\n",
      "West Ham\n",
      "Southampton\n",
      "Reading\n",
      "Crystal Palace\n",
      "Hull\n",
      "Cardiff\n",
      "Leicester\n",
      "Bournemouth\n",
      "Watford\n"
     ]
    }
   ],
   "source": [
    "teamMatchUrl = 'http://app.gooooal.com/teamAllMatch.do?sid={}&tid={}&t=0&lang=tr'\n",
    "teams = df.values\n",
    "print(teams)\n",
    "\n",
    "for i in range(teams.shape[0]):\n",
    "    thisDf = None\n",
    "    for year in range(2011,2016):\n",
    "        url = teamMatchUrl.format(year,teams[i,0])\n",
    "        tdf = pd.read_html(url,attrs={'id':'fb_match_odds_result_table_0_0'},encoding='UTF-8')[0]\n",
    "        tdf = tdf.drop(df.index[[0]])\n",
    "        if thisDf is None:\n",
    "            thisDf=tdf\n",
    "        else:\n",
    "            thisDf =thisDf.append(tdf)\n",
    "    print(teams[i,1])\n",
    "    thisDf.to_csv(\"teams/\"+teams[i,1]+\".csv\",index=False)\n",
    "    \n",
    "        \n"
   ]
  },
  {
   "cell_type": "code",
   "execution_count": 19,
   "metadata": {
    "collapsed": false
   },
   "outputs": [],
   "source": [
    "temp = pd.read_excel('teamNamesMapping.xlsx',header=None).values"
   ]
  },
  {
   "cell_type": "code",
   "execution_count": 20,
   "metadata": {
    "collapsed": false
   },
   "outputs": [
    {
     "name": "stdout",
     "output_type": "stream",
     "text": [
      "{'水晶宮': 'Crystal Palace', '紐卡素': 'Newcastle', '李斯特城': 'Leicester', '富咸': 'Fulham', '雷丁': 'Reading', '熱刺': 'Tottenham', '新特蘭': 'Sunderland', '史篤城': 'Stoke City', '修咸頓': 'Southampton', '屈福特': 'Watford', '般尼': 'Burnley', '韋斯咸': 'West Ham', '曼聯': 'Man United', '阿仙奴': 'Arsenal', '保頓': 'Bolton', '西布朗': 'West Brom', '狼隊': 'Wolves', '利物浦': 'Liverpool', '般尼茅夫': 'Bournemouth', '車路士': 'Chelsea', '侯城': 'Hull', '昆士柏流浪': 'QPR', '曼城': 'Man City', '諾域治': 'Norwich', '卡迪夫城': 'Cardiff', '韋根': 'Wigan', '布力般流浪': 'Blackburn', '阿士東維拉': 'Aston Villa', '愛華頓': 'Everton', '史雲斯': 'Swansea'}\n"
     ]
    }
   ],
   "source": [
    "teamDict = {}\n",
    "for row in temp:\n",
    "    teamDict[row[0]]=row[1]\n",
    " \n",
    "print(teamDict)    "
   ]
  },
  {
   "cell_type": "code",
   "execution_count": 27,
   "metadata": {
    "collapsed": false
   },
   "outputs": [],
   "source": [
    "    teamname = 'Burnley'\n",
    "    for year in range(2011,2016):\n",
    "        tid= 280\n",
    "        url = teamMatchUrl.format(year,tid)\n",
    "        tdf = pd.read_html(url,attrs={'id':'fb_match_odds_result_table_0_0'},encoding='UTF-8')[0]\n",
    "        tdf = tdf.drop(tdf.index[[0]])\n",
    "        if thisDf is None:\n",
    "            thisDf=tdf\n",
    "        else:\n",
    "            thisDf =thisDf.append(tdf)\n",
    "\n",
    "    thisDf.to_csv(\"teams/\"+teamname+\".csv\",index=False)"
   ]
  },
  {
   "cell_type": "code",
   "execution_count": null,
   "metadata": {
    "collapsed": true
   },
   "outputs": [],
   "source": []
  }
 ],
 "metadata": {
  "kernelspec": {
   "display_name": "Python 3",
   "language": "python",
   "name": "python3"
  },
  "language_info": {
   "codemirror_mode": {
    "name": "ipython",
    "version": 3
   },
   "file_extension": ".py",
   "mimetype": "text/x-python",
   "name": "python",
   "nbconvert_exporter": "python",
   "pygments_lexer": "ipython3",
   "version": "3.5.1"
  }
 },
 "nbformat": 4,
 "nbformat_minor": 0
}
