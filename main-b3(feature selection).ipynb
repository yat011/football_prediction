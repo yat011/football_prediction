{
 "cells": [
  {
   "cell_type": "code",
   "execution_count": 67,
   "metadata": {
    "ExecuteTime": {
     "end_time": "2016-04-12T03:18:38.192000",
     "start_time": "2016-04-12T03:18:37.698000"
    },
    "code_folding": [],
    "collapsed": false,
    "init_cell": true,
    "run_control": {
     "marked": false
    },
    "scrolled": false
   },
   "outputs": [],
   "source": [
    "import numpy as np\n",
    "try:\n",
    "    from IPython.core.display import clear_output\n",
    "    have_ipython = True\n",
    "except ImportError:\n",
    "    have_ipython = False\n",
    "import sys\n",
    "import datetime\n",
    "%matplotlib inline\n",
    "import matplotlib.pyplot as plt\n",
    "\n",
    "def plotCurve(train_mean, train_std,test_mean,test_std,sizes):\n",
    "    plt.plot(sizes, train_mean, \n",
    "            color='blue', marker='o', \n",
    "            markersize=5, \n",
    "            label='training accuracy')\n",
    "    plt.fill_between(sizes, \n",
    "                  train_mean + train_std,\n",
    "                   train_mean - train_std, alpha=0.15, color='blue')\n",
    "\n",
    "    plt.plot(sizes, test_mean, \n",
    "              color='green', linestyle='--', \n",
    "              marker='s', markersize=5, \n",
    "             label='validation accuracy')\n",
    "    plt.fill_between(sizes, \n",
    "                      test_mean + test_std,\n",
    "                     test_mean - test_std, \n",
    "                    alpha=0.15, color='green')\n",
    "    plt.xlabel('x_range')\n",
    "    plt.ylabel('Accuracy')\n",
    "    plt.show()\n",
    "def likehoodScore(proba,y):\n",
    "    return np.sum(proba * y)/proba.shape[0]\n",
    "\n",
    "def firstNScore(n, pred, y):\n",
    "    backup = np.array(pred, copy =True)\n",
    "    for r in range(pred.shape[0]):\n",
    "        row = backup[r]\n",
    "        s = np.sort(row)\n",
    "        for c in range(pred.shape[1]):\n",
    "            temp = backup[r][c]\n",
    "            backup[r][c] = False\n",
    "            for j in range(1,n+1):\n",
    "                if temp == s[-j]:\n",
    "                    backup[r][c] = True\n",
    "                    break\n",
    "    res = np.sum(np.logical_and(backup,y))/pred.shape[0]\n",
    "    return res               \n",
    "\n",
    "def oneHotDecode(self, X_sample):\n",
    "    result=None\n",
    "    fiPos = 0\n",
    "    colIndex = 0\n",
    "    while colIndex < X_sample.shape[1]:\n",
    "        if fiPos < len(self.ohe.n_values_) and colIndex == self.ohe.feature_indices_[fiPos]:                \n",
    "            start = self.ohe.feature_indices_[fiPos]\n",
    "            end_ = start+ self.ohe.n_values_[fiPos]\n",
    "            #print(\"start{} end{}\".format(start,end_))\n",
    "            classes = np.argmax(X_sample[:,start:end_],axis=1).reshape(X_sample.shape[0],1)\n",
    "            if result is None:\n",
    "                result = classes\n",
    "            else:\n",
    "                result=np.hstack([result,classes])\n",
    "            colIndex = end_\n",
    "            fiPos = fiPos +1\n",
    "        else:\n",
    "            if result is None:\n",
    "                result = X_sample[:,colIndex:colIndex+1]\n",
    "            else:\n",
    "                result=np.hstack([result, X_sample[:,colIndex:colIndex+1]])\n",
    "            colIndex = colIndex +1\n",
    "        \n",
    "    return result \n",
    "def convertToDate(dayStamps):\n",
    "    res = [] \n",
    "    for v in dayStamps:\n",
    "        res.append(datetime.datetime.fromtimestamp(float(v)*24*60*60))\n",
    "    return res\n",
    "\n",
    "\n",
    "    \n",
    "\n",
    "def precisionMatrix(proba, y):\n",
    "    def _precisionClassify(df,proba, wins, c =0 ):\n",
    "        for indx, v in enumerate(proba):\n",
    "            row = 0\n",
    "            col = 0\n",
    "            if wins[indx] == c:\n",
    "                col = 0\n",
    "            else:\n",
    "                col =1\n",
    "            if v <0.2:\n",
    "                row =6 \n",
    "            elif v < 0.3 and  v >=0.2:\n",
    "                row =5 \n",
    "            elif v < 0.4 and v >= 0.3:\n",
    "                row = 4 \n",
    "            elif v < 0.5 and v >= 0.4:\n",
    "                row = 3 \n",
    "            elif v < 0.6 and v >= 0.5:\n",
    "                row = 2 \n",
    "            elif v < 0.8 and v >= 0.6:\n",
    "                row = 1\n",
    "            df.iloc[row,col] = df.iloc[row,col]+1 \n",
    "        df[df.columns[2]] = df[df.columns[0]] /(df[df.columns[1]] + df[df.columns[0]])\n",
    "        return df\n",
    "    rowHeader = ['>80','60-80','50-60','40-50','30-40','20-30','<20']\n",
    "    df = pd.DataFrame(np.zeros(shape=(7,3)),index=rowHeader, columns=['h_Correct', 'h_Wrong','h_Precent'])\n",
    "    hproba = proba[:,0]\n",
    "    wins = np.argmax(y,axis=1)\n",
    "    df = _precisionClassify(df,hproba,wins)\n",
    "    temp = pd.DataFrame(np.zeros(shape=(7,3)),index=rowHeader, columns=['d_Correct', 'd_Wrong','d_Precent'])\n",
    "    dproba = proba[:,1]\n",
    "    df = df.join(_precisionClassify(temp,dproba,wins,c=1))\n",
    "    temp = pd.DataFrame(np.zeros(shape=(7,3)),index=rowHeader, columns=['a_Correct', 'a_Wrong','a_Precent'])\n",
    "    aproba = proba[:,2]\n",
    "    df = df.join(_precisionClassify(temp,aproba,wins,c=2))\n",
    "    \n",
    "    bound = pd.DataFrame(np.array([[0.8,1.0],[0.6,0.8],[0.5,0.6],[0.4,0.5],[0.3,0.4],[0.2,0.3],[0,0.2]] )\n",
    "                                ,index=rowHeader, columns=['[lower', 'upper)'])\n",
    "            \n",
    "    return bound.join(df)\n",
    "       \n",
    "from datetime import date, timedelta\n",
    "from sklearn.metrics import precision_score\n",
    "\n",
    "\n",
    "def futureTest(mlp, X,y,numOfWeek = 10,verbose=False):\n",
    "    decoded = oneHotDecode(c, X)\n",
    "    dates = convertToDate(X[:,c.dateColumn])\n",
    "    dates = [d - timedelta(days=2) for d in dates]    \n",
    "    weeks  = [ v.isocalendar()[1] for v in dates]\n",
    "    thisWeek = weeks[-1]\n",
    "    start = -1\n",
    "    last = X.shape[0]\n",
    "    index = -1\n",
    "    w = 0\n",
    "    sum_proba =None \n",
    "    sum_y =None\n",
    "    sum_train_proba=None\n",
    "    sum_train_y=None\n",
    "    while w < numOfWeek:\n",
    "        if thisWeek != weeks[index]:\n",
    "            start = X.shape[0] +index+1\n",
    "            X_train = X[0:start, :]\n",
    "            X_test = X[start:last,:]\n",
    "            y_train = y[0:start,:]\n",
    "            y_test = y[start:last,:]\n",
    "            mlp.fit(X_train,y_train)\n",
    "            decoded = oneHotDecode(c,X_test)\n",
    "            home = np.array([c.inverseTeamMapping(decoded[:,0])]).reshape(X_test.shape[0],1)\n",
    "            away = np.array([c.inverseTeamMapping(decoded[:,1])]).reshape(X_test.shape[0],1)\n",
    "            stack = np.hstack([home,away])\n",
    "            proba = mlp.predict_proba(X_test)\n",
    "            train_proba =mlp.predict_proba(X_train)\n",
    "            errorIndx = np.argmax(proba,axis=1) != np.argmax(y_test,axis=1)\n",
    "            if sum_proba is None:\n",
    "                sum_proba = proba\n",
    "                sum_y = y_test\n",
    "                sum_train_proba = train_proba\n",
    "                sum_train_y = y_train\n",
    "            else:\n",
    "                sum_proba = np.vstack([sum_proba,proba])\n",
    "                sum_y = np.vstack([sum_y,y_test])\n",
    "                sum_train_proba = np.vstack([sum_train_proba, train_proba])\n",
    "                sum_train_y= np.vstack([sum_train_y, y_train])\n",
    "            if verbose == True:\n",
    "                print(\"week{}\".format(w))\n",
    "                print(\"numOftest {} , score {}\".format(X_test.shape[0],mlp.score(X_test,y_test)))\n",
    "                print(np.hstack([stack[errorIndx],proba[errorIndx],y_test[errorIndx]]))\n",
    "                print(\"first2 : {}\",firstNScore(2,proba,y_test))\n",
    "            last = start\n",
    "            thisWeek = weeks[index]\n",
    "            w = w+1\n",
    "        index = index -1\n",
    "        \n",
    "    print(\"summary\")\n",
    "    print(\"score:\")\n",
    "    score = firstNScore(1,sum_proba,sum_y)\n",
    "    print(score)\n",
    "    print(\"2like\")\n",
    "    like2 = firstNScore(2,sum_proba,sum_y)\n",
    "    print(precisionMatrix(sum_proba,sum_y))\n",
    "    y_true= np.argmax(sum_y,axis=1)\n",
    "    y_pred = np.argmax(sum_proba,axis=1)\n",
    "    print(\"sum precision:{}\".format(precision_score(y_true,y_pred,average=None)))\n",
    "    return firstNScore(1,sum_train_proba,sum_train_y), score, like2\n"
   ]
  },
  {
   "cell_type": "code",
   "execution_count": 68,
   "metadata": {
    "ExecuteTime": {
     "end_time": "2016-04-12T03:18:42.021000",
     "start_time": "2016-04-12T03:18:38.194000"
    },
    "collapsed": false,
    "init_cell": true,
    "run_control": {
     "marked": false
    },
    "scrolled": false
   },
   "outputs": [],
   "source": [
    "import numpy as np\n",
    "from sklearn.cross_validation import train_test_split\n",
    "from sklearn.preprocessing import StandardScaler\n",
    "from sklearn.preprocessing import OneHotEncoder\n",
    "import pandas as pd\n",
    "class FootballDataHelper:\n",
    "    def __init__ (self, recentNum=5):\n",
    "        self.win_mapping = {'H':0, 'D':1,'A':2}\n",
    "        self.recentNum = recentNum\n",
    "        self.df = None\n",
    "        self.teamsData={}\n",
    "        self.session = 0\n",
    "        self.generalList =['HS','AS','HST','AST','H_poss' ,'A_poss' ,'H_atk_3rd', 'A_atk_3rd',\n",
    " 'H_atk_3rd_tot', 'A_atk_3rd_tot','H_red_goal' ,'A_red_goal' ,'H_red_on',\n",
    " 'A_red_on' ,'H_red_tot' ,'A_red_tot' ,'H_chance_goal' ,'A_chance_goal',\n",
    " 'H_chance_tot', 'A_chance_tot' ,'H_successful_tackle', 'A_successful_tackle',\n",
    " 'H_tackle_tot', 'A_tackle_tot', 'H_successful_clearance',\n",
    " 'A_successful_clearance', 'H_clearance_tot' ,'A_clearance_tot',\n",
    " 'H_interceptions' ,'A_interceptions', 'H_blocks', 'A_blocks']\n",
    "        self.percentList = ['atk_3rd','atk_3rd_tot','red_on','red_tot',\n",
    "                           'successful_tackle','tackle_tot'\n",
    "                            ]\n",
    "        self.h7_general = ['HS','AS','HST','AST','H_poss' ,'A_poss' ,'H_atk_3rd', 'A_atk_3rd',\n",
    " 'H_atk_3rd_tot', 'A_atk_3rd_tot','H_red_goal' ,'A_red_goal' ,'H_red_on',\n",
    " 'A_red_on' ,'H_red_tot' ,'A_red_tot' ,'H_chance_goal' ,'A_chance_goal',\n",
    " 'H_chance_tot', 'A_chance_tot' ,'H_successful_clearance',\n",
    " 'A_successful_clearance', 'H_clearance_tot' ,'A_clearance_tot']\n",
    "    def addColumns(self,df, addition):    \n",
    "        dates = df[\"Date\"].drop_duplicates().values\n",
    "        col_adds = []\n",
    "        for colAdd in addition.columns:\n",
    "             if colAdd not in df.columns:\n",
    "                    df[colAdd]=np.zeros(shape=(df.shape[0],))\n",
    "                    col_adds.append(colAdd)\n",
    "        for date in dates:\n",
    "            dateAddition= addition[addition['Date'] == date].sort(columns='HomeTeam')\n",
    "            dateDf  = df [df['Date']==date].sort(columns='HomeTeam')\n",
    "            for col in col_adds:\n",
    "                dateDf[col] = dateAddition[col].values\n",
    "            df.update(dateDf)\n",
    "        return df\n",
    "            \n",
    "    def saveDf(self,filename):\n",
    "        self.df.to_csv(filename,index=False)\n",
    "    def loadDf(self,filename):\n",
    "        df = pd.read_csv(filename)\n",
    "        df['Date'] = pd.to_datetime(df['Date'])    \n",
    "        self.df = df\n",
    "        teams = self.df['HomeTeam'].drop_duplicates()\n",
    "        teamMap = {}\n",
    "        for index , v in enumerate(teams):\n",
    "            teamMap[v] = index\n",
    "        self.teamsMap = teamMap\n",
    "        referees = self.df['Referee'].drop_duplicates()\n",
    "        refereesMap = {}\n",
    "        for index , v in enumerate(referees):\n",
    "            refereesMap[v] = index+1\n",
    "\n",
    "        self.refereesMap = refereesMap\n",
    "    def readFootBallData(self,year): \n",
    "        filename = \"dataSet/E{}.csv\".format(year)\n",
    "        df = pd.read_csv(filename)\n",
    "        #df = df.drop(df.columns[range(23,df.shape[1])], axis=1)\n",
    "        #df = df.drop(\"Div\",axis=1)\n",
    "        df['Date'] = pd.to_datetime(df['Date'])\n",
    "        df['session'] = pd.Series(np.ones(shape=(df.shape[0],))*self.session, index=df.index)\n",
    "        self.session = self.session +1\n",
    "        \n",
    "        matchDetail = pd.read_csv(\"dataSet/match{}.csv\".format(year))\n",
    "        matchDetail['Date'] =pd.to_datetime(matchDetail['Date'])\n",
    "        df = self.addColumns(df,matchDetail)\n",
    "        \n",
    "        df[\"Future\"] = np.zeros(shape=(df.shape[0],))\n",
    "        \n",
    "        if self.df is None:\n",
    "            self.df = df\n",
    "        else:\n",
    "            self.df = pd.concat([self.df,df])\n",
    "            \n",
    "        self.df = self.df.reset_index(drop=True)\n",
    "        teams = self.df['HomeTeam'].drop_duplicates()\n",
    "        teamMap = {}\n",
    "        for index , v in enumerate(teams):\n",
    "            teamMap[v] = index\n",
    "        self.teamsMap = teamMap\n",
    "        referees = self.df['Referee'].drop_duplicates()\n",
    "        refereesMap = {}\n",
    "        for index , v in enumerate(referees):\n",
    "            refereesMap[v] = index+1\n",
    "\n",
    "        self.refereesMap = refereesMap\n",
    "    def readFuture(self):\n",
    "        filename = \"dataSet/future.csv\"\n",
    "        df = pd.read_csv(filename)\n",
    "        #df = df.drop(df.columns[range(23,df.shape[1])], axis=1)\n",
    "        #df = df.drop(\"Div\",axis=1)\n",
    "        df['Date'] = pd.to_datetime(df['Date'])\n",
    "        df[\"Future\"] = np.ones(shape=(df.shape[0],))\n",
    "        if self.df is None:\n",
    "            self.df = df\n",
    "        else:\n",
    "            self.df = pd.concat([self.df,df])\n",
    "            \n",
    "        self.df['HTR']=self.df['HTR'].fillna('D')\n",
    "        self.df = self.df.fillna(0)\n",
    "        self.df = self.df.reset_index(drop=True)\n",
    "        teams = self.df['HomeTeam'].drop_duplicates()\n",
    "        teamMap = {}\n",
    "        for index , v in enumerate(teams):\n",
    "            teamMap[v] = index\n",
    "        self.teamsMap = teamMap\n",
    "        referees = self.df['Referee'].drop_duplicates()\n",
    "        refereesMap = {}\n",
    "        for index , v in enumerate(referees):\n",
    "            refereesMap[v] = index+1\n",
    "\n",
    "        self.refereesMap = refereesMap\n",
    "        \n",
    "    def getTeam(self,dataFrame, teamName):       \n",
    "        return dataFrame[(dataFrame[\"HomeTeam\"] == teamName) | (dataFrame[\"AwayTeam\"] == teamName)]\n",
    " \n",
    "        \n",
    "    def previousRecords(self,team, date , recentNum):\n",
    "        prev = team[( team[\"Date\"] < date)]\n",
    "        \n",
    "        if prev.shape[0] < recentNum :\n",
    "            #print(\"less than min Num\")\n",
    "            return None\n",
    "        else:\n",
    "            return prev.iloc[-recentNum:]\n",
    "    def readPredict (self, filename):\n",
    "        df = pd.read_csv(filename)\n",
    "        df['Date'] = pd.to_datetime(df['Date'],dayfirst=True)\n",
    "\n",
    "        return df\n",
    "    \n",
    "    \n",
    "  \n",
    "    def inverseTeamMapping (self, col):\n",
    "        inverseMap ={}\n",
    "        for name in self.teamsMap.keys():        \n",
    "            inverseMap[self.teamsMap[name]] = name\n",
    "        res =[]\n",
    "        for idex, v in enumerate(col):\n",
    "            res.append(inverseMap[v])\n",
    "        return res\n",
    "\n",
    "\n",
    "    def readTeamMatch(self, teamName):\n",
    "        df = pd.read_csv('teams/'+teamName+'.csv')\n",
    "        df['1'] = pd.to_datetime(df['1'],yearfirst=True)\n",
    "        #df['1']= (pd.to_numeric(df['1'])/1e9/24/60/60)\n",
    "        self.teamsData[teamName]=df.sort(['1'],ascending=[False])\n",
    "        self.teamsById[self.teamsMap[teamName]]=self.teamsData[teamName]\n",
    "    \n",
    "    def commonMapping(self, X):\n",
    "        X['HomeTeam'] = X['HomeTeam'].map(self.teamsMap)\n",
    "        X['AwayTeam'] = X['AwayTeam'].map(self.teamsMap)\n",
    "        X['Referee']=X['Referee'].map(self.refereesMap).fillna(0)\n",
    "        X['HTR'] = X['HTR'].map(self.win_mapping)\n",
    "        X['FTR'] = X['FTR'].map(self.win_mapping)\n",
    "        return X\n",
    "    def initData(self, X, target,encode):\n",
    "        X  = X.sort_values(by=\"Date\")\n",
    "        isInput = False\n",
    "        if target is None:\n",
    "            target =X      \n",
    "        else:\n",
    "            if self.ohe is None:\n",
    "                raise Exception(\"Not yet get train data\")\n",
    "            isInput = True\n",
    "            if encode == True:\n",
    "                target = self.commonMapping(target)\n",
    "        y=None\n",
    "        if encode == True:    \n",
    "            X =self.commonMapping(X)\n",
    "            y = []\n",
    "            for v in target['FTR']:\n",
    "                y.append(range(3)==v)\n",
    "        else:\n",
    "            y = target['FTR'].values\n",
    "        target_date = (pd.to_numeric(target['Date'])/1e9/24/60/60).values\n",
    "        return isInput, X,y, target, target_date\n",
    "   \n",
    "    def aggregate(self,recents,nonExpand,isInput,encode):\n",
    "        res =None\n",
    "        if encode == True:\n",
    "            if isInput==False:\n",
    "                self.ohe = OneHotEncoder(categorical_features='all')\n",
    "                self.ohe.fit(recents)\n",
    "            res = self.ohe.transform(recents).toarray()\n",
    "        else:\n",
    "            res = np.array(recents)\n",
    "        self.dateColumn = res.shape[1]\n",
    "        res = np.hstack([res,nonExpand])\n",
    "        return res\n",
    "  \n",
    "    def getH7(self,removeInsufficient=True, target=None,encode = True,future =0):\n",
    "        #Simple recent win,draw, lose \n",
    "        df = self.df\n",
    "        if removeInsufficient == True:\n",
    "            df= df[df['Sufficient'] == 1]\n",
    "        df=df[df['Future']==future]\n",
    "        \n",
    "        isInput, X, y,target, target_date = self.initData(df,target,encode)\n",
    "        resy=[]\n",
    "        resx=[]\n",
    "        print(\"start format\")\n",
    "        recents = X[['HomeTeam','AwayTeam','Referee']].values\n",
    "        haccp = X['HAccP'].values.reshape(X.shape[0],1)\n",
    "        aaccp = X['AAccP'].values.reshape(X.shape[0],1)\n",
    "        homeRecent = np.hstack([X[['HWin','HDraw','HLose']].values,\n",
    "                                (X['HScore'].values - X['HConcede'].values).reshape(X.shape[0],1)])\n",
    "        awayRecent = np.hstack([X[['AWin','ADraw','ALose']].values,\n",
    "                                (X['AScore'].values - X['AConcede'].values).reshape(X.shape[0],1)])\n",
    "        homeMoral = X['HMoral'].values.reshape(X.shape[0],1)\n",
    "        awayMoral = X['AMoral'].values.reshape(X.shape[0],1)\n",
    "        target_date = target_date.reshape(X.shape[0],1)\n",
    "        \n",
    "        \n",
    "        \n",
    "        \n",
    "        acc_headers = [e+'_Acc' for e in self.h7_general]\n",
    "        self.acc_headers= acc_headers\n",
    "        general = X[acc_headers].values\n",
    "        \n",
    "        ha_headers =np.array(acc_headers).reshape(len(acc_headers)/2, 2).T\n",
    "        print(ha_headers)\n",
    "        h_over_a = (X[ha_headers[0,:]].values/X[ha_headers[1,:]].values)\n",
    "        self.ha_headers = [ ha_headers[0,i]+'/'+ha_headers[1,i] for i in range(ha_headers.shape[1])]\n",
    "        \n",
    "        percent_headers =[]\n",
    "        percent_headers += ['H_'+e+'_Acc' for e in self.percentList]\n",
    "        percent_headers += ['A_'+e+'_Acc' for e in self.percentList]\n",
    "        n_percent_headers = np.array(percent_headers).reshape(len(percent_headers)/2, 2).T\n",
    "        percent_values = (X[n_percent_headers[0,:]].values/X[n_percent_headers[1,:]].values)\n",
    "        self.percent_headers = [ n_percent_headers[0,i]+'/'+n_percent_headers[1,i] for i in range(n_percent_headers.shape[1])]\n",
    "        \n",
    "        nonExpand =np.hstack([target_date,haccp-aaccp,(haccp+1)/(aaccp+1),\n",
    "                            homeRecent,awayRecent, \n",
    "                              homeMoral - awayMoral + haccp - aaccp, X[['H_Enemy_Acc','A_Enemy_Acc']].values,\n",
    "                              general, percent_values\n",
    "                             ])\n",
    "        res = self.aggregate(recents,nonExpand,future,encode)\n",
    "        print(\"finish\")\n",
    "        sys.stdout.flush()\n",
    "        return res, np.array(y)\n",
    "    def _getRank(self,x, X,teamName,recentNum):\n",
    "        team = self.getTeam(X,teamName)\n",
    "        prev = team[team['Date'] < x['Date']].values      \n",
    "        for i in range(recentNum):\n",
    "            pass\n",
    "    def initRanking(self, n = 20):\n",
    "        defaultPt = 1\n",
    "        df = self.df.sort(columns=[\"Date\"],ascending=[False])\n",
    "        df[\"HPoints\"] = pd.Series(np.zeros(shape=(df.shape[0],)))\n",
    "        df[\"APoints\"] = pd.Series(np.zeros(shape=(df.shape[0],)))\n",
    "        df[\"HAccP\"] = pd.Series(np.zeros(shape=(df.shape[0],)))\n",
    "        df[\"AAccP\"] = pd.Series(np.zeros(shape=(df.shape[0],)))\n",
    "        hpoints= df[\"HPoints\"].values\n",
    "        apoints=df[\"APoints\"].values\n",
    "        ftr = df[\"FTR\"].values\n",
    "        for i in range(df.shape[0]):\n",
    "            sys.stdout.write(\"\\r progress {}\".format(i))\n",
    "            sys.stdout.flush()\n",
    "            if ftr[i] == 'H':\n",
    "                hpoints[i] = 3\n",
    "                apoints[i] = 0\n",
    "            elif ftr[i] == 'D':\n",
    "                hpoints[i] = 1\n",
    "                apoints[i] = 1\n",
    "            else :\n",
    "                hpoints[i] = 0\n",
    "                apoints[i] = 3\n",
    "        df[\"HPoints\"]=hpoints\n",
    "        df[\"APoints\"]=apoints\n",
    "        for teamName in self.teamsMap.keys():\n",
    "            team  = df[(df['HomeTeam']==teamName) | (df['AwayTeam'] == teamName)] \n",
    "            hometeam = team['HomeTeam'].values\n",
    "            hpoints = team['HPoints'].values\n",
    "            apoints = team['APoints'].values\n",
    "            psum = 0\n",
    "            haccp = team['HAccP'].values\n",
    "            aaccp = team['AAccP'].values\n",
    "        \n",
    "            for  i in range(0,n):\n",
    "                if i < hpoints.shape[0]:\n",
    "                    psum = psum + (hpoints[i] if hometeam[i] == teamName else apoints[i] ) \n",
    "                else:\n",
    "                    psum = psum + defaultPt        \n",
    "                    \n",
    "        \n",
    "            for j in range(team.shape[0]):\n",
    "\n",
    "                if j+n < hpoints.shape[0]:                     \n",
    "                    psum = psum + (hpoints[j+n] if hometeam[j+n]==teamName else apoints[j+n])\n",
    "                else:\n",
    "                    psum = psum + defaultPt \n",
    "                \n",
    "                psum = psum - (hpoints[j] if hometeam[j]==teamName else apoints[j])\n",
    "                    \n",
    "                if hometeam[j] == teamName:\n",
    "                    haccp[j]=psum\n",
    "                else:\n",
    "                    aaccp[j]=psum\n",
    "            team['HAccp']=haccp\n",
    "            team['AAccP']=aaccp\n",
    "            #print(team[['HomeTeam','AwayTeam','HAccP','AAccP']])\n",
    "            df.update(team)\n",
    "            \n",
    "            #print(df[['HomeTeam','AwayTeam','HAccP','AAccP']])\n",
    "        self.df =df\n",
    "        return df\n",
    "    def initRecentData(self, n =5):\n",
    "        df = self.df.sort(columns=[\"Date\"],ascending=[False])\n",
    "        df[\"HWin\"] = pd.Series(np.zeros(shape=(df.shape[0],)))\n",
    "        df[\"AWin\"] = pd.Series(np.zeros(shape=(df.shape[0],)))\n",
    "        df[\"HDraw\"] = pd.Series(np.zeros(shape=(df.shape[0],)))\n",
    "        df[\"ADraw\"] = pd.Series(np.zeros(shape=(df.shape[0],)))\n",
    "        df[\"HLose\"] = pd.Series(np.zeros(shape=(df.shape[0],)))\n",
    "        df[\"ALose\"] = pd.Series(np.zeros(shape=(df.shape[0],)))\n",
    "                \n",
    "        df[\"HScore\"] = pd.Series(np.zeros(shape=(df.shape[0],)))\n",
    "        df[\"AScore\"] = pd.Series(np.zeros(shape=(df.shape[0],)))\n",
    "        df[\"HConcede\"] = pd.Series(np.zeros(shape=(df.shape[0],)))\n",
    "        df[\"AConcede\"] = pd.Series(np.zeros(shape=(df.shape[0],)))\n",
    "        df[\"HMoral\"] = pd.Series(np.zeros(shape=(df.shape[0],)))\n",
    "        df[\"AMoral\"] = pd.Series(np.zeros(shape=(df.shape[0],)))\n",
    "        df[\"HRestDay\"]= pd.Series(np.zeros(shape=(df.shape[0],)))\n",
    "        df[\"ARestDay\"]= pd.Series(np.zeros(shape=(df.shape[0],)))\n",
    "        df[\"H_Enemy_Acc\"] = pd.Series(np.zeros(shape=(df.shape[0],)))\n",
    "        df[\"A_Enemy_Acc\"] = pd.Series(np.zeros(shape=(df.shape[0],)))\n",
    "        #general\n",
    "        generalList = self.generalList \n",
    "        generalOutput = []\n",
    "        for attr in generalList:\n",
    "            temp = attr+'_Acc'\n",
    "            df[temp]=pd.Series(np.zeros(shape=(df.shape[0],)))\n",
    "            generalOutput.append(temp)\n",
    "        #\n",
    "        df[\"Sufficient\"] = pd.Series(np.ones(shape=(df.shape[0],)))\n",
    "        \n",
    "      \n",
    "            \n",
    "        \n",
    "        hscore = df['FTHG'].values\n",
    "        ascore = df['FTAG'].values\n",
    "        hconcede = df ['FTAG'].values\n",
    "        aconcede = df['FTHG'].values\n",
    "               \n",
    "        hwin = df['HWin'].values\n",
    "        awin = df['AWin'].values\n",
    "        hlose = df['HLose'].values\n",
    "        alose = df['ALose'].values\n",
    "        hdraw = df['HDraw'].values\n",
    "        adraw = df['ADraw'].values\n",
    "        hmoral = df['HMoral'].values\n",
    "        amoral = df['AMoral'].values\n",
    "        \n",
    "        rankRatio = (df['HAccP'].values+1) / (df['AAccP'].values +1)\n",
    "        \n",
    "        \n",
    "        ftr = df[\"FTR\"].values\n",
    "        for i in range(df.shape[0]):\n",
    "            sys.stdout.write(\"\\r progress {}\".format(i))\n",
    "            sys.stdout.flush()\n",
    "            if ftr[i] == 'H':\n",
    "                hwin[i] = 1\n",
    "                hmoral[i] = 3 * 1/rankRatio[i]\n",
    "                alose[i]= 1\n",
    "                amoral[i] = -3 * 1/rankRatio[i]\n",
    "            elif ftr[i] == 'D':\n",
    "                hdraw[i] = 1\n",
    "                hmoral[i] = 1 * 1/rankRatio[i]\n",
    "                adraw[i] = 1\n",
    "                amoral[i] = 1 * rankRatio[i]\n",
    "            else :\n",
    "                hlose[i] = 1\n",
    "                hmoral[i] = -3*rankRatio[i]\n",
    "                awin [i] = 1\n",
    "                amoral[i] = 3*rankRatio[i]\n",
    "        \n",
    "        \n",
    "        df[\"HWin\"]=hwin\n",
    "        df[\"AWin\"]=awin\n",
    "        df[\"HDraw\"]=hdraw\n",
    "        df[\"ADraw\"]=adraw\n",
    "        df[\"HLose\"]=hlose\n",
    "        df[\"ALose\"]=alose\n",
    "        df[\"HScore\"]=hscore\n",
    "        df[\"AScore\"]=ascore\n",
    "        df[\"HConcede\"]=hconcede\n",
    "        df[\"AConcede\"]=aconcede\n",
    "        df[\"HMoral\"] = hmoral\n",
    "        df[\"AMoral\"] = amoral\n",
    "        \n",
    "        \n",
    "        \n",
    "        for teamName in self.teamsMap.keys():\n",
    "            print(teamName)\n",
    "            team  = df[(df['HomeTeam']==teamName) | (df['AwayTeam'] == teamName)] \n",
    "            hometeam = team['HomeTeam'].values\n",
    "            hwin = team[\"HWin\"].values\n",
    "            awin = team[\"AWin\"].values\n",
    "            hlose= team[\"HLose\"].values\n",
    "            alose = team[\"ALose\"].values\n",
    "            hdraw = team[\"HDraw\"].values\n",
    "            adraw = team[\"ADraw\"].values\n",
    "            hscore = team[\"HScore\"].values\n",
    "            ascore = team[\"AScore\"].values\n",
    "            hconcede = team[\"HConcede\"].values\n",
    "            aconcede = team[\"AConcede\"].values\n",
    "            hmoral = team[\"HMoral\"].values\n",
    "            amoral = team[\"AMoral\"].values\n",
    "            hrestday = team[\"HRestDay\"].values\n",
    "            arestday = team[\"ARestDay\"].values\n",
    "            \n",
    "            haccp = team[\"HAccP\"].values\n",
    "            aaccp = team[\"AAccP\"].values\n",
    "            h_enemy = team[\"H_Enemy_Acc\"].values\n",
    "            a_enemy = team[\"A_Enemy_Acc\"].values\n",
    "            enemy_sum = 0\n",
    "            \n",
    "            #general\n",
    "            original_list =[]\n",
    "            output_list=[]\n",
    "            for indx, o_attr in enumerate(generalList):\n",
    "                original_list.append(team[o_attr].values)\n",
    "                output_list.append(team[generalOutput[indx]].values)\n",
    "            \n",
    "            \n",
    "            matchDate =team['Date'].values\n",
    "            sufficient = team['Sufficient'].values\n",
    "            teamMatchesDate = self.teamsData[teamName].sort('1',ascending=False)['1'].values\n",
    "            \n",
    "            restday = 0\n",
    "            winsum =0 \n",
    "            losesum=0\n",
    "            drawsum=0\n",
    "            scoresum =0\n",
    "            concedesum=0\n",
    "            moralsum = 0\n",
    "            #print(team[['HomeTeam','AwayTeam','HWin']])\n",
    "            teamAttrSum_list=[0 for i in range(int(len(original_list)/2))]\n",
    "            for  i in range(0,n):\n",
    "                if i < team.shape[0]:\n",
    "                    scoresum = scoresum + (hscore[i] if hometeam[i] == teamName else ascore[i])\n",
    "                    winsum = winsum + (hwin[i] if hometeam[i] == teamName else awin[i])\n",
    "                    losesum= losesum + (hlose[i] if hometeam[i] == teamName else alose[i])\n",
    "                    drawsum= drawsum + (hdraw[i] if hometeam[i] == teamName else adraw[i])\n",
    "                    concedesum = concedesum+ (hconcede[i] if hometeam[i] == teamName else aconcede[i])\n",
    "                    moralsum= moralsum+ (hmoral[i] if hometeam[i] == teamName else amoral[i])\n",
    "                    enemy_sum += (aaccp[i] if hometeam[i] == teamName else haccp[i])\n",
    "                    for attrIndx in range(len(teamAttrSum_list)):\n",
    "                        teamAttrSum_list[attrIndx] +=(original_list[2*attrIndx][i] if hometeam[i] == teamName else original_list[2*attrIndx+1][i])\n",
    "                else:\n",
    "                    # + 0\n",
    "                    pass\n",
    "            dateIndx = 0\n",
    "            for j in range(team.shape[0]):\n",
    "                while True:\n",
    "                    if dateIndx >= teamMatchesDate.shape[0]:\n",
    "                        sufficient[j] = False\n",
    "                        break\n",
    "                    if teamMatchesDate[dateIndx] < matchDate[j] :\n",
    "                        restday = (matchDate[j] - teamMatchesDate[dateIndx])/np.timedelta64(1,'D')\n",
    "                        break\n",
    "                    else:\n",
    "                        dateIndx = dateIndx + 1\n",
    "                \n",
    "                if j+n < team.shape[0]:                     \n",
    "                    scoresum = scoresum + (hscore[j+n] if hometeam[j+n] == teamName else ascore[j+n])\n",
    "                    winsum = winsum + (hwin[j+n] if hometeam[j+n] == teamName else awin[j+n])\n",
    "                    losesum= losesum + (hlose[j+n] if hometeam[j+n] == teamName else alose[j+n])\n",
    "                    drawsum= drawsum + (hdraw[j+n] if hometeam[j+n] == teamName else adraw[j+n])\n",
    "                    concedesum = concedesum+ (hconcede[j+n] if hometeam[j+n] == teamName else aconcede[j+n])\n",
    "                    moralsum= moralsum+ (hmoral[j+n] if hometeam[j+n] == teamName else amoral[j+n])\n",
    "                    enemy_sum += (aaccp[j+n] if hometeam[j+n] == teamName else haccp[j+n])\n",
    "                    for attrIndx in range(len(teamAttrSum_list)):\n",
    "                        teamAttrSum_list[attrIndx] += (original_list[2*attrIndx][j+n] if hometeam[j+n] == teamName else original_list[2*attrIndx+1][j+n])\n",
    "                else:\n",
    "                    sufficient[j] = False\n",
    "                    \n",
    "                \n",
    "                scoresum = scoresum - (hscore[j] if hometeam[j] == teamName else ascore[j])\n",
    "                winsum = winsum - (hwin[j] if hometeam[j] == teamName else awin[j])\n",
    "                losesum= losesum - (hlose[j] if hometeam[j] == teamName else alose[j])\n",
    "                drawsum= drawsum - (hdraw[j] if hometeam[j] == teamName else adraw[j])\n",
    "                concedesum = concedesum - (hconcede[j] if hometeam[j] == teamName else aconcede[j])\n",
    "                moralsum= moralsum - (hmoral[j] if hometeam[j] == teamName else amoral[j])\n",
    "                enemy_sum -= (aaccp[j] if hometeam[j] == teamName else haccp[j])\n",
    "                for attrIndx in range(len(teamAttrSum_list)):\n",
    "                    teamAttrSum_list[attrIndx] -=  (original_list[2*attrIndx][j] if hometeam[j] == teamName else original_list[2*attrIndx+1][j])\n",
    "                    \n",
    "                if hometeam[j] == teamName:\n",
    "                    hscore[j] = scoresum\n",
    "                    hwin[j] = winsum\n",
    "                    hlose[j] = losesum\n",
    "                    hdraw[j] = drawsum\n",
    "                    hconcede[j] = concedesum\n",
    "                    hmoral[j] = moralsum\n",
    "                    hrestday[j] = restday\n",
    "                    h_enemy[j] = enemy_sum\n",
    "                    for attrIndx in range(len(teamAttrSum_list)):\n",
    "                        output_list[2*attrIndx][j] = teamAttrSum_list[attrIndx]\n",
    "                else:\n",
    "                    ascore[j] = scoresum\n",
    "                    awin[j] = winsum\n",
    "                    alose[j] = losesum\n",
    "                    adraw[j] = drawsum\n",
    "                    aconcede[j] = concedesum\n",
    "                    amoral[j] = moralsum\n",
    "                    arestday[j] = restday\n",
    "                    a_enemy[j] = enemy_sum\n",
    "                    for attrIndx in range(len(teamAttrSum_list)):\n",
    "                        output_list[2*attrIndx+1][j] = teamAttrSum_list[attrIndx]\n",
    "            team[\"HWin\"]=hwin\n",
    "            team[\"AWin\"]=awin\n",
    "            team[\"HDraw\"]=hdraw\n",
    "            team[\"ADraw\"]=adraw\n",
    "            team[\"HLose\"]=hlose\n",
    "            team[\"ALose\"]=alose\n",
    "            team[\"HScore\"]=hscore\n",
    "            team[\"AScore\"]=ascore\n",
    "            team[\"HConcede\"]=hconcede\n",
    "            team[\"AConcede\"]=aconcede\n",
    "            team[\"HMoral\"] = hmoral\n",
    "            team[\"AMoral\"] = amoral\n",
    "            team['Sufficient'] = sufficient\n",
    "            team[\"H_Enemy_Acc\"] = h_enemy\n",
    "            team[\"A_Enemy_Acc\"] = a_enemy\n",
    "            for indx in range(len(output_list)):\n",
    "                team[generalOutput[indx]]= output_list[indx]\n",
    "        \n",
    "            #print(team[['HomeTeam','AwayTeam','HWin']])\n",
    "            df.update(team)\n",
    "            #print(df[['HomeTeam','AwayTeam','HAccP','AAccP']])\n",
    "        self.df =df\n",
    "        return df\n",
    "    def initTeamData(self):\n",
    "        self.teamsData={}\n",
    "        self.teamsById={}\n",
    "        for name in self.teamsMap.keys():\n",
    "            self.readTeamMatch(name)\n",
    "            "
   ]
  },
  {
   "cell_type": "code",
   "execution_count": 69,
   "metadata": {
    "ExecuteTime": {
     "end_time": "2016-04-12T03:18:42.066000",
     "start_time": "2016-04-12T03:18:42.023000"
    },
    "collapsed": true,
    "init_cell": true,
    "run_control": {
     "marked": false
    },
    "scrolled": false
   },
   "outputs": [],
   "source": [
    "\n",
    "c = FootballDataHelper()"
   ]
  },
  {
   "cell_type": "code",
   "execution_count": null,
   "metadata": {
    "collapsed": false,
    "run_control": {
     "marked": false
    },
    "scrolled": false
   },
   "outputs": [],
   "source": [
    "#c.readFootBallData(\"E0_1112.csv\")\n",
    "c.readFootBallData(2012)\n",
    "c.readFootBallData(2013)\n",
    "c.readFootBallData(2014)\n",
    "c.readFootBallData(2015)"
   ]
  },
  {
   "cell_type": "code",
   "execution_count": null,
   "metadata": {
    "collapsed": true,
    "run_control": {
     "marked": false
    },
    "scrolled": false
   },
   "outputs": [],
   "source": [
    "\n",
    "c.readFuture()"
   ]
  },
  {
   "cell_type": "code",
   "execution_count": null,
   "metadata": {
    "collapsed": false,
    "run_control": {
     "marked": false
    },
    "scrolled": false
   },
   "outputs": [],
   "source": [
    "\n",
    "c.initTeamData()\n",
    "clear_output()"
   ]
  },
  {
   "cell_type": "code",
   "execution_count": null,
   "metadata": {
    "collapsed": false,
    "run_control": {
     "marked": false
    },
    "scrolled": false
   },
   "outputs": [],
   "source": [
    "df = c.initRanking()\n",
    "clear_output()"
   ]
  },
  {
   "cell_type": "code",
   "execution_count": null,
   "metadata": {
    "collapsed": false,
    "run_control": {
     "marked": false
    },
    "scrolled": false
   },
   "outputs": [],
   "source": [
    "df=c.initRecentData(n=5)\n",
    "clear_output()"
   ]
  },
  {
   "cell_type": "code",
   "execution_count": null,
   "metadata": {
    "collapsed": false,
    "run_control": {
     "marked": false
    },
    "scrolled": false
   },
   "outputs": [],
   "source": [
    "c.saveDf('dataSet/df.csv')"
   ]
  },
  {
   "cell_type": "code",
   "execution_count": 70,
   "metadata": {
    "ExecuteTime": {
     "end_time": "2016-04-12T03:18:42.157000",
     "start_time": "2016-04-12T03:18:42.069000"
    },
    "collapsed": true,
    "init_cell": true,
    "run_control": {
     "marked": false
    },
    "scrolled": false
   },
   "outputs": [],
   "source": [
    "c.loadDf('dataSet/df.csv')"
   ]
  },
  {
   "cell_type": "code",
   "execution_count": null,
   "metadata": {
    "collapsed": false,
    "run_control": {
     "marked": false
    },
    "scrolled": false
   },
   "outputs": [],
   "source": []
  },
  {
   "cell_type": "code",
   "execution_count": 43,
   "metadata": {
    "ExecuteTime": {
     "end_time": "2016-04-11T14:06:14.906000",
     "start_time": "2016-04-11T14:06:14.884000"
    },
    "collapsed": false,
    "run_control": {
     "marked": false
    },
    "scrolled": false
   },
   "outputs": [
    {
     "name": "stdout",
     "output_type": "stream",
     "text": [
      "start format\n",
      "[['HS_Acc' 'HST_Acc' 'H_poss_Acc' 'H_atk_3rd_Acc' 'H_atk_3rd_tot_Acc'\n",
      "  'H_red_goal_Acc' 'H_red_on_Acc' 'H_red_tot_Acc' 'H_chance_goal_Acc'\n",
      "  'H_chance_tot_Acc' 'H_successful_clearance_Acc' 'H_clearance_tot_Acc']\n",
      " ['AS_Acc' 'AST_Acc' 'A_poss_Acc' 'A_atk_3rd_Acc' 'A_atk_3rd_tot_Acc'\n",
      "  'A_red_goal_Acc' 'A_red_on_Acc' 'A_red_tot_Acc' 'A_chance_goal_Acc'\n",
      "  'A_chance_tot_Acc' 'A_successful_clearance_Acc' 'A_clearance_tot_Acc']]\n",
      "finish\n"
     ]
    }
   ],
   "source": [
    "X,y = c.getH7(removeInsufficient=True, encode=False)\n"
   ]
  },
  {
   "cell_type": "code",
   "execution_count": null,
   "metadata": {
    "collapsed": true,
    "run_control": {
     "marked": false
    }
   },
   "outputs": [],
   "source": []
  },
  {
   "cell_type": "code",
   "execution_count": 45,
   "metadata": {
    "ExecuteTime": {
     "end_time": "2016-04-11T14:06:25.433000",
     "start_time": "2016-04-11T14:06:25.425000"
    },
    "collapsed": false,
    "run_control": {
     "marked": false
    },
    "scrolled": true
   },
   "outputs": [
    {
     "name": "stdout",
     "output_type": "stream",
     "text": [
      "(1358L, 47L)\n",
      "(1358, 48)\n"
     ]
    }
   ],
   "source": [
    "print(X.shape)\n",
    "df = pd.DataFrame(np.hstack([X,y.reshape(y.shape[0],1)]))\n",
    "print(df.shape)\n",
    "df.columns = ['home','away','Referee','time',\n",
    "              'HAccP - AAccP','H/A','HWin','HDraw','HLose','H goal Diff',\n",
    "'AWin','ADraw','ALose','A goal diff','moraldiff + h-a','H_Enemy_Acc','A_Enemy_Acc']+c.h7_general+\\\n",
    "            c.percent_headers+[\n",
    "              'y']"
   ]
  },
  {
   "cell_type": "code",
   "execution_count": null,
   "metadata": {
    "collapsed": true,
    "run_control": {
     "marked": false
    },
    "scrolled": false
   },
   "outputs": [],
   "source": [
    "\n",
    "df.to_csv('dataSet/V10_2.csv',index=False)"
   ]
  },
  {
   "cell_type": "code",
   "execution_count": null,
   "metadata": {
    "collapsed": true,
    "run_control": {
     "marked": false
    },
    "scrolled": false
   },
   "outputs": [],
   "source": []
  },
  {
   "cell_type": "code",
   "execution_count": null,
   "metadata": {
    "collapsed": true,
    "run_control": {
     "marked": false
    },
    "scrolled": false
   },
   "outputs": [],
   "source": []
  },
  {
   "cell_type": "code",
   "execution_count": 5,
   "metadata": {
    "collapsed": false,
    "run_control": {
     "marked": false
    },
    "scrolled": false
   },
   "outputs": [
    {
     "name": "stdout",
     "output_type": "stream",
     "text": [
      "start format\n",
      "[['HS_Acc' 'HST_Acc' 'H_poss_Acc' 'H_atk_3rd_Acc' 'H_atk_3rd_tot_Acc'\n",
      "  'H_interceptions_Acc']\n",
      " ['AS_Acc' 'AST_Acc' 'A_poss_Acc' 'A_atk_3rd_Acc' 'A_atk_3rd_tot_Acc'\n",
      "  'A_interceptions_Acc']]\n",
      "finish\n"
     ]
    },
    {
     "name": "stderr",
     "output_type": "stream",
     "text": [
      "/home/y/anaconda3/lib/python3.5/site-packages/ipykernel/__main__.py:224: DeprecationWarning: using a non-integer number instead of an integer will result in an error in the future\n",
      "/home/y/anaconda3/lib/python3.5/site-packages/ipykernel/__main__.py:232: DeprecationWarning: using a non-integer number instead of an integer will result in an error in the future\n"
     ]
    }
   ],
   "source": [
    "X,y = c.getH7(removeInsufficient = True)"
   ]
  },
  {
   "cell_type": "code",
   "execution_count": 71,
   "metadata": {
    "ExecuteTime": {
     "end_time": "2016-04-12T03:18:42.161000",
     "start_time": "2016-04-12T03:18:42.159000"
    },
    "collapsed": false,
    "init_cell": true,
    "run_control": {
     "marked": false
    },
    "scrolled": false
   },
   "outputs": [],
   "source": [
    "from sklearn.preprocessing import StandardScaler"
   ]
  },
  {
   "cell_type": "code",
   "execution_count": 72,
   "metadata": {
    "ExecuteTime": {
     "end_time": "2016-04-12T03:18:42.203000",
     "start_time": "2016-04-12T03:18:42.163000"
    },
    "collapsed": false,
    "init_cell": true,
    "run_control": {
     "marked": false
    },
    "scrolled": false
   },
   "outputs": [],
   "source": [
    "from sklearn.cross_validation import train_test_split\n",
    "def splitData(X,y, test_size =0.2):\n",
    "    X_train, X_test, y_train, y_test = train_test_split(X, y, test_size=test_size )\n",
    "    return X_train, X_test,y_train, y_test"
   ]
  },
  {
   "cell_type": "code",
   "execution_count": 73,
   "metadata": {
    "ExecuteTime": {
     "end_time": "2016-04-12T03:18:42.241000",
     "start_time": "2016-04-12T03:18:42.205000"
    },
    "collapsed": false,
    "init_cell": true,
    "run_control": {
     "marked": false
    },
    "scrolled": false
   },
   "outputs": [],
   "source": [
    "from keras.models import Sequential"
   ]
  },
  {
   "cell_type": "code",
   "execution_count": 74,
   "metadata": {
    "ExecuteTime": {
     "end_time": "2016-04-12T03:18:42.278000",
     "start_time": "2016-04-12T03:18:42.246000"
    },
    "collapsed": false,
    "init_cell": true,
    "run_control": {
     "marked": false
    },
    "scrolled": false
   },
   "outputs": [],
   "source": [
    "g_best_size =170 \n",
    "g_best_dropout=0.4\n",
    "g_patience=10\n",
    "g_validation = 0.25\n",
    "g_epoch = 1000\n",
    "g_input_dim = None \n",
    "g_early_stop =False"
   ]
  },
  {
   "cell_type": "code",
   "execution_count": 75,
   "metadata": {
    "ExecuteTime": {
     "end_time": "2016-04-12T03:18:42.315000",
     "start_time": "2016-04-12T03:18:42.280000"
    },
    "collapsed": false,
    "init_cell": true,
    "run_control": {
     "marked": false
    },
    "scrolled": false
   },
   "outputs": [],
   "source": [
    "from keras.layers import Dense, Dropout, Activation, Flatten\n",
    "from keras.optimizers import SGD, Adadelta, Adagrad\n",
    "from keras.layers.normalization import BatchNormalization\n",
    "from keras.callbacks import EarlyStopping\n",
    "from keras.callbacks import ModelCheckpoint"
   ]
  },
  {
   "cell_type": "code",
   "execution_count": 76,
   "metadata": {
    "ExecuteTime": {
     "end_time": "2016-04-12T03:18:42.417000",
     "start_time": "2016-04-12T03:18:42.317000"
    },
    "collapsed": false,
    "init_cell": true
   },
   "outputs": [],
   "source": [
    "\n",
    "class Model:\n",
    "    \n",
    "    def __init__(self,hide_size =[10], dropout = 0, preprocess = []):\n",
    "        self.model =None\n",
    "        self.dropout = dropout\n",
    "        self.hide_size = hide_size\n",
    "        self.preprocess = [] + preprocess\n",
    "    \n",
    "    def createModel(self,input_dim = g_input_dim):\n",
    "        hidSize = self.hide_size\n",
    "        activation ='tanh'\n",
    "        model = Sequential()\n",
    "        model.add(Dense(hidSize[0], input_dim=input_dim, init='uniform'))\n",
    "        model.add(Activation(activation))\n",
    "        model.add(Dropout(self.dropout))\n",
    "        \n",
    "        for i in range(1,len(hidSize)):\n",
    "            model.add(Dense(hidSize[i], init='uniform'))\n",
    "            model.add(Activation(activation))\n",
    "            model.add(Dropout(self.dropout))\n",
    "\n",
    "        model.add(Dense(3, init='uniform'))\n",
    "        model.add(Activation('softmax'))\n",
    "        \n",
    "        model.compile(loss='categorical_crossentropy', optimizer='adadelta')\n",
    "        return model\n",
    "    def _fitModel(self,X_train,X_val,y_train,y_val,early_stop=g_early_stop):\n",
    "        print(\"dtype {}\".format(X_train.dtype))\n",
    "        print(\"dtype {}\".format(y_train.dtype))\n",
    "        print(\"dtype {}\".format(X_val.dtype))\n",
    "        model = self.model\n",
    "        earlyCallback = EarlyStopping(patience=g_patience,verbose=1)\n",
    "        modelCheckPoint =ModelCheckpoint(\"temp.model\", monitor='val_loss', verbose=0, save_best_only=True, mode='auto')\n",
    "        if early_stop==True:\n",
    "            h= model.fit(X_train,y_train,verbose=0,nb_epoch=g_epoch,batch_size=128, validation_split=0,show_accuracy=True, \n",
    "                             callbacks=[earlyCallback,modelCheckPoint],validation_data=(X_val,y_val))\n",
    "            model.load_weights(\"temp.model\")\n",
    "            return h\n",
    "        else:\n",
    "            print(\"no early stop\")\n",
    "            h= model.fit(X_train,y_train,verbose=0,nb_epoch=g_epoch,batch_size=256, validation_split=0,show_accuracy=True,\n",
    "                             callbacks = [modelCheckPoint],validation_data=(X_val,y_val))\n",
    "            model.load_weights(\"temp.model\")\n",
    "            return h\n",
    "    def _preprocess_fit(self,X_train,y_train):\n",
    "        for pre in self.preprocess:\n",
    "            pre.fit(X_train,y_train)\n",
    "    def _preprocess(self,X):\n",
    "        X_temp = X\n",
    "        for pre in self.preprocess:\n",
    "            X_temp = pre.transform(X_temp)\n",
    "        return X_temp\n",
    "    def fit(self,X_train,y_train):\n",
    "        if self.model is not None:\n",
    "            print(\"already fit\")\n",
    "            return\n",
    "        X_train = X_train.astype('float32')\n",
    "        y_train = y_train.astype('float32')\n",
    "        #precoss\n",
    "        X_t, X_v , y_t, y_v = splitData(X_train,y_train, test_size=0.25)\n",
    "        self._preprocess_fit(X_t,np.argmax(y_t,axis=1))\n",
    "        X_t_pre = self._preprocess(X_t)\n",
    "        X_v_pre = self._preprocess(X_v)\n",
    "        self.model = self.createModel(input_dim=X_t_pre.shape[1])\n",
    "        return self._fitModel(X_t_pre,X_v_pre,y_t,y_v,early_stop=False)\n",
    "    def predict_proba(self,X):\n",
    "        X=X.astype('float32')\n",
    "        X_pre = self._preprocess(X)\n",
    "        return self.model.predict_proba(X_pre)\n",
    "    def evaluate(self,X,y):\n",
    "        X=X.astype('float32')\n",
    "        X_pre = self._preprocess(X)\n",
    "        return self.model.evaluate(X_pre,y,show_accuracy=True)\n",
    "    def precision(self,X,y_true):\n",
    "        X=X.astype('float32')\n",
    "        y_pred = self.predict_proba(X)        \n",
    "        return precision_score(np.argmax(y_true,axis=1),np.argmax(y_pred,axis=1),average=None)"
   ]
  },
  {
   "cell_type": "code",
   "execution_count": null,
   "metadata": {
    "ExecuteTime": {
     "end_time": "2016-04-10T13:43:42.844000",
     "start_time": "2016-04-10T13:43:42.806000"
    },
    "collapsed": false,
    "init_cell": true,
    "run_control": {
     "marked": false
    }
   },
   "outputs": [],
   "source": [
    "\n",
    "    "
   ]
  },
  {
   "cell_type": "code",
   "execution_count": 77,
   "metadata": {
    "ExecuteTime": {
     "end_time": "2016-04-12T03:18:42.460000",
     "start_time": "2016-04-12T03:18:42.419000"
    },
    "collapsed": false,
    "init_cell": true,
    "run_control": {
     "marked": false
    },
    "scrolled": false
   },
   "outputs": [],
   "source": [
    "from sklearn.cross_validation import StratifiedKFold\n",
    "def crossValidate2(node_sizes, X,y,dropout=g_best_dropout, fold = 10, earlyStopping =False,returnPredict = False):\n",
    "    y_label = np.argmax(y,axis=1)\n",
    "\n",
    "    kfold = StratifiedKFold(y=y_label, \n",
    "                             n_folds=fold\n",
    "                           )\n",
    "\n",
    "    val_loss = []\n",
    "    train_loss=[]\n",
    "    test_loss =[]\n",
    "    val_acc = []\n",
    "    test_acc = []\n",
    "    precision = []\n",
    "    predict_y = []\n",
    "    true_y = []\n",
    "    for k, (train, test) in enumerate(kfold):\n",
    "        model =  Model(node_sizes,dropout=dropout, preprocess=[StandardScaler()])\n",
    "        history =model.fit(X[train],y[train])\n",
    "        indx = np.argmin(history.history['val_loss'])\n",
    "        val_loss.append(history.history['val_loss'][indx])\n",
    "        val_acc.append(history.history['val_acc'][indx])\n",
    "        train_loss.append(history.history['loss'][indx])\n",
    "        test_loss.append(model.evaluate(X[test],y[test])[0])\n",
    "        precision.append(model.precision(X[test],y[test]))\n",
    "        test_acc.append(model.evaluate(X[test],y[test])[1])\n",
    "        predict_y.append(model.predict_proba(X[test]))\n",
    "        true_y .append(y[test])\n",
    "        print('Fold: %s, val_acc:%.3f test_acc: %.3f' % (k+1, val_acc[-1], test_acc[-1]))    \n",
    "        \n",
    "    if returnPredict ==True:\n",
    "        return train_loss,val_loss,test_loss,val_acc,test_acc,precision,np.vstack(predict_y),np.vstack(true_y)\n",
    "    return train_loss,val_loss,test_loss,val_acc,test_acc,precision\n",
    "\n",
    "\n"
   ]
  },
  {
   "cell_type": "code",
   "execution_count": null,
   "metadata": {
    "collapsed": false,
    "run_control": {
     "marked": false
    },
    "scrolled": false
   },
   "outputs": [],
   "source": [
    "train_scores,scores,  proba_test,proba_y,histories= crossValidate2([20,20],X_scaled,y,fold=5,dropout=0,earlyStopping=False)"
   ]
  },
  {
   "cell_type": "code",
   "execution_count": 78,
   "metadata": {
    "ExecuteTime": {
     "end_time": "2016-04-12T03:18:42.496000",
     "start_time": "2016-04-12T03:18:42.462000"
    },
    "collapsed": false,
    "init_cell": true,
    "run_control": {
     "marked": false
    },
    "scrolled": false
   },
   "outputs": [],
   "source": [
    "def kfoldTesting (X,y,X_test=None,y_test=None, s=g_best_size,dropout=g_best_dropout,kfold=5):\n",
    "        s_val_loss=[]\n",
    "        s_train_loss=[]\n",
    "        s_test_loss=[]\n",
    "        for k in range(kfold):\n",
    "            model = createModel([s,s],dropout=dropout,input_dim=X.shape[1])\n",
    "            history =fitModel(model,X,y)\n",
    "            s_val_loss.append(history.history['val_loss'][-1])\n",
    "            s_train_loss.append(history.history['loss'][-1])\n",
    "            if X_test is not None:\n",
    "                s_test_loss.append(model.evaluate(X_test,y_test))\n",
    "        if X_test is not None:\n",
    "            return s_train_loss,s_val_loss,s_test_loss\n",
    "        return s_train_loss,s_val_loss\n"
   ]
  },
  {
   "cell_type": "code",
   "execution_count": 79,
   "metadata": {
    "ExecuteTime": {
     "end_time": "2016-04-12T03:18:42.534000",
     "start_time": "2016-04-12T03:18:42.498000"
    },
    "collapsed": false,
    "init_cell": true,
    "run_control": {
     "marked": false
    },
    "scrolled": false
   },
   "outputs": [],
   "source": [
    "def dropoutTest(X_train,X_test,y_train,y_test, size=g_best_size,kfold = 5) :\n",
    "    val_losses = []\n",
    "    test_losses = []\n",
    "    losses =[]\n",
    "    drop_range = np.arange(0,0.9,0.1)\n",
    "    for d in drop_range:\n",
    "        s_train_loss,s_val_loss,s_test_loss = kfoldTesting(X_train,y_train,X_test=X_test,y_test=y_test,s =size,kfold=kfold)\n",
    "        losses.append(s_train_loss)\n",
    "        val_losses.append(s_val_loss)\n",
    "        test_losses.append(s_test_loss)\n",
    "        clear_output()\n",
    "        print(\"size{}, dropout{}:loss {},val {},test {}\".format(size,d,losses[-1],val_losses[-1],test_losses[-1]))\n",
    "        sys.stdout.flush()\n",
    "    return losses,val_losses,test_losses,drop_range\n",
    "                    \n",
    "    \n"
   ]
  },
  {
   "cell_type": "code",
   "execution_count": null,
   "metadata": {
    "collapsed": false,
    "run_control": {
     "marked": false
    },
    "scrolled": false
   },
   "outputs": [],
   "source": []
  },
  {
   "cell_type": "code",
   "execution_count": 80,
   "metadata": {
    "ExecuteTime": {
     "end_time": "2016-04-12T03:18:42.572000",
     "start_time": "2016-04-12T03:18:42.536000"
    },
    "collapsed": false,
    "init_cell": true,
    "run_control": {
     "marked": false
    },
    "scrolled": false
   },
   "outputs": [],
   "source": [
    "def testNodeNum(X,y, sizes,dropout =g_best_dropout, kfold =5):\n",
    "    #train_loss=[] \n",
    "    val_loss=[]\n",
    "    train_loss=[]\n",
    "    for s in sizes:\n",
    "        s_train_loss,s_val_loss = kfoldTesting(X,y,s=s,dropout=dropout,kfold=kfold)\n",
    "        clear_output()\n",
    "        print(\"size:{} , train:{} val_loss:{}\".format(s,\n",
    "                                np.mean(s_train_loss), np.mean(s_val_loss)))\n",
    "        val_loss.append(s_val_loss)\n",
    "        train_loss.append(s_train_loss)\n",
    "        \n",
    "    return train_loss,val_loss"
   ]
  },
  {
   "cell_type": "code",
   "execution_count": 81,
   "metadata": {
    "ExecuteTime": {
     "end_time": "2016-04-12T03:18:42.609000",
     "start_time": "2016-04-12T03:18:42.574000"
    },
    "collapsed": true,
    "init_cell": true,
    "run_control": {
     "marked": false
    }
   },
   "outputs": [],
   "source": [
    "def test_node_dropout(X_train,X_test,y_train,y_test, node_sizes,kfold=5):\n",
    "    s_val_loss=[]\n",
    "    s_train_loss=[]\n",
    "    s_test_loss=[]\n",
    "    s_drop_range =None\n",
    "    for s in node_sizes:\n",
    "        losses,val_losses,test_losses,drop_range = dropoutTest(X_train,X_test,y_train,y_test,size=s,kfold =kfold)\n",
    "        s_drop_range = drop_range\n",
    "\n",
    "        s_val_loss.append(val_losses)\n",
    "        s_train_loss.append(losses)\n",
    "        s_test_loss.append(test_losses)\n",
    "        \n",
    "    return s_train_loss,s_val_loss,s_test_loss,s_drop_range\n",
    "    \n",
    "    \n",
    "    "
   ]
  },
  {
   "cell_type": "code",
   "execution_count": null,
   "metadata": {
    "collapsed": false,
    "run_control": {
     "marked": false
    },
    "scrolled": true
   },
   "outputs": [],
   "source": [
    "sizes= range(45,55,1)\n",
    "train_loss,val_loss= testNodeNum(X_scaled,y,sizes,dropout=g_best_dropout)"
   ]
  },
  {
   "cell_type": "code",
   "execution_count": null,
   "metadata": {
    "collapsed": false,
    "run_control": {
     "marked": false
    },
    "scrolled": false
   },
   "outputs": [],
   "source": [
    "print(sizes)\n",
    "plt.plot(sizes,np.mean(val_loss,axis=1))\n",
    "plt.figure()"
   ]
  },
  {
   "cell_type": "code",
   "execution_count": null,
   "metadata": {
    "collapsed": true,
    "run_control": {
     "marked": false
    },
    "scrolled": false
   },
   "outputs": [],
   "source": [
    "def testDropoutRate(X,y, sizes,dropout):\n",
    "    train_scores,scores,  proba_test,proba_y= crossValidate2(sizes,X,y,fold=5,dropout=dropout,earlyStopping=True)\n",
    "    print(\"dropout:{} , val_loss_mean:{}\".format(dropout,np.mean(scores)))\n",
    "    return train_scores,scores"
   ]
  },
  {
   "cell_type": "code",
   "execution_count": null,
   "metadata": {
    "collapsed": false,
    "run_control": {
     "marked": false
    },
    "scrolled": false
   },
   "outputs": [],
   "source": [
    "g_dropout_range =np.arange(0.1,1, 0.1)\n",
    "g_train_loss=[]\n",
    "g_score_loss =[]\n",
    "for d in g_dropout_range:\n",
    "    train_loss, score_loss = testDropoutRate(X_scaled,y,[55,55],float(d))\n",
    "    g_train_loss.append(train_loss)\n",
    "    g_score_loss.append(score_loss)"
   ]
  },
  {
   "cell_type": "code",
   "execution_count": null,
   "metadata": {
    "collapsed": false,
    "run_control": {
     "marked": false
    },
    "scrolled": false
   },
   "outputs": [],
   "source": [
    "import matplotlib.pyplot as plt\n",
    "g_train_mean = np.mean(g_score_loss,axis=1)\n",
    "g_test_mean = np.mean(g_score_loss,axis=1)\n",
    "g_test_std = np.std(g_score_loss,axis = 1)\n",
    "plt.plot(g_dropout_range,g_test_mean)\n",
    "plt.plot(g_dropout_range,g_train_mean,color='red')\n",
    "plt.fill_between(g_dropout_range, g_test_mean - g_test_std, g_test_mean+g_test_std,alpha=0.3)\n",
    "plt.figure()\n"
   ]
  },
  {
   "cell_type": "code",
   "execution_count": null,
   "metadata": {
    "collapsed": true,
    "run_control": {
     "marked": false
    }
   },
   "outputs": [],
   "source": []
  },
  {
   "cell_type": "code",
   "execution_count": 82,
   "metadata": {
    "ExecuteTime": {
     "end_time": "2016-04-12T03:18:42.647000",
     "start_time": "2016-04-12T03:18:42.611000"
    },
    "collapsed": true,
    "init_cell": true,
    "run_control": {
     "marked": false
    },
    "scrolled": false
   },
   "outputs": [],
   "source": [
    "def findRecordsByDf(self,df):\n",
    "    #print((df['DayStamp']).values)\n",
    "    #date = convertToDate((df['DayStamp']).values)\n",
    "    #df[\"Date\"] = date\n",
    "    \n",
    "    home = df['HomeTeam'].values\n",
    "    away = df['AwayTeam'].values\n",
    "    origin = self.df[[\"Date\",\"HomeTeam\",\"AwayTeam\",\"JocH\",\"JocD\",\"JocA\"]]\n",
    "    origin[\"DayStamp\"]=(pd.to_numeric(origin['Date'])/1e9/24/60/60).values\n",
    "    origin[\"DayStamp\"] = origin[\"DayStamp\"].apply(lambda x: \"%.f\"%(float(x)))\n",
    "    df['DayStamp']=df['DayStamp'].apply(lambda x: \"%.f\"%(float(x)))\n",
    "    return origin.merge(df,left_on=['DayStamp',\"HomeTeam\",\"AwayTeam\"],right_on=[\"DayStamp\",\"HomeTeam\",\"AwayTeam\"],how='inner')\n",
    "   \n",
    "def mergeXWithOdds_Proba(self,X, y_proba, y_true):\n",
    "    decoded = oneHotDecode(self, X)\n",
    "    dates = X[:,c.dateColumn] \n",
    "    homeTeam = self.inverseTeamMapping(decoded[:,0])\n",
    "    awayTeam =self.inverseTeamMapping(decoded[:,1])\n",
    "    temp = np.vstack([homeTeam,awayTeam,dates]).T\n",
    "    df = pd.DataFrame(np.hstack([temp,y_proba,y_true])\n",
    "                      ,columns=[\"HomeTeam\",\"AwayTeam\",\"DayStamp\",\"H_prob\",\"D_prob\",\"A_prob\",\"H\",\"D\",\"A\"])\n",
    "    origin = self.df[[\"Date\",\"HomeTeam\",\"AwayTeam\",\"JocH\",\"JocD\",\"JocA\"]]\n",
    "    origin[\"DayStamp\"]=(pd.to_numeric(origin['Date'])/1e9/24/60/60).values\n",
    "    origin[\"DayStamp\"] = origin[\"DayStamp\"].apply(lambda x: \"%.f\"%(float(x)))\n",
    "    df['DayStamp']=df['DayStamp'].apply(lambda x: \"%.f\"%(float(x)))\n",
    "    #print(df.sort(\"DayStamp\",ascending=False).iloc[0:5])\n",
    "    resultDf=  origin.merge(df,left_on=['DayStamp',\"HomeTeam\",\"AwayTeam\"],right_on=[\"DayStamp\",\"HomeTeam\",\"AwayTeam\"],how='inner')  \n",
    "    #print(resultDf.sort(\"DayStamp\",ascending=False).iloc[0:5])\n",
    "    return resultDf"
   ]
  },
  {
   "cell_type": "code",
   "execution_count": null,
   "metadata": {
    "collapsed": false,
    "run_control": {
     "marked": false
    },
    "scrolled": false
   },
   "outputs": [],
   "source": [
    "withodds = findRecordsByDf(c,resultdf)"
   ]
  },
  {
   "cell_type": "code",
   "execution_count": 83,
   "metadata": {
    "ExecuteTime": {
     "end_time": "2016-04-12T03:18:42.683000",
     "start_time": "2016-04-12T03:18:42.654000"
    },
    "collapsed": false,
    "init_cell": true,
    "run_control": {
     "marked": false
    },
    "scrolled": false
   },
   "outputs": [],
   "source": [
    "import math\n",
    "def formatMatrixs(oddDf , precisionDf):\n",
    "    proba_mat = oddDf[['H_prob','D_prob','A_prob']].values\n",
    "    def locatePrecision(proba_mat, precisionDf):\n",
    "        precisionMat = precisionDf.values\n",
    "        pre_cols=[4,7,10]\n",
    "        def convert(proba, pre_col = 4):\n",
    "            if proba < 0.2:\n",
    "                return proba\n",
    "            for i in range(precisionMat.shape[0]):\n",
    "                if precisionMat[i,0] <= proba and proba < precisionMat[i,1] :\n",
    "                    if math.isnan(precisionMat[i,pre_col]):\n",
    "                        return proba\n",
    "                    else:\n",
    "                        return precisionMat[i,pre_col]\n",
    "        h_fproba = np.array([ convert(float(proba)) for proba in proba_mat[:,0] ] )\n",
    "        d_fproba = np.array([ convert(float(proba),pre_col=7) for proba in proba_mat[:,1] ] )\n",
    "        a_fproba = np.array([ convert(float(proba),pre_col=10) for proba in proba_mat[:,2] ] )\n",
    "        return h_fproba, d_fproba,a_fproba\n",
    "    if precisionDf is not None:\n",
    "        h_fproba, d_fproba,a_fproba =locatePrecision(proba_mat,precisionDf)\n",
    "        fproba_mat = np.hstack([h_fproba,d_fproba,a_fproba]).reshape(3,h_fproba.shape[0]).T\n",
    "    else:\n",
    "        fproba_mat = proba_mat.astype('float')\n",
    "    odd_mat = oddDf[['JocH','JocD','JocA']].values\n",
    "    win_mat = None\n",
    "    if 'H' in oddDf.columns:\n",
    "        win_mat = oddDf[['H','D','A']].values\n",
    "    return fproba_mat,odd_mat,win_mat"
   ]
  },
  {
   "cell_type": "code",
   "execution_count": null,
   "metadata": {
    "collapsed": false,
    "run_control": {
     "marked": false
    },
    "scrolled": false
   },
   "outputs": [],
   "source": [
    "fproba_mat,odd_mat,win_mat= formatMatrixs(withodds,p_matrix)"
   ]
  },
  {
   "cell_type": "code",
   "execution_count": null,
   "metadata": {
    "collapsed": false,
    "init_cell": false,
    "run_control": {
     "marked": false
    },
    "scrolled": false
   },
   "outputs": [],
   "source": [
    "def strategy1(fproba_mat,odd_mat,win_mat):\n",
    "    exp = odd_mat * fproba_mat\n",
    "    maxi = np.argmax(exp,axis=1)\n",
    "    y_true = np.argmax(win_mat,axis=1)\n",
    "    spent = 0\n",
    "    expectation = 0\n",
    "    income = 0\n",
    "    for i in range(maxi.shape[0]):\n",
    "        if exp[i,maxi[i]] > 1:\n",
    "            expectation = expectation+ exp[i,maxi[i]]\n",
    "            spent = spent+1\n",
    "            if maxi[i] == y_true[i]:\n",
    "                income = income + odd_mat[i,maxi[i]]\n",
    "            \n",
    "            \n",
    "        \n",
    "    print(\"Spent:{}, Income:{}, expectation:{}\".format(spent,income,expectation))"
   ]
  },
  {
   "cell_type": "code",
   "execution_count": null,
   "metadata": {
    "collapsed": false,
    "run_control": {
     "marked": false
    },
    "scrolled": true
   },
   "outputs": [],
   "source": [
    "strategy1(fproba_mat,odd_mat,win_mat)"
   ]
  },
  {
   "cell_type": "code",
   "execution_count": 84,
   "metadata": {
    "ExecuteTime": {
     "end_time": "2016-04-12T03:18:42.731000",
     "start_time": "2016-04-12T03:18:42.686000"
    },
    "collapsed": true,
    "init_cell": true,
    "run_control": {
     "marked": false
    },
    "scrolled": false
   },
   "outputs": [],
   "source": [
    "from datetime import date\n",
    "def strategy4(fproba_mat,odd_mat,win_mat,info, z = 0.2 ,e =1.8 ):\n",
    "    exp = odd_mat * fproba_mat\n",
    "    y_true=None\n",
    "    if win_mat is None:\n",
    "        y_true = np.zeros(shape=(fproba_mat.shape[0],))\n",
    "    else:\n",
    "        y_true = np.argmax(win_mat,axis=1)\n",
    "    spent = 0\n",
    "    expectation = 0\n",
    "    income = 0\n",
    "    total = fproba_mat.shape[0]\n",
    "    withdraw = 0\n",
    "    buy = 0\n",
    "    homeTeam = info[\"HomeTeam\"].values\n",
    "    awayTeam = info[\"AwayTeam\"].values\n",
    "    dates = [date(2015,1,1) for _ in range(homeTeam.shape[0])] \n",
    "    if \"DayStamp\" in info:\n",
    "        dates = convertToDate(info[\"DayStamp\"].values)\n",
    "    receipt = []\n",
    "    def chooseFrom(match, chosable):\n",
    "        max_prob = -1\n",
    "        c = 0\n",
    "        for choice in chosable:\n",
    "            if fproba_mat[match,choice] > max_prob:\n",
    "                c = choice\n",
    "                max_prob = fproba_mat[match,choice]\n",
    "        return c\n",
    "    for match in range(exp.shape[0]):\n",
    "        chosable = []\n",
    "        for choose in range(3):\n",
    "            if exp[match,choose]> e and fproba_mat[match,choose] >= z:\n",
    "                chosable.append(choose)\n",
    "                \n",
    "        if len(chosable) == 0:\n",
    "            withdraw= withdraw+1\n",
    "            continue\n",
    "        choice = chooseFrom(match,chosable)\n",
    "        expectation = expectation+ exp[match,choice]\n",
    "        spent = spent+1\n",
    "        buy =buy +1 \n",
    "        receipt.append(np.hstack([dates[match],homeTeam[match],awayTeam[match], odd_mat[match,choice],choice,y_true[match],fproba_mat[match,:]]))\n",
    "        if choice == y_true[match]:\n",
    "            income = income + odd_mat[match,choice]\n",
    "    #print(buy)\n",
    "    #print(\"Spent:{}, Income:{}, expectation:{}, withdraw:{}(total:{})\".\n",
    "    #      format(spent,income,expectation,withdraw,total))\n",
    "    receiptDf = pd.DataFrame(receipt,columns=[\"Date\",\"home\",\"away\",\"odd of choice\",\"choice\",\"result\",\"Hp\",\"Dp\",\"Ap\"])\n",
    "    return spent,income,expectation,withdraw,total,receiptDf"
   ]
  },
  {
   "cell_type": "code",
   "execution_count": null,
   "metadata": {
    "collapsed": false,
    "run_control": {
     "marked": false
    },
    "scrolled": false
   },
   "outputs": [],
   "source": [
    "spent,income,expectation,withdraw,total,receipt = strategy4(fproba_mat,odd_mat,win_mat,withodds,z=0.2,e=1.6)"
   ]
  },
  {
   "cell_type": "code",
   "execution_count": 85,
   "metadata": {
    "ExecuteTime": {
     "end_time": "2016-04-12T03:18:42.766000",
     "start_time": "2016-04-12T03:18:42.733000"
    },
    "collapsed": true,
    "init_cell": true,
    "run_control": {
     "marked": false
    },
    "scrolled": false
   },
   "outputs": [],
   "source": [
    "g_z_range = np.arange(0,1,0.05)\n",
    "g_e_range = np.arange(0,2,0.05)\n",
    "def range_strategy4_test(fproba_mat,odd_mat,win_mat,info):\n",
    "    g_incomes = []\n",
    "    g_spents =[]\n",
    "    g_withdraws=[]\n",
    "    g_exps=[]\n",
    "    g_total = 0\n",
    "    receipts=[]\n",
    "    for e in g_e_range:\n",
    "        for z in g_z_range:\n",
    "            spent,income,expectation,withdraw,total,receipt = strategy4(fproba_mat,odd_mat,win_mat,info,z=z,e=e)\n",
    "            g_spents.append(spent)\n",
    "            g_incomes.append(income)\n",
    "            g_withdraws.append(withdraw)\n",
    "            g_exps.append(expectation)\n",
    "            g_total= total\n",
    "            receipts.append(receipt)\n",
    "    return g_spents,g_incomes,g_exps,g_withdraws,g_total,receipts\n"
   ]
  },
  {
   "cell_type": "code",
   "execution_count": null,
   "metadata": {
    "collapsed": true,
    "run_control": {
     "marked": false
    },
    "scrolled": false
   },
   "outputs": [],
   "source": [
    "g_node_sizes=[g_best_size,g_best_size]\n",
    "X, y = c.getH7(removeInsufficient=True)\n",
    "X_scaled = StandardScaler().fit_transform(X)"
   ]
  },
  {
   "cell_type": "code",
   "execution_count": 86,
   "metadata": {
    "ExecuteTime": {
     "end_time": "2016-04-12T03:18:42.803000",
     "start_time": "2016-04-12T03:18:42.769000"
    },
    "collapsed": true,
    "init_cell": true,
    "run_control": {
     "marked": false
    },
    "scrolled": false
   },
   "outputs": [],
   "source": [
    "def getPrecisionMaxtrix(X,y,node_sizes):\n",
    "    _,_, proba_test,proba_y,_ = crossValidate2(node_sizes,X,y,dropout=g_best_dropout,fold=10)\n",
    "    p_matrix = precisionMatrix(np.vstack(proba_test),np.vstack(proba_y)) \n",
    "    return p_matrix"
   ]
  },
  {
   "cell_type": "code",
   "execution_count": null,
   "metadata": {
    "collapsed": false,
    "run_control": {
     "marked": false
    },
    "scrolled": false
   },
   "outputs": [],
   "source": [
    "g_p_matrix= getPrecisionMaxtrix(X, y,g_node_sizes)"
   ]
  },
  {
   "cell_type": "code",
   "execution_count": null,
   "metadata": {
    "collapsed": false,
    "run_control": {
     "marked": false
    },
    "scrolled": false
   },
   "outputs": [],
   "source": [
    "g_p_matrix"
   ]
  },
  {
   "cell_type": "code",
   "execution_count": 87,
   "metadata": {
    "ExecuteTime": {
     "end_time": "2016-04-12T03:18:42.841000",
     "start_time": "2016-04-12T03:18:42.805000"
    },
    "collapsed": true,
    "init_cell": true,
    "run_control": {
     "marked": false
    },
    "scrolled": false
   },
   "outputs": [],
   "source": [
    "def getTrainedModel(node_sizes,c):\n",
    "    X, y = c.getH7(removeInsufficient=True)\n",
    "    X_scaled = StandardScaler().fit_transform(X) \n",
    "    model = createModel(node_sizes,X_scaled.shape[1])\n",
    "    earlyCallback = EarlyStopping(patience=g_patience,verbose=1)\n",
    "    history = model.fit(X_scaled,y,verbose=0,nb_epoch=500, validation_split=0.1, callbacks=[earlyCallback])\n",
    "    return model\n",
    "    "
   ]
  },
  {
   "cell_type": "code",
   "execution_count": null,
   "metadata": {
    "collapsed": false,
    "run_control": {
     "marked": false
    },
    "scrolled": false
   },
   "outputs": [],
   "source": [
    "g_model = getTrainedModel(g_node_sizes,c)"
   ]
  },
  {
   "cell_type": "code",
   "execution_count": 88,
   "metadata": {
    "ExecuteTime": {
     "end_time": "2016-04-12T03:18:42.879000",
     "start_time": "2016-04-12T03:18:42.843000"
    },
    "collapsed": false,
    "init_cell": true,
    "run_control": {
     "marked": false
    },
    "scrolled": false
   },
   "outputs": [],
   "source": [
    "from sklearn.preprocessing import StandardScaler\n",
    "def predictFuture(node_sizes,c,p_matrix,model):\n",
    "    X_test,y_test = c.getH7(removeInsufficient = True,future=True)\n",
    "    X_test_scaled = StandardScaler().fit_transform(X_test)\n",
    "    proba_y = model.predict_proba(X_test_scaled)\n",
    "   \n",
    "    def getTestDf (X_test,proba_y,c):\n",
    "        decoded = oneHotDecode(c, X_test)\n",
    "        homeNames = c.inverseTeamMapping(decoded[:,0])\n",
    "        awayNames = c.inverseTeamMapping(decoded[:,1])\n",
    "        names = np.array([homeNames,awayNames]).T\n",
    "        return pd.DataFrame(np.hstack([names,proba_y]),columns=['HomeTeam','AwayTeam','H_prob','D_prob','A_prob'])\n",
    "   \n",
    "    test_df = getTestDf(X_test,proba_y,c)\n",
    "    test_df = test_df.sort(columns=\"HomeTeam\")\n",
    "    originDf = c.df[c.df[\"Future\"]==1].sort(columns=\"HomeTeam\")\n",
    "    test_df['JocH']=originDf['JocH'].values\n",
    "    test_df['JocD']=originDf['JocD'].values\n",
    "    test_df['JocA']=originDf['JocA'].values\n",
    "    fproba_mat,odd_mat,_= formatMatrixs(test_df,p_matrix)\n",
    "    return fproba_mat,odd_mat,test_df\n",
    "    \n",
    "    "
   ]
  },
  {
   "cell_type": "code",
   "execution_count": null,
   "metadata": {
    "collapsed": false,
    "run_control": {
     "marked": false
    },
    "scrolled": false
   },
   "outputs": [],
   "source": [
    "fproba_mat,odd_mat,test_df=predictFuture(g_node_sizes,c,g_p_matrix,g_model)"
   ]
  },
  {
   "cell_type": "code",
   "execution_count": null,
   "metadata": {
    "collapsed": false,
    "run_control": {
     "marked": false
    },
    "scrolled": false
   },
   "outputs": [],
   "source": [
    "spent,income,expectation,withdraw,total,receipt = strategy4(fproba_mat,odd_mat,None,test_df,z=0.2,e=1.6)"
   ]
  },
  {
   "cell_type": "code",
   "execution_count": null,
   "metadata": {
    "collapsed": false,
    "run_control": {
     "marked": false
    },
    "scrolled": false
   },
   "outputs": [],
   "source": [
    "receipt"
   ]
  },
  {
   "cell_type": "code",
   "execution_count": null,
   "metadata": {
    "collapsed": false,
    "run_control": {
     "marked": false
    },
    "scrolled": false
   },
   "outputs": [],
   "source": [
    "c.df[[\"Date\",\"HomeTeam\",\"AwayTeam\"]].sort(columns =\"Date\",ascending = False)\n"
   ]
  },
  {
   "cell_type": "code",
   "execution_count": null,
   "metadata": {
    "collapsed": true,
    "run_control": {
     "marked": false
    },
    "scrolled": false
   },
   "outputs": [],
   "source": [
    "from sklearn.ensemble import RandomForestClassifier"
   ]
  },
  {
   "cell_type": "code",
   "execution_count": null,
   "metadata": {
    "collapsed": true,
    "run_control": {
     "marked": false
    },
    "scrolled": false
   },
   "outputs": [],
   "source": [
    "forest =RandomForestClassifier(n_estimators = 10000)"
   ]
  },
  {
   "cell_type": "code",
   "execution_count": null,
   "metadata": {
    "collapsed": false,
    "run_control": {
     "marked": false
    },
    "scrolled": false
   },
   "outputs": [],
   "source": [
    "forest.fit(X_scaled,y)"
   ]
  },
  {
   "cell_type": "code",
   "execution_count": null,
   "metadata": {
    "collapsed": false,
    "run_control": {
     "marked": false
    },
    "scrolled": false
   },
   "outputs": [],
   "source": [
    "    X_test,y_test = c.getH7(removeInsufficient = True,future=True)\n",
    "    X_test_scaled = StandardScaler().fit_transform(X_test)"
   ]
  },
  {
   "cell_type": "code",
   "execution_count": null,
   "metadata": {
    "collapsed": false,
    "run_control": {
     "marked": false
    },
    "scrolled": false
   },
   "outputs": [],
   "source": [
    "result =np.array(forest.predict_proba(X_test))"
   ]
  },
  {
   "cell_type": "code",
   "execution_count": null,
   "metadata": {
    "collapsed": false,
    "run_control": {
     "marked": false
    },
    "scrolled": false
   },
   "outputs": [],
   "source": []
  },
  {
   "cell_type": "code",
   "execution_count": 53,
   "metadata": {
    "ExecuteTime": {
     "end_time": "2016-04-11T02:33:09.017000",
     "start_time": "2016-04-11T02:33:08.982000"
    },
    "collapsed": false,
    "run_control": {
     "marked": false
    },
    "scrolled": false
   },
   "outputs": [
    {
     "name": "stdout",
     "output_type": "stream",
     "text": [
      "start format\n",
      "[['HS_Acc' 'HST_Acc' 'H_poss_Acc' 'H_atk_3rd_Acc' 'H_atk_3rd_tot_Acc'\n",
      "  'H_interceptions_Acc']\n",
      " ['AS_Acc' 'AST_Acc' 'A_poss_Acc' 'A_atk_3rd_Acc' 'A_atk_3rd_tot_Acc'\n",
      "  'A_interceptions_Acc']]\n",
      "finish\n"
     ]
    }
   ],
   "source": [
    "g_X,g_y = c.getH7()"
   ]
  },
  {
   "cell_type": "code",
   "execution_count": 54,
   "metadata": {
    "ExecuteTime": {
     "end_time": "2016-04-11T02:33:09.403000",
     "start_time": "2016-04-11T02:33:09.398000"
    },
    "collapsed": false,
    "run_control": {
     "marked": false
    },
    "scrolled": false
   },
   "outputs": [],
   "source": [
    "g_X_train , g_X_test, g_y_train,g_y_test = splitData(g_X,g_y,test_size =0.2)"
   ]
  },
  {
   "cell_type": "code",
   "execution_count": 142,
   "metadata": {
    "collapsed": false,
    "run_control": {
     "marked": false
    },
    "scrolled": false
   },
   "outputs": [],
   "source": [
    "scaler = StandardScaler()\n",
    "g_X_train_scaled = scaler.fit_transform(g_X_train)\n",
    "g_X_test_scaled = scaler.transform(g_X_test)"
   ]
  },
  {
   "cell_type": "code",
   "execution_count": 89,
   "metadata": {
    "ExecuteTime": {
     "end_time": "2016-04-12T03:18:42.915000",
     "start_time": "2016-04-12T03:18:42.881000"
    },
    "collapsed": true,
    "init_cell": true,
    "run_control": {
     "marked": false
    }
   },
   "outputs": [],
   "source": [
    "from sklearn.decomposition import PCA \n",
    "def getPCA():\n",
    "    return PCA()"
   ]
  },
  {
   "cell_type": "code",
   "execution_count": 144,
   "metadata": {
    "collapsed": true,
    "run_control": {
     "marked": false
    }
   },
   "outputs": [],
   "source": [
    "g_pca = getPCA()\n",
    "g_X_train_pca = g_pca.fit_transform(g_X_train_scaled)\n",
    "g_X_test_pca = g_pca.transform(g_X_test_scaled)\n",
    "\n"
   ]
  },
  {
   "cell_type": "code",
   "execution_count": null,
   "metadata": {
    "collapsed": false,
    "run_control": {
     "marked": false
    }
   },
   "outputs": [],
   "source": []
  },
  {
   "cell_type": "code",
   "execution_count": 90,
   "metadata": {
    "ExecuteTime": {
     "end_time": "2016-04-12T03:18:42.954000",
     "start_time": "2016-04-12T03:18:42.917000"
    },
    "collapsed": false,
    "init_cell": true,
    "run_control": {
     "marked": false
    },
    "scrolled": false
   },
   "outputs": [],
   "source": [
    "from sklearn.lda import LDA\n",
    "def getLda():\n",
    "    lda = LDA(solver ='svd')\n",
    "    return lda\n"
   ]
  },
  {
   "cell_type": "code",
   "execution_count": 146,
   "metadata": {
    "collapsed": false,
    "run_control": {
     "marked": false
    },
    "scrolled": false
   },
   "outputs": [
    {
     "name": "stderr",
     "output_type": "stream",
     "text": [
      "/home/y/scikit-learn/sklearn/discriminant_analysis.py:387: UserWarning: Variables are collinear.\n",
      "  warnings.warn(\"Variables are collinear.\")\n"
     ]
    }
   ],
   "source": [
    "lda = getLda(g_X_train_scaled,g_y_train)\n",
    "g_X_train_lda = lda.transform(g_X_train_scaled)\n",
    "g_X_test_lda = lda.transform(g_X_test_scaled)\n",
    "g_y_arg = np.argmax(g_y_train,axis=1)\n",
    "lda = getLda(g_X_train_pca,g_y_train)\n",
    "g_X_train_pca_lda  = lda.transform(g_X_train_pca)\n",
    "g_X_test_pca_lda = lda.transform(g_X_test_pca)\n"
   ]
  },
  {
   "cell_type": "code",
   "execution_count": 91,
   "metadata": {
    "ExecuteTime": {
     "end_time": "2016-04-12T03:18:42.991000",
     "start_time": "2016-04-12T03:18:42.956000"
    },
    "collapsed": true,
    "init_cell": true,
    "run_control": {
     "marked": false
    }
   },
   "outputs": [],
   "source": [
    "def transform_train_test_set(X_train,X_test,y_train,y_test, retain = None):\n",
    "    global lda\n",
    "    scaler = StandardScaler()\n",
    "    X_train_std = scaler.fit_transform(X_train)\n",
    "    X_test_std = scaler.transform(X_test)\n",
    "    return X_train_std,X_test_std\n",
    "    lda = getLda(X_train_std,y_train)\n",
    "    if retain is None:\n",
    "        X_train_best = lda.transform(X_train_std)\n",
    "        X_test_best = lda.transform(X_test_std)\n",
    "        return X_train_best,X_test_best\n",
    "    else:\n",
    "        X_train_best = lda.transform(X_train_std)[:,0:retain]\n",
    "        X_test_best = lda.transform(X_test_std)[:,0:retain]\n",
    "        return X_train_best,X_test_best\n",
    "    \n",
    "def get_train_test_set(retain=None):\n",
    "    X,y = c.getH7()\n",
    "    X_train,X_test,y_train, y_test = splitData(X,y,test_size=0.2)\n",
    "    X_train_lda,X_test_lda = transform_train_test_set(X_train,X_test,y_train,y_test,retain=retain)\n",
    "    return X_train_lda,X_test_lda,y_train,y_test,X_test\n",
    "    "
   ]
  },
  {
   "cell_type": "code",
   "execution_count": 329,
   "metadata": {
    "ExecuteTime": {
     "end_time": "2016-04-10T03:05:20.947000",
     "start_time": "2016-04-10T03:05:20.897000"
    },
    "collapsed": false,
    "run_control": {
     "marked": false
    }
   },
   "outputs": [
    {
     "name": "stdout",
     "output_type": "stream",
     "text": [
      "start format\n",
      "[['HS_Acc' 'HST_Acc' 'H_poss_Acc' 'H_atk_3rd_Acc' 'H_atk_3rd_tot_Acc'\n",
      "  'H_interceptions_Acc']\n",
      " ['AS_Acc' 'AST_Acc' 'A_poss_Acc' 'A_atk_3rd_Acc' 'A_atk_3rd_tot_Acc'\n",
      "  'A_interceptions_Acc']]\n",
      "finish\n"
     ]
    }
   ],
   "source": [
    "g_X_train_best , g_X_test_best, g_y_train , g_y_test, g_X_test  = get_train_test_set()"
   ]
  },
  {
   "cell_type": "code",
   "execution_count": 90,
   "metadata": {
    "ExecuteTime": {
     "end_time": "2016-04-09T20:57:48.100000",
     "start_time": "2016-04-09T20:57:48.096000"
    },
    "collapsed": false,
    "run_control": {
     "marked": false
    }
   },
   "outputs": [],
   "source": [
    "g_node_size_test = range(5, g_X_train_best.shape[1] * 2, 10)"
   ]
  },
  {
   "cell_type": "code",
   "execution_count": 93,
   "metadata": {
    "ExecuteTime": {
     "end_time": "2016-04-09T22:48:15.143000",
     "start_time": "2016-04-09T20:58:22.111000"
    },
    "collapsed": false,
    "run_control": {
     "marked": false
    }
   },
   "outputs": [
    {
     "name": "stdout",
     "output_type": "stream",
     "text": [
      "size205, dropout0.8:loss [0.1173032483758739],val [3.9100210245917824],test [4.161320644266465]\n"
     ]
    }
   ],
   "source": [
    "s_train_loss,s_val_loss,s_test_loss,s_drop_range = test_node_dropout(g_X_train_best,g_X_test_best,g_y_train,g_y_test , g_node_size_test,kfold = 1)"
   ]
  },
  {
   "cell_type": "code",
   "execution_count": 129,
   "metadata": {
    "ExecuteTime": {
     "end_time": "2016-04-09T22:57:27.656000",
     "start_time": "2016-04-09T22:57:26.767000"
    },
    "collapsed": false
   },
   "outputs": [
    {
     "data": {
      "text/plain": [
       "<matplotlib.figure.Figure at 0xe863208>"
      ]
     },
     "execution_count": 129,
     "metadata": {},
     "output_type": "execute_result"
    },
    {
     "data": {
      "image/png": "[encoded data removed]",
      "text/plain": [
       "<matplotlib.figure.Figure at 0xe863400>"
      ]
     },
     "metadata": {},
     "output_type": "display_data"
    },
    {
     "data": {
      "text/plain": [
       "<matplotlib.figure.Figure at 0xe863208>"
      ]
     },
     "metadata": {},
     "output_type": "display_data"
    }
   ],
   "source": [
    "n_val_loss = np.mean(np.array(s_val_loss),axis=2)\n",
    "g_D,g_S = np.meshgrid(s_drop_range,g_node_size_test)\n",
    "cf = plt.contourf(g_D,g_S,n_val_loss)\n",
    "plt.figure()\n"
   ]
  },
  {
   "cell_type": "code",
   "execution_count": 212,
   "metadata": {
    "ExecuteTime": {
     "end_time": "2016-04-10T02:10:47.063000",
     "start_time": "2016-04-10T02:10:47.058000"
    },
    "collapsed": false
   },
   "outputs": [
    {
     "data": {
      "text/plain": [
       "1.0725122760323917"
      ]
     },
     "execution_count": 212,
     "metadata": {},
     "output_type": "execute_result"
    }
   ],
   "source": [
    "np.min(n_val_loss)"
   ]
  },
  {
   "cell_type": "code",
   "execution_count": 32,
   "metadata": {
    "ExecuteTime": {
     "end_time": "2016-04-11T19:39:35.947000",
     "start_time": "2016-04-11T19:39:35.313000"
    },
    "collapsed": false
   },
   "outputs": [
    {
     "name": "stdout",
     "output_type": "stream",
     "text": [
      "[GpuElemwise{exp,no_inplace}(<CudaNdarrayType(float32, vector)>), HostFromGpu(GpuElemwise{exp,no_inplace}.0)]\n",
      "Looping 1000 times took 0.590000 seconds\n",
      "Result is [ 1.23178029  1.61879349  1.52278066 ...,  2.20771813  2.29967761\n",
      "  1.62323296]\n",
      "Used the gpu\n"
     ]
    }
   ],
   "source": [
    "from theano import function, config, shared, sandbox\n",
    "import theano.tensor as T\n",
    "import numpy\n",
    "import time\n",
    "\n",
    "vlen = 10 * 30 * 768  # 10 x #cores x # threads per core\n",
    "iters = 1000\n",
    "\n",
    "rng = numpy.random.RandomState(22)\n",
    "x = shared(numpy.asarray(rng.rand(vlen), config.floatX))\n",
    "f = function([], T.exp(x))\n",
    "print(f.maker.fgraph.toposort())\n",
    "t0 = time.time()\n",
    "for i in range(iters):\n",
    "    r = f()\n",
    "t1 = time.time()\n",
    "print(\"Looping %d times took %f seconds\" % (iters, t1 - t0))\n",
    "print(\"Result is %s\" % (r,))\n",
    "if numpy.any([isinstance(x.op, T.Elemwise) for x in f.maker.fgraph.toposort()]):\n",
    "    print('Used the cpu')\n",
    "else:\n",
    "    print('Used the gpu')"
   ]
  },
  {
   "cell_type": "code",
   "execution_count": 92,
   "metadata": {
    "ExecuteTime": {
     "end_time": "2016-04-12T03:18:43.029000",
     "start_time": "2016-04-12T03:18:42.993000"
    },
    "collapsed": false,
    "init_cell": true
   },
   "outputs": [],
   "source": [
    "import random\n",
    "import time\n",
    "import pickle\n",
    "def save_list(filename, ls):\n",
    "    with open('nparrays/'+filename, 'wb') as f:\n",
    "        pickle.dump(ls, f)\n",
    "def load_list(filename):\n",
    "    with open('nparrays/'+filename, 'rb') as f:\n",
    "        my_list = pickle.load(f)\n",
    "        return my_list\n",
    "    \n",
    "def kfoldRandomTesting( X, y ,kfold = 10, dropout_range =(0, 0.95), timeout=None,\n",
    "                      target_n = 100, filename=\"random\"):\n",
    "    sums = []\n",
    "    start = time.time()\n",
    "    total_run = 0\n",
    "    try:\n",
    "        for i in range (target_n):\n",
    "            s1 = random.randint(3, int(X.shape[1]*1.2))\n",
    "            s2 = random.randint(3, s1)\n",
    "           \n",
    "            d = random.uniform(dropout_range[0], dropout_range[1])\n",
    "            \n",
    "            print(\"{} : s1 {}, s2 {}, d {}\".format(i,s1,s2,d))\n",
    "            summary = crossValidate2([s1,s2],X,y,dropout=d)\n",
    "            clear_output()\n",
    "            sums.append([s1,s2,d] + list(summary))\n",
    "            save_list(filename,sums)\n",
    "            print(\"saved\")\n",
    "            sys.stdout.flush()\n",
    "    except KeyboardInterrupt:\n",
    "        print(\"interrupted\")\n",
    "    return sums\n",
    "    "
   ]
  },
  {
   "cell_type": "code",
   "execution_count": 32,
   "metadata": {
    "ExecuteTime": {
     "end_time": "2016-04-12T02:44:55.296000",
     "start_time": "2016-04-12T02:44:55.260000"
    },
    "collapsed": false
   },
   "outputs": [
    {
     "name": "stdout",
     "output_type": "stream",
     "text": [
      "start format\n",
      "[['HS_Acc' 'HST_Acc' 'H_poss_Acc' 'H_atk_3rd_Acc' 'H_atk_3rd_tot_Acc'\n",
      "  'H_red_goal_Acc' 'H_red_on_Acc' 'H_red_tot_Acc' 'H_chance_goal_Acc'\n",
      "  'H_chance_tot_Acc' 'H_successful_clearance_Acc' 'H_clearance_tot_Acc']\n",
      " ['AS_Acc' 'AST_Acc' 'A_poss_Acc' 'A_atk_3rd_Acc' 'A_atk_3rd_tot_Acc'\n",
      "  'A_red_goal_Acc' 'A_red_on_Acc' 'A_red_tot_Acc' 'A_chance_goal_Acc'\n",
      "  'A_chance_tot_Acc' 'A_successful_clearance_Acc' 'A_clearance_tot_Acc']]\n",
      "finish\n"
     ]
    }
   ],
   "source": [
    "g_X,g_y = c.getH7()\n"
   ]
  },
  {
   "cell_type": "code",
   "execution_count": 66,
   "metadata": {
    "ExecuteTime": {
     "end_time": "2016-04-12T00:35:57.438000",
     "start_time": "2016-04-11T20:23:08.907000"
    },
    "collapsed": false
   },
   "outputs": [
    {
     "name": "stdout",
     "output_type": "stream",
     "text": [
      "saved\n"
     ]
    }
   ],
   "source": [
    "random_sums = kfoldRandomTesting(g_X,g_y)"
   ]
  },
  {
   "cell_type": "code",
   "execution_count": 89,
   "metadata": {
    "ExecuteTime": {
     "end_time": "2016-04-12T02:03:32.821000",
     "start_time": "2016-04-12T02:03:32.810000"
    },
    "collapsed": false
   },
   "outputs": [],
   "source": [
    "def format_to_mean(random_sums):\n",
    "    mean_sums = []\n",
    "    for e in random_sums:\n",
    "        temp = e[0:3]\n",
    "        precision = np.mean(e[8],axis=0)\n",
    "        mean_val_acc = np.mean(e[6])\n",
    "        mean_test_acc = np.mean(e[7])\n",
    " \n",
    "        h_a_precision =  (precision[0] +precision[2])/2\n",
    "        temp +=[mean_val_acc,mean_test_acc,h_a_precision]\n",
    "        mean_sums.append(temp)\n",
    "    return np.array(mean_sums)\n",
    "    \n",
    "    \n",
    "    "
   ]
  },
  {
   "cell_type": "code",
   "execution_count": 90,
   "metadata": {
    "ExecuteTime": {
     "end_time": "2016-04-12T02:03:33.703000",
     "start_time": "2016-04-12T02:03:33.692000"
    },
    "collapsed": false
   },
   "outputs": [],
   "source": [
    "mean_sums = format_to_mean(random_sums)"
   ]
  },
  {
   "cell_type": "code",
   "execution_count": 36,
   "metadata": {
    "ExecuteTime": {
     "end_time": "2016-04-12T02:45:33.656000",
     "start_time": "2016-04-12T02:45:33.652000"
    },
    "collapsed": false
   },
   "outputs": [],
   "source": [
    "#random result\n",
    "g_best_size=[120,7]\n",
    "g_best_dropout = 0.21005096\n"
   ]
  },
  {
   "cell_type": "code",
   "execution_count": 37,
   "metadata": {
    "ExecuteTime": {
     "end_time": "2016-04-12T02:45:34.786000",
     "start_time": "2016-04-12T02:45:34.780000"
    },
    "collapsed": true
   },
   "outputs": [],
   "source": [
    "\n",
    "g_X_train , g_X_test, g_y_train,g_y_test = splitData(g_X,g_y,test_size =0.2)"
   ]
  },
  {
   "cell_type": "code",
   "execution_count": 38,
   "metadata": {
    "ExecuteTime": {
     "end_time": "2016-04-12T02:45:35.245000",
     "start_time": "2016-04-12T02:45:35.242000"
    },
    "collapsed": false
   },
   "outputs": [],
   "source": [
    "g_epoch = 500\n",
    "g_patience = 10\n",
    "g_model = Model(g_best_size,dropout=g_best_dropout, preprocess=[StandardScaler()])\n"
   ]
  },
  {
   "cell_type": "code",
   "execution_count": 39,
   "metadata": {
    "ExecuteTime": {
     "end_time": "2016-04-12T02:45:48.388000",
     "start_time": "2016-04-12T02:45:36.566000"
    },
    "collapsed": false
   },
   "outputs": [
    {
     "name": "stdout",
     "output_type": "stream",
     "text": [
      "dtype float32\n",
      "dtype float32\n",
      "dtype float32\n",
      "no early stop\n"
     ]
    }
   ],
   "source": [
    "history = g_model.fit(g_X_train,g_y_train)"
   ]
  },
  {
   "cell_type": "code",
   "execution_count": 40,
   "metadata": {
    "ExecuteTime": {
     "end_time": "2016-04-12T02:45:50.698000",
     "start_time": "2016-04-12T02:45:50.498000"
    },
    "collapsed": false
   },
   "outputs": [
    {
     "name": "stdout",
     "output_type": "stream",
     "text": [
      "0.600917458534\n"
     ]
    },
    {
     "data": {
      "text/plain": [
       "[<matplotlib.lines.Line2D at 0x31946400>]"
      ]
     },
     "execution_count": 40,
     "metadata": {},
     "output_type": "execute_result"
    },
    {
     "data": {
      "image/png": "[encoded data removed]",
      "text/plain": [
       "<matplotlib.figure.Figure at 0x3cd3d748>"
      ]
     },
     "metadata": {},
     "output_type": "display_data"
    }
   ],
   "source": [
    "print(np.max(history.history['val_acc']))\n",
    "plt.plot(history.history['val_loss'])\n",
    "plt.plot(history.history['val_acc'])\n",
    "plt.plot(history.history['loss'],c='r')"
   ]
  },
  {
   "cell_type": "code",
   "execution_count": 41,
   "metadata": {
    "ExecuteTime": {
     "end_time": "2016-04-12T02:45:57.368000",
     "start_time": "2016-04-12T02:45:57.355000"
    },
    "collapsed": false
   },
   "outputs": [
    {
     "name": "stdout",
     "output_type": "stream",
     "text": [
      "272/272 [==============================] - 0s     \n"
     ]
    },
    {
     "data": {
      "text/plain": [
       "[1.0408582967870377, 0.50735294117647056]"
      ]
     },
     "execution_count": 41,
     "metadata": {},
     "output_type": "execute_result"
    }
   ],
   "source": [
    "\n",
    "g_model.evaluate(g_X_test,g_y_test)"
   ]
  },
  {
   "cell_type": "code",
   "execution_count": 190,
   "metadata": {
    "ExecuteTime": {
     "end_time": "2016-04-10T20:23:39.053000",
     "start_time": "2016-04-10T20:23:39.041000"
    },
    "collapsed": false
   },
   "outputs": [
    {
     "name": "stdout",
     "output_type": "stream",
     "text": [
      "272/272 [==============================] - 0s     \n"
     ]
    },
    {
     "data": {
      "text/plain": [
       "array([ 0.52903226,  0.        ,  0.46153846])"
      ]
     },
     "execution_count": 190,
     "metadata": {},
     "output_type": "execute_result"
    }
   ],
   "source": [
    "g_model.precision(g_X_test,g_y_test)"
   ]
  },
  {
   "cell_type": "code",
   "execution_count": 147,
   "metadata": {
    "collapsed": false,
    "run_control": {
     "marked": false
    },
    "scrolled": false
   },
   "outputs": [
    {
     "data": {
      "text/plain": [
       "<matplotlib.figure.Figure at 0x7f1922c2c710>"
      ]
     },
     "execution_count": 147,
     "metadata": {},
     "output_type": "execute_result"
    },
    {
     "data": {
      "image/png": "[encoded data removed]",
      "text/plain": [
       "<matplotlib.figure.Figure at 0x7f1922c2c940>"
      ]
     },
     "metadata": {},
     "output_type": "display_data"
    },
    {
     "data": {
      "text/plain": [
       "<matplotlib.figure.Figure at 0x7f1922c2c710>"
      ]
     },
     "metadata": {},
     "output_type": "display_data"
    }
   ],
   "source": [
    "g_colors = ['r','g','b']\n",
    "g_y_arg = np.argmax(g_y_train,axis=1)\n",
    "for i in range (3):\n",
    "    tempX = g_X_train_pca_lda[g_y_arg==i,:]\n",
    "    plt.scatter(tempX[:,0],tempX[:,1],c = g_colors[i])\n",
    "plt.figure()"
   ]
  },
  {
   "cell_type": "code",
   "execution_count": 149,
   "metadata": {
    "collapsed": false,
    "run_control": {
     "marked": false
    },
    "scrolled": false
   },
   "outputs": [
    {
     "data": {
      "text/plain": [
       "<matplotlib.figure.Figure at 0x7f1922c54ef0>"
      ]
     },
     "execution_count": 149,
     "metadata": {},
     "output_type": "execute_result"
    },
    {
     "data": {
      "image/png": "[encoded data removed]",
      "text/plain": [
       "<matplotlib.figure.Figure at 0x7f1922c544a8>"
      ]
     },
     "metadata": {},
     "output_type": "display_data"
    },
    {
     "data": {
      "text/plain": [
       "<matplotlib.figure.Figure at 0x7f1922c54ef0>"
      ]
     },
     "metadata": {},
     "output_type": "display_data"
    }
   ],
   "source": [
    "g_colors = ['r','g','b']\n",
    "g_y_test_arg = np.argmax(g_y_test,axis=1)\n",
    "for i in range (3):\n",
    "    tempX = g_X_test_pca_lda[g_y_test_arg==i,:]\n",
    "    plt.scatter(tempX[:,0],tempX[:,1],c = g_colors[i])\n",
    "plt.figure()"
   ]
  },
  {
   "cell_type": "code",
   "execution_count": 93,
   "metadata": {
    "ExecuteTime": {
     "end_time": "2016-04-12T03:18:43.066000",
     "start_time": "2016-04-12T03:18:43.030000"
    },
    "collapsed": true,
    "init_cell": true,
    "run_control": {
     "marked": false
    },
    "scrolled": false
   },
   "outputs": [],
   "source": [
    "def testRetainNum(input_dim,n_iter=5, threshold = 0):\n",
    "    all_losses = []\n",
    "    all_val_losses = []\n",
    "    print(\"max dim{}\".format(input_dim))\n",
    "    dim_range =range(2, input_dim,2)\n",
    "    for n in range(n_iter):\n",
    "        X_train_lda,X_test_lda,y_train,y_test,X_test = get_train_test_set()\n",
    "        variance  = lda.explained_variance_ratio_\n",
    "        losses = []\n",
    "        val_losses = []\n",
    "        for i in dim_range:\n",
    "            train_loss = None\n",
    "            val_loss = None\n",
    "            if variance[i] > threshold:\n",
    "                train_loss , val_loss = kfoldTesting(X_train_lda[:,0:i],y_train,s=i)\n",
    "                print(\"dim{}: train {}, val {}\".format(i,np.mean(train_loss),np.mean(val_loss)))\n",
    "            losses.append(train_loss)\n",
    "            val_losses.append(val_loss)\n",
    "        all_losses.append(losses)\n",
    "        all_val_losses.append(all_val_losses)\n",
    "        clear_output()\n",
    "    print(\"finish\")\n",
    "    return all_losses,all_val_losses, dim_range\n",
    "    "
   ]
  },
  {
   "cell_type": "code",
   "execution_count": null,
   "metadata": {
    "collapsed": false,
    "run_control": {
     "marked": false
    },
    "scrolled": false
   },
   "outputs": [],
   "source": [
    "eigen_losses ,eigen_val_losses,dim_range = testRetainNum(g_input_dim)"
   ]
  },
  {
   "cell_type": "code",
   "execution_count": null,
   "metadata": {
    "collapsed": false,
    "run_control": {
     "marked": false
    }
   },
   "outputs": [],
   "source": [
    "eigen_losses"
   ]
  },
  {
   "cell_type": "code",
   "execution_count": null,
   "metadata": {
    "collapsed": false,
    "run_control": {
     "marked": false
    }
   },
   "outputs": [],
   "source": [
    "plt.plot(list(dim_range), np.mean(eigen_val_losses,axis=1))\n"
   ]
  },
  {
   "cell_type": "code",
   "execution_count": 94,
   "metadata": {
    "ExecuteTime": {
     "end_time": "2016-04-12T03:18:43.103000",
     "start_time": "2016-04-12T03:18:43.068000"
    },
    "collapsed": false,
    "init_cell": true,
    "run_control": {
     "marked": false
    },
    "scrolled": false
   },
   "outputs": [],
   "source": [
    "def svdTest(n_iter=2):\n",
    "    train_losses, val_losses= [],[]\n",
    "    for n in range(n_iter):\n",
    "        X,y = c.getH7()\n",
    "        X_train, X_test, y_train,y_test =splitData(X,y)\n",
    "\n",
    "        scaler = StandardScaler()\n",
    "        X_train_std = scaler.fit_transform(X_train)\n",
    "        X_test_std = scaler.transform(X_test)\n",
    "        pca = getPCA()\n",
    "        X_train_pca=pca.fit_transform(X_train_std)\n",
    "        X_test_pca = pca.transform(X_test_std)\n",
    "        lda = LDA(solver ='svd')\n",
    "        X_train_lda = lda.fit_transform(X_train_std,np.argmax(y_train,axis=1))\n",
    "        train_loss , val_loss = kfoldTesting(X_train_lda,y_train,s=X_train_lda.shape[1])\n",
    "        return train_loss,val_loss\n",
    "        train_losses.append(train_loss)\n",
    "        val_losses.append(val_losses)\n",
    "        clear_output()\n",
    "    \n",
    "    return train_losses,val_losses"
   ]
  },
  {
   "cell_type": "code",
   "execution_count": 59,
   "metadata": {
    "collapsed": false,
    "run_control": {
     "marked": false
    }
   },
   "outputs": [
    {
     "name": "stdout",
     "output_type": "stream",
     "text": [
      "start format\n",
      "[['HS_Acc' 'HST_Acc' 'H_poss_Acc' 'H_atk_3rd_Acc' 'H_atk_3rd_tot_Acc'\n",
      "  'H_interceptions_Acc']\n",
      " ['AS_Acc' 'AST_Acc' 'A_poss_Acc' 'A_atk_3rd_Acc' 'A_atk_3rd_tot_Acc'\n",
      "  'A_interceptions_Acc']]\n",
      "finish\n"
     ]
    },
    {
     "name": "stderr",
     "output_type": "stream",
     "text": [
      "/home/y/anaconda3/lib/python3.5/site-packages/ipykernel/__main__.py:224: DeprecationWarning: using a non-integer number instead of an integer will result in an error in the future\n",
      "/home/y/anaconda3/lib/python3.5/site-packages/ipykernel/__main__.py:232: DeprecationWarning: using a non-integer number instead of an integer will result in an error in the future\n",
      "/home/y/scikit-learn/sklearn/discriminant_analysis.py:387: UserWarning: Variables are collinear.\n",
      "  warnings.warn(\"Variables are collinear.\")\n"
     ]
    },
    {
     "name": "stdout",
     "output_type": "stream",
     "text": [
      "Epoch 00155: early stopping\n",
      "Epoch 00160: early stopping\n",
      "Epoch 00109: early stopping\n",
      "Epoch 00140: early stopping\n",
      "Epoch 00157: early stopping\n"
     ]
    }
   ],
   "source": [
    "train_loss, val_loss = svdTest()"
   ]
  },
  {
   "cell_type": "code",
   "execution_count": 60,
   "metadata": {
    "collapsed": false,
    "run_control": {
     "marked": false
    }
   },
   "outputs": [
    {
     "data": {
      "text/plain": [
       "[0.95495356882319726,\n",
       " 0.95803944854175338,\n",
       " 0.96068139637217798,\n",
       " 0.95893779922934141,\n",
       " 0.9569771430071663]"
      ]
     },
     "execution_count": 60,
     "metadata": {},
     "output_type": "execute_result"
    }
   ],
   "source": [
    "val_loss"
   ]
  },
  {
   "cell_type": "code",
   "execution_count": 61,
   "metadata": {
    "collapsed": false,
    "run_control": {
     "marked": false
    }
   },
   "outputs": [
    {
     "data": {
      "text/plain": [
       "<matplotlib.figure.Figure at 0x7f193cb36f98>"
      ]
     },
     "execution_count": 61,
     "metadata": {},
     "output_type": "execute_result"
    },
    {
     "data": {
      "image/png": "[encoded data removed]",
      "text/plain": [
       "<matplotlib.figure.Figure at 0x7f193cb360b8>"
      ]
     },
     "metadata": {},
     "output_type": "display_data"
    },
    {
     "data": {
      "text/plain": [
       "<matplotlib.figure.Figure at 0x7f193cb36f98>"
      ]
     },
     "metadata": {},
     "output_type": "display_data"
    }
   ],
   "source": [
    "plt.plot(val_loss)\n",
    "plt.figure()"
   ]
  },
  {
   "cell_type": "code",
   "execution_count": 95,
   "metadata": {
    "ExecuteTime": {
     "end_time": "2016-04-12T03:18:43.140000",
     "start_time": "2016-04-12T03:18:43.105000"
    },
    "code_folding": [],
    "collapsed": false,
    "init_cell": true,
    "run_control": {
     "marked": false
    }
   },
   "outputs": [],
   "source": [
    "from sklearn.manifold import LocallyLinearEmbedding,Isomap\n",
    "def getLLe():\n",
    "    return LocallyLinearEmbedding(eigen_solver='dense')\n",
    "def getIsomap():\n",
    "    return Isomap()\n",
    "\n"
   ]
  },
  {
   "cell_type": "code",
   "execution_count": 227,
   "metadata": {
    "collapsed": false,
    "run_control": {
     "marked": false
    }
   },
   "outputs": [],
   "source": [
    "g_manifold =getLLe()\n",
    "g_X_train_manifold = g_manifold.fit_transform(g_X_train_scaled,g_y_train)\n",
    "g_X_test_manifold = g_manifold.transform(g_X_test_scaled)\n",
    "scaler = StandardScaler()\n",
    "g_X_train_manifold_std = scaler.fit_transform(g_X_train_manifold)\n",
    "g_X_test_manifold_std= scaler.transform(g_X_test_manifold)\n"
   ]
  },
  {
   "cell_type": "code",
   "execution_count": 233,
   "metadata": {
    "collapsed": false,
    "run_control": {
     "marked": false
    }
   },
   "outputs": [
    {
     "data": {
      "text/plain": [
       "<matplotlib.figure.Figure at 0x7f191d24ebe0>"
      ]
     },
     "execution_count": 233,
     "metadata": {},
     "output_type": "execute_result"
    },
    {
     "data": {
      "image/png": "[encoded data removed]",
      "text/plain": [
       "<matplotlib.figure.Figure at 0x7f191d24edd8>"
      ]
     },
     "metadata": {},
     "output_type": "display_data"
    },
    {
     "data": {
      "text/plain": [
       "<matplotlib.figure.Figure at 0x7f191d24ebe0>"
      ]
     },
     "metadata": {},
     "output_type": "display_data"
    }
   ],
   "source": [
    "g_colors = ['b','g','r']\n",
    "g_y_arg = np.argmax(g_y_train,axis=1)\n",
    "g_y_test_arg = np.argmax(g_y_test,axis=1)\n",
    "for i in range (3):\n",
    "    tempX = g_X_train_manifold[g_y_arg==i,:]\n",
    "    testX = g_X_test_manifold[g_y_test_arg==i,:]\n",
    "    plt.scatter(tempX[:,0],tempX[:,1],marker='x',c = g_colors[i])\n",
    "    plt.scatter(testX[:,0],testX[:,1],marker='o',c = g_colors[i])\n",
    "plt.figure()"
   ]
  },
  {
   "cell_type": "code",
   "execution_count": 234,
   "metadata": {
    "collapsed": false,
    "run_control": {
     "marked": false
    }
   },
   "outputs": [
    {
     "name": "stdout",
     "output_type": "stream",
     "text": [
      "Epoch 00037: early stopping\n",
      "272/272 [==============================] - 0s     \n",
      "Epoch 00024: early stopping\n",
      "272/272 [==============================] - 0s     \n",
      "Epoch 00026: early stopping\n",
      "272/272 [==============================] - 0s     \n",
      "Epoch 00052: early stopping\n",
      "272/272 [==============================] - 0s     \n",
      "Epoch 00023: early stopping\n",
      "272/272 [==============================] - 0s     \n"
     ]
    }
   ],
   "source": [
    "train_loss , val_loss,test_loss = kfoldTesting(g_X_train_manifold,g_y_train,X_test=g_X_test_manifold,y_test=g_y_test,s=g_X_train_manifold.shape[1])"
   ]
  },
  {
   "cell_type": "code",
   "execution_count": 235,
   "metadata": {
    "collapsed": false,
    "run_control": {
     "marked": false
    }
   },
   "outputs": [
    {
     "data": {
      "text/plain": [
       "[1.0779416526065153,\n",
       " 1.0781622213475845,\n",
       " 1.0776865762822769,\n",
       " 1.0778452683897579,\n",
       " 1.0779175162315369]"
      ]
     },
     "execution_count": 235,
     "metadata": {},
     "output_type": "execute_result"
    }
   ],
   "source": [
    "test_loss"
   ]
  },
  {
   "cell_type": "code",
   "execution_count": 157,
   "metadata": {
    "collapsed": false,
    "run_control": {
     "marked": false
    }
   },
   "outputs": [
    {
     "name": "stdout",
     "output_type": "stream",
     "text": [
      "Epoch 00039: early stopping\n",
      "272/272 [==============================] - 0s     \n",
      "Epoch 00033: early stopping\n",
      "272/272 [==============================] - 0s     \n",
      "Epoch 00033: early stopping\n",
      "272/272 [==============================] - 0s     \n",
      "Epoch 00034: early stopping\n",
      "272/272 [==============================] - 0s     \n",
      "Epoch 00037: early stopping\n",
      "272/272 [==============================] - 0s     \n"
     ]
    }
   ],
   "source": [
    "train_loss , val_loss,test_loss = kfoldTesting(g_X_train_pca,g_y_train,X_test=g_X_test_pca,y_test=g_y_test,s=10)"
   ]
  },
  {
   "cell_type": "code",
   "execution_count": 158,
   "metadata": {
    "collapsed": false,
    "run_control": {
     "marked": false
    }
   },
   "outputs": [
    {
     "data": {
      "text/plain": [
       "[1.0022836362614351,\n",
       " 0.99619938696131982,\n",
       " 0.99450166435802689,\n",
       " 0.99758752654580507,\n",
       " 0.99583619482376995]"
      ]
     },
     "execution_count": 158,
     "metadata": {},
     "output_type": "execute_result"
    }
   ],
   "source": [
    "test_loss"
   ]
  },
  {
   "cell_type": "code",
   "execution_count": 159,
   "metadata": {
    "collapsed": false,
    "run_control": {
     "marked": false
    }
   },
   "outputs": [
    {
     "name": "stdout",
     "output_type": "stream",
     "text": [
      "Epoch 00095: early stopping\n",
      "272/272 [==============================] - 0s     \n",
      "Epoch 00124: early stopping\n",
      "272/272 [==============================] - 0s     \n",
      "Epoch 00114: early stopping\n",
      "272/272 [==============================] - 0s     \n",
      "Epoch 00113: early stopping\n",
      "272/272 [==============================] - 0s     \n",
      "Epoch 00102: early stopping\n",
      "272/272 [==============================] - 0s     \n"
     ]
    }
   ],
   "source": [
    "train_loss , val_loss,test_loss = kfoldTesting(g_X_train_lda,g_y_train,X_test=g_X_test_lda,y_test=g_y_test,s=g_X_train_lda.shape[1])"
   ]
  },
  {
   "cell_type": "code",
   "execution_count": 160,
   "metadata": {
    "collapsed": false,
    "run_control": {
     "marked": false
    }
   },
   "outputs": [
    {
     "data": {
      "text/plain": [
       "[1.0105967241175033,\n",
       " 1.0128741299404818,\n",
       " 1.0111493257915272,\n",
       " 1.0117433982736923,\n",
       " 1.010627013795516]"
      ]
     },
     "execution_count": 160,
     "metadata": {},
     "output_type": "execute_result"
    }
   ],
   "source": [
    "test_loss"
   ]
  },
  {
   "cell_type": "code",
   "execution_count": null,
   "metadata": {
    "collapsed": true,
    "run_control": {
     "marked": false
    }
   },
   "outputs": [],
   "source": []
  },
  {
   "cell_type": "code",
   "execution_count": 161,
   "metadata": {
    "collapsed": false,
    "run_control": {
     "marked": false
    }
   },
   "outputs": [
    {
     "name": "stdout",
     "output_type": "stream",
     "text": [
      "Epoch 00082: early stopping\n",
      "272/272 [==============================] - 0s     \n",
      "Epoch 00098: early stopping\n",
      "272/272 [==============================] - 0s     \n",
      "Epoch 00118: early stopping\n",
      "272/272 [==============================] - 0s     \n",
      "Epoch 00113: early stopping\n",
      "272/272 [==============================] - 0s     \n",
      "Epoch 00129: early stopping\n",
      "272/272 [==============================] - 0s     \n"
     ]
    }
   ],
   "source": [
    "train_loss , val_loss,test_loss= kfoldTesting(g_X_train_pca_lda,g_y_train,X_test=g_X_test_pca_lda,y_test=g_y_test,s=g_X_train_pca_lda.shape[1])"
   ]
  },
  {
   "cell_type": "code",
   "execution_count": 30,
   "metadata": {
    "collapsed": false,
    "run_control": {
     "marked": false
    }
   },
   "outputs": [
    {
     "ename": "NameError",
     "evalue": "name 'g_X_train_best' is not defined",
     "output_type": "error",
     "traceback": [
      "\u001b[1;31m---------------------------------------------------------------------------\u001b[0m",
      "\u001b[1;31mNameError\u001b[0m                                 Traceback (most recent call last)",
      "\u001b[1;32m<ipython-input-30-d5ef88d3f63b>\u001b[0m in \u001b[0;36m<module>\u001b[1;34m()\u001b[0m\n\u001b[1;32m----> 1\u001b[1;33m \u001b[0mg_X_train_best\u001b[0m\u001b[1;33m.\u001b[0m\u001b[0mshape\u001b[0m\u001b[1;33m\u001b[0m\u001b[0m\n\u001b[0m",
      "\u001b[1;31mNameError\u001b[0m: name 'g_X_train_best' is not defined"
     ]
    }
   ],
   "source": []
  },
  {
   "cell_type": "code",
   "execution_count": 59,
   "metadata": {
    "collapsed": false,
    "run_control": {
     "marked": false
    }
   },
   "outputs": [
    {
     "name": "stdout",
     "output_type": "stream",
     "text": [
      "size:207 , train:0.977543470929823 val_loss:1.04782772695317\n"
     ]
    }
   ],
   "source": [
    "g_sizes= range(int(1/2 * g_X_train_best.shape[1]),2 * g_X_train_best.shape[1],5)\n",
    "train_loss,val_loss= testNodeNum(g_X_train_best,g_y_train,g_sizes,dropout=g_best_dropout)"
   ]
  },
  {
   "cell_type": "code",
   "execution_count": 65,
   "metadata": {
    "collapsed": false,
    "run_control": {
     "marked": false
    }
   },
   "outputs": [
    {
     "data": {
      "text/plain": [
       "[<matplotlib.lines.Line2D at 0x7feae1aeeac8>]"
      ]
     },
     "execution_count": 65,
     "metadata": {},
     "output_type": "execute_result"
    },
    {
     "data": {
      "image/png": "[encoded data removed]",
      "text/plain": [
       "<matplotlib.figure.Figure at 0x7feae1b79780>"
      ]
     },
     "metadata": {},
     "output_type": "display_data"
    }
   ],
   "source": [
    "n_val_loss = np.array(val_loss)\n",
    "plt.plot(g_sizes, np.mean(n_val_loss,axis=1))"
   ]
  },
  {
   "cell_type": "code",
   "execution_count": 69,
   "metadata": {
    "collapsed": false,
    "run_control": {
     "marked": false
    }
   },
   "outputs": [
    {
     "data": {
      "text/plain": [
       "172"
      ]
     },
     "execution_count": 69,
     "metadata": {},
     "output_type": "execute_result"
    }
   ],
   "source": [
    "g_sizes[np.argmin(np.mean(n_val_loss,axis=1))]"
   ]
  },
  {
   "cell_type": "code",
   "execution_count": 55,
   "metadata": {
    "collapsed": false,
    "run_control": {
     "marked": false
    }
   },
   "outputs": [],
   "source": [
    "g_input_dim =2 \n",
    "g_best_size =172 "
   ]
  },
  {
   "cell_type": "code",
   "execution_count": null,
   "metadata": {
    "collapsed": true,
    "run_control": {
     "marked": false
    }
   },
   "outputs": [],
   "source": [
    "g_X_train_best = g_X_train_lda[:,0:g_input_dim]\n",
    "g_X_test_best = g_X_test_lda[:,0:g_input_dim]"
   ]
  },
  {
   "cell_type": "code",
   "execution_count": null,
   "metadata": {
    "collapsed": false,
    "run_control": {
     "marked": false
    }
   },
   "outputs": [],
   "source": [
    "g_p_matrix= getPrecisionMaxtrix(g_X_train_best, g_y_train,[g_input_dim,g_input_dim])\n",
    "g_p_matrix"
   ]
  },
  {
   "cell_type": "code",
   "execution_count": null,
   "metadata": {
    "collapsed": false,
    "run_control": {
     "marked": false
    }
   },
   "outputs": [],
   "source": [
    "g_p_matrix"
   ]
  },
  {
   "cell_type": "code",
   "execution_count": 96,
   "metadata": {
    "ExecuteTime": {
     "end_time": "2016-04-12T03:18:43.179000",
     "start_time": "2016-04-12T03:18:43.142000"
    },
    "collapsed": false,
    "init_cell": true,
    "run_control": {
     "marked": false
    }
   },
   "outputs": [],
   "source": [
    "def betTesting(X_train,X_test, y_train,y_test, p_matrix):\n",
    "    print(\"best size{},dropout {}\".format(g_best_size,g_best_dropout))\n",
    "    \n",
    "    model = Model(g_best_size,dropout=g_best_dropout,preprocess=[StandardScaler()])\n",
    "    model.fit(X_train,y_train)\n",
    "    y_proba = model.predict_proba(X_test)\n",
    "    odds_proba_df = mergeXWithOdds_Proba(c,X_test,y_proba,y_test)\n",
    "    fproba_mat,odd_mat,win_mat= formatMatrixs(odds_proba_df,p_matrix)\n",
    "    #changed\n",
    "    spent,income,expectation,withdraw,total,receipt = range_strategy4_test(fproba_mat,odd_mat,win_mat,odds_proba_df)\n",
    "    return spent,income,expectation,withdraw,total,receipt\n",
    "def kfoldBetTest(fold = 10 ,input_dim = None):\n",
    "    spents= []\n",
    "    incomes =[]\n",
    "    exps = []\n",
    "    withs =[]\n",
    "    totals, receipts,p_matrixs =[],[],[]\n",
    "    X,y = c.getH7()\n",
    "    y_label = np.argmax(y,axis=1)\n",
    "    kfold = StratifiedKFold(y=y_label, \n",
    "                             n_folds=fold\n",
    "                           )\n",
    " \n",
    "    for k, (train, test) in enumerate(kfold):\n",
    "        print(\"fold {}\".format(k))      \n",
    "        \n",
    "        #p_matrix= getPrecisionMaxtrix(X_train_best, y_train,[input_dim,input_dim])\n",
    "        spent,income,expectation,withdraw,total,receipt = betTesting(X[train],X[test],y[train],y[test],None)\n",
    "        spents.append(spent)\n",
    "        incomes.append(income)\n",
    "        exps.append(expectation)\n",
    "        withs.append(withdraw)\n",
    "        totals.append(totals)\n",
    "        receipts.append(receipt)\n",
    "        #p_matrixs.append(p_matrix)\n",
    "        clear_output()\n",
    "    print(\"finish\")\n",
    "    return spents, incomes, exps, withs , totals, receipts,p_matrixs \n",
    "    \n"
   ]
  },
  {
   "cell_type": "code",
   "execution_count": 132,
   "metadata": {
    "ExecuteTime": {
     "end_time": "2016-04-12T02:22:05.573000",
     "start_time": "2016-04-12T02:19:48.727000"
    },
    "collapsed": false,
    "run_control": {
     "marked": false
    }
   },
   "outputs": [
    {
     "name": "stdout",
     "output_type": "stream",
     "text": [
      "finish\n"
     ]
    }
   ],
   "source": [
    "k_iter = 10\n",
    "spents, incomes, exps, withs , totals, receipts,p_matrixs = kfoldBetTest(fold=k_iter)"
   ]
  },
  {
   "cell_type": "code",
   "execution_count": 133,
   "metadata": {
    "ExecuteTime": {
     "end_time": "2016-04-12T02:22:18.095000",
     "start_time": "2016-04-12T02:22:18.088000"
    },
    "collapsed": false,
    "run_control": {
     "marked": false
    }
   },
   "outputs": [],
   "source": [
    "n_spents = np.array(spents).reshape(k_iter,len(g_e_range),len(g_z_range))\n",
    "n_incomes = np.array(incomes).reshape(k_iter,len(g_e_range),len(g_z_range))\n",
    "n_incomes_min = np.min(n_incomes,axis=0)\n",
    "n_spents_max = np.max(n_spents,axis=0)\n",
    "n_nets = n_incomes - n_spents"
   ]
  },
  {
   "cell_type": "code",
   "execution_count": 134,
   "metadata": {
    "ExecuteTime": {
     "end_time": "2016-04-12T02:22:19.798000",
     "start_time": "2016-04-12T02:22:18.716000"
    },
    "collapsed": false,
    "run_control": {
     "marked": false
    }
   },
   "outputs": [
    {
     "data": {
      "text/plain": [
       "<matplotlib.figure.Figure at 0x3f659588>"
      ]
     },
     "execution_count": 134,
     "metadata": {},
     "output_type": "execute_result"
    },
    {
     "data": {
      "image/png": "[encoded data removed]",
      "text/plain": [
       "<matplotlib.figure.Figure at 0x3191c9b0>"
      ]
     },
     "metadata": {},
     "output_type": "display_data"
    },
    {
     "data": {
      "image/png": "[encoded data removed]",
      "text/plain": [
       "<matplotlib.figure.Figure at 0x3bbd9978>"
      ]
     },
     "metadata": {},
     "output_type": "display_data"
    },
    {
     "data": {
      "image/png": "[encoded data removed]",
      "text/plain": [
       "<matplotlib.figure.Figure at 0x3e4ce0b8>"
      ]
     },
     "metadata": {},
     "output_type": "display_data"
    },
    {
     "data": {
      "image/png": "[encoded data removed]",
      "text/plain": [
       "<matplotlib.figure.Figure at 0x31bd5b38>"
      ]
     },
     "metadata": {},
     "output_type": "display_data"
    },
    {
     "data": {
      "text/plain": [
       "<matplotlib.figure.Figure at 0x3f659588>"
      ]
     },
     "metadata": {},
     "output_type": "display_data"
    }
   ],
   "source": [
    "g_Z, g_E =np.meshgrid(g_z_range,g_e_range)\n",
    "CS =  plt.contourf(g_Z,g_E,n_incomes_min)\n",
    "plt.title(\"min Income\")\n",
    "cbar = plt.colorbar(CS)\n",
    "plt.figure() \n",
    "CS = plt.contourf(g_Z,g_E,n_spents_max)\n",
    "plt.title(\"max Spents\")\n",
    "cbar = plt.colorbar(CS)\n",
    "plt.figure()\n",
    "CS = plt.contourf(g_Z,g_E,np.min(n_nets,axis=0))\n",
    "plt.title(\"net min\")\n",
    "cbar = plt.colorbar(CS)\n",
    "plt.figure()\n",
    "CS = plt.contourf(g_Z,g_E,np.mean(n_nets,axis=0))\n",
    "plt.title(\"net mean\")\n",
    "cbar = plt.colorbar(CS)\n",
    "plt.figure()"
   ]
  },
  {
   "cell_type": "code",
   "execution_count": null,
   "metadata": {
    "collapsed": true,
    "run_control": {
     "marked": false
    }
   },
   "outputs": [],
   "source": []
  },
  {
   "cell_type": "code",
   "execution_count": 138,
   "metadata": {
    "ExecuteTime": {
     "end_time": "2016-04-12T02:28:23.489000",
     "start_time": "2016-04-12T02:28:23.304000"
    },
    "collapsed": false,
    "run_control": {
     "marked": false
    }
   },
   "outputs": [
    {
     "data": {
      "text/html": [
       "<div>\n",
       "<table border=\"1\" class=\"dataframe\">\n",
       "  <thead>\n",
       "    <tr style=\"text-align: right;\">\n",
       "      <th></th>\n",
       "      <th>Date</th>\n",
       "      <th>home</th>\n",
       "      <th>away</th>\n",
       "      <th>odd of choice</th>\n",
       "      <th>choice</th>\n",
       "      <th>result</th>\n",
       "      <th>Hp</th>\n",
       "      <th>Dp</th>\n",
       "      <th>Ap</th>\n",
       "    </tr>\n",
       "  </thead>\n",
       "  <tbody>\n",
       "    <tr>\n",
       "      <th>0</th>\n",
       "      <td>2012-12-30 08:00:00</td>\n",
       "      <td>Everton</td>\n",
       "      <td>Chelsea</td>\n",
       "      <td>2.82</td>\n",
       "      <td>0</td>\n",
       "      <td>2</td>\n",
       "      <td>0.379011</td>\n",
       "      <td>0.300543</td>\n",
       "      <td>0.320445</td>\n",
       "    </tr>\n",
       "    <tr>\n",
       "      <th>1</th>\n",
       "      <td>2012-12-29 08:00:00</td>\n",
       "      <td>Norwich</td>\n",
       "      <td>Man City</td>\n",
       "      <td>1.40</td>\n",
       "      <td>2</td>\n",
       "      <td>2</td>\n",
       "      <td>0.165774</td>\n",
       "      <td>0.300486</td>\n",
       "      <td>0.533740</td>\n",
       "    </tr>\n",
       "    <tr>\n",
       "      <th>2</th>\n",
       "      <td>2012-12-29 08:00:00</td>\n",
       "      <td>Fulham</td>\n",
       "      <td>Swansea</td>\n",
       "      <td>3.20</td>\n",
       "      <td>2</td>\n",
       "      <td>2</td>\n",
       "      <td>0.228931</td>\n",
       "      <td>0.319836</td>\n",
       "      <td>0.451232</td>\n",
       "    </tr>\n",
       "    <tr>\n",
       "      <th>3</th>\n",
       "      <td>2012-12-29 08:00:00</td>\n",
       "      <td>Sunderland</td>\n",
       "      <td>Tottenham</td>\n",
       "      <td>1.94</td>\n",
       "      <td>2</td>\n",
       "      <td>2</td>\n",
       "      <td>0.209448</td>\n",
       "      <td>0.315899</td>\n",
       "      <td>0.474653</td>\n",
       "    </tr>\n",
       "    <tr>\n",
       "      <th>4</th>\n",
       "      <td>2012-12-29 08:00:00</td>\n",
       "      <td>Aston Villa</td>\n",
       "      <td>Wigan</td>\n",
       "      <td>2.25</td>\n",
       "      <td>0</td>\n",
       "      <td>2</td>\n",
       "      <td>0.362911</td>\n",
       "      <td>0.315838</td>\n",
       "      <td>0.321251</td>\n",
       "    </tr>\n",
       "    <tr>\n",
       "      <th>5</th>\n",
       "      <td>2012-12-26 08:00:00</td>\n",
       "      <td>Stoke</td>\n",
       "      <td>Liverpool</td>\n",
       "      <td>2.05</td>\n",
       "      <td>2</td>\n",
       "      <td>0</td>\n",
       "      <td>0.240548</td>\n",
       "      <td>0.310322</td>\n",
       "      <td>0.449129</td>\n",
       "    </tr>\n",
       "    <tr>\n",
       "      <th>6</th>\n",
       "      <td>2012-12-26 08:00:00</td>\n",
       "      <td>QPR</td>\n",
       "      <td>West Brom</td>\n",
       "      <td>2.10</td>\n",
       "      <td>0</td>\n",
       "      <td>2</td>\n",
       "      <td>0.462073</td>\n",
       "      <td>0.289186</td>\n",
       "      <td>0.248742</td>\n",
       "    </tr>\n",
       "    <tr>\n",
       "      <th>7</th>\n",
       "      <td>2012-12-26 08:00:00</td>\n",
       "      <td>Sunderland</td>\n",
       "      <td>Man City</td>\n",
       "      <td>1.41</td>\n",
       "      <td>2</td>\n",
       "      <td>0</td>\n",
       "      <td>0.148222</td>\n",
       "      <td>0.299623</td>\n",
       "      <td>0.552155</td>\n",
       "    </tr>\n",
       "    <tr>\n",
       "      <th>8</th>\n",
       "      <td>2012-12-26 08:00:00</td>\n",
       "      <td>Norwich</td>\n",
       "      <td>Chelsea</td>\n",
       "      <td>1.57</td>\n",
       "      <td>2</td>\n",
       "      <td>2</td>\n",
       "      <td>0.222171</td>\n",
       "      <td>0.312912</td>\n",
       "      <td>0.464918</td>\n",
       "    </tr>\n",
       "    <tr>\n",
       "      <th>9</th>\n",
       "      <td>2012-12-26 08:00:00</td>\n",
       "      <td>Aston Villa</td>\n",
       "      <td>Tottenham</td>\n",
       "      <td>1.95</td>\n",
       "      <td>2</td>\n",
       "      <td>2</td>\n",
       "      <td>0.241778</td>\n",
       "      <td>0.317331</td>\n",
       "      <td>0.440891</td>\n",
       "    </tr>\n",
       "    <tr>\n",
       "      <th>10</th>\n",
       "      <td>2012-12-26 08:00:00</td>\n",
       "      <td>Everton</td>\n",
       "      <td>Wigan</td>\n",
       "      <td>1.40</td>\n",
       "      <td>0</td>\n",
       "      <td>0</td>\n",
       "      <td>0.664019</td>\n",
       "      <td>0.216215</td>\n",
       "      <td>0.119765</td>\n",
       "    </tr>\n",
       "    <tr>\n",
       "      <th>11</th>\n",
       "      <td>2012-12-26 08:00:00</td>\n",
       "      <td>Man United</td>\n",
       "      <td>Newcastle</td>\n",
       "      <td>1.15</td>\n",
       "      <td>0</td>\n",
       "      <td>0</td>\n",
       "      <td>0.677413</td>\n",
       "      <td>0.208728</td>\n",
       "      <td>0.113859</td>\n",
       "    </tr>\n",
       "    <tr>\n",
       "      <th>12</th>\n",
       "      <td>2012-12-23 08:00:00</td>\n",
       "      <td>Chelsea</td>\n",
       "      <td>Aston Villa</td>\n",
       "      <td>1.24</td>\n",
       "      <td>0</td>\n",
       "      <td>0</td>\n",
       "      <td>0.653351</td>\n",
       "      <td>0.221923</td>\n",
       "      <td>0.124726</td>\n",
       "    </tr>\n",
       "    <tr>\n",
       "      <th>13</th>\n",
       "      <td>2012-12-22 08:00:00</td>\n",
       "      <td>Liverpool</td>\n",
       "      <td>Fulham</td>\n",
       "      <td>1.40</td>\n",
       "      <td>0</td>\n",
       "      <td>0</td>\n",
       "      <td>0.675020</td>\n",
       "      <td>0.211623</td>\n",
       "      <td>0.113357</td>\n",
       "    </tr>\n",
       "    <tr>\n",
       "      <th>14</th>\n",
       "      <td>2012-12-22 08:00:00</td>\n",
       "      <td>Man City</td>\n",
       "      <td>Reading</td>\n",
       "      <td>1.07</td>\n",
       "      <td>0</td>\n",
       "      <td>0</td>\n",
       "      <td>0.702657</td>\n",
       "      <td>0.198840</td>\n",
       "      <td>0.098503</td>\n",
       "    </tr>\n",
       "    <tr>\n",
       "      <th>15</th>\n",
       "      <td>2012-12-22 08:00:00</td>\n",
       "      <td>Southampton</td>\n",
       "      <td>Sunderland</td>\n",
       "      <td>1.85</td>\n",
       "      <td>0</td>\n",
       "      <td>2</td>\n",
       "      <td>0.630452</td>\n",
       "      <td>0.229010</td>\n",
       "      <td>0.140538</td>\n",
       "    </tr>\n",
       "    <tr>\n",
       "      <th>16</th>\n",
       "      <td>2012-12-22 08:00:00</td>\n",
       "      <td>Newcastle</td>\n",
       "      <td>QPR</td>\n",
       "      <td>1.92</td>\n",
       "      <td>0</td>\n",
       "      <td>0</td>\n",
       "      <td>0.542888</td>\n",
       "      <td>0.262071</td>\n",
       "      <td>0.195040</td>\n",
       "    </tr>\n",
       "    <tr>\n",
       "      <th>17</th>\n",
       "      <td>2012-12-22 08:00:00</td>\n",
       "      <td>West Brom</td>\n",
       "      <td>Norwich</td>\n",
       "      <td>1.82</td>\n",
       "      <td>0</td>\n",
       "      <td>0</td>\n",
       "      <td>0.477352</td>\n",
       "      <td>0.289519</td>\n",
       "      <td>0.233129</td>\n",
       "    </tr>\n",
       "    <tr>\n",
       "      <th>18</th>\n",
       "      <td>2012-12-22 08:00:00</td>\n",
       "      <td>West Ham</td>\n",
       "      <td>Everton</td>\n",
       "      <td>2.85</td>\n",
       "      <td>0</td>\n",
       "      <td>2</td>\n",
       "      <td>0.354046</td>\n",
       "      <td>0.314982</td>\n",
       "      <td>0.330972</td>\n",
       "    </tr>\n",
       "    <tr>\n",
       "      <th>19</th>\n",
       "      <td>2012-12-22 08:00:00</td>\n",
       "      <td>Wigan</td>\n",
       "      <td>Arsenal</td>\n",
       "      <td>1.68</td>\n",
       "      <td>2</td>\n",
       "      <td>2</td>\n",
       "      <td>0.191563</td>\n",
       "      <td>0.313994</td>\n",
       "      <td>0.494443</td>\n",
       "    </tr>\n",
       "    <tr>\n",
       "      <th>20</th>\n",
       "      <td>2012-12-17 08:00:00</td>\n",
       "      <td>Reading</td>\n",
       "      <td>Arsenal</td>\n",
       "      <td>1.57</td>\n",
       "      <td>2</td>\n",
       "      <td>2</td>\n",
       "      <td>0.218237</td>\n",
       "      <td>0.325063</td>\n",
       "      <td>0.456700</td>\n",
       "    </tr>\n",
       "    <tr>\n",
       "      <th>21</th>\n",
       "      <td>2012-12-16 08:00:00</td>\n",
       "      <td>Tottenham</td>\n",
       "      <td>Swansea</td>\n",
       "      <td>1.52</td>\n",
       "      <td>0</td>\n",
       "      <td>0</td>\n",
       "      <td>0.461762</td>\n",
       "      <td>0.287954</td>\n",
       "      <td>0.250283</td>\n",
       "    </tr>\n",
       "    <tr>\n",
       "      <th>22</th>\n",
       "      <td>2012-12-15 08:00:00</td>\n",
       "      <td>Liverpool</td>\n",
       "      <td>Aston Villa</td>\n",
       "      <td>1.26</td>\n",
       "      <td>0</td>\n",
       "      <td>2</td>\n",
       "      <td>0.684354</td>\n",
       "      <td>0.206927</td>\n",
       "      <td>0.108719</td>\n",
       "    </tr>\n",
       "    <tr>\n",
       "      <th>23</th>\n",
       "      <td>2012-12-15 08:00:00</td>\n",
       "      <td>Stoke</td>\n",
       "      <td>Everton</td>\n",
       "      <td>2.90</td>\n",
       "      <td>0</td>\n",
       "      <td>1</td>\n",
       "      <td>0.447656</td>\n",
       "      <td>0.289335</td>\n",
       "      <td>0.263009</td>\n",
       "    </tr>\n",
       "    <tr>\n",
       "      <th>24</th>\n",
       "      <td>2012-12-15 08:00:00</td>\n",
       "      <td>QPR</td>\n",
       "      <td>Fulham</td>\n",
       "      <td>2.25</td>\n",
       "      <td>0</td>\n",
       "      <td>0</td>\n",
       "      <td>0.480257</td>\n",
       "      <td>0.287182</td>\n",
       "      <td>0.232561</td>\n",
       "    </tr>\n",
       "    <tr>\n",
       "      <th>25</th>\n",
       "      <td>2012-12-15 08:00:00</td>\n",
       "      <td>Norwich</td>\n",
       "      <td>Wigan</td>\n",
       "      <td>2.10</td>\n",
       "      <td>0</td>\n",
       "      <td>0</td>\n",
       "      <td>0.520949</td>\n",
       "      <td>0.267484</td>\n",
       "      <td>0.211566</td>\n",
       "    </tr>\n",
       "    <tr>\n",
       "      <th>26</th>\n",
       "      <td>2012-12-15 08:00:00</td>\n",
       "      <td>Newcastle</td>\n",
       "      <td>Man City</td>\n",
       "      <td>1.55</td>\n",
       "      <td>2</td>\n",
       "      <td>2</td>\n",
       "      <td>0.226637</td>\n",
       "      <td>0.312277</td>\n",
       "      <td>0.461085</td>\n",
       "    </tr>\n",
       "    <tr>\n",
       "      <th>27</th>\n",
       "      <td>2012-12-15 08:00:00</td>\n",
       "      <td>Man United</td>\n",
       "      <td>Sunderland</td>\n",
       "      <td>1.11</td>\n",
       "      <td>0</td>\n",
       "      <td>0</td>\n",
       "      <td>0.656292</td>\n",
       "      <td>0.217891</td>\n",
       "      <td>0.125818</td>\n",
       "    </tr>\n",
       "    <tr>\n",
       "      <th>28</th>\n",
       "      <td>2012-12-11 08:00:00</td>\n",
       "      <td>Sunderland</td>\n",
       "      <td>Reading</td>\n",
       "      <td>1.92</td>\n",
       "      <td>0</td>\n",
       "      <td>0</td>\n",
       "      <td>0.504140</td>\n",
       "      <td>0.281267</td>\n",
       "      <td>0.214592</td>\n",
       "    </tr>\n",
       "    <tr>\n",
       "      <th>29</th>\n",
       "      <td>2012-12-10 08:00:00</td>\n",
       "      <td>Fulham</td>\n",
       "      <td>Newcastle</td>\n",
       "      <td>1.80</td>\n",
       "      <td>0</td>\n",
       "      <td>0</td>\n",
       "      <td>0.432362</td>\n",
       "      <td>0.296002</td>\n",
       "      <td>0.271636</td>\n",
       "    </tr>\n",
       "    <tr>\n",
       "      <th>...</th>\n",
       "      <td>...</td>\n",
       "      <td>...</td>\n",
       "      <td>...</td>\n",
       "      <td>...</td>\n",
       "      <td>...</td>\n",
       "      <td>...</td>\n",
       "      <td>...</td>\n",
       "      <td>...</td>\n",
       "      <td>...</td>\n",
       "    </tr>\n",
       "    <tr>\n",
       "      <th>107</th>\n",
       "      <td>2012-10-27 08:00:00</td>\n",
       "      <td>Stoke</td>\n",
       "      <td>Sunderland</td>\n",
       "      <td>1.80</td>\n",
       "      <td>0</td>\n",
       "      <td>1</td>\n",
       "      <td>0.520412</td>\n",
       "      <td>0.271211</td>\n",
       "      <td>0.208377</td>\n",
       "    </tr>\n",
       "    <tr>\n",
       "      <th>108</th>\n",
       "      <td>2012-10-27 08:00:00</td>\n",
       "      <td>Wigan</td>\n",
       "      <td>West Ham</td>\n",
       "      <td>2.90</td>\n",
       "      <td>2</td>\n",
       "      <td>0</td>\n",
       "      <td>0.312279</td>\n",
       "      <td>0.323719</td>\n",
       "      <td>0.364002</td>\n",
       "    </tr>\n",
       "    <tr>\n",
       "      <th>109</th>\n",
       "      <td>2012-10-21 08:00:00</td>\n",
       "      <td>Sunderland</td>\n",
       "      <td>Newcastle</td>\n",
       "      <td>2.25</td>\n",
       "      <td>0</td>\n",
       "      <td>1</td>\n",
       "      <td>0.352432</td>\n",
       "      <td>0.316030</td>\n",
       "      <td>0.331538</td>\n",
       "    </tr>\n",
       "    <tr>\n",
       "      <th>110</th>\n",
       "      <td>2012-10-21 08:00:00</td>\n",
       "      <td>QPR</td>\n",
       "      <td>Everton</td>\n",
       "      <td>2.10</td>\n",
       "      <td>2</td>\n",
       "      <td>1</td>\n",
       "      <td>0.197006</td>\n",
       "      <td>0.315472</td>\n",
       "      <td>0.487522</td>\n",
       "    </tr>\n",
       "    <tr>\n",
       "      <th>111</th>\n",
       "      <td>2012-10-20 08:00:00</td>\n",
       "      <td>Norwich</td>\n",
       "      <td>Arsenal</td>\n",
       "      <td>1.46</td>\n",
       "      <td>2</td>\n",
       "      <td>0</td>\n",
       "      <td>0.198254</td>\n",
       "      <td>0.307107</td>\n",
       "      <td>0.494639</td>\n",
       "    </tr>\n",
       "    <tr>\n",
       "      <th>112</th>\n",
       "      <td>2012-10-20 08:00:00</td>\n",
       "      <td>West Ham</td>\n",
       "      <td>Southampton</td>\n",
       "      <td>1.72</td>\n",
       "      <td>0</td>\n",
       "      <td>0</td>\n",
       "      <td>0.616460</td>\n",
       "      <td>0.236158</td>\n",
       "      <td>0.147382</td>\n",
       "    </tr>\n",
       "    <tr>\n",
       "      <th>113</th>\n",
       "      <td>2012-10-20 08:00:00</td>\n",
       "      <td>West Brom</td>\n",
       "      <td>Man City</td>\n",
       "      <td>1.62</td>\n",
       "      <td>2</td>\n",
       "      <td>2</td>\n",
       "      <td>0.200222</td>\n",
       "      <td>0.308370</td>\n",
       "      <td>0.491408</td>\n",
       "    </tr>\n",
       "    <tr>\n",
       "      <th>114</th>\n",
       "      <td>2012-10-20 08:00:00</td>\n",
       "      <td>Tottenham</td>\n",
       "      <td>Chelsea</td>\n",
       "      <td>2.35</td>\n",
       "      <td>0</td>\n",
       "      <td>2</td>\n",
       "      <td>0.555156</td>\n",
       "      <td>0.257585</td>\n",
       "      <td>0.187259</td>\n",
       "    </tr>\n",
       "    <tr>\n",
       "      <th>115</th>\n",
       "      <td>2012-10-20 08:00:00</td>\n",
       "      <td>Man United</td>\n",
       "      <td>Stoke</td>\n",
       "      <td>1.21</td>\n",
       "      <td>0</td>\n",
       "      <td>0</td>\n",
       "      <td>0.630180</td>\n",
       "      <td>0.229957</td>\n",
       "      <td>0.139863</td>\n",
       "    </tr>\n",
       "    <tr>\n",
       "      <th>116</th>\n",
       "      <td>2012-10-20 08:00:00</td>\n",
       "      <td>Fulham</td>\n",
       "      <td>Aston Villa</td>\n",
       "      <td>1.72</td>\n",
       "      <td>0</td>\n",
       "      <td>0</td>\n",
       "      <td>0.536719</td>\n",
       "      <td>0.265979</td>\n",
       "      <td>0.197301</td>\n",
       "    </tr>\n",
       "    <tr>\n",
       "      <th>117</th>\n",
       "      <td>2012-10-20 08:00:00</td>\n",
       "      <td>Liverpool</td>\n",
       "      <td>Reading</td>\n",
       "      <td>1.25</td>\n",
       "      <td>0</td>\n",
       "      <td>0</td>\n",
       "      <td>0.637167</td>\n",
       "      <td>0.228063</td>\n",
       "      <td>0.134770</td>\n",
       "    </tr>\n",
       "    <tr>\n",
       "      <th>118</th>\n",
       "      <td>2012-10-20 08:00:00</td>\n",
       "      <td>Swansea</td>\n",
       "      <td>Wigan</td>\n",
       "      <td>1.92</td>\n",
       "      <td>0</td>\n",
       "      <td>0</td>\n",
       "      <td>0.632388</td>\n",
       "      <td>0.228527</td>\n",
       "      <td>0.139086</td>\n",
       "    </tr>\n",
       "    <tr>\n",
       "      <th>119</th>\n",
       "      <td>2012-10-07 08:00:00</td>\n",
       "      <td>Newcastle</td>\n",
       "      <td>Man United</td>\n",
       "      <td>1.70</td>\n",
       "      <td>2</td>\n",
       "      <td>2</td>\n",
       "      <td>0.269840</td>\n",
       "      <td>0.312852</td>\n",
       "      <td>0.417309</td>\n",
       "    </tr>\n",
       "    <tr>\n",
       "      <th>120</th>\n",
       "      <td>2012-10-07 08:00:00</td>\n",
       "      <td>Liverpool</td>\n",
       "      <td>Stoke</td>\n",
       "      <td>1.37</td>\n",
       "      <td>0</td>\n",
       "      <td>1</td>\n",
       "      <td>0.603194</td>\n",
       "      <td>0.241722</td>\n",
       "      <td>0.155085</td>\n",
       "    </tr>\n",
       "    <tr>\n",
       "      <th>121</th>\n",
       "      <td>2012-10-07 08:00:00</td>\n",
       "      <td>Tottenham</td>\n",
       "      <td>Aston Villa</td>\n",
       "      <td>1.38</td>\n",
       "      <td>0</td>\n",
       "      <td>0</td>\n",
       "      <td>0.677460</td>\n",
       "      <td>0.210807</td>\n",
       "      <td>0.111733</td>\n",
       "    </tr>\n",
       "    <tr>\n",
       "      <th>122</th>\n",
       "      <td>2012-10-07 08:00:00</td>\n",
       "      <td>Southampton</td>\n",
       "      <td>Fulham</td>\n",
       "      <td>2.42</td>\n",
       "      <td>0</td>\n",
       "      <td>1</td>\n",
       "      <td>0.452081</td>\n",
       "      <td>0.294003</td>\n",
       "      <td>0.253915</td>\n",
       "    </tr>\n",
       "    <tr>\n",
       "      <th>123</th>\n",
       "      <td>2012-10-06 08:00:00</td>\n",
       "      <td>Swansea</td>\n",
       "      <td>Reading</td>\n",
       "      <td>1.80</td>\n",
       "      <td>0</td>\n",
       "      <td>1</td>\n",
       "      <td>0.621472</td>\n",
       "      <td>0.235030</td>\n",
       "      <td>0.143497</td>\n",
       "    </tr>\n",
       "    <tr>\n",
       "      <th>124</th>\n",
       "      <td>2012-10-06 08:00:00</td>\n",
       "      <td>West Ham</td>\n",
       "      <td>Arsenal</td>\n",
       "      <td>3.50</td>\n",
       "      <td>0</td>\n",
       "      <td>2</td>\n",
       "      <td>0.475592</td>\n",
       "      <td>0.281464</td>\n",
       "      <td>0.242944</td>\n",
       "    </tr>\n",
       "    <tr>\n",
       "      <th>125</th>\n",
       "      <td>2012-10-06 08:00:00</td>\n",
       "      <td>Chelsea</td>\n",
       "      <td>Norwich</td>\n",
       "      <td>1.17</td>\n",
       "      <td>0</td>\n",
       "      <td>0</td>\n",
       "      <td>0.652712</td>\n",
       "      <td>0.221356</td>\n",
       "      <td>0.125932</td>\n",
       "    </tr>\n",
       "    <tr>\n",
       "      <th>126</th>\n",
       "      <td>2012-10-06 08:00:00</td>\n",
       "      <td>Man City</td>\n",
       "      <td>Sunderland</td>\n",
       "      <td>1.17</td>\n",
       "      <td>0</td>\n",
       "      <td>0</td>\n",
       "      <td>0.689216</td>\n",
       "      <td>0.204049</td>\n",
       "      <td>0.106735</td>\n",
       "    </tr>\n",
       "    <tr>\n",
       "      <th>127</th>\n",
       "      <td>2012-10-06 08:00:00</td>\n",
       "      <td>West Brom</td>\n",
       "      <td>QPR</td>\n",
       "      <td>1.73</td>\n",
       "      <td>0</td>\n",
       "      <td>0</td>\n",
       "      <td>0.638088</td>\n",
       "      <td>0.226022</td>\n",
       "      <td>0.135890</td>\n",
       "    </tr>\n",
       "    <tr>\n",
       "      <th>128</th>\n",
       "      <td>2012-10-06 08:00:00</td>\n",
       "      <td>Wigan</td>\n",
       "      <td>Everton</td>\n",
       "      <td>1.88</td>\n",
       "      <td>2</td>\n",
       "      <td>1</td>\n",
       "      <td>0.149017</td>\n",
       "      <td>0.303508</td>\n",
       "      <td>0.547475</td>\n",
       "    </tr>\n",
       "    <tr>\n",
       "      <th>129</th>\n",
       "      <td>2012-10-01 08:00:00</td>\n",
       "      <td>QPR</td>\n",
       "      <td>West Ham</td>\n",
       "      <td>2.00</td>\n",
       "      <td>0</td>\n",
       "      <td>2</td>\n",
       "      <td>0.351902</td>\n",
       "      <td>0.315787</td>\n",
       "      <td>0.332312</td>\n",
       "    </tr>\n",
       "    <tr>\n",
       "      <th>130</th>\n",
       "      <td>2012-09-30 08:00:00</td>\n",
       "      <td>Aston Villa</td>\n",
       "      <td>West Brom</td>\n",
       "      <td>2.70</td>\n",
       "      <td>2</td>\n",
       "      <td>1</td>\n",
       "      <td>0.286501</td>\n",
       "      <td>0.324081</td>\n",
       "      <td>0.389417</td>\n",
       "    </tr>\n",
       "    <tr>\n",
       "      <th>131</th>\n",
       "      <td>2012-09-29 08:00:00</td>\n",
       "      <td>Norwich</td>\n",
       "      <td>Liverpool</td>\n",
       "      <td>1.70</td>\n",
       "      <td>2</td>\n",
       "      <td>2</td>\n",
       "      <td>0.318143</td>\n",
       "      <td>0.312487</td>\n",
       "      <td>0.369370</td>\n",
       "    </tr>\n",
       "    <tr>\n",
       "      <th>132</th>\n",
       "      <td>2012-09-29 08:00:00</td>\n",
       "      <td>Everton</td>\n",
       "      <td>Southampton</td>\n",
       "      <td>1.34</td>\n",
       "      <td>0</td>\n",
       "      <td>0</td>\n",
       "      <td>0.668493</td>\n",
       "      <td>0.212129</td>\n",
       "      <td>0.119377</td>\n",
       "    </tr>\n",
       "    <tr>\n",
       "      <th>133</th>\n",
       "      <td>2012-09-29 08:00:00</td>\n",
       "      <td>Man United</td>\n",
       "      <td>Tottenham</td>\n",
       "      <td>1.49</td>\n",
       "      <td>0</td>\n",
       "      <td>2</td>\n",
       "      <td>0.523067</td>\n",
       "      <td>0.266448</td>\n",
       "      <td>0.210485</td>\n",
       "    </tr>\n",
       "    <tr>\n",
       "      <th>134</th>\n",
       "      <td>2012-09-29 08:00:00</td>\n",
       "      <td>Arsenal</td>\n",
       "      <td>Chelsea</td>\n",
       "      <td>2.00</td>\n",
       "      <td>0</td>\n",
       "      <td>2</td>\n",
       "      <td>0.473420</td>\n",
       "      <td>0.282514</td>\n",
       "      <td>0.244066</td>\n",
       "    </tr>\n",
       "    <tr>\n",
       "      <th>135</th>\n",
       "      <td>2012-09-29 08:00:00</td>\n",
       "      <td>Stoke</td>\n",
       "      <td>Swansea</td>\n",
       "      <td>1.78</td>\n",
       "      <td>0</td>\n",
       "      <td>0</td>\n",
       "      <td>0.372517</td>\n",
       "      <td>0.307434</td>\n",
       "      <td>0.320049</td>\n",
       "    </tr>\n",
       "    <tr>\n",
       "      <th>136</th>\n",
       "      <td>2012-09-29 08:00:00</td>\n",
       "      <td>Fulham</td>\n",
       "      <td>Man City</td>\n",
       "      <td>1.67</td>\n",
       "      <td>2</td>\n",
       "      <td>2</td>\n",
       "      <td>0.344633</td>\n",
       "      <td>0.305095</td>\n",
       "      <td>0.350271</td>\n",
       "    </tr>\n",
       "  </tbody>\n",
       "</table>\n",
       "<p>137 rows × 9 columns</p>\n",
       "</div>"
      ],
      "text/plain": [
       "                   Date         home         away  odd of choice  choice  \\\n",
       "0   2012-12-30 08:00:00      Everton      Chelsea           2.82       0   \n",
       "1   2012-12-29 08:00:00      Norwich     Man City           1.40       2   \n",
       "2   2012-12-29 08:00:00       Fulham      Swansea           3.20       2   \n",
       "3   2012-12-29 08:00:00   Sunderland    Tottenham           1.94       2   \n",
       "4   2012-12-29 08:00:00  Aston Villa        Wigan           2.25       0   \n",
       "5   2012-12-26 08:00:00        Stoke    Liverpool           2.05       2   \n",
       "6   2012-12-26 08:00:00          QPR    West Brom           2.10       0   \n",
       "7   2012-12-26 08:00:00   Sunderland     Man City           1.41       2   \n",
       "8   2012-12-26 08:00:00      Norwich      Chelsea           1.57       2   \n",
       "9   2012-12-26 08:00:00  Aston Villa    Tottenham           1.95       2   \n",
       "10  2012-12-26 08:00:00      Everton        Wigan           1.40       0   \n",
       "11  2012-12-26 08:00:00   Man United    Newcastle           1.15       0   \n",
       "12  2012-12-23 08:00:00      Chelsea  Aston Villa           1.24       0   \n",
       "13  2012-12-22 08:00:00    Liverpool       Fulham           1.40       0   \n",
       "14  2012-12-22 08:00:00     Man City      Reading           1.07       0   \n",
       "15  2012-12-22 08:00:00  Southampton   Sunderland           1.85       0   \n",
       "16  2012-12-22 08:00:00    Newcastle          QPR           1.92       0   \n",
       "17  2012-12-22 08:00:00    West Brom      Norwich           1.82       0   \n",
       "18  2012-12-22 08:00:00     West Ham      Everton           2.85       0   \n",
       "19  2012-12-22 08:00:00        Wigan      Arsenal           1.68       2   \n",
       "20  2012-12-17 08:00:00      Reading      Arsenal           1.57       2   \n",
       "21  2012-12-16 08:00:00    Tottenham      Swansea           1.52       0   \n",
       "22  2012-12-15 08:00:00    Liverpool  Aston Villa           1.26       0   \n",
       "23  2012-12-15 08:00:00        Stoke      Everton           2.90       0   \n",
       "24  2012-12-15 08:00:00          QPR       Fulham           2.25       0   \n",
       "25  2012-12-15 08:00:00      Norwich        Wigan           2.10       0   \n",
       "26  2012-12-15 08:00:00    Newcastle     Man City           1.55       2   \n",
       "27  2012-12-15 08:00:00   Man United   Sunderland           1.11       0   \n",
       "28  2012-12-11 08:00:00   Sunderland      Reading           1.92       0   \n",
       "29  2012-12-10 08:00:00       Fulham    Newcastle           1.80       0   \n",
       "..                  ...          ...          ...            ...     ...   \n",
       "107 2012-10-27 08:00:00        Stoke   Sunderland           1.80       0   \n",
       "108 2012-10-27 08:00:00        Wigan     West Ham           2.90       2   \n",
       "109 2012-10-21 08:00:00   Sunderland    Newcastle           2.25       0   \n",
       "110 2012-10-21 08:00:00          QPR      Everton           2.10       2   \n",
       "111 2012-10-20 08:00:00      Norwich      Arsenal           1.46       2   \n",
       "112 2012-10-20 08:00:00     West Ham  Southampton           1.72       0   \n",
       "113 2012-10-20 08:00:00    West Brom     Man City           1.62       2   \n",
       "114 2012-10-20 08:00:00    Tottenham      Chelsea           2.35       0   \n",
       "115 2012-10-20 08:00:00   Man United        Stoke           1.21       0   \n",
       "116 2012-10-20 08:00:00       Fulham  Aston Villa           1.72       0   \n",
       "117 2012-10-20 08:00:00    Liverpool      Reading           1.25       0   \n",
       "118 2012-10-20 08:00:00      Swansea        Wigan           1.92       0   \n",
       "119 2012-10-07 08:00:00    Newcastle   Man United           1.70       2   \n",
       "120 2012-10-07 08:00:00    Liverpool        Stoke           1.37       0   \n",
       "121 2012-10-07 08:00:00    Tottenham  Aston Villa           1.38       0   \n",
       "122 2012-10-07 08:00:00  Southampton       Fulham           2.42       0   \n",
       "123 2012-10-06 08:00:00      Swansea      Reading           1.80       0   \n",
       "124 2012-10-06 08:00:00     West Ham      Arsenal           3.50       0   \n",
       "125 2012-10-06 08:00:00      Chelsea      Norwich           1.17       0   \n",
       "126 2012-10-06 08:00:00     Man City   Sunderland           1.17       0   \n",
       "127 2012-10-06 08:00:00    West Brom          QPR           1.73       0   \n",
       "128 2012-10-06 08:00:00        Wigan      Everton           1.88       2   \n",
       "129 2012-10-01 08:00:00          QPR     West Ham           2.00       0   \n",
       "130 2012-09-30 08:00:00  Aston Villa    West Brom           2.70       2   \n",
       "131 2012-09-29 08:00:00      Norwich    Liverpool           1.70       2   \n",
       "132 2012-09-29 08:00:00      Everton  Southampton           1.34       0   \n",
       "133 2012-09-29 08:00:00   Man United    Tottenham           1.49       0   \n",
       "134 2012-09-29 08:00:00      Arsenal      Chelsea           2.00       0   \n",
       "135 2012-09-29 08:00:00        Stoke      Swansea           1.78       0   \n",
       "136 2012-09-29 08:00:00       Fulham     Man City           1.67       2   \n",
       "\n",
       "     result        Hp        Dp        Ap  \n",
       "0         2  0.379011  0.300543  0.320445  \n",
       "1         2  0.165774  0.300486  0.533740  \n",
       "2         2  0.228931  0.319836  0.451232  \n",
       "3         2  0.209448  0.315899  0.474653  \n",
       "4         2  0.362911  0.315838  0.321251  \n",
       "5         0  0.240548  0.310322  0.449129  \n",
       "6         2  0.462073  0.289186  0.248742  \n",
       "7         0  0.148222  0.299623  0.552155  \n",
       "8         2  0.222171  0.312912  0.464918  \n",
       "9         2  0.241778  0.317331  0.440891  \n",
       "10        0  0.664019  0.216215  0.119765  \n",
       "11        0  0.677413  0.208728  0.113859  \n",
       "12        0  0.653351  0.221923  0.124726  \n",
       "13        0  0.675020  0.211623  0.113357  \n",
       "14        0  0.702657  0.198840  0.098503  \n",
       "15        2  0.630452  0.229010  0.140538  \n",
       "16        0  0.542888  0.262071  0.195040  \n",
       "17        0  0.477352  0.289519  0.233129  \n",
       "18        2  0.354046  0.314982  0.330972  \n",
       "19        2  0.191563  0.313994  0.494443  \n",
       "20        2  0.218237  0.325063  0.456700  \n",
       "21        0  0.461762  0.287954  0.250283  \n",
       "22        2  0.684354  0.206927  0.108719  \n",
       "23        1  0.447656  0.289335  0.263009  \n",
       "24        0  0.480257  0.287182  0.232561  \n",
       "25        0  0.520949  0.267484  0.211566  \n",
       "26        2  0.226637  0.312277  0.461085  \n",
       "27        0  0.656292  0.217891  0.125818  \n",
       "28        0  0.504140  0.281267  0.214592  \n",
       "29        0  0.432362  0.296002  0.271636  \n",
       "..      ...       ...       ...       ...  \n",
       "107       1  0.520412  0.271211  0.208377  \n",
       "108       0  0.312279  0.323719  0.364002  \n",
       "109       1  0.352432  0.316030  0.331538  \n",
       "110       1  0.197006  0.315472  0.487522  \n",
       "111       0  0.198254  0.307107  0.494639  \n",
       "112       0  0.616460  0.236158  0.147382  \n",
       "113       2  0.200222  0.308370  0.491408  \n",
       "114       2  0.555156  0.257585  0.187259  \n",
       "115       0  0.630180  0.229957  0.139863  \n",
       "116       0  0.536719  0.265979  0.197301  \n",
       "117       0  0.637167  0.228063  0.134770  \n",
       "118       0  0.632388  0.228527  0.139086  \n",
       "119       2  0.269840  0.312852  0.417309  \n",
       "120       1  0.603194  0.241722  0.155085  \n",
       "121       0  0.677460  0.210807  0.111733  \n",
       "122       1  0.452081  0.294003  0.253915  \n",
       "123       1  0.621472  0.235030  0.143497  \n",
       "124       2  0.475592  0.281464  0.242944  \n",
       "125       0  0.652712  0.221356  0.125932  \n",
       "126       0  0.689216  0.204049  0.106735  \n",
       "127       0  0.638088  0.226022  0.135890  \n",
       "128       1  0.149017  0.303508  0.547475  \n",
       "129       2  0.351902  0.315787  0.332312  \n",
       "130       1  0.286501  0.324081  0.389417  \n",
       "131       2  0.318143  0.312487  0.369370  \n",
       "132       0  0.668493  0.212129  0.119377  \n",
       "133       2  0.523067  0.266448  0.210485  \n",
       "134       2  0.473420  0.282514  0.244066  \n",
       "135       0  0.372517  0.307434  0.320049  \n",
       "136       2  0.344633  0.305095  0.350271  \n",
       "\n",
       "[137 rows x 9 columns]"
      ]
     },
     "execution_count": 138,
     "metadata": {},
     "output_type": "execute_result"
    }
   ],
   "source": [
    "receipts[0][0]"
   ]
  },
  {
   "cell_type": "code",
   "execution_count": 97,
   "metadata": {
    "ExecuteTime": {
     "end_time": "2016-04-12T03:18:43.276000",
     "start_time": "2016-04-12T03:18:43.181000"
    },
    "collapsed": false,
    "init_cell": true,
    "run_control": {
     "marked": false
    },
    "scrolled": false
   },
   "outputs": [],
   "source": [
    "\n",
    "def futureTest3(node_sizes, X,y, ori_dates, numOfWeek = 10,verbose=False):\n",
    "    dates = convertToDate(ori_dates)\n",
    "    dates = [d - timedelta(days=2) for d in dates]    \n",
    "    weeks  = [ v.isocalendar()[1] for v in dates]\n",
    "    thisWeek = weeks[-1]\n",
    "    start = -1\n",
    "    last = X.shape[0]\n",
    "    index = -1\n",
    "    w = 0\n",
    "    sum_proba =None \n",
    "    sum_y =None\n",
    "    sum_train_proba=None\n",
    "    sum_train_y=None\n",
    "    results = None\n",
    "    while w < numOfWeek:\n",
    "        if thisWeek != weeks[index]:\n",
    "            print(\"week{}\".format(w))\n",
    "            start = X.shape[0] +index+1\n",
    "            X_train = X[0:start, :]\n",
    "            X_test = X[start:last,:]\n",
    "            y_train = y[0:start,:]\n",
    "            y_test = y[start:last,:]\n",
    "            \n",
    "            #transform\n",
    "            model = Model(node_sizes,dropout=g_best_dropout,preprocess=[StandardScaler()])\n",
    "            model.fit(X_train,y_train)\n",
    "            decoded = oneHotDecode(c,X_test)\n",
    "            home = np.array([c.inverseTeamMapping(decoded[:,0])]).reshape(X_test.shape[0],1)\n",
    "            away = np.array([c.inverseTeamMapping(decoded[:,1])]).reshape(X_test.shape[0],1)\n",
    "            stack = np.hstack([home,away])\n",
    "            proba = model.predict_proba(X_test)\n",
    "            train_proba =model.predict_proba(X_train)\n",
    "            errorIndx = np.argmax(proba,axis=1) != np.argmax(y_test,axis=1)\n",
    "            tresult = np.hstack([np.array([w for i in range(proba.shape[0])]).reshape(proba.shape[0],1),\n",
    "                                 ori_dates[start:last].reshape(proba.shape[0],1),stack,proba,y_test])\n",
    "            if sum_proba is None:\n",
    "                sum_proba = proba\n",
    "                sum_y = y_test\n",
    "                sum_train_proba = train_proba\n",
    "                sum_train_y = y_train\n",
    "                results =    tresult\n",
    "            else:\n",
    "                sum_proba = np.vstack([sum_proba,proba])\n",
    "                sum_y = np.vstack([sum_y,y_test])\n",
    "                sum_train_proba = np.vstack([sum_train_proba, train_proba])\n",
    "                sum_train_y= np.vstack([sum_train_y, y_train])\n",
    "                results =  np.vstack([results, tresult])\n",
    "            if verbose == True:\n",
    "                print(\"numOftest {} , loss {}\".format(X_test.shape[0],model.evaluate(X_test,y_test)))               \n",
    "                print (tresult)\n",
    "                print(\"first2 : {}\",firstNScore(2,proba,y_test))\n",
    "            last = start\n",
    "            thisWeek = weeks[index]\n",
    "            w = w+1\n",
    "        index = index -1\n",
    "    start = X.shape[0] +index+1\n",
    "    print(\"start compute precision_mat\")\n",
    "    X_train,X_useless, y_train,y_useless = X[0:start,:], X,y[0:start,:],y\n",
    "    train_loss,val_loss,test_loss,val_acc,test_acc,precision,y_proba,y_true = crossValidate2(node_sizes,\n",
    "                                                                                             X_train,y_train,\n",
    "                                                                                             fold=10,dropout=g_best_dropout,\n",
    "                                                                                             returnPredict=True)\n",
    "    print(y_proba.shape)\n",
    "    print(y_true.shape)\n",
    "    p_matrix = precisionMatrix(y_proba,y_true)\n",
    "    print(\"summary\")\n",
    "    y_true= np.argmax(sum_y,axis=1)\n",
    "    y_pred = np.argmax(sum_proba,axis=1)\n",
    "    print(p_matrix)\n",
    "    print(\"sum precision:{}\".format(precision_score(y_true,y_pred,average=None)))\n",
    "    resultdf= pd.DataFrame(results, columns=['week','DayStamp','HomeTeam','AwayTeam','H_prob','D_prob','A_prob','H','D','A'])\n",
    "    return sum_proba, sum_y,resultdf,p_matrix"
   ]
  },
  {
   "cell_type": "code",
   "execution_count": 64,
   "metadata": {
    "ExecuteTime": {
     "end_time": "2016-04-12T03:15:37.645000",
     "start_time": "2016-04-12T03:10:46.204000"
    },
    "collapsed": false,
    "run_control": {
     "marked": false
    },
    "scrolled": true
   },
   "outputs": [
    {
     "name": "stdout",
     "output_type": "stream",
     "text": [
      "start format\n",
      "[['HS_Acc' 'HST_Acc' 'H_poss_Acc' 'H_atk_3rd_Acc' 'H_atk_3rd_tot_Acc'\n",
      "  'H_red_goal_Acc' 'H_red_on_Acc' 'H_red_tot_Acc' 'H_chance_goal_Acc'\n",
      "  'H_chance_tot_Acc' 'H_successful_clearance_Acc' 'H_clearance_tot_Acc']\n",
      " ['AS_Acc' 'AST_Acc' 'A_poss_Acc' 'A_atk_3rd_Acc' 'A_atk_3rd_tot_Acc'\n",
      "  'A_red_goal_Acc' 'A_red_on_Acc' 'A_red_tot_Acc' 'A_chance_goal_Acc'\n",
      "  'A_chance_tot_Acc' 'A_successful_clearance_Acc' 'A_clearance_tot_Acc']]\n",
      "finish\n",
      "week0\n",
      "dtype float32\n",
      "dtype float32\n",
      "dtype float32\n",
      "no early stop\n",
      "10/10 [==============================] - 0s\n",
      "1348/1348 [==============================] - 0s     \n",
      "week1\n",
      "dtype float32\n",
      "dtype float32\n",
      "dtype float32\n",
      "no early stop\n",
      "5/5 [==============================] - 0s\n",
      "1343/1343 [==============================] - 0s     \n",
      "week2\n",
      "dtype float32\n",
      "dtype float32\n",
      "dtype float32\n",
      "no early stop\n",
      "15/15 [==============================] - 0s\n",
      "1328/1328 [==============================] - 0s     \n",
      "week3\n",
      "dtype float32\n",
      "dtype float32\n",
      "dtype float32\n",
      "no early stop\n",
      "13/13 [==============================] - 0s\n",
      "1315/1315 [==============================] - 0s     \n",
      "week4\n",
      "dtype float32\n",
      "dtype float32\n",
      "dtype float32\n",
      "no early stop\n",
      "10/10 [==============================] - 0s\n",
      "1305/1305 [==============================] - 0s     \n",
      "week5\n",
      "dtype float32\n",
      "dtype float32\n",
      "dtype float32\n",
      "no early stop\n",
      "12/12 [==============================] - 0s\n",
      "1293/1293 [==============================] - 0s     \n",
      "week6\n",
      "dtype float32\n",
      "dtype float32\n",
      "dtype float32\n",
      "no early stop\n",
      "8/8 [==============================] - 0s\n",
      "1285/1285 [==============================] - 0s     \n",
      "week7\n",
      "dtype float32\n",
      "dtype float32\n",
      "dtype float32\n",
      "no early stop\n",
      "10/10 [==============================] - 0s\n",
      "1275/1275 [==============================] - 0s     \n",
      "week8\n",
      "dtype float32\n",
      "dtype float32\n",
      "dtype float32\n",
      "no early stop\n",
      "17/17 [==============================] - 0s\n",
      "1258/1258 [==============================] - 0s     \n",
      "week9\n",
      "dtype float32\n",
      "dtype float32\n",
      "dtype float32\n",
      "no early stop\n",
      "3/3 [==============================] - 0s\n",
      "1255/1255 [==============================] - 0s     \n",
      "week10\n",
      "dtype float32\n",
      "dtype float32\n",
      "dtype float32\n",
      "no early stop\n",
      "11/11 [==============================] - 0s\n",
      "1244/1244 [==============================] - 0s     \n",
      "week11\n",
      "dtype float32\n",
      "dtype float32\n",
      "dtype float32\n",
      "no early stop\n",
      "19/19 [==============================] - 0s\n",
      "1225/1225 [==============================] - 0s     \n",
      "week12\n",
      "dtype float32\n",
      "dtype float32\n",
      "dtype float32\n",
      "no early stop\n",
      "10/10 [==============================] - 0s\n",
      "1215/1215 [==============================] - 0s     \n",
      "week13\n",
      "dtype float32\n",
      "dtype float32\n",
      "dtype float32\n",
      "no early stop\n",
      "10/10 [==============================] - 0s\n",
      "1205/1205 [==============================] - 0s     \n",
      "week14\n",
      "dtype float32\n",
      "dtype float32\n",
      "dtype float32\n",
      "no early stop\n",
      "10/10 [==============================] - 0s\n",
      "1195/1195 [==============================] - 0s     \n",
      "week15\n",
      "dtype float32\n",
      "dtype float32\n",
      "dtype float32\n",
      "no early stop\n",
      "10/10 [==============================] - 0s\n",
      "1185/1185 [==============================] - 0s     \n",
      "week16\n",
      "dtype float32\n",
      "dtype float32\n",
      "dtype float32\n",
      "no early stop\n",
      "10/10 [==============================] - 0s\n",
      "1175/1175 [==============================] - 0s     \n",
      "week17\n",
      "dtype float32\n",
      "dtype float32\n",
      "dtype float32\n",
      "no early stop\n",
      "10/10 [==============================] - 0s\n",
      "1165/1165 [==============================] - 0s     \n",
      "week18\n",
      "dtype float32\n",
      "dtype float32\n",
      "dtype float32\n",
      "no early stop\n",
      "10/10 [==============================] - 0s\n",
      "1155/1155 [==============================] - 0s     \n",
      "week19\n",
      "dtype float32\n",
      "dtype float32\n",
      "dtype float32\n",
      "no early stop\n",
      "10/10 [==============================] - 0s\n",
      "1145/1145 [==============================] - 0s     \n",
      "start compute precision_mat\n",
      "dtype float32\n",
      "dtype float32\n",
      "dtype float32\n",
      "no early stop\n",
      "115/115 [==============================] - 0s\n",
      "115/115 [==============================] - 0s\n",
      "115/115 [==============================] - 0s\n",
      "115/115 [==============================] - 0s\n",
      "Fold: 1, val_acc:0.523 test_acc: 0.496\n",
      "dtype float32\n",
      "dtype float32\n",
      "dtype float32\n",
      "no early stop\n",
      "115/115 [==============================] - 0s\n",
      "115/115 [==============================] - 0s\n",
      "115/115 [==============================] - 0s\n",
      "115/115 [==============================] - 0s\n",
      "Fold: 2, val_acc:0.484 test_acc: 0.565\n",
      "dtype float32\n",
      "dtype float32\n",
      "dtype float32\n",
      "no early stop\n",
      "115/115 [==============================] - 0s\n",
      "115/115 [==============================] - 0s\n",
      "115/115 [==============================] - 0s\n",
      "115/115 [==============================] - 0s\n",
      "Fold: 3, val_acc:0.539 test_acc: 0.530\n",
      "dtype float32\n",
      "dtype float32\n",
      "dtype float32\n",
      "no early stop\n",
      "115/115 [==============================] - 0s\n",
      "115/115 [==============================] - 0s\n",
      "115/115 [==============================] - 0s\n",
      "115/115 [==============================] - 0s\n",
      "Fold: 4, val_acc:0.550 test_acc: 0.557\n",
      "dtype float32\n",
      "dtype float32\n",
      "dtype float32\n",
      "no early stop\n",
      "115/115 [==============================] - 0s\n",
      "115/115 [==============================] - 0s\n",
      "115/115 [==============================] - 0s\n",
      "115/115 [==============================] - 0s\n",
      "Fold: 5, val_acc:0.516 test_acc: 0.496\n",
      "dtype float32\n",
      "dtype float32\n",
      "dtype float32\n",
      "no early stop\n",
      "115/115 [==============================] - 0s\n",
      "115/115 [==============================] - 0s\n",
      "115/115 [==============================] - 0s\n",
      "115/115 [==============================] - 0s\n",
      "Fold: 6, val_acc:0.535 test_acc: 0.565\n",
      "dtype float32\n",
      "dtype float32\n",
      "dtype float32\n",
      "no early stop\n",
      "114/114 [==============================] - 0s\n",
      "114/114 [==============================] - 0s\n",
      "114/114 [==============================] - 0s\n",
      "114/114 [==============================] - 0s\n",
      "Fold: 7, val_acc:0.516 test_acc: 0.509\n",
      "dtype float32\n",
      "dtype float32\n",
      "dtype float32\n",
      "no early stop\n",
      "114/114 [==============================] - 0s\n",
      "114/114 [==============================] - 0s\n",
      "114/114 [==============================] - 0s\n",
      "114/114 [==============================] - 0s\n",
      "Fold: 8, val_acc:0.539 test_acc: 0.526\n",
      "dtype float32\n",
      "dtype float32\n",
      "dtype float32\n",
      "no early stop\n",
      "113/113 [==============================] - 0s\n",
      "113/113 [==============================] - 0s\n",
      "113/113 [==============================] - 0s\n",
      "113/113 [==============================] - 0s\n",
      "Fold: 9, val_acc:0.558 test_acc: 0.522\n",
      "dtype float32\n",
      "dtype float32\n",
      "dtype float32\n",
      "no early stop\n",
      "113/113 [==============================] - 0s\n",
      "113/113 [==============================] - 0s\n",
      "113/113 [==============================] - 0s\n",
      "113/113 [==============================] - 0s\n",
      "Fold: 10, val_acc:0.554 test_acc: 0.487\n",
      "(1144L, 3L)\n",
      "(1144L, 3L)\n",
      "summary\n",
      "       [lower  upper)  h_Correct  h_Wrong  h_Precent  d_Correct  d_Wrong  \\\n",
      ">80       0.8     1.0        1.0      1.0   0.500000        0.0      0.0   \n",
      "60-80     0.6     0.8      188.0     88.0   0.681159        0.0      0.0   \n",
      "50-60     0.5     0.6       94.0     80.0   0.540230        0.0      0.0   \n",
      "40-50     0.4     0.5       68.0     67.0   0.503704        2.0      6.0   \n",
      "30-40     0.3     0.4       58.0     77.0   0.429630      118.0    303.0   \n",
      "20-30     0.2     0.3       54.0    114.0   0.321429      123.0    439.0   \n",
      "<20       0.0     0.2       47.0    207.0   0.185039       33.0    120.0   \n",
      "\n",
      "       d_Precent  a_Correct  a_Wrong  a_Precent  \n",
      ">80          NaN        0.0      0.0        NaN  \n",
      "60-80        NaN        9.0      8.0   0.529412  \n",
      "50-60        NaN      103.0     71.0   0.591954  \n",
      "40-50   0.250000       83.0    112.0   0.425641  \n",
      "30-40   0.280285       53.0    123.0   0.301136  \n",
      "20-30   0.218861       48.0    161.0   0.229665  \n",
      "<20     0.215686       62.0    311.0   0.166220  \n",
      "sum precision:[ 0.48780488  0.          0.4       ]\n"
     ]
    }
   ],
   "source": [
    "X,y = c.getH7()\n",
    "sum_proba, sum_y,resultdf,p_matrix= futureTest3(g_best_size,X,y,X[:,c.dateColumn],numOfWeek=20,verbose=False)"
   ]
  },
  {
   "cell_type": "code",
   "execution_count": 238,
   "metadata": {
    "collapsed": false,
    "run_control": {
     "marked": false
    },
    "scrolled": false
   },
   "outputs": [
    {
     "name": "stderr",
     "output_type": "stream",
     "text": [
      "/home/y/anaconda3/lib/python3.5/site-packages/ipykernel/__main__.py:9: SettingWithCopyWarning: \n",
      "A value is trying to be set on a copy of a slice from a DataFrame.\n",
      "Try using .loc[row_indexer,col_indexer] = value instead\n",
      "\n",
      "See the caveats in the documentation: http://pandas.pydata.org/pandas-docs/stable/indexing.html#indexing-view-versus-copy\n",
      "/home/y/anaconda3/lib/python3.5/site-packages/ipykernel/__main__.py:10: SettingWithCopyWarning: \n",
      "A value is trying to be set on a copy of a slice from a DataFrame.\n",
      "Try using .loc[row_indexer,col_indexer] = value instead\n",
      "\n",
      "See the caveats in the documentation: http://pandas.pydata.org/pandas-docs/stable/indexing.html#indexing-view-versus-copy\n"
     ]
    }
   ],
   "source": [
    "withodds = findRecordsByDf(c,resultdf)\n",
    "fproba_mat,odd_mat,win_mat= formatMatrixs(withodds,p_matrix)\n",
    "g_spents,g_incomes,g_exps,g_withdraws,total,receipt = range_strategy4_test(fproba_mat,odd_mat,win_mat,withodds)\n"
   ]
  },
  {
   "cell_type": "code",
   "execution_count": 239,
   "metadata": {
    "collapsed": false,
    "run_control": {
     "marked": false
    },
    "scrolled": false
   },
   "outputs": [
    {
     "data": {
      "text/plain": [
       "<matplotlib.figure.Figure at 0x7f19158fa710>"
      ]
     },
     "execution_count": 239,
     "metadata": {},
     "output_type": "execute_result"
    },
    {
     "data": {
      "image/png": "[encoded data removed]",
      "text/plain": [
       "<matplotlib.figure.Figure at 0x7f191891ed68>"
      ]
     },
     "metadata": {},
     "output_type": "display_data"
    },
    {
     "data": {
      "image/png": "[encoded data removed]",
      "text/plain": [
       "<matplotlib.figure.Figure at 0x7f1917a67518>"
      ]
     },
     "metadata": {},
     "output_type": "display_data"
    },
    {
     "data": {
      "image/png": "[encoded data removed]",
      "text/plain": [
       "<matplotlib.figure.Figure at 0x7f191522f588>"
      ]
     },
     "metadata": {},
     "output_type": "display_data"
    },
    {
     "data": {
      "image/png": "[encoded data removed]",
      "text/plain": [
       "<matplotlib.figure.Figure at 0x7f1915e24d68>"
      ]
     },
     "metadata": {},
     "output_type": "display_data"
    },
    {
     "data": {
      "image/png": "[encoded data removed]",
      "text/plain": [
       "<matplotlib.figure.Figure at 0x7f19140b9518>"
      ]
     },
     "metadata": {},
     "output_type": "display_data"
    },
    {
     "data": {
      "text/plain": [
       "<matplotlib.figure.Figure at 0x7f19158fa710>"
      ]
     },
     "metadata": {},
     "output_type": "display_data"
    }
   ],
   "source": [
    "import matplotlib.pyplot as plt\n",
    "g_n_incomes = np.array(g_incomes).reshape(len(g_e_range),len(g_z_range))\n",
    "g_n_spent = np.array(g_spents).reshape(len(g_e_range),len(g_z_range))\n",
    "g_n_withdraws = np.array(g_withdraws).reshape(len(g_e_range),len(g_z_range))\n",
    "g_n_exps = np.array(g_exps).reshape(len(g_e_range),len(g_z_range))\n",
    "Z, E =np.meshgrid(g_z_range,g_e_range)\n",
    "CS = plt.contour = plt.contourf(Z,E,g_n_incomes)\n",
    "plt.title(\"Income\")\n",
    "cbar = plt.colorbar(CS)\n",
    "plt.figure()\n",
    "CS = plt.contour = plt.contourf(Z,E,g_n_incomes-g_n_spent)\n",
    "plt.title(\"Net Income\")\n",
    "cbar = plt.colorbar(CS)\n",
    "plt.figure()\n",
    "CS = plt.contour = plt.contourf(Z,E,g_n_withdraws)\n",
    "plt.title(\"Withdraws\")\n",
    "cbar = plt.colorbar(CS)\n",
    "plt.figure()\n",
    "CS = plt.contour = plt.contourf(Z,E,g_n_exps - g_n_incomes)\n",
    "plt.title(\"Exps - income\")\n",
    "cbar = plt.colorbar(CS)\n",
    "plt.figure()\n",
    "CS = plt.contour = plt.contourf(Z,E, (g_n_incomes-g_n_spent)/g_n_spent)\n",
    "plt.title(\"net_income/spents\")\n",
    "cbar = plt.colorbar(CS)\n",
    "plt.figure()"
   ]
  },
  {
   "cell_type": "code",
   "execution_count": null,
   "metadata": {
    "collapsed": false,
    "run_control": {
     "marked": false
    }
   },
   "outputs": [],
   "source": []
  },
  {
   "cell_type": "code",
   "execution_count": null,
   "metadata": {
    "collapsed": false,
    "run_control": {
     "marked": false
    }
   },
   "outputs": [],
   "source": [
    "spent,income,expectation,withdraw,total,receipt = betTesting(g_X_train_best,g_X_test_best,g_y_train,g_y_test,g_X_test,g_p_matrix)"
   ]
  },
  {
   "cell_type": "code",
   "execution_count": null,
   "metadata": {
    "collapsed": false,
    "run_control": {
     "marked": false
    }
   },
   "outputs": [],
   "source": [
    "withodds = findRecordsByDf(c,resultdf)"
   ]
  },
  {
   "cell_type": "code",
   "execution_count": null,
   "metadata": {
    "collapsed": false,
    "run_control": {
     "marked": false
    }
   },
   "outputs": [],
   "source": [
    "spent"
   ]
  },
  {
   "cell_type": "code",
   "execution_count": null,
   "metadata": {
    "collapsed": false,
    "run_control": {
     "marked": false
    }
   },
   "outputs": [],
   "source": [
    "income"
   ]
  },
  {
   "cell_type": "code",
   "execution_count": null,
   "metadata": {
    "collapsed": false,
    "run_control": {
     "marked": false
    }
   },
   "outputs": [],
   "source": [
    "expectation"
   ]
  },
  {
   "cell_type": "code",
   "execution_count": null,
   "metadata": {
    "collapsed": false,
    "run_control": {
     "marked": false
    }
   },
   "outputs": [],
   "source": [
    "receipt"
   ]
  },
  {
   "cell_type": "code",
   "execution_count": null,
   "metadata": {
    "collapsed": true,
    "run_control": {
     "marked": false
    }
   },
   "outputs": [],
   "source": []
  }
 ],
 "metadata": {
  "celltoolbar": "Initialisation Cell",
  "kernelspec": {
   "display_name": "Python 2",
   "language": "python",
   "name": "python2"
  },
  "language_info": {
   "codemirror_mode": {
    "name": "ipython",
    "version": 2
   },
   "file_extension": ".py",
   "mimetype": "text/x-python",
   "name": "python",
   "nbconvert_exporter": "python",
   "pygments_lexer": "ipython2",
   "version": "2.7.11"
  }
 },
 "nbformat": 4,
 "nbformat_minor": 0
}
